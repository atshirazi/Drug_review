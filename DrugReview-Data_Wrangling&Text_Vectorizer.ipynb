{
 "cells": [
  {
   "cell_type": "markdown",
   "metadata": {
    "toc": true
   },
   "source": [
    "<h1>Table of Contents<span class=\"tocSkip\"></span></h1>\n",
    "<div class=\"toc\"><ul class=\"toc-item\"><li><span><a href=\"#Introduction\" data-toc-modified-id=\"Introduction-1\"><span class=\"toc-item-num\">1&nbsp;&nbsp;</span>Introduction</a></span></li><li><span><a href=\"#Data-wrangling\" data-toc-modified-id=\"Data-wrangling-2\"><span class=\"toc-item-num\">2&nbsp;&nbsp;</span>Data wrangling</a></span><ul class=\"toc-item\"><li><span><a href=\"#Dropping-the-null-values-in-the-train-and-test-sets\" data-toc-modified-id=\"Dropping-the-null-values-in-the-train-and-test-sets-2.1\"><span class=\"toc-item-num\">2.1&nbsp;&nbsp;</span>Dropping the null values in the train and test sets</a></span></li><li><span><a href=\"#Polarity-and-subjectivity\" data-toc-modified-id=\"Polarity-and-subjectivity-2.2\"><span class=\"toc-item-num\">2.2&nbsp;&nbsp;</span>Polarity and subjectivity</a></span><ul class=\"toc-item\"><li><span><a href=\"#Negative-polarity-binary-column\" data-toc-modified-id=\"Negative-polarity-binary-column-2.2.1\"><span class=\"toc-item-num\">2.2.1&nbsp;&nbsp;</span>Negative-polarity binary column</a></span></li></ul></li><li><span><a href=\"#Rating-column\" data-toc-modified-id=\"Rating-column-2.3\"><span class=\"toc-item-num\">2.3&nbsp;&nbsp;</span>Rating column</a></span><ul class=\"toc-item\"><li><span><a href=\"#Countplot\" data-toc-modified-id=\"Countplot-2.3.1\"><span class=\"toc-item-num\">2.3.1&nbsp;&nbsp;</span>Countplot</a></span></li><li><span><a href=\"#Ratings-grouping\" data-toc-modified-id=\"Ratings-grouping-2.3.2\"><span class=\"toc-item-num\">2.3.2&nbsp;&nbsp;</span>Ratings grouping</a></span></li><li><span><a href=\"#Binary-low-rating-column\" data-toc-modified-id=\"Binary-low-rating-column-2.3.3\"><span class=\"toc-item-num\">2.3.3&nbsp;&nbsp;</span>Binary low-rating column</a></span></li></ul></li><li><span><a href=\"#Unknown-conditions\" data-toc-modified-id=\"Unknown-conditions-2.4\"><span class=\"toc-item-num\">2.4&nbsp;&nbsp;</span>Unknown conditions</a></span></li><li><span><a href=\"#Drugs-with-more-than-100-reviews\" data-toc-modified-id=\"Drugs-with-more-than-100-reviews-2.5\"><span class=\"toc-item-num\">2.5&nbsp;&nbsp;</span>Drugs with more than 100 reviews</a></span></li><li><span><a href=\"#Conditions-with-more-than-100-reviews\" data-toc-modified-id=\"Conditions-with-more-than-100-reviews-2.6\"><span class=\"toc-item-num\">2.6&nbsp;&nbsp;</span>Conditions with more than 100 reviews</a></span></li></ul></li><li><span><a href=\"#EDA\" data-toc-modified-id=\"EDA-3\"><span class=\"toc-item-num\">3&nbsp;&nbsp;</span>EDA</a></span><ul class=\"toc-item\"><li><span><a href=\"#Which-patients-tend-to-have-more-negative-reviews?\" data-toc-modified-id=\"Which-patients-tend-to-have-more-negative-reviews?-3.1\"><span class=\"toc-item-num\">3.1&nbsp;&nbsp;</span>Which patients tend to have more negative reviews?</a></span><ul class=\"toc-item\"><li><span><a href=\"#Conditions-with-more-negative-reviews\" data-toc-modified-id=\"Conditions-with-more-negative-reviews-3.1.1\"><span class=\"toc-item-num\">3.1.1&nbsp;&nbsp;</span>Conditions with more negative reviews</a></span><ul class=\"toc-item\"><li><span><a href=\"#Top-patient-conditions\" data-toc-modified-id=\"Top-patient-conditions-3.1.1.1\"><span class=\"toc-item-num\">3.1.1.1&nbsp;&nbsp;</span>Top patient conditions</a></span></li><li><span><a href=\"#Low-patient-conditions\" data-toc-modified-id=\"Low-patient-conditions-3.1.1.2\"><span class=\"toc-item-num\">3.1.1.2&nbsp;&nbsp;</span>Low patient conditions</a></span></li></ul></li><li><span><a href=\"#Drugs-with-more-negative-reviews\" data-toc-modified-id=\"Drugs-with-more-negative-reviews-3.1.2\"><span class=\"toc-item-num\">3.1.2&nbsp;&nbsp;</span>Drugs with more negative reviews</a></span><ul class=\"toc-item\"><li><span><a href=\"#Top-drugs\" data-toc-modified-id=\"Top-drugs-3.1.2.1\"><span class=\"toc-item-num\">3.1.2.1&nbsp;&nbsp;</span>Top drugs</a></span></li><li><span><a href=\"#Low-drugs\" data-toc-modified-id=\"Low-drugs-3.1.2.2\"><span class=\"toc-item-num\">3.1.2.2&nbsp;&nbsp;</span>Low drugs</a></span></li></ul></li></ul></li><li><span><a href=\"#Which-patients-tend-to-have-more-low-ratings?\" data-toc-modified-id=\"Which-patients-tend-to-have-more-low-ratings?-3.2\"><span class=\"toc-item-num\">3.2&nbsp;&nbsp;</span>Which patients tend to have more low ratings?</a></span><ul class=\"toc-item\"><li><span><a href=\"#Conditions-with-low-ratings\" data-toc-modified-id=\"Conditions-with-low-ratings-3.2.1\"><span class=\"toc-item-num\">3.2.1&nbsp;&nbsp;</span>Conditions with low ratings</a></span><ul class=\"toc-item\"><li><span><a href=\"#Top-patient-conditions\" data-toc-modified-id=\"Top-patient-conditions-3.2.1.1\"><span class=\"toc-item-num\">3.2.1.1&nbsp;&nbsp;</span>Top patient conditions</a></span></li><li><span><a href=\"#Low-patient-conditions\" data-toc-modified-id=\"Low-patient-conditions-3.2.1.2\"><span class=\"toc-item-num\">3.2.1.2&nbsp;&nbsp;</span>Low patient conditions</a></span></li></ul></li><li><span><a href=\"#Drugs-with-low-ratings\" data-toc-modified-id=\"Drugs-with-low-ratings-3.2.2\"><span class=\"toc-item-num\">3.2.2&nbsp;&nbsp;</span>Drugs with low ratings</a></span><ul class=\"toc-item\"><li><span><a href=\"#Top-drugs\" data-toc-modified-id=\"Top-drugs-3.2.2.1\"><span class=\"toc-item-num\">3.2.2.1&nbsp;&nbsp;</span>Top drugs</a></span></li><li><span><a href=\"#Low-drugs\" data-toc-modified-id=\"Low-drugs-3.2.2.2\"><span class=\"toc-item-num\">3.2.2.2&nbsp;&nbsp;</span>Low drugs</a></span></li></ul></li></ul></li></ul></li><li><span><a href=\"#Text-vectorizer\" data-toc-modified-id=\"Text-vectorizer-4\"><span class=\"toc-item-num\">4&nbsp;&nbsp;</span>Text vectorizer</a></span><ul class=\"toc-item\"><li><span><a href=\"#Preprocessing\" data-toc-modified-id=\"Preprocessing-4.1\"><span class=\"toc-item-num\">4.1&nbsp;&nbsp;</span>Preprocessing</a></span></li><li><span><a href=\"#Count-Vectorizer\" data-toc-modified-id=\"Count-Vectorizer-4.2\"><span class=\"toc-item-num\">4.2&nbsp;&nbsp;</span>Count Vectorizer</a></span></li><li><span><a href=\"#TfidVectorizer\" data-toc-modified-id=\"TfidVectorizer-4.3\"><span class=\"toc-item-num\">4.3&nbsp;&nbsp;</span>TfidVectorizer</a></span></li></ul></li><li><span><a href=\"#Wordcloud\" data-toc-modified-id=\"Wordcloud-5\"><span class=\"toc-item-num\">5&nbsp;&nbsp;</span>Wordcloud</a></span></li><li><span><a href=\"#MultinomialNB\" data-toc-modified-id=\"MultinomialNB-6\"><span class=\"toc-item-num\">6&nbsp;&nbsp;</span>MultinomialNB</a></span><ul class=\"toc-item\"><li><span><a href=\"#best-score-before-tuning\" data-toc-modified-id=\"best-score-before-tuning-6.1\"><span class=\"toc-item-num\">6.1&nbsp;&nbsp;</span>best score before tuning</a></span><ul class=\"toc-item\"><li><span><a href=\"#with-countvectorizer\" data-toc-modified-id=\"with-countvectorizer-6.1.1\"><span class=\"toc-item-num\">6.1.1&nbsp;&nbsp;</span>with countvectorizer</a></span></li><li><span><a href=\"#with-tfidfvectorizer\" data-toc-modified-id=\"with-tfidfvectorizer-6.1.2\"><span class=\"toc-item-num\">6.1.2&nbsp;&nbsp;</span>with tfidfvectorizer</a></span></li></ul></li><li><span><a href=\"#Hyperparameter-tuning\" data-toc-modified-id=\"Hyperparameter-tuning-6.2\"><span class=\"toc-item-num\">6.2&nbsp;&nbsp;</span>Hyperparameter tuning</a></span><ul class=\"toc-item\"><li><span><a href=\"#with-tfidfvectorizer\" data-toc-modified-id=\"with-tfidfvectorizer-6.2.1\"><span class=\"toc-item-num\">6.2.1&nbsp;&nbsp;</span>with tfidfvectorizer</a></span></li><li><span><a href=\"#with-countvectorizer\" data-toc-modified-id=\"with-countvectorizer-6.2.2\"><span class=\"toc-item-num\">6.2.2&nbsp;&nbsp;</span>with countvectorizer</a></span></li></ul></li></ul></li></ul></div>"
   ]
  },
  {
   "cell_type": "code",
   "execution_count": 1155,
   "metadata": {},
   "outputs": [],
   "source": [
    "import pandas as pd\n",
    "#import dataframe_image as dfi\n",
    "import os\n",
    "import numpy as np\n",
    "import datetime as dt\n",
    "import seaborn as sns\n",
    "import matplotlib.pyplot as plt\n",
    "import pandas_profiling\n",
    "import statsmodels.api as sm\n",
    "import re\n",
    "import nltk\n",
    "import spacy\n",
    "import math\n",
    "import sklearn\n",
    "\n",
    "from pandas_profiling.utils.cache import cache_file\n",
    "\n",
    "from sklearn import metrics, datasets, linear_model, preprocessing\n",
    "from sklearn.linear_model import LogisticRegression, Lasso, Ridge\n",
    "from sklearn.model_selection import train_test_split, KFold, RandomizedSearchCV, cross_val_score, GridSearchCV\n",
    "from sklearn.cluster import KMeans\n",
    "from sklearn.neighbors import KNeighborsClassifier\n",
    "from sklearn.metrics import roc_curve, roc_auc_score, accuracy_score, confusion_matrix, classification_report, precision_recall_curve, mean_squared_error, f1_score, plot_confusion_matrix  \n",
    "from sklearn.tree import DecisionTreeClassifier\n",
    "from sklearn.svm import SVC, LinearSVC\n",
    "from sklearn.preprocessing import scale, StandardScaler\n",
    "from sklearn.pipeline import Pipeline\n",
    "from sklearn.feature_extraction.text import CountVectorizer, TfidfVectorizer\n",
    "from sklearn.naive_bayes import MultinomialNB\n",
    "from sklearn.ensemble import RandomForestRegressor, RandomForestClassifier\n",
    "\n",
    "\n",
    "from nltk.tokenize import word_tokenize, sent_tokenize\n",
    "from collections import Counter\n",
    "from textblob import TextBlob\n",
    "from wordcloud import WordCloud\n",
    "import scipy.sparse\n",
    "import seaborn as sns\n",
    "import string\n",
    "\n",
    "#nltk.download('punkt')\n",
    "#print(os.getcwd())\n",
    "path=\"/Users/atousachaharsoughshirazi/drug_review\"\n",
    "os.chdir(path)\n",
    "file_train=\"drugsComTrain_raw.csv\"\n",
    "df=pd.read_csv(file_train, header=0)\n",
    "file_test=\"drugsComTest_raw.csv\"\n",
    "df_test=pd.read_csv(file_test, header=0)"
   ]
  },
  {
   "cell_type": "markdown",
   "metadata": {},
   "source": [
    "# Introduction\n",
    "\n",
    "Pharmaceutical companies develop drugs based on intensive research and clinical trials. However, clinical trials provide a limited resource to examine the drugs and their side effects, and the patients' reviews after mass production are a great source of information for pharmaceutical companies to learn more about customer reaction to their products, discover potential problems before they occur, and better allocate their resources. . In this project, we will aim to predict whether or not a customer review is negative (rating <4) and analyze what indicators in a review make it most likely to be negative for different types of drugs.  Some problems that we address in this project are:\n",
    "\n",
    "* Classification: Can we predict the rating of the drug based on the review?\n",
    "* Sentiment analysis: Determine if a review is positive, neutral, or negative. Which patients tend to have more negative reviews? What elements of a review make it more helpful to others?\n",
    "\n",
    "This data set contains patients review and rating of 3436 different drugs. The condition of the patients for which the drug is taken is given and the number of people who found the review useful. The data set is big and there are about 161,000 reviews. \n"
   ]
  },
  {
   "cell_type": "markdown",
   "metadata": {},
   "source": [
    "# Data wrangling"
   ]
  },
  {
   "cell_type": "code",
   "execution_count": 1156,
   "metadata": {},
   "outputs": [
    {
     "data": {
      "text/html": [
       "<div>\n",
       "<style scoped>\n",
       "    .dataframe tbody tr th:only-of-type {\n",
       "        vertical-align: middle;\n",
       "    }\n",
       "\n",
       "    .dataframe tbody tr th {\n",
       "        vertical-align: top;\n",
       "    }\n",
       "\n",
       "    .dataframe thead th {\n",
       "        text-align: right;\n",
       "    }\n",
       "</style>\n",
       "<table border=\"1\" class=\"dataframe\">\n",
       "  <thead>\n",
       "    <tr style=\"text-align: right;\">\n",
       "      <th></th>\n",
       "      <th>uniqueID</th>\n",
       "      <th>drugName</th>\n",
       "      <th>condition</th>\n",
       "      <th>review</th>\n",
       "      <th>rating</th>\n",
       "      <th>date</th>\n",
       "      <th>usefulCount</th>\n",
       "    </tr>\n",
       "  </thead>\n",
       "  <tbody>\n",
       "    <tr>\n",
       "      <th>0</th>\n",
       "      <td>206461</td>\n",
       "      <td>Valsartan</td>\n",
       "      <td>Left Ventricular Dysfunction</td>\n",
       "      <td>\"It has no side effect, I take it in combinati...</td>\n",
       "      <td>9</td>\n",
       "      <td>20-May-12</td>\n",
       "      <td>27</td>\n",
       "    </tr>\n",
       "    <tr>\n",
       "      <th>1</th>\n",
       "      <td>95260</td>\n",
       "      <td>Guanfacine</td>\n",
       "      <td>ADHD</td>\n",
       "      <td>\"My son is halfway through his fourth week of ...</td>\n",
       "      <td>8</td>\n",
       "      <td>27-Apr-10</td>\n",
       "      <td>192</td>\n",
       "    </tr>\n",
       "    <tr>\n",
       "      <th>2</th>\n",
       "      <td>92703</td>\n",
       "      <td>Lybrel</td>\n",
       "      <td>Birth Control</td>\n",
       "      <td>\"I used to take another oral contraceptive, wh...</td>\n",
       "      <td>5</td>\n",
       "      <td>14-Dec-09</td>\n",
       "      <td>17</td>\n",
       "    </tr>\n",
       "    <tr>\n",
       "      <th>3</th>\n",
       "      <td>138000</td>\n",
       "      <td>Ortho Evra</td>\n",
       "      <td>Birth Control</td>\n",
       "      <td>\"This is my first time using any form of birth...</td>\n",
       "      <td>8</td>\n",
       "      <td>3-Nov-15</td>\n",
       "      <td>10</td>\n",
       "    </tr>\n",
       "    <tr>\n",
       "      <th>4</th>\n",
       "      <td>35696</td>\n",
       "      <td>Buprenorphine / naloxone</td>\n",
       "      <td>Opiate Dependence</td>\n",
       "      <td>\"Suboxone has completely turned my life around...</td>\n",
       "      <td>9</td>\n",
       "      <td>27-Nov-16</td>\n",
       "      <td>37</td>\n",
       "    </tr>\n",
       "  </tbody>\n",
       "</table>\n",
       "</div>"
      ],
      "text/plain": [
       "   uniqueID                  drugName                     condition  \\\n",
       "0    206461                 Valsartan  Left Ventricular Dysfunction   \n",
       "1     95260                Guanfacine                          ADHD   \n",
       "2     92703                    Lybrel                 Birth Control   \n",
       "3    138000                Ortho Evra                 Birth Control   \n",
       "4     35696  Buprenorphine / naloxone             Opiate Dependence   \n",
       "\n",
       "                                              review  rating       date  \\\n",
       "0  \"It has no side effect, I take it in combinati...       9  20-May-12   \n",
       "1  \"My son is halfway through his fourth week of ...       8  27-Apr-10   \n",
       "2  \"I used to take another oral contraceptive, wh...       5  14-Dec-09   \n",
       "3  \"This is my first time using any form of birth...       8   3-Nov-15   \n",
       "4  \"Suboxone has completely turned my life around...       9  27-Nov-16   \n",
       "\n",
       "   usefulCount  \n",
       "0           27  \n",
       "1          192  \n",
       "2           17  \n",
       "3           10  \n",
       "4           37  "
      ]
     },
     "execution_count": 1156,
     "metadata": {},
     "output_type": "execute_result"
    }
   ],
   "source": [
    "df.head()"
   ]
  },
  {
   "cell_type": "code",
   "execution_count": 1157,
   "metadata": {},
   "outputs": [
    {
     "data": {
      "text/plain": [
       "(161297, 7)"
      ]
     },
     "execution_count": 1157,
     "metadata": {},
     "output_type": "execute_result"
    }
   ],
   "source": [
    "df.shape"
   ]
  },
  {
   "cell_type": "code",
   "execution_count": 1158,
   "metadata": {},
   "outputs": [
    {
     "name": "stdout",
     "output_type": "stream",
     "text": [
      "<class 'pandas.core.frame.DataFrame'>\n",
      "RangeIndex: 161297 entries, 0 to 161296\n",
      "Data columns (total 7 columns):\n",
      " #   Column       Non-Null Count   Dtype \n",
      "---  ------       --------------   ----- \n",
      " 0   uniqueID     161297 non-null  int64 \n",
      " 1   drugName     161297 non-null  object\n",
      " 2   condition    160398 non-null  object\n",
      " 3   review       161297 non-null  object\n",
      " 4   rating       161297 non-null  int64 \n",
      " 5   date         161297 non-null  object\n",
      " 6   usefulCount  161297 non-null  int64 \n",
      "dtypes: int64(3), object(4)\n",
      "memory usage: 8.6+ MB\n"
     ]
    }
   ],
   "source": [
    "df.info()"
   ]
  },
  {
   "cell_type": "code",
   "execution_count": 1159,
   "metadata": {},
   "outputs": [
    {
     "name": "stdout",
     "output_type": "stream",
     "text": [
      "uniqueID 161297\n",
      "drugName 3436\n",
      "condition 884\n",
      "review 112329\n",
      "rating 10\n",
      "date 3579\n",
      "usefulCount 389\n"
     ]
    }
   ],
   "source": [
    "#Unique values in the train data set\n",
    "column_list = df.columns.values.tolist()\n",
    "for column_name in column_list:\n",
    "    print(column_name, df[column_name].nunique())"
   ]
  },
  {
   "cell_type": "code",
   "execution_count": 1160,
   "metadata": {},
   "outputs": [
    {
     "name": "stdout",
     "output_type": "stream",
     "text": [
      "uniqueID 53766\n",
      "drugName 2637\n",
      "condition 708\n",
      "review 48280\n",
      "rating 10\n",
      "date 3566\n",
      "usefulCount 325\n"
     ]
    }
   ],
   "source": [
    "#Unique values in the test data set\n",
    "column_list = df_test.columns.values.tolist()\n",
    "for column_name in column_list:\n",
    "    print(column_name, df_test[column_name].nunique())"
   ]
  },
  {
   "cell_type": "code",
   "execution_count": 1161,
   "metadata": {},
   "outputs": [
    {
     "data": {
      "text/plain": [
       "32"
      ]
     },
     "execution_count": 1161,
     "metadata": {},
     "output_type": "execute_result"
    }
   ],
   "source": [
    "#There are 25 uniques conditions in the test set that are not in the train set\n",
    "A=set(df.condition.values)\n",
    "B=set(df_test.condition.values)\n",
    "len(B.difference(A))"
   ]
  },
  {
   "cell_type": "code",
   "execution_count": 1162,
   "metadata": {},
   "outputs": [
    {
     "data": {
      "text/plain": [
       "208"
      ]
     },
     "execution_count": 1162,
     "metadata": {},
     "output_type": "execute_result"
    }
   ],
   "source": [
    "#There are 172 uniques conditions in the test set that are not in the train set\n",
    "len(A.difference(B))"
   ]
  },
  {
   "cell_type": "code",
   "execution_count": 1163,
   "metadata": {},
   "outputs": [
    {
     "data": {
      "text/plain": [
       "1034"
      ]
     },
     "execution_count": 1163,
     "metadata": {},
     "output_type": "execute_result"
    }
   ],
   "source": [
    "#There are 1032 drug names that are in the train data set and not in the test data set\n",
    "C=set(df.drugName.values)\n",
    "D=set(df_test.drugName.values)\n",
    "len(C.difference(D))"
   ]
  },
  {
   "cell_type": "code",
   "execution_count": 1164,
   "metadata": {},
   "outputs": [
    {
     "data": {
      "text/plain": [
       "235"
      ]
     },
     "execution_count": 1164,
     "metadata": {},
     "output_type": "execute_result"
    }
   ],
   "source": [
    "#There are 236 drug names that are in the test data set and not in the train data set\n",
    "len(D.difference(C))"
   ]
  },
  {
   "cell_type": "markdown",
   "metadata": {},
   "source": [
    "## Dropping the null values in the train and test sets"
   ]
  },
  {
   "cell_type": "code",
   "execution_count": 1165,
   "metadata": {},
   "outputs": [
    {
     "data": {
      "text/plain": [
       "True"
      ]
     },
     "execution_count": 1165,
     "metadata": {},
     "output_type": "execute_result"
    }
   ],
   "source": [
    "df.isna().any().any()"
   ]
  },
  {
   "cell_type": "code",
   "execution_count": 1166,
   "metadata": {},
   "outputs": [
    {
     "data": {
      "text/plain": [
       "899"
      ]
     },
     "execution_count": 1166,
     "metadata": {},
     "output_type": "execute_result"
    }
   ],
   "source": [
    "df.isna().sum().sum()"
   ]
  },
  {
   "cell_type": "code",
   "execution_count": 1167,
   "metadata": {},
   "outputs": [
    {
     "name": "stdout",
     "output_type": "stream",
     "text": [
      "Column with lowest amount of missings contains 0.0 % missings.\n",
      "Column with highest amount of missings contains 0.5573569254232875 % missings.\n"
     ]
    }
   ],
   "source": [
    "temp = df.isna().sum()/(len(df))*100\n",
    "print(\"Column with lowest amount of missings contains {} % missings.\".format(temp.min()))\n",
    "print(\"Column with highest amount of missings contains {} % missings.\".format(temp.max()))\n"
   ]
  },
  {
   "cell_type": "code",
   "execution_count": 1168,
   "metadata": {},
   "outputs": [
    {
     "data": {
      "text/plain": [
       "Index(['condition'], dtype='object')"
      ]
     },
     "execution_count": 1168,
     "metadata": {},
     "output_type": "execute_result"
    }
   ],
   "source": [
    "df.loc[:, df.isnull().any()].columns"
   ]
  },
  {
   "cell_type": "code",
   "execution_count": 1169,
   "metadata": {},
   "outputs": [],
   "source": [
    "df.dropna(inplace=True)"
   ]
  },
  {
   "cell_type": "code",
   "execution_count": 1170,
   "metadata": {},
   "outputs": [
    {
     "data": {
      "text/plain": [
       "True"
      ]
     },
     "execution_count": 1170,
     "metadata": {},
     "output_type": "execute_result"
    }
   ],
   "source": [
    "df_test.isna().any().any()"
   ]
  },
  {
   "cell_type": "code",
   "execution_count": 1171,
   "metadata": {},
   "outputs": [
    {
     "data": {
      "text/plain": [
       "295"
      ]
     },
     "execution_count": 1171,
     "metadata": {},
     "output_type": "execute_result"
    }
   ],
   "source": [
    "df_test.isna().sum().sum()"
   ]
  },
  {
   "cell_type": "code",
   "execution_count": 1172,
   "metadata": {},
   "outputs": [],
   "source": [
    "df_test.dropna(inplace=True)"
   ]
  },
  {
   "cell_type": "markdown",
   "metadata": {},
   "source": [
    "## Polarity and subjectivity"
   ]
  },
  {
   "cell_type": "code",
   "execution_count": 1173,
   "metadata": {},
   "outputs": [],
   "source": [
    "df[['polarity', 'subjectivity']] = df['review'].apply(lambda text: pd.Series(TextBlob(text).sentiment))"
   ]
  },
  {
   "cell_type": "code",
   "execution_count": 1174,
   "metadata": {},
   "outputs": [
    {
     "data": {
      "text/html": [
       "<div>\n",
       "<style scoped>\n",
       "    .dataframe tbody tr th:only-of-type {\n",
       "        vertical-align: middle;\n",
       "    }\n",
       "\n",
       "    .dataframe tbody tr th {\n",
       "        vertical-align: top;\n",
       "    }\n",
       "\n",
       "    .dataframe thead th {\n",
       "        text-align: right;\n",
       "    }\n",
       "</style>\n",
       "<table border=\"1\" class=\"dataframe\">\n",
       "  <thead>\n",
       "    <tr style=\"text-align: right;\">\n",
       "      <th></th>\n",
       "      <th>uniqueID</th>\n",
       "      <th>drugName</th>\n",
       "      <th>condition</th>\n",
       "      <th>review</th>\n",
       "      <th>rating</th>\n",
       "      <th>date</th>\n",
       "      <th>usefulCount</th>\n",
       "      <th>polarity</th>\n",
       "      <th>subjectivity</th>\n",
       "      <th>sentiment</th>\n",
       "    </tr>\n",
       "  </thead>\n",
       "  <tbody>\n",
       "    <tr>\n",
       "      <th>0</th>\n",
       "      <td>206461</td>\n",
       "      <td>Valsartan</td>\n",
       "      <td>Left Ventricular Dysfunction</td>\n",
       "      <td>\"It has no side effect, I take it in combinati...</td>\n",
       "      <td>9</td>\n",
       "      <td>20-May-12</td>\n",
       "      <td>27</td>\n",
       "      <td>0.000000</td>\n",
       "      <td>0.000000</td>\n",
       "      <td>neutral</td>\n",
       "    </tr>\n",
       "    <tr>\n",
       "      <th>1</th>\n",
       "      <td>95260</td>\n",
       "      <td>Guanfacine</td>\n",
       "      <td>ADHD</td>\n",
       "      <td>\"My son is halfway through his fourth week of ...</td>\n",
       "      <td>8</td>\n",
       "      <td>27-Apr-10</td>\n",
       "      <td>192</td>\n",
       "      <td>0.168333</td>\n",
       "      <td>0.431349</td>\n",
       "      <td>neutral</td>\n",
       "    </tr>\n",
       "    <tr>\n",
       "      <th>2</th>\n",
       "      <td>92703</td>\n",
       "      <td>Lybrel</td>\n",
       "      <td>Birth Control</td>\n",
       "      <td>\"I used to take another oral contraceptive, wh...</td>\n",
       "      <td>5</td>\n",
       "      <td>14-Dec-09</td>\n",
       "      <td>17</td>\n",
       "      <td>0.067210</td>\n",
       "      <td>0.402155</td>\n",
       "      <td>neutral</td>\n",
       "    </tr>\n",
       "    <tr>\n",
       "      <th>3</th>\n",
       "      <td>138000</td>\n",
       "      <td>Ortho Evra</td>\n",
       "      <td>Birth Control</td>\n",
       "      <td>\"This is my first time using any form of birth...</td>\n",
       "      <td>8</td>\n",
       "      <td>3-Nov-15</td>\n",
       "      <td>10</td>\n",
       "      <td>0.179545</td>\n",
       "      <td>0.665909</td>\n",
       "      <td>neutral</td>\n",
       "    </tr>\n",
       "    <tr>\n",
       "      <th>4</th>\n",
       "      <td>35696</td>\n",
       "      <td>Buprenorphine / naloxone</td>\n",
       "      <td>Opiate Dependence</td>\n",
       "      <td>\"Suboxone has completely turned my life around...</td>\n",
       "      <td>9</td>\n",
       "      <td>27-Nov-16</td>\n",
       "      <td>37</td>\n",
       "      <td>0.194444</td>\n",
       "      <td>0.401389</td>\n",
       "      <td>neutral</td>\n",
       "    </tr>\n",
       "  </tbody>\n",
       "</table>\n",
       "</div>"
      ],
      "text/plain": [
       "   uniqueID                  drugName                     condition  \\\n",
       "0    206461                 Valsartan  Left Ventricular Dysfunction   \n",
       "1     95260                Guanfacine                          ADHD   \n",
       "2     92703                    Lybrel                 Birth Control   \n",
       "3    138000                Ortho Evra                 Birth Control   \n",
       "4     35696  Buprenorphine / naloxone             Opiate Dependence   \n",
       "\n",
       "                                              review  rating       date  \\\n",
       "0  \"It has no side effect, I take it in combinati...       9  20-May-12   \n",
       "1  \"My son is halfway through his fourth week of ...       8  27-Apr-10   \n",
       "2  \"I used to take another oral contraceptive, wh...       5  14-Dec-09   \n",
       "3  \"This is my first time using any form of birth...       8   3-Nov-15   \n",
       "4  \"Suboxone has completely turned my life around...       9  27-Nov-16   \n",
       "\n",
       "   usefulCount  polarity  subjectivity sentiment  \n",
       "0           27  0.000000      0.000000   neutral  \n",
       "1          192  0.168333      0.431349   neutral  \n",
       "2           17  0.067210      0.402155   neutral  \n",
       "3           10  0.179545      0.665909   neutral  \n",
       "4           37  0.194444      0.401389   neutral  "
      ]
     },
     "execution_count": 1174,
     "metadata": {},
     "output_type": "execute_result"
    }
   ],
   "source": [
    "bins = [-1 ,-0.6, -0.2, 0.2, 0.6, 1]\n",
    "labels = ['very negative', 'negative' , 'neutral', 'positive', 'very positive']\n",
    "df['sentiment'] = pd.cut(df.polarity, bins, labels = labels,include_lowest = True)\n",
    "\n",
    "df.head()"
   ]
  },
  {
   "cell_type": "markdown",
   "metadata": {},
   "source": [
    "### Negative-polarity binary column"
   ]
  },
  {
   "cell_type": "code",
   "execution_count": 1175,
   "metadata": {},
   "outputs": [
    {
     "data": {
      "text/html": [
       "<div>\n",
       "<style scoped>\n",
       "    .dataframe tbody tr th:only-of-type {\n",
       "        vertical-align: middle;\n",
       "    }\n",
       "\n",
       "    .dataframe tbody tr th {\n",
       "        vertical-align: top;\n",
       "    }\n",
       "\n",
       "    .dataframe thead th {\n",
       "        text-align: right;\n",
       "    }\n",
       "</style>\n",
       "<table border=\"1\" class=\"dataframe\">\n",
       "  <thead>\n",
       "    <tr style=\"text-align: right;\">\n",
       "      <th></th>\n",
       "      <th>uniqueID</th>\n",
       "      <th>drugName</th>\n",
       "      <th>condition</th>\n",
       "      <th>review</th>\n",
       "      <th>rating</th>\n",
       "      <th>date</th>\n",
       "      <th>usefulCount</th>\n",
       "      <th>polarity</th>\n",
       "      <th>subjectivity</th>\n",
       "      <th>sentiment</th>\n",
       "      <th>negative_polarity_binary</th>\n",
       "    </tr>\n",
       "  </thead>\n",
       "  <tbody>\n",
       "    <tr>\n",
       "      <th>0</th>\n",
       "      <td>206461</td>\n",
       "      <td>Valsartan</td>\n",
       "      <td>Left Ventricular Dysfunction</td>\n",
       "      <td>\"It has no side effect, I take it in combinati...</td>\n",
       "      <td>9</td>\n",
       "      <td>20-May-12</td>\n",
       "      <td>27</td>\n",
       "      <td>0.000000</td>\n",
       "      <td>0.000000</td>\n",
       "      <td>neutral</td>\n",
       "      <td>positive</td>\n",
       "    </tr>\n",
       "    <tr>\n",
       "      <th>1</th>\n",
       "      <td>95260</td>\n",
       "      <td>Guanfacine</td>\n",
       "      <td>ADHD</td>\n",
       "      <td>\"My son is halfway through his fourth week of ...</td>\n",
       "      <td>8</td>\n",
       "      <td>27-Apr-10</td>\n",
       "      <td>192</td>\n",
       "      <td>0.168333</td>\n",
       "      <td>0.431349</td>\n",
       "      <td>neutral</td>\n",
       "      <td>positive</td>\n",
       "    </tr>\n",
       "    <tr>\n",
       "      <th>2</th>\n",
       "      <td>92703</td>\n",
       "      <td>Lybrel</td>\n",
       "      <td>Birth Control</td>\n",
       "      <td>\"I used to take another oral contraceptive, wh...</td>\n",
       "      <td>5</td>\n",
       "      <td>14-Dec-09</td>\n",
       "      <td>17</td>\n",
       "      <td>0.067210</td>\n",
       "      <td>0.402155</td>\n",
       "      <td>neutral</td>\n",
       "      <td>positive</td>\n",
       "    </tr>\n",
       "    <tr>\n",
       "      <th>3</th>\n",
       "      <td>138000</td>\n",
       "      <td>Ortho Evra</td>\n",
       "      <td>Birth Control</td>\n",
       "      <td>\"This is my first time using any form of birth...</td>\n",
       "      <td>8</td>\n",
       "      <td>3-Nov-15</td>\n",
       "      <td>10</td>\n",
       "      <td>0.179545</td>\n",
       "      <td>0.665909</td>\n",
       "      <td>neutral</td>\n",
       "      <td>positive</td>\n",
       "    </tr>\n",
       "    <tr>\n",
       "      <th>4</th>\n",
       "      <td>35696</td>\n",
       "      <td>Buprenorphine / naloxone</td>\n",
       "      <td>Opiate Dependence</td>\n",
       "      <td>\"Suboxone has completely turned my life around...</td>\n",
       "      <td>9</td>\n",
       "      <td>27-Nov-16</td>\n",
       "      <td>37</td>\n",
       "      <td>0.194444</td>\n",
       "      <td>0.401389</td>\n",
       "      <td>neutral</td>\n",
       "      <td>positive</td>\n",
       "    </tr>\n",
       "  </tbody>\n",
       "</table>\n",
       "</div>"
      ],
      "text/plain": [
       "   uniqueID                  drugName                     condition  \\\n",
       "0    206461                 Valsartan  Left Ventricular Dysfunction   \n",
       "1     95260                Guanfacine                          ADHD   \n",
       "2     92703                    Lybrel                 Birth Control   \n",
       "3    138000                Ortho Evra                 Birth Control   \n",
       "4     35696  Buprenorphine / naloxone             Opiate Dependence   \n",
       "\n",
       "                                              review  rating       date  \\\n",
       "0  \"It has no side effect, I take it in combinati...       9  20-May-12   \n",
       "1  \"My son is halfway through his fourth week of ...       8  27-Apr-10   \n",
       "2  \"I used to take another oral contraceptive, wh...       5  14-Dec-09   \n",
       "3  \"This is my first time using any form of birth...       8   3-Nov-15   \n",
       "4  \"Suboxone has completely turned my life around...       9  27-Nov-16   \n",
       "\n",
       "   usefulCount  polarity  subjectivity sentiment negative_polarity_binary  \n",
       "0           27  0.000000      0.000000   neutral                 positive  \n",
       "1          192  0.168333      0.431349   neutral                 positive  \n",
       "2           17  0.067210      0.402155   neutral                 positive  \n",
       "3           10  0.179545      0.665909   neutral                 positive  \n",
       "4           37  0.194444      0.401389   neutral                 positive  "
      ]
     },
     "execution_count": 1175,
     "metadata": {},
     "output_type": "execute_result"
    }
   ],
   "source": [
    "bins = [-1,0, 1]\n",
    "labels = ['negative', 'positive']\n",
    "df['negative_polarity_binary'] = pd.cut(df.polarity, bins, labels = labels, right=False, include_lowest = True)\n",
    "\n",
    "df.head()"
   ]
  },
  {
   "cell_type": "code",
   "execution_count": 1176,
   "metadata": {},
   "outputs": [
    {
     "data": {
      "text/html": [
       "<div>\n",
       "<style scoped>\n",
       "    .dataframe tbody tr th:only-of-type {\n",
       "        vertical-align: middle;\n",
       "    }\n",
       "\n",
       "    .dataframe tbody tr th {\n",
       "        vertical-align: top;\n",
       "    }\n",
       "\n",
       "    .dataframe thead th {\n",
       "        text-align: right;\n",
       "    }\n",
       "</style>\n",
       "<table border=\"1\" class=\"dataframe\">\n",
       "  <thead>\n",
       "    <tr style=\"text-align: right;\">\n",
       "      <th></th>\n",
       "      <th>uniqueID</th>\n",
       "      <th>drugName</th>\n",
       "      <th>condition</th>\n",
       "      <th>review</th>\n",
       "      <th>rating</th>\n",
       "      <th>date</th>\n",
       "      <th>usefulCount</th>\n",
       "      <th>polarity</th>\n",
       "      <th>subjectivity</th>\n",
       "      <th>sentiment</th>\n",
       "      <th>negative_polarity_binary</th>\n",
       "    </tr>\n",
       "  </thead>\n",
       "  <tbody>\n",
       "    <tr>\n",
       "      <th>0</th>\n",
       "      <td>206461</td>\n",
       "      <td>Valsartan</td>\n",
       "      <td>Left Ventricular Dysfunction</td>\n",
       "      <td>\"It has no side effect, I take it in combinati...</td>\n",
       "      <td>9</td>\n",
       "      <td>20-May-12</td>\n",
       "      <td>27</td>\n",
       "      <td>0.000000</td>\n",
       "      <td>0.000000</td>\n",
       "      <td>neutral</td>\n",
       "      <td>0.0</td>\n",
       "    </tr>\n",
       "    <tr>\n",
       "      <th>1</th>\n",
       "      <td>95260</td>\n",
       "      <td>Guanfacine</td>\n",
       "      <td>ADHD</td>\n",
       "      <td>\"My son is halfway through his fourth week of ...</td>\n",
       "      <td>8</td>\n",
       "      <td>27-Apr-10</td>\n",
       "      <td>192</td>\n",
       "      <td>0.168333</td>\n",
       "      <td>0.431349</td>\n",
       "      <td>neutral</td>\n",
       "      <td>0.0</td>\n",
       "    </tr>\n",
       "    <tr>\n",
       "      <th>2</th>\n",
       "      <td>92703</td>\n",
       "      <td>Lybrel</td>\n",
       "      <td>Birth Control</td>\n",
       "      <td>\"I used to take another oral contraceptive, wh...</td>\n",
       "      <td>5</td>\n",
       "      <td>14-Dec-09</td>\n",
       "      <td>17</td>\n",
       "      <td>0.067210</td>\n",
       "      <td>0.402155</td>\n",
       "      <td>neutral</td>\n",
       "      <td>0.0</td>\n",
       "    </tr>\n",
       "    <tr>\n",
       "      <th>3</th>\n",
       "      <td>138000</td>\n",
       "      <td>Ortho Evra</td>\n",
       "      <td>Birth Control</td>\n",
       "      <td>\"This is my first time using any form of birth...</td>\n",
       "      <td>8</td>\n",
       "      <td>3-Nov-15</td>\n",
       "      <td>10</td>\n",
       "      <td>0.179545</td>\n",
       "      <td>0.665909</td>\n",
       "      <td>neutral</td>\n",
       "      <td>0.0</td>\n",
       "    </tr>\n",
       "    <tr>\n",
       "      <th>4</th>\n",
       "      <td>35696</td>\n",
       "      <td>Buprenorphine / naloxone</td>\n",
       "      <td>Opiate Dependence</td>\n",
       "      <td>\"Suboxone has completely turned my life around...</td>\n",
       "      <td>9</td>\n",
       "      <td>27-Nov-16</td>\n",
       "      <td>37</td>\n",
       "      <td>0.194444</td>\n",
       "      <td>0.401389</td>\n",
       "      <td>neutral</td>\n",
       "      <td>0.0</td>\n",
       "    </tr>\n",
       "  </tbody>\n",
       "</table>\n",
       "</div>"
      ],
      "text/plain": [
       "   uniqueID                  drugName                     condition  \\\n",
       "0    206461                 Valsartan  Left Ventricular Dysfunction   \n",
       "1     95260                Guanfacine                          ADHD   \n",
       "2     92703                    Lybrel                 Birth Control   \n",
       "3    138000                Ortho Evra                 Birth Control   \n",
       "4     35696  Buprenorphine / naloxone             Opiate Dependence   \n",
       "\n",
       "                                              review  rating       date  \\\n",
       "0  \"It has no side effect, I take it in combinati...       9  20-May-12   \n",
       "1  \"My son is halfway through his fourth week of ...       8  27-Apr-10   \n",
       "2  \"I used to take another oral contraceptive, wh...       5  14-Dec-09   \n",
       "3  \"This is my first time using any form of birth...       8   3-Nov-15   \n",
       "4  \"Suboxone has completely turned my life around...       9  27-Nov-16   \n",
       "\n",
       "   usefulCount  polarity  subjectivity sentiment  negative_polarity_binary  \n",
       "0           27  0.000000      0.000000   neutral                       0.0  \n",
       "1          192  0.168333      0.431349   neutral                       0.0  \n",
       "2           17  0.067210      0.402155   neutral                       0.0  \n",
       "3           10  0.179545      0.665909   neutral                       0.0  \n",
       "4           37  0.194444      0.401389   neutral                       0.0  "
      ]
     },
     "execution_count": 1176,
     "metadata": {},
     "output_type": "execute_result"
    }
   ],
   "source": [
    "df.negative_polarity_binary.replace(['negative','positive'],[1,0] ,inplace=True)\n",
    "df.head()"
   ]
  },
  {
   "cell_type": "code",
   "execution_count": 1177,
   "metadata": {},
   "outputs": [
    {
     "data": {
      "text/plain": [
       "0.0    106642\n",
       "1.0     53030\n",
       "Name: negative_polarity_binary, dtype: int64"
      ]
     },
     "execution_count": 1177,
     "metadata": {},
     "output_type": "execute_result"
    }
   ],
   "source": [
    "df.negative_polarity_binary.value_counts()"
   ]
  },
  {
   "cell_type": "markdown",
   "metadata": {},
   "source": [
    "## Rating column"
   ]
  },
  {
   "cell_type": "markdown",
   "metadata": {},
   "source": [
    "### Countplot"
   ]
  },
  {
   "cell_type": "code",
   "execution_count": 1178,
   "metadata": {},
   "outputs": [
    {
     "data": {
      "image/png": "[encoded data removed]",
      "text/plain": [
       "<Figure size 576x360 with 1 Axes>"
      ]
     },
     "metadata": {},
     "output_type": "display_data"
    }
   ],
   "source": [
    "sns_plot=sns.countplot(x=\"rating\", data=df)\n",
    "plt.tight_layout()\n",
    "plt.show()\n",
    "fig = sns_plot.get_figure()\n",
    "fig.savefig('/Users/atousachaharsoughshirazi/drug_review/figures/rating_countplot.png') "
   ]
  },
  {
   "cell_type": "markdown",
   "metadata": {},
   "source": [
    "### Ratings grouping"
   ]
  },
  {
   "cell_type": "code",
   "execution_count": 1179,
   "metadata": {},
   "outputs": [
    {
     "data": {
      "text/html": [
       "<div>\n",
       "<style scoped>\n",
       "    .dataframe tbody tr th:only-of-type {\n",
       "        vertical-align: middle;\n",
       "    }\n",
       "\n",
       "    .dataframe tbody tr th {\n",
       "        vertical-align: top;\n",
       "    }\n",
       "\n",
       "    .dataframe thead th {\n",
       "        text-align: right;\n",
       "    }\n",
       "</style>\n",
       "<table border=\"1\" class=\"dataframe\">\n",
       "  <thead>\n",
       "    <tr style=\"text-align: right;\">\n",
       "      <th></th>\n",
       "      <th>uniqueID</th>\n",
       "      <th>drugName</th>\n",
       "      <th>condition</th>\n",
       "      <th>review</th>\n",
       "      <th>rating</th>\n",
       "      <th>date</th>\n",
       "      <th>usefulCount</th>\n",
       "      <th>polarity</th>\n",
       "      <th>subjectivity</th>\n",
       "      <th>sentiment</th>\n",
       "      <th>negative_polarity_binary</th>\n",
       "      <th>rating_groups</th>\n",
       "    </tr>\n",
       "  </thead>\n",
       "  <tbody>\n",
       "    <tr>\n",
       "      <th>0</th>\n",
       "      <td>206461</td>\n",
       "      <td>Valsartan</td>\n",
       "      <td>Left Ventricular Dysfunction</td>\n",
       "      <td>\"It has no side effect, I take it in combinati...</td>\n",
       "      <td>9</td>\n",
       "      <td>20-May-12</td>\n",
       "      <td>27</td>\n",
       "      <td>0.000000</td>\n",
       "      <td>0.000000</td>\n",
       "      <td>neutral</td>\n",
       "      <td>0.0</td>\n",
       "      <td>&gt;7</td>\n",
       "    </tr>\n",
       "    <tr>\n",
       "      <th>1</th>\n",
       "      <td>95260</td>\n",
       "      <td>Guanfacine</td>\n",
       "      <td>ADHD</td>\n",
       "      <td>\"My son is halfway through his fourth week of ...</td>\n",
       "      <td>8</td>\n",
       "      <td>27-Apr-10</td>\n",
       "      <td>192</td>\n",
       "      <td>0.168333</td>\n",
       "      <td>0.431349</td>\n",
       "      <td>neutral</td>\n",
       "      <td>0.0</td>\n",
       "      <td>&gt;7</td>\n",
       "    </tr>\n",
       "    <tr>\n",
       "      <th>2</th>\n",
       "      <td>92703</td>\n",
       "      <td>Lybrel</td>\n",
       "      <td>Birth Control</td>\n",
       "      <td>\"I used to take another oral contraceptive, wh...</td>\n",
       "      <td>5</td>\n",
       "      <td>14-Dec-09</td>\n",
       "      <td>17</td>\n",
       "      <td>0.067210</td>\n",
       "      <td>0.402155</td>\n",
       "      <td>neutral</td>\n",
       "      <td>0.0</td>\n",
       "      <td>4-7</td>\n",
       "    </tr>\n",
       "    <tr>\n",
       "      <th>3</th>\n",
       "      <td>138000</td>\n",
       "      <td>Ortho Evra</td>\n",
       "      <td>Birth Control</td>\n",
       "      <td>\"This is my first time using any form of birth...</td>\n",
       "      <td>8</td>\n",
       "      <td>3-Nov-15</td>\n",
       "      <td>10</td>\n",
       "      <td>0.179545</td>\n",
       "      <td>0.665909</td>\n",
       "      <td>neutral</td>\n",
       "      <td>0.0</td>\n",
       "      <td>&gt;7</td>\n",
       "    </tr>\n",
       "    <tr>\n",
       "      <th>4</th>\n",
       "      <td>35696</td>\n",
       "      <td>Buprenorphine / naloxone</td>\n",
       "      <td>Opiate Dependence</td>\n",
       "      <td>\"Suboxone has completely turned my life around...</td>\n",
       "      <td>9</td>\n",
       "      <td>27-Nov-16</td>\n",
       "      <td>37</td>\n",
       "      <td>0.194444</td>\n",
       "      <td>0.401389</td>\n",
       "      <td>neutral</td>\n",
       "      <td>0.0</td>\n",
       "      <td>&gt;7</td>\n",
       "    </tr>\n",
       "  </tbody>\n",
       "</table>\n",
       "</div>"
      ],
      "text/plain": [
       "   uniqueID                  drugName                     condition  \\\n",
       "0    206461                 Valsartan  Left Ventricular Dysfunction   \n",
       "1     95260                Guanfacine                          ADHD   \n",
       "2     92703                    Lybrel                 Birth Control   \n",
       "3    138000                Ortho Evra                 Birth Control   \n",
       "4     35696  Buprenorphine / naloxone             Opiate Dependence   \n",
       "\n",
       "                                              review  rating       date  \\\n",
       "0  \"It has no side effect, I take it in combinati...       9  20-May-12   \n",
       "1  \"My son is halfway through his fourth week of ...       8  27-Apr-10   \n",
       "2  \"I used to take another oral contraceptive, wh...       5  14-Dec-09   \n",
       "3  \"This is my first time using any form of birth...       8   3-Nov-15   \n",
       "4  \"Suboxone has completely turned my life around...       9  27-Nov-16   \n",
       "\n",
       "   usefulCount  polarity  subjectivity sentiment  negative_polarity_binary  \\\n",
       "0           27  0.000000      0.000000   neutral                       0.0   \n",
       "1          192  0.168333      0.431349   neutral                       0.0   \n",
       "2           17  0.067210      0.402155   neutral                       0.0   \n",
       "3           10  0.179545      0.665909   neutral                       0.0   \n",
       "4           37  0.194444      0.401389   neutral                       0.0   \n",
       "\n",
       "  rating_groups  \n",
       "0            >7  \n",
       "1            >7  \n",
       "2           4-7  \n",
       "3            >7  \n",
       "4            >7  "
      ]
     },
     "execution_count": 1179,
     "metadata": {},
     "output_type": "execute_result"
    }
   ],
   "source": [
    "bins = [0 ,4, 7, np.inf]\n",
    "labels = ['<4', '4-7', '>7']\n",
    "df['rating_groups'] = pd.cut(df.rating, bins, labels = labels,include_lowest = True)\n",
    "\n",
    "df.head()"
   ]
  },
  {
   "cell_type": "code",
   "execution_count": 1180,
   "metadata": {},
   "outputs": [
    {
     "data": {
      "text/plain": [
       "<AxesSubplot:xlabel='polarity', ylabel='Count'>"
      ]
     },
     "execution_count": 1180,
     "metadata": {},
     "output_type": "execute_result"
    },
    {
     "data": {
      "image/png": "[encoded data removed]",
      "text/plain": [
       "<Figure size 576x360 with 1 Axes>"
      ]
     },
     "metadata": {},
     "output_type": "display_data"
    }
   ],
   "source": [
    "sns.histplot(x=\"polarity\", data=df)"
   ]
  },
  {
   "cell_type": "markdown",
   "metadata": {},
   "source": [
    "### Binary low-rating column"
   ]
  },
  {
   "cell_type": "markdown",
   "metadata": {},
   "source": [
    "Later we are interested to investigate which patients tend to give low ratings (rating<4) and what elements in the reviews make a low rating. Therefore, it is useful to add a column and categorize the reviews as a separate binary group. Since we are interested in low rating reviews we will assign 1 to low ratings and 0 to others."
   ]
  },
  {
   "cell_type": "code",
   "execution_count": 1181,
   "metadata": {},
   "outputs": [
    {
     "data": {
      "text/html": [
       "<div>\n",
       "<style scoped>\n",
       "    .dataframe tbody tr th:only-of-type {\n",
       "        vertical-align: middle;\n",
       "    }\n",
       "\n",
       "    .dataframe tbody tr th {\n",
       "        vertical-align: top;\n",
       "    }\n",
       "\n",
       "    .dataframe thead th {\n",
       "        text-align: right;\n",
       "    }\n",
       "</style>\n",
       "<table border=\"1\" class=\"dataframe\">\n",
       "  <thead>\n",
       "    <tr style=\"text-align: right;\">\n",
       "      <th></th>\n",
       "      <th>uniqueID</th>\n",
       "      <th>drugName</th>\n",
       "      <th>condition</th>\n",
       "      <th>review</th>\n",
       "      <th>rating</th>\n",
       "      <th>date</th>\n",
       "      <th>usefulCount</th>\n",
       "      <th>polarity</th>\n",
       "      <th>subjectivity</th>\n",
       "      <th>sentiment</th>\n",
       "      <th>negative_polarity_binary</th>\n",
       "      <th>rating_groups</th>\n",
       "      <th>low_rating_binary</th>\n",
       "    </tr>\n",
       "  </thead>\n",
       "  <tbody>\n",
       "    <tr>\n",
       "      <th>0</th>\n",
       "      <td>206461</td>\n",
       "      <td>Valsartan</td>\n",
       "      <td>Left Ventricular Dysfunction</td>\n",
       "      <td>\"It has no side effect, I take it in combinati...</td>\n",
       "      <td>9</td>\n",
       "      <td>20-May-12</td>\n",
       "      <td>27</td>\n",
       "      <td>0.000000</td>\n",
       "      <td>0.000000</td>\n",
       "      <td>neutral</td>\n",
       "      <td>0.0</td>\n",
       "      <td>&gt;7</td>\n",
       "      <td>0</td>\n",
       "    </tr>\n",
       "    <tr>\n",
       "      <th>1</th>\n",
       "      <td>95260</td>\n",
       "      <td>Guanfacine</td>\n",
       "      <td>ADHD</td>\n",
       "      <td>\"My son is halfway through his fourth week of ...</td>\n",
       "      <td>8</td>\n",
       "      <td>27-Apr-10</td>\n",
       "      <td>192</td>\n",
       "      <td>0.168333</td>\n",
       "      <td>0.431349</td>\n",
       "      <td>neutral</td>\n",
       "      <td>0.0</td>\n",
       "      <td>&gt;7</td>\n",
       "      <td>0</td>\n",
       "    </tr>\n",
       "    <tr>\n",
       "      <th>2</th>\n",
       "      <td>92703</td>\n",
       "      <td>Lybrel</td>\n",
       "      <td>Birth Control</td>\n",
       "      <td>\"I used to take another oral contraceptive, wh...</td>\n",
       "      <td>5</td>\n",
       "      <td>14-Dec-09</td>\n",
       "      <td>17</td>\n",
       "      <td>0.067210</td>\n",
       "      <td>0.402155</td>\n",
       "      <td>neutral</td>\n",
       "      <td>0.0</td>\n",
       "      <td>4-7</td>\n",
       "      <td>0</td>\n",
       "    </tr>\n",
       "    <tr>\n",
       "      <th>3</th>\n",
       "      <td>138000</td>\n",
       "      <td>Ortho Evra</td>\n",
       "      <td>Birth Control</td>\n",
       "      <td>\"This is my first time using any form of birth...</td>\n",
       "      <td>8</td>\n",
       "      <td>3-Nov-15</td>\n",
       "      <td>10</td>\n",
       "      <td>0.179545</td>\n",
       "      <td>0.665909</td>\n",
       "      <td>neutral</td>\n",
       "      <td>0.0</td>\n",
       "      <td>&gt;7</td>\n",
       "      <td>0</td>\n",
       "    </tr>\n",
       "    <tr>\n",
       "      <th>4</th>\n",
       "      <td>35696</td>\n",
       "      <td>Buprenorphine / naloxone</td>\n",
       "      <td>Opiate Dependence</td>\n",
       "      <td>\"Suboxone has completely turned my life around...</td>\n",
       "      <td>9</td>\n",
       "      <td>27-Nov-16</td>\n",
       "      <td>37</td>\n",
       "      <td>0.194444</td>\n",
       "      <td>0.401389</td>\n",
       "      <td>neutral</td>\n",
       "      <td>0.0</td>\n",
       "      <td>&gt;7</td>\n",
       "      <td>0</td>\n",
       "    </tr>\n",
       "  </tbody>\n",
       "</table>\n",
       "</div>"
      ],
      "text/plain": [
       "   uniqueID                  drugName                     condition  \\\n",
       "0    206461                 Valsartan  Left Ventricular Dysfunction   \n",
       "1     95260                Guanfacine                          ADHD   \n",
       "2     92703                    Lybrel                 Birth Control   \n",
       "3    138000                Ortho Evra                 Birth Control   \n",
       "4     35696  Buprenorphine / naloxone             Opiate Dependence   \n",
       "\n",
       "                                              review  rating       date  \\\n",
       "0  \"It has no side effect, I take it in combinati...       9  20-May-12   \n",
       "1  \"My son is halfway through his fourth week of ...       8  27-Apr-10   \n",
       "2  \"I used to take another oral contraceptive, wh...       5  14-Dec-09   \n",
       "3  \"This is my first time using any form of birth...       8   3-Nov-15   \n",
       "4  \"Suboxone has completely turned my life around...       9  27-Nov-16   \n",
       "\n",
       "   usefulCount  polarity  subjectivity sentiment  negative_polarity_binary  \\\n",
       "0           27  0.000000      0.000000   neutral                       0.0   \n",
       "1          192  0.168333      0.431349   neutral                       0.0   \n",
       "2           17  0.067210      0.402155   neutral                       0.0   \n",
       "3           10  0.179545      0.665909   neutral                       0.0   \n",
       "4           37  0.194444      0.401389   neutral                       0.0   \n",
       "\n",
       "  rating_groups  low_rating_binary  \n",
       "0            >7                  0  \n",
       "1            >7                  0  \n",
       "2           4-7                  0  \n",
       "3            >7                  0  \n",
       "4            >7                  0  "
      ]
     },
     "execution_count": 1181,
     "metadata": {},
     "output_type": "execute_result"
    }
   ],
   "source": [
    "df['low_rating_binary']=df.rating.replace([1,2,3, 4, 5,6,7,8,9,10],[1,1,1,0,0,0,0,0,0,0])\n",
    "df.head()"
   ]
  },
  {
   "cell_type": "code",
   "execution_count": 1182,
   "metadata": {},
   "outputs": [],
   "source": [
    "df.low_rating_binary=df.low_rating_binary.astype(int)"
   ]
  },
  {
   "cell_type": "code",
   "execution_count": 1183,
   "metadata": {},
   "outputs": [],
   "source": [
    "#Test set\n",
    "df_test['low_rating_binary']=df_test.rating.replace([1,2,3, 4, 5,6,7,8,9,10],[1,1,1,0,0,0,0,0,0,0])\n",
    "df_test.low_rating_binary=df_test.low_rating_binary.astype(int)"
   ]
  },
  {
   "cell_type": "markdown",
   "metadata": {},
   "source": [
    "## Unknown conditions"
   ]
  },
  {
   "cell_type": "markdown",
   "metadata": {},
   "source": [
    "There are some rows that that the condition is missing and it is replaced by the statement that how many users found the review useful. We replace them all by \"unknown\". "
   ]
  },
  {
   "cell_type": "code",
   "execution_count": 1184,
   "metadata": {},
   "outputs": [
    {
     "data": {
      "text/plain": [
       "{'0</span> users found this comment helpful.',\n",
       " '10</span> users found this comment helpful.',\n",
       " '110</span> users found this comment helpful.',\n",
       " '11</span> users found this comment helpful.',\n",
       " '121</span> users found this comment helpful.',\n",
       " '123</span> users found this comment helpful.',\n",
       " '12</span> users found this comment helpful.',\n",
       " '13</span> users found this comment helpful.',\n",
       " '142</span> users found this comment helpful.',\n",
       " '145</span> users found this comment helpful.',\n",
       " '146</span> users found this comment helpful.',\n",
       " '14</span> users found this comment helpful.',\n",
       " '15</span> users found this comment helpful.',\n",
       " '16</span> users found this comment helpful.',\n",
       " '17</span> users found this comment helpful.',\n",
       " '18</span> users found this comment helpful.',\n",
       " '19</span> users found this comment helpful.',\n",
       " '1</span> users found this comment helpful.',\n",
       " '20</span> users found this comment helpful.',\n",
       " '21</span> users found this comment helpful.',\n",
       " '22</span> users found this comment helpful.',\n",
       " '23</span> users found this comment helpful.',\n",
       " '24</span> users found this comment helpful.',\n",
       " '25</span> users found this comment helpful.',\n",
       " '26</span> users found this comment helpful.',\n",
       " '27</span> users found this comment helpful.',\n",
       " '28</span> users found this comment helpful.',\n",
       " '29</span> users found this comment helpful.',\n",
       " '2</span> users found this comment helpful.',\n",
       " '30</span> users found this comment helpful.',\n",
       " '31</span> users found this comment helpful.',\n",
       " '32</span> users found this comment helpful.',\n",
       " '33</span> users found this comment helpful.',\n",
       " '34</span> users found this comment helpful.',\n",
       " '35</span> users found this comment helpful.',\n",
       " '36</span> users found this comment helpful.',\n",
       " '39</span> users found this comment helpful.',\n",
       " '3</span> users found this comment helpful.',\n",
       " '40</span> users found this comment helpful.',\n",
       " '41</span> users found this comment helpful.',\n",
       " '42</span> users found this comment helpful.',\n",
       " '43</span> users found this comment helpful.',\n",
       " '44</span> users found this comment helpful.',\n",
       " '45</span> users found this comment helpful.',\n",
       " '46</span> users found this comment helpful.',\n",
       " '47</span> users found this comment helpful.',\n",
       " '48</span> users found this comment helpful.',\n",
       " '4</span> users found this comment helpful.',\n",
       " '51</span> users found this comment helpful.',\n",
       " '54</span> users found this comment helpful.',\n",
       " '55</span> users found this comment helpful.',\n",
       " '5</span> users found this comment helpful.',\n",
       " '61</span> users found this comment helpful.',\n",
       " '62</span> users found this comment helpful.',\n",
       " '63</span> users found this comment helpful.',\n",
       " '64</span> users found this comment helpful.',\n",
       " '6</span> users found this comment helpful.',\n",
       " '72</span> users found this comment helpful.',\n",
       " '74</span> users found this comment helpful.',\n",
       " '75</span> users found this comment helpful.',\n",
       " '76</span> users found this comment helpful.',\n",
       " '77</span> users found this comment helpful.',\n",
       " '79</span> users found this comment helpful.',\n",
       " '7</span> users found this comment helpful.',\n",
       " '84</span> users found this comment helpful.',\n",
       " '85</span> users found this comment helpful.',\n",
       " '8</span> users found this comment helpful.',\n",
       " '92</span> users found this comment helpful.',\n",
       " '94</span> users found this comment helpful.',\n",
       " '95</span> users found this comment helpful.',\n",
       " '98</span> users found this comment helpful.',\n",
       " '99</span> users found this comment helpful.',\n",
       " '9</span> users found this comment helpful.',\n",
       " 'ADHD',\n",
       " 'AIDS Related Wasting',\n",
       " 'AV Heart Block',\n",
       " 'Abdominal Distension',\n",
       " 'Abnormal Uterine Bleeding',\n",
       " 'Abortion',\n",
       " 'Acetaminophen Overdose',\n",
       " 'Acne',\n",
       " 'Actinic Keratosis',\n",
       " 'Acute Coronary Syndrome',\n",
       " 'Acute Lymphoblastic Leukemia',\n",
       " 'Acute Nonlymphocytic Leukemia',\n",
       " 'Acute Promyelocytic Leukemia',\n",
       " \"Addison's Disease\",\n",
       " 'Adrenocortical Insufficiency',\n",
       " 'Adult Human Growth Hormone Deficiency',\n",
       " 'Aggressive Behavi',\n",
       " 'Agitated State',\n",
       " 'Agitation',\n",
       " 'Alcohol Dependence',\n",
       " 'Alcohol Withdrawal',\n",
       " 'Allergic Reactions',\n",
       " 'Allergic Rhinitis',\n",
       " 'Allergic Urticaria',\n",
       " 'Allergies',\n",
       " 'Alopecia',\n",
       " 'Alpha-1 Proteinase Inhibitor Deficiency',\n",
       " \"Alzheimer's Disease\",\n",
       " 'Amebiasis',\n",
       " 'Amenorrhea',\n",
       " 'Amyotrophic Lateral Sclerosis',\n",
       " 'Anal Fissure and Fistula',\n",
       " 'Anal Itching',\n",
       " 'Anaphylaxis',\n",
       " 'Anaplastic Astrocytoma',\n",
       " 'Anaplastic Oligodendroglioma',\n",
       " 'Androgenetic Alopecia',\n",
       " 'Anemia',\n",
       " 'Anemia Associated with Chronic Renal Failure',\n",
       " 'Anemia, Chemotherapy Induced',\n",
       " 'Anemia, Sickle Cell',\n",
       " 'Anesthesia',\n",
       " 'Anesthetic Adjunct',\n",
       " 'Angina',\n",
       " 'Angina Pectoris Prophylaxis',\n",
       " 'Angioedema',\n",
       " 'Ankylosing Spondylitis',\n",
       " 'Anorexia',\n",
       " 'Anorexia/Feeding Problems',\n",
       " 'Anthrax',\n",
       " 'Anti NMDA Receptor Encephalitis',\n",
       " 'Antiphospholipid Syndrome',\n",
       " 'Anxiety',\n",
       " 'Anxiety and Stress',\n",
       " 'Aphthous Ulce',\n",
       " 'Arrhythmia',\n",
       " 'Ascariasis',\n",
       " 'Asperger Syndrome',\n",
       " 'Aspergillosis, Aspergilloma',\n",
       " 'Aspiration Pneumonia',\n",
       " 'Asthma',\n",
       " 'Asthma, Maintenance',\n",
       " 'Asthma, acute',\n",
       " 'Asystole',\n",
       " 'Atherosclerosis',\n",
       " 'Atopic Dermatitis',\n",
       " 'Atrial Fibrillation',\n",
       " 'Atrial Flutte',\n",
       " 'Atrophic Urethritis',\n",
       " 'Atrophic Vaginitis',\n",
       " 'Auditory Processing Disorde',\n",
       " 'Autism',\n",
       " 'Autoimmune Hemolytic Anemia',\n",
       " 'Autoimmune Hepatitis',\n",
       " 'Avian Influenza',\n",
       " 'B12 Nutritional Deficiency',\n",
       " 'Babesiosis',\n",
       " 'Back Pain',\n",
       " 'Bacterial Endocarditis Prevention',\n",
       " 'Bacterial Infection',\n",
       " 'Bacterial Skin Infection',\n",
       " 'Bacterial Vaginitis',\n",
       " \"Barrett's Esophagus\",\n",
       " 'Bartonellosis',\n",
       " 'Basal Cell Carcinoma',\n",
       " \"Behcet's Disease\",\n",
       " 'Benign Essential Trem',\n",
       " 'Benign Prostatic Hyperplasia',\n",
       " 'Benzodiazepine Withdrawal',\n",
       " 'Biliary Cirrhosis',\n",
       " 'Binge Eating Disorde',\n",
       " 'Bipolar Disorde',\n",
       " 'Birth Control',\n",
       " 'Bladder Infection',\n",
       " 'Bleeding Disorde',\n",
       " 'Blepharitis',\n",
       " 'Body Dysmorphic Disorde',\n",
       " 'Body Imaging',\n",
       " 'Bone infection',\n",
       " 'Borderline Personality Disorde',\n",
       " 'Bowel Preparation',\n",
       " 'Brain Tum',\n",
       " 'Breakthrough Pain',\n",
       " 'Breast Cance',\n",
       " 'Breast Cancer, Adjuvant',\n",
       " 'Breast Cancer, Metastatic',\n",
       " 'Breast Cancer, Palliative',\n",
       " 'Breast Cancer, Prevention',\n",
       " 'Bronchiectasis',\n",
       " 'Bronchitis',\n",
       " 'Bronchospasm Prophylaxis',\n",
       " 'Bulimia',\n",
       " 'Bullous Pemphigoid',\n",
       " 'Burning Mouth Syndrome',\n",
       " 'Burns, External',\n",
       " 'Bursitis',\n",
       " 'CMV Prophylaxis',\n",
       " 'CNS Magnetic Resonance Imaging',\n",
       " 'COPD',\n",
       " 'COPD, Acute',\n",
       " 'COPD, Maintenance',\n",
       " 'Cachexia',\n",
       " 'Campylobacter Gastroenteritis',\n",
       " 'Cance',\n",
       " 'Candida Urinary Tract Infection',\n",
       " 'Candidemia',\n",
       " 'Carcinoid Tum',\n",
       " 'Cardiovascular Risk Reduction',\n",
       " 'Cataplexy',\n",
       " 'Cerebral Edema',\n",
       " 'Cerebral Spasticity',\n",
       " 'Cerebrovascular Insufficiency',\n",
       " 'Cervical Dystonia',\n",
       " 'Chlamydia Infection',\n",
       " 'Cholera',\n",
       " 'Chronic Eosinophilic Leukemia',\n",
       " 'Chronic Fatigue Syndrome',\n",
       " 'Chronic Idiopathic Constipation',\n",
       " 'Chronic Inflammatory Demyelinating Polyradiculoneuropathy',\n",
       " 'Chronic Lymphocytic Leukemia',\n",
       " 'Chronic Myelogenous Leukemia',\n",
       " 'Chronic Myofascial Pain',\n",
       " 'Chronic Pain',\n",
       " 'Chronic Pancreatitis',\n",
       " 'Chronic Spasticity',\n",
       " 'Clostridial Infection',\n",
       " 'Cluster Headaches',\n",
       " 'Cluster-Tic Syndrome',\n",
       " 'Coccidioidomycosis',\n",
       " \"Cogan's Syndrome\",\n",
       " 'Cold Sores',\n",
       " 'Cold Symptoms',\n",
       " 'Colorectal Cance',\n",
       " 'Computed Tomography',\n",
       " 'Condylomata Acuminata',\n",
       " 'Conjunctivitis',\n",
       " 'Conjunctivitis, Allergic',\n",
       " 'Conjunctivitis, Bacterial',\n",
       " 'Constipation',\n",
       " 'Constipation, Acute',\n",
       " 'Constipation, Chronic',\n",
       " 'Constipation, Drug Induced',\n",
       " 'Corneal Ulce',\n",
       " 'Coronary Artery Disease',\n",
       " 'Costochondritis',\n",
       " 'Cough',\n",
       " 'Cough and Nasal Congestion',\n",
       " \"Crohn's Disease\",\n",
       " \"Crohn's Disease, Acute\",\n",
       " \"Crohn's Disease, Maintenance\",\n",
       " 'Croup',\n",
       " 'Cutaneous Candidiasis',\n",
       " 'Cutaneous Larva Migrans',\n",
       " 'Cutaneous T-cell Lymphoma',\n",
       " 'Cyclic Vomiting Syndrome',\n",
       " 'Cyclitis',\n",
       " 'Cyclothymic Disorde',\n",
       " 'Cystic Fibrosis',\n",
       " 'Dandruff',\n",
       " 'Deep Neck Infection',\n",
       " 'Deep Vein Thrombosis',\n",
       " 'Deep Vein Thrombosis Prophylaxis after Hip Replacement Surgery',\n",
       " 'Deep Vein Thrombosis Prophylaxis after Knee Replacement Surgery',\n",
       " 'Deep Vein Thrombosis, First Event',\n",
       " 'Deep Vein Thrombosis, Prophylaxis',\n",
       " 'Deep Vein Thrombosis, Recurrent Event',\n",
       " 'Delayed Puberty, Male',\n",
       " 'Dementia',\n",
       " 'Dental Abscess',\n",
       " 'Depression',\n",
       " \"Dercum's Disease\",\n",
       " 'Dermatitis',\n",
       " 'Dermatitis Herpeti',\n",
       " 'Dermatitis Herpetiformis',\n",
       " 'Dermatologic Lesion',\n",
       " 'Dermatological Disorders',\n",
       " 'Dermatomyositis',\n",
       " 'Dermatophytosis',\n",
       " 'Diabetes Insipidus',\n",
       " 'Diabetes, Type 1',\n",
       " 'Diabetes, Type 2',\n",
       " 'Diabetic Kidney Disease',\n",
       " 'Diabetic Macular Edema',\n",
       " 'Diabetic Peripheral Neuropathy',\n",
       " 'Diagnosis and Investigation',\n",
       " 'Diagnostic Bronchograms',\n",
       " 'Diaper Rash',\n",
       " 'Diarrhea',\n",
       " 'Diarrhea, Acute',\n",
       " 'Diarrhea, Chronic',\n",
       " 'Dientamoeba fragilis',\n",
       " 'Dietary Fiber Supplementation',\n",
       " 'Dietary Supplementation',\n",
       " 'Dissociative Identity Disorde',\n",
       " 'Diverticulitis',\n",
       " 'Dry Eye Disease',\n",
       " 'Dry Skin',\n",
       " 'Dumping Syndrome',\n",
       " 'Duodenal Ulce',\n",
       " 'Duodenal Ulcer Prophylaxis',\n",
       " \"Dupuytren's contracture\",\n",
       " 'Dysautonomia',\n",
       " 'Dyspareunia',\n",
       " 'Dystonia',\n",
       " 'Dysuria',\n",
       " 'Ear Wax Impaction',\n",
       " 'Ectopic Pregnancy',\n",
       " 'Eczema',\n",
       " 'Edema',\n",
       " 'Ehrlichiosis',\n",
       " 'Emergency Contraception',\n",
       " 'Endometrial Cance',\n",
       " 'Endometrial Hyperplasia',\n",
       " 'Endometrial Hyperplasia, Prophylaxis',\n",
       " 'Endometriosis',\n",
       " 'Endoscopy or Radiology Premedication',\n",
       " 'Enterocolitis',\n",
       " 'Eosinophilic Esophagitis',\n",
       " 'Epicondylitis, Tennis Elbow',\n",
       " 'Epididymitis, Sexually Transmitted',\n",
       " 'Epilepsy',\n",
       " 'Erectile Dysfunction',\n",
       " 'Erosive Esophagitis',\n",
       " 'Esophageal Candidiasis',\n",
       " 'Esophageal Spasm',\n",
       " 'Esophageal Variceal Hemorrhage Prophylaxis',\n",
       " 'Euvolemic Hyponatremia',\n",
       " 'Expectoration',\n",
       " 'Extrapyramidal Reaction',\n",
       " 'Eye Redness',\n",
       " 'Eye Redness/Itching',\n",
       " 'Eyelash Hypotrichosis',\n",
       " 'GERD',\n",
       " 'Gallbladder Disease',\n",
       " 'Gas',\n",
       " 'Gastric Cance',\n",
       " 'Gastric Ulcer Maintenance Treatment',\n",
       " 'Gastritis/Duodenitis',\n",
       " 'Gastroenteritis',\n",
       " 'Gastrointestinal Decontamination',\n",
       " 'Gastrointestinal Stromal Tum',\n",
       " 'Gastroparesis',\n",
       " 'Gaucher Disease',\n",
       " 'Gender Dysphoria',\n",
       " 'Generalized Anxiety Disorde',\n",
       " 'Gestational Diabetes',\n",
       " 'Giant Cell Tumor of Bone',\n",
       " 'Giardiasis',\n",
       " 'Gingivitis',\n",
       " 'Glaucoma',\n",
       " 'Glaucoma, Open Angle',\n",
       " 'Glaucoma/Intraocular Hypertension',\n",
       " 'Glioblastoma Multi',\n",
       " 'Glioblastoma Multiforme',\n",
       " 'Gonadotropin Inhibition',\n",
       " 'Gonococcal Infection, Disseminated',\n",
       " 'Gonococcal Infection, Uncomplicated',\n",
       " 'Gout',\n",
       " 'Gout, Acute',\n",
       " 'Gout, Prophylaxis',\n",
       " 'Gouty Arthritis',\n",
       " 'Granuloma Annulare',\n",
       " 'HIV Infection',\n",
       " 'Hairy Cell Leukemia',\n",
       " \"Hashimoto's disease\",\n",
       " 'Head Injury',\n",
       " 'Head Lice',\n",
       " 'Head and Neck Cance',\n",
       " 'Headache',\n",
       " 'Heart Attack',\n",
       " 'Heart Failure',\n",
       " 'Helicobacter Pylori Infection',\n",
       " 'Hemangioma',\n",
       " 'Hemophilia A',\n",
       " 'Hemophilia B',\n",
       " 'Hemorrhoids',\n",
       " 'Hepatic Encephalopathy',\n",
       " 'Hepatic Tum',\n",
       " 'Hepatitis B',\n",
       " 'Hepatitis B Prevention',\n",
       " 'Hepatitis C',\n",
       " 'Hepatocellular Carcinoma',\n",
       " 'Herbal Supplementation',\n",
       " 'Hereditary Angioedema',\n",
       " 'Herpes Simplex',\n",
       " 'Herpes Simplex Dendritic Keratitis',\n",
       " 'Herpes Simplex, Mucocutaneous/Immunocompetent Host',\n",
       " 'Herpes Simplex, Mucocutaneous/Immunocompromised Host',\n",
       " 'Herpes Simplex, Suppression',\n",
       " 'Herpes Zoste',\n",
       " 'Herpes Zoster, Prophylaxis',\n",
       " 'Hiccups',\n",
       " 'Hidradenitis Suppurativa',\n",
       " 'High Blood Pressure',\n",
       " 'High Cholesterol',\n",
       " 'High Cholesterol, Familial Heterozygous',\n",
       " 'High Cholesterol, Familial Homozygous',\n",
       " 'Hirsutism',\n",
       " 'Histoplasmosis',\n",
       " \"Hodgkin's Lymphoma\",\n",
       " 'Hot Flashes',\n",
       " 'Human Papilloma Virus',\n",
       " 'Human Papillomavirus Prophylaxis',\n",
       " 'Hydrocephalus',\n",
       " 'Hyperbilirubinemia',\n",
       " 'Hypercalcemia',\n",
       " 'Hypercalcemia of Malignancy',\n",
       " 'Hyperekplexia',\n",
       " 'Hyperhidrosis',\n",
       " 'Hyperkalemia',\n",
       " 'Hyperlipoproteinemia',\n",
       " 'Hyperlipoproteinemia Type III, Elevated beta-VLDL   IDL',\n",
       " 'Hyperlipoproteinemia Type IIa, Elevated LDL',\n",
       " 'Hyperlipoproteinemia Type IV, Elevated VLDL',\n",
       " 'Hyperparathyroidism Secondary to Renal Impairment',\n",
       " 'Hyperphosphatemia',\n",
       " 'Hyperphosphatemia of Renal Failure',\n",
       " 'Hyperprolactinemia',\n",
       " 'Hypersomnia',\n",
       " 'Hypertensive Emergency',\n",
       " 'Hyperthyroidism',\n",
       " 'Hypertriglyceridemia',\n",
       " 'Hyperuricemia Secondary to Chemotherapy',\n",
       " 'Hypoactive Sexual Desire Disorde',\n",
       " 'Hypocalcemia',\n",
       " 'Hypodermoclysis',\n",
       " 'Hypoestrogenism',\n",
       " 'Hypoglycemia',\n",
       " 'Hypogonadism, Male',\n",
       " 'Hypokalemia',\n",
       " 'Hypokalemic Periodic Paralysis',\n",
       " 'Hypomagnesemia',\n",
       " 'Hypoparathyroidism',\n",
       " 'Hypopituitarism',\n",
       " 'Hypotension',\n",
       " 'Hypothyroidism, After Thyroid Removal',\n",
       " 'ICU Agitation',\n",
       " 'Ichthyosis',\n",
       " 'Idiopathic Thrombocytopenic Purpura',\n",
       " 'Immunosuppression',\n",
       " 'Impetig',\n",
       " 'Indigestion',\n",
       " 'Infection Prophylaxis',\n",
       " 'Infectious Diarrhea',\n",
       " 'Inflammatory Bowel Disease',\n",
       " 'Inflammatory Conditions',\n",
       " 'Influenza',\n",
       " 'Influenza Prophylaxis',\n",
       " 'Insomnia',\n",
       " 'Insomnia, Stimulant-Associated',\n",
       " 'Insulin Resistance Syndrome',\n",
       " 'Intermittent Claudication',\n",
       " 'Intermittent Explosive Disorde',\n",
       " 'Interstitial Cystitis',\n",
       " 'Intraabdominal Infection',\n",
       " 'Intraocular Hypertension',\n",
       " 'Iritis',\n",
       " 'Iron Deficiency Anemia',\n",
       " 'Irritable Bowel Syndrome',\n",
       " 'Ischemic Stroke',\n",
       " 'Ischemic Stroke, Prophylaxis',\n",
       " 'Joint Infection',\n",
       " 'Juvenile Idiopathic Arthritis',\n",
       " 'Juvenile Rheumatoid Arthritis',\n",
       " 'Keratitis',\n",
       " 'Keratoconjunctivitis Sicca',\n",
       " 'Keratosis',\n",
       " 'Kidney Infections',\n",
       " 'Klinefelter Syndrome',\n",
       " 'Labor Induction',\n",
       " 'Labor Pain',\n",
       " 'Lactation Augmentation',\n",
       " 'Lactose Intolerance',\n",
       " 'Left Ventricular Dysfunction',\n",
       " 'Legionella Pneumonia',\n",
       " 'Lennox-Gastaut Syndrome',\n",
       " 'Leukemia',\n",
       " 'Leukocytoclastic Vasculitis',\n",
       " 'Lewy Body Dementia',\n",
       " 'Lichen Planus',\n",
       " 'Lichen Sclerosus',\n",
       " 'Light Anesthesia',\n",
       " 'Light Sedation',\n",
       " 'Linear IgA Disease',\n",
       " 'Lipodystrophy',\n",
       " 'Liver Magnetic Resonance Imaging',\n",
       " 'Local Anesthesia',\n",
       " 'Lyme Disease',\n",
       " 'Lyme Disease, Arthritis',\n",
       " 'Lyme Disease, Neurologic',\n",
       " 'Lymphocytic Colitis',\n",
       " 'Lymphoma',\n",
       " 'Macular Degeneration',\n",
       " 'Macular Edema',\n",
       " 'Major Depressive Disorde',\n",
       " 'Malaria',\n",
       " 'Malaria Prevention',\n",
       " 'Malignant Glioma',\n",
       " 'Mania',\n",
       " 'Manscaping Pain',\n",
       " 'Melanoma',\n",
       " 'Melanoma, Metastatic',\n",
       " 'Melasma',\n",
       " \"Meniere's Disease\",\n",
       " 'Meningitis',\n",
       " 'Meningitis, Meningococcal',\n",
       " 'Meningococcal Meningitis Prophylaxis',\n",
       " 'Menopausal Disorders',\n",
       " 'Menorrhagia',\n",
       " 'Menstrual Disorders',\n",
       " 'Methicillin-Resistant Staphylococcus Aureus Infection',\n",
       " 'Microscopic polyangiitis',\n",
       " 'Migraine',\n",
       " 'Migraine Prevention',\n",
       " 'Mild Cognitive Impairment',\n",
       " 'Mitral Valve Prolapse',\n",
       " 'Mixed Connective Tissue Disease',\n",
       " 'Mononucleosis',\n",
       " 'Motion Sickness',\n",
       " 'Mountain Sickness / Altitude Sickness',\n",
       " 'Mucositis',\n",
       " 'Multiple Endocrine Adenomas',\n",
       " 'Multiple Myeloma',\n",
       " 'Multiple Sclerosis',\n",
       " 'Mumps Prophylaxis',\n",
       " 'Muscle Pain',\n",
       " 'Muscle Spasm',\n",
       " 'Muscle Twitching',\n",
       " 'Myasthenia Gravis',\n",
       " 'Mycobacterium avium-intracellulare, Treatment',\n",
       " 'Mycoplasma Pneumonia',\n",
       " 'Myelodysplastic Syndrome',\n",
       " 'Myelofibrosis',\n",
       " 'Myeloproliferative Disorders',\n",
       " 'Myxedema Coma',\n",
       " 'NSAID-Induced Gastric Ulce',\n",
       " 'NSAID-Induced Ulcer Prophylaxis',\n",
       " 'Narcolepsy',\n",
       " 'Nasal Carriage of Staphylococcus aureus',\n",
       " 'Nasal Congestion',\n",
       " 'Nasal Polyps',\n",
       " 'Nausea/Vomiting',\n",
       " 'Nausea/Vomiting of Pregnancy',\n",
       " 'Nausea/Vomiting, Chemotherapy Induced',\n",
       " 'Nausea/Vomiting, Postoperative',\n",
       " 'Nausea/Vomiting, Radiation Induced',\n",
       " 'Neck Pain',\n",
       " 'Neoplastic Diseases',\n",
       " 'Nephrocalcinosis',\n",
       " 'Nephrotic Syndrome',\n",
       " 'Neuralgia',\n",
       " 'Neuritis',\n",
       " 'Neuropathic Pain',\n",
       " 'Neurosis',\n",
       " 'Neurosurgery',\n",
       " 'Neurotic Depression',\n",
       " 'Neutropenia',\n",
       " 'Neutropenia Associated with Chemotherapy',\n",
       " 'New Daily Persistent Headache',\n",
       " 'Niacin Deficiency',\n",
       " 'Night Terrors',\n",
       " 'Nightmares',\n",
       " 'Nocardiosis',\n",
       " 'Nocturnal Leg Cramps',\n",
       " \"Non-Hodgkin's Lymphoma\",\n",
       " 'Non-Small Cell Lung Cance',\n",
       " 'Nonalcoholic Fatty Liver Disease',\n",
       " 'Noninfectious Colitis',\n",
       " 'Nonoccupational Exposure',\n",
       " 'Not Listed / Othe',\n",
       " 'Obesity',\n",
       " 'Obsessive Compulsive Disorde',\n",
       " 'Obstructive Sleep Apnea/Hypopnea Syndrome',\n",
       " 'Occipital Neuralgia',\n",
       " 'Ocular Rosacea',\n",
       " 'Oligospermia',\n",
       " 'Onychomycosis, Fingernail',\n",
       " 'Onychomycosis, Toenail',\n",
       " 'Oophorectomy',\n",
       " 'Ophthalmic Surgery',\n",
       " 'Opiate Adjunct',\n",
       " 'Opiate Dependence',\n",
       " 'Opiate Withdrawal',\n",
       " 'Opioid Overdose',\n",
       " 'Opioid-Induced Constipation',\n",
       " 'Oppositional Defiant Disorde',\n",
       " 'Oral Thrush',\n",
       " 'Oral and Dental Conditions',\n",
       " 'Organ Transplant, Rejection Prophylaxis',\n",
       " 'Organ Transplant, Rejection Reversal',\n",
       " 'Osteoarthritis',\n",
       " 'Osteolytic Bone Lesions of Multiple Myeloma',\n",
       " 'Osteolytic Bone Metastases of Solid Tumors',\n",
       " 'Osteoporosis',\n",
       " 'Otitis Externa',\n",
       " 'Otitis Media',\n",
       " 'Ovarian Cance',\n",
       " 'Ovarian Cysts',\n",
       " 'Overactive Bladde',\n",
       " 'Ovulation Induction',\n",
       " \"Paget's Disease\",\n",
       " 'Pain',\n",
       " 'Pain/Feve',\n",
       " 'Pancreatic Cance',\n",
       " 'Pancreatic Exocrine Dysfunction',\n",
       " 'Panic Disorde',\n",
       " 'Paragonimus westermani, Lung Fluke',\n",
       " 'Paranoid Disorde',\n",
       " \"Parkinson's Disease\",\n",
       " 'Parkinsonian Trem',\n",
       " 'Parkinsonism',\n",
       " 'Paroxysmal Supraventricular Tachycardia',\n",
       " 'Patent Ductus Arteriosus',\n",
       " 'Pathological Hypersecretory Conditions',\n",
       " 'Pe',\n",
       " 'Pediatric Growth Hormone Deficiency',\n",
       " 'Pelvic Inflammatory Disease',\n",
       " 'Pemphigoid',\n",
       " 'Pemphigus',\n",
       " 'Peptic Ulce',\n",
       " 'Percutaneous Coronary Intervention',\n",
       " 'Performance Anxiety',\n",
       " 'Perimenopausal Symptoms',\n",
       " 'Period Pain',\n",
       " 'Periodic Limb Movement Disorde',\n",
       " 'Periodontitis',\n",
       " 'Perioral Dermatitis',\n",
       " 'Peripheral Arterial Disease',\n",
       " 'Peripheral Neuropathy',\n",
       " 'Peripheral T-cell Lymphoma',\n",
       " 'Peritonitis',\n",
       " 'Persistent Depressive Disorde',\n",
       " 'Pertussis',\n",
       " \"Peyronie's Disease\",\n",
       " 'Pharyngitis',\n",
       " 'Photoaging of the Skin',\n",
       " 'Pinworm Infection (Enterobius vermicularis)',\n",
       " 'Pityriasis rubra pilaris',\n",
       " 'Plaque Psoriasis',\n",
       " 'Platelet Aggregation Inhibition',\n",
       " 'Pneumococcal Disease Prophylaxis',\n",
       " 'Pneumonia',\n",
       " 'Polycystic Ovary Syndrome',\n",
       " 'Polycythemia Vera',\n",
       " 'Porphyria',\n",
       " 'Portal Hypertension',\n",
       " 'Post Traumatic Stress Disorde',\n",
       " 'Post-Cholecystectomy Diarrhea',\n",
       " 'Postherpetic Neuralgia',\n",
       " 'Postmenopausal Symptoms',\n",
       " 'Postoperative Increased Intraocular Pressure',\n",
       " 'Postoperative Ocular Inflammation',\n",
       " 'Postoperative Pain',\n",
       " 'Postpartum Breast Pain',\n",
       " 'Postpartum Depression',\n",
       " 'Postural Orthostatic Tachycardia Syndrome',\n",
       " 'Pre-Exposure Prophylaxis',\n",
       " 'Precocious Puberty',\n",
       " 'Premature Lab',\n",
       " 'Premature Ventricular Depolarizations',\n",
       " 'Premenstrual Dysphoric Disorde',\n",
       " 'Premenstrual Syndrome',\n",
       " 'Prevention of Atherothrombotic Events',\n",
       " 'Prevention of Bladder infection',\n",
       " 'Prevention of Cardiovascular Disease',\n",
       " 'Prevention of Dental Caries',\n",
       " 'Prevention of Hypokalemia',\n",
       " 'Prevention of Osteoporosis',\n",
       " 'Prevention of Perinatal Group B Streptococcal Disease',\n",
       " 'Prevention of Thromboembolism in Atrial Fibrillation',\n",
       " 'Primary Hyperaldosteronism',\n",
       " 'Primary Hyperaldosteronism Diagnosis',\n",
       " 'Primary Immunodeficiency Syndrome',\n",
       " 'Primary Nocturnal Enuresis',\n",
       " 'Primary Ovarian Failure',\n",
       " 'Progesterone Insufficiency',\n",
       " 'Prostate Cance',\n",
       " 'Prostatitis',\n",
       " 'Prosthetic Heart Valves, Mechanical Valves - Thrombosis Prophylaxis',\n",
       " 'Prosthetic Heart Valves, Tissue Valves - Thrombosis Prophylaxis',\n",
       " 'Pruritus',\n",
       " 'Pruritus of Partial Biliary Obstruction',\n",
       " 'Pseudobulbar Affect',\n",
       " 'Pseudogout, Prophylaxis',\n",
       " 'Pseudomembranous Colitis',\n",
       " 'Pseudotumor Cerebri',\n",
       " 'Psoriasis',\n",
       " 'Psoriatic Arthritis',\n",
       " 'Psychosis',\n",
       " 'Pudendal Neuralgia',\n",
       " 'Pulmonary Embolism',\n",
       " 'Pulmonary Embolism, First Event',\n",
       " 'Pulmonary Embolism, Recurrent Event',\n",
       " 'Pulmonary Hypertension',\n",
       " 'Pupillary Dilation',\n",
       " 'Q Feve',\n",
       " 'Rabies Prophylaxis',\n",
       " 'Radionuclide Myocardial Perfusion Study',\n",
       " 'Ramsay Hunt Syndrome',\n",
       " \"Raynaud's Syndrome\",\n",
       " 'Reflex Sympathetic Dystrophy Syndrome',\n",
       " \"Reiter's Syndrome\",\n",
       " 'Rejection Prophylaxis',\n",
       " 'Renal Cell Carcinoma',\n",
       " 'Renal Transplant',\n",
       " 'Restless Legs Syndrome',\n",
       " 'Reversal of Nondepolarizing Muscle Relaxants',\n",
       " 'Reversal of Opioid Sedation',\n",
       " 'Rheumatoid Arthritis',\n",
       " 'Rhinitis',\n",
       " 'Rhinorrhea',\n",
       " 'Rosacea',\n",
       " 'SIADH',\n",
       " 'STD Prophylaxis',\n",
       " 'Salivary Gland Cance',\n",
       " 'Sarcoidosis',\n",
       " 'Scabies',\n",
       " 'Schilling Test',\n",
       " 'Schistosoma japonicum',\n",
       " 'Schizoaffective Disorde',\n",
       " 'Schizophrenia',\n",
       " 'Schnitzler Syndrome',\n",
       " 'Sciatica',\n",
       " 'Scleroderma',\n",
       " 'Seasonal Affective Disorde',\n",
       " 'Seasonal Allergic Conjunctivitis',\n",
       " 'Seborrheic Dermatitis',\n",
       " 'Secondary Cutaneous Bacterial Infections',\n",
       " 'Secondary Hyperparathyroidism',\n",
       " 'Sedation',\n",
       " 'Seizure Prevention',\n",
       " 'Seizures',\n",
       " 'Sepsis',\n",
       " 'Severe Mood Dysregulation',\n",
       " 'Sexual Dysfunction, SSRI Induced',\n",
       " 'Shift Work Sleep Disorde',\n",
       " 'Short Stature',\n",
       " 'Short Stature for Age',\n",
       " 'Sinus Symptoms',\n",
       " 'Sinusitis',\n",
       " \"Sjogren's Syndrome\",\n",
       " 'Skin Cance',\n",
       " 'Skin Disinfection, Preoperative',\n",
       " 'Skin Rash',\n",
       " 'Skin and Structure Infection',\n",
       " 'Skin or Soft Tissue Infection',\n",
       " 'Sleep Paralysis',\n",
       " 'Small Bowel Bacterial Overgrowth',\n",
       " 'Small Bowel or Pancreatic Fistula',\n",
       " 'Small Fiber Neuropathy',\n",
       " 'Smoking Cessation',\n",
       " 'Social Anxiety Disorde',\n",
       " 'Soft Tissue Sarcoma',\n",
       " 'Solid Tumors',\n",
       " 'Somatoform Pain Disorde',\n",
       " 'Sore Throat',\n",
       " 'Spondyloarthritis',\n",
       " 'Spondylolisthesis',\n",
       " 'Sporotrichosis',\n",
       " 'Squamous Cell Carcinoma',\n",
       " 'Status Epilepticus',\n",
       " \"Still's Disease\",\n",
       " 'Stomach Cance',\n",
       " 'Stomach Ulce',\n",
       " 'Strabismus',\n",
       " 'Strep Throat',\n",
       " 'Streptococcal Infection',\n",
       " 'Stress Ulcer Prophylaxis',\n",
       " 'Strongyloidiasis',\n",
       " 'Subarachnoid Hemorrhage',\n",
       " 'Submental Fullness',\n",
       " 'Sunburn',\n",
       " 'Supraventricular Tachycardia',\n",
       " 'Surgical Prophylaxis',\n",
       " 'Swine Flu',\n",
       " 'Syringomyelia',\n",
       " 'Systemic Candidiasis',\n",
       " 'Systemic Lupus Erythematosus',\n",
       " 'Systemic Mastocytosis',\n",
       " 'Systemic Sclerosis',\n",
       " 'TSH Suppression',\n",
       " 'Tardive Dyskinesia',\n",
       " 'Temporomandibular Joint Disorde',\n",
       " 'Tendonitis',\n",
       " 'Testicular Cance',\n",
       " 'Tetanus',\n",
       " 'Thrombocythemia',\n",
       " 'Thrombocytopenia',\n",
       " 'Thromboembolic Stroke Prophylaxis',\n",
       " 'Thyroid Cance',\n",
       " 'Thyroid Suppression Test',\n",
       " 'Thyrotoxicosis',\n",
       " 'Tic Disorde',\n",
       " 'Tinea Barbae',\n",
       " 'Tinea Capitis',\n",
       " 'Tinea Corporis',\n",
       " 'Tinea Cruris',\n",
       " 'Tinea Pedis',\n",
       " 'Tinea Versicol',\n",
       " 'Tinnitus',\n",
       " 'Tonsillitis/Pharyngitis',\n",
       " 'Toothache',\n",
       " 'Topical Disinfection',\n",
       " \"Tourette's Syndrome\",\n",
       " 'Transient Ischemic Attack',\n",
       " 'Transverse Myelitis',\n",
       " \"Traveler's Diarrhea\",\n",
       " 'Trichomoniasis',\n",
       " 'Trichotillomania',\n",
       " 'Trigeminal Neuralgia',\n",
       " 'Tuberculosis, Active',\n",
       " 'Tuberculosis, Latent',\n",
       " 'Tuberculosis, Prophylaxis',\n",
       " \"Turner's Syndrome\",\n",
       " 'Typhoid Feve',\n",
       " 'Ulcerative Colitis',\n",
       " 'Ulcerative Colitis, Active',\n",
       " 'Ulcerative Colitis, Maintenance',\n",
       " 'Ulcerative Proctitis',\n",
       " 'Underactive Thyroid',\n",
       " 'Undifferentiated Connective Tissue Disease',\n",
       " 'Upper Limb Spasticity',\n",
       " 'Upper Respiratory Tract Infection',\n",
       " 'Urinary Incontinence',\n",
       " 'Urinary Retention',\n",
       " 'Urinary Tract Infection',\n",
       " 'Urinary Tract Stones',\n",
       " 'Urticaria',\n",
       " 'Uterine Bleeding',\n",
       " 'Uterine Fibroids',\n",
       " 'Uveitis',\n",
       " 'Vaginal Yeast Infection',\n",
       " 'Varicella-Zoste',\n",
       " 'Varicose Veins',\n",
       " 'Ventricular Arrhythmia',\n",
       " 'Ventricular Fibrillation',\n",
       " 'Ventricular Tachycardia',\n",
       " 'Vertig',\n",
       " 'Vitamin B12 Deficiency',\n",
       " 'Vitamin D Deficiency',\n",
       " 'Vitamin K Deficiency',\n",
       " 'Vitamin/Mineral Supplementation and Deficiency',\n",
       " 'Vitamin/Mineral Supplementation during Pregnancy/Lactation',\n",
       " 'Vulvodynia',\n",
       " 'Warts',\n",
       " \"Wegener's Granulomatosis\",\n",
       " 'Weight Loss',\n",
       " \"Wilson's Disease\",\n",
       " 'Wolff-Parkinson-White Syndrome',\n",
       " 'Women (minoxidil)',\n",
       " 'Women (oxybutynin)',\n",
       " 'Wound Cleansing',\n",
       " 'Xerostomia',\n",
       " 'Zollinger-Ellison Syndrome',\n",
       " 'acial Lipoatrophy',\n",
       " 'acial Wrinkles',\n",
       " 'actor IX Deficiency',\n",
       " 'ailure to Thrive',\n",
       " 'amilial Cold Autoinflammatory Syndrome',\n",
       " 'amilial Mediterranean Feve',\n",
       " 'atigue',\n",
       " 'cal Segmental Glomerulosclerosis',\n",
       " 'emale Infertility',\n",
       " 'eve',\n",
       " 'ge (amlodipine / valsartan)',\n",
       " 'ge HCT (amlodipine / hydrochlorothiazide / valsartan)',\n",
       " 'ibrocystic Breast Disease',\n",
       " 'ibromyalgia',\n",
       " 'lic Acid Deficiency',\n",
       " 'llicular Lymphoma',\n",
       " 'm Pain Disorde',\n",
       " 'mance Anxiety',\n",
       " 'me',\n",
       " 'min / pioglitazone)',\n",
       " 'min / rosiglitazone)',\n",
       " 'min / saxagliptin)',\n",
       " 'min / sitagliptin)',\n",
       " 'min)',\n",
       " 'mis',\n",
       " 'mist (',\n",
       " 'moterol / mometasone)',\n",
       " 'moterol)',\n",
       " 'mulation) (phenylephrine)',\n",
       " 't Care',\n",
       " 't Pac with Cyclobenzaprine (cyclobenzaprine)',\n",
       " 'tic (mycophenolic acid)',\n",
       " 'unctional Gastric Disorde',\n",
       " 'ungal Infection Prophylaxis',\n",
       " 'ungal Pneumonia',\n",
       " \"von Willebrand's Disease\",\n",
       " 'zen Shoulde'}"
      ]
     },
     "execution_count": 1184,
     "metadata": {},
     "output_type": "execute_result"
    }
   ],
   "source": [
    "set(df.condition.sort_values())"
   ]
  },
  {
   "cell_type": "code",
   "execution_count": 1185,
   "metadata": {},
   "outputs": [
    {
     "data": {
      "text/plain": [
       "{'0</span> users found this comment helpful.',\n",
       " '100</span> users found this comment helpful.',\n",
       " '105</span> users found this comment helpful.',\n",
       " '10</span> users found this comment helpful.',\n",
       " '11</span> users found this comment helpful.',\n",
       " '12</span> users found this comment helpful.',\n",
       " '135</span> users found this comment helpful.',\n",
       " '13</span> users found this comment helpful.',\n",
       " '14</span> users found this comment helpful.',\n",
       " '15</span> users found this comment helpful.',\n",
       " '16</span> users found this comment helpful.',\n",
       " '17</span> users found this comment helpful.',\n",
       " '18</span> users found this comment helpful.',\n",
       " '1</span> users found this comment helpful.',\n",
       " '20</span> users found this comment helpful.',\n",
       " '21</span> users found this comment helpful.',\n",
       " '22</span> users found this comment helpful.',\n",
       " '23</span> users found this comment helpful.',\n",
       " '24</span> users found this comment helpful.',\n",
       " '25</span> users found this comment helpful.',\n",
       " '27</span> users found this comment helpful.',\n",
       " '28</span> users found this comment helpful.',\n",
       " '29</span> users found this comment helpful.',\n",
       " '2</span> users found this comment helpful.',\n",
       " '31</span> users found this comment helpful.',\n",
       " '32</span> users found this comment helpful.',\n",
       " '33</span> users found this comment helpful.',\n",
       " '34</span> users found this comment helpful.',\n",
       " '35</span> users found this comment helpful.',\n",
       " '37</span> users found this comment helpful.',\n",
       " '38</span> users found this comment helpful.',\n",
       " '39</span> users found this comment helpful.',\n",
       " '3</span> users found this comment helpful.',\n",
       " '41</span> users found this comment helpful.',\n",
       " '4</span> users found this comment helpful.',\n",
       " '51</span> users found this comment helpful.',\n",
       " '55</span> users found this comment helpful.',\n",
       " '5</span> users found this comment helpful.',\n",
       " '6</span> users found this comment helpful.',\n",
       " '70</span> users found this comment helpful.',\n",
       " '7</span> users found this comment helpful.',\n",
       " '83</span> users found this comment helpful.',\n",
       " '8</span> users found this comment helpful.',\n",
       " '9</span> users found this comment helpful.',\n",
       " 'ADHD',\n",
       " 'AIDS Related Wasting',\n",
       " 'Abnormal Uterine Bleeding',\n",
       " 'Abortion',\n",
       " 'Acetaminophen Overdose',\n",
       " 'Acne',\n",
       " 'Actinic Keratosis',\n",
       " 'Acute Coronary Syndrome',\n",
       " 'Acute Lymphoblastic Leukemia',\n",
       " 'Acute Nonlymphocytic Leukemia',\n",
       " 'Acute Otitis Externa',\n",
       " 'Acute Promyelocytic Leukemia',\n",
       " \"Addison's Disease\",\n",
       " 'Adrenocortical Insufficiency',\n",
       " 'Adult Human Growth Hormone Deficiency',\n",
       " 'Agitated State',\n",
       " 'Agitation',\n",
       " 'Alcohol Dependence',\n",
       " 'Alcohol Withdrawal',\n",
       " 'Allergic Reactions',\n",
       " 'Allergic Rhinitis',\n",
       " 'Allergic Urticaria',\n",
       " 'Allergies',\n",
       " 'Alopecia',\n",
       " 'Alpha-1 Proteinase Inhibitor Deficiency',\n",
       " \"Alzheimer's Disease\",\n",
       " 'Amebiasis',\n",
       " 'Amenorrhea',\n",
       " 'Anal Fissure and Fistula',\n",
       " 'Anal Itching',\n",
       " 'Anaplastic Astrocytoma',\n",
       " 'Androgenetic Alopecia',\n",
       " 'Anemia',\n",
       " 'Anemia Associated with Chronic Renal Failure',\n",
       " 'Anemia, Chemotherapy Induced',\n",
       " 'Anemia, Sickle Cell',\n",
       " 'Anesthesia',\n",
       " 'Angina',\n",
       " 'Angina Pectoris Prophylaxis',\n",
       " 'Ankylosing Spondylitis',\n",
       " 'Anorexia',\n",
       " 'Anthrax',\n",
       " 'Antiphospholipid Syndrome',\n",
       " 'Anxiety',\n",
       " 'Anxiety and Stress',\n",
       " 'Aphthous Ulce',\n",
       " 'Aplastic Anemia',\n",
       " 'Arrhythmia',\n",
       " 'Asperger Syndrome',\n",
       " 'Aspergillosis, Aspergilloma',\n",
       " 'Asthma',\n",
       " 'Asthma, Maintenance',\n",
       " 'Asthma, acute',\n",
       " 'Atopic Dermatitis',\n",
       " 'Atrial Fibrillation',\n",
       " 'Atrial Flutte',\n",
       " 'Atrophic Urethritis',\n",
       " 'Atrophic Vaginitis',\n",
       " 'Auditory Processing Disorde',\n",
       " 'Autism',\n",
       " 'Autoimmune Hemolytic Anemia',\n",
       " 'Autoimmune Hepatitis',\n",
       " 'B12 Nutritional Deficiency',\n",
       " 'Back Pain',\n",
       " 'Bacteremia',\n",
       " 'Bacterial Endocarditis Prevention',\n",
       " 'Bacterial Infection',\n",
       " 'Bacterial Skin Infection',\n",
       " 'Bacterial Vaginitis',\n",
       " \"Barrett's Esophagus\",\n",
       " 'Basal Cell Carcinoma',\n",
       " \"Behcet's Disease\",\n",
       " 'Benign Essential Trem',\n",
       " 'Benign Prostatic Hyperplasia',\n",
       " 'Benzodiazepine Withdrawal',\n",
       " 'Biliary Cirrhosis',\n",
       " 'Binge Eating Disorde',\n",
       " 'Bipolar Disorde',\n",
       " 'Birth Control',\n",
       " 'Bladder Infection',\n",
       " 'Bleeding Disorde',\n",
       " 'Blepharitis',\n",
       " 'Body Dysmorphic Disorde',\n",
       " 'Bone infection',\n",
       " 'Borderline Personality Disorde',\n",
       " 'Bowel Preparation',\n",
       " 'Breakthrough Pain',\n",
       " 'Breast Cance',\n",
       " 'Breast Cancer, Adjuvant',\n",
       " 'Breast Cancer, Metastatic',\n",
       " 'Breast Cancer, Palliative',\n",
       " 'Breast Cancer, Prevention',\n",
       " 'Bronchitis',\n",
       " 'Bronchospasm Prophylaxis',\n",
       " 'Bulimia',\n",
       " 'Bullous Pemphigoid',\n",
       " 'Burning Mouth Syndrome',\n",
       " 'Burns, External',\n",
       " 'Bursitis',\n",
       " 'CMV Prophylaxis',\n",
       " 'COPD',\n",
       " 'COPD, Acute',\n",
       " 'COPD, Maintenance',\n",
       " 'Cachexia',\n",
       " 'Cance',\n",
       " 'Cataplexy',\n",
       " 'Cerebral Edema',\n",
       " 'Cerebral Spasticity',\n",
       " 'Cervical Dystonia',\n",
       " 'Chlamydia Infection',\n",
       " 'Chronic Fatigue Syndrome',\n",
       " 'Chronic Idiopathic Constipation',\n",
       " 'Chronic Inflammatory Demyelinating Polyradiculoneuropathy',\n",
       " 'Chronic Lymphocytic Leukemia',\n",
       " 'Chronic Myelogenous Leukemia',\n",
       " 'Chronic Myofascial Pain',\n",
       " 'Chronic Pain',\n",
       " 'Chronic Pancreatitis',\n",
       " 'Chronic Spasticity',\n",
       " 'Clostridial Infection',\n",
       " 'Cluster Headaches',\n",
       " 'Coccidioidomycosis',\n",
       " 'Cold Sores',\n",
       " 'Cold Symptoms',\n",
       " 'Colorectal Cance',\n",
       " 'Computed Tomography',\n",
       " 'Condylomata Acuminata',\n",
       " 'Conjunctivitis',\n",
       " 'Conjunctivitis, Allergic',\n",
       " 'Conjunctivitis, Bacterial',\n",
       " 'Constipation',\n",
       " 'Constipation, Acute',\n",
       " 'Constipation, Chronic',\n",
       " 'Constipation, Drug Induced',\n",
       " 'Corneal Refractive Surgery',\n",
       " 'Coronary Artery Disease',\n",
       " 'Costochondritis',\n",
       " 'Cough',\n",
       " 'Cough and Nasal Congestion',\n",
       " \"Crohn's Disease\",\n",
       " \"Crohn's Disease, Acute\",\n",
       " \"Crohn's Disease, Maintenance\",\n",
       " 'Cutaneous Candidiasis',\n",
       " 'Cutaneous T-cell Lymphoma',\n",
       " 'Cyclic Vomiting Syndrome',\n",
       " 'Cyclitis',\n",
       " 'Cyclothymic Disorde',\n",
       " 'Cystic Fibrosis',\n",
       " 'Dandruff',\n",
       " 'Deep Neck Infection',\n",
       " 'Deep Vein Thrombosis',\n",
       " 'Deep Vein Thrombosis Prophylaxis after Hip Replacement Surgery',\n",
       " 'Deep Vein Thrombosis, First Event',\n",
       " 'Deep Vein Thrombosis, Prophylaxis',\n",
       " 'Deep Vein Thrombosis, Recurrent Event',\n",
       " 'Dementia',\n",
       " 'Dental Abscess',\n",
       " 'Depression',\n",
       " \"Dercum's Disease\",\n",
       " 'Dermatitis',\n",
       " 'Dermatologic Lesion',\n",
       " 'Dermatological Disorders',\n",
       " 'Dermatomyositis',\n",
       " 'Dermatophytosis',\n",
       " 'Diabetes Insipidus',\n",
       " 'Diabetes, Type 1',\n",
       " 'Diabetes, Type 2',\n",
       " 'Diabetic Kidney Disease',\n",
       " 'Diabetic Macular Edema',\n",
       " 'Diabetic Peripheral Neuropathy',\n",
       " 'Diagnosis and Investigation',\n",
       " 'Diaper Rash',\n",
       " 'Diarrhea',\n",
       " 'Diarrhea, Acute',\n",
       " 'Diarrhea, Chronic',\n",
       " 'Dietary Fiber Supplementation',\n",
       " 'Dietary Supplementation',\n",
       " 'Dissociative Identity Disorde',\n",
       " 'Diverticulitis',\n",
       " 'Dry Eye Disease',\n",
       " 'Dry Skin',\n",
       " 'Dumping Syndrome',\n",
       " 'Duodenal Ulce',\n",
       " \"Dupuytren's contracture\",\n",
       " 'Dysautonomia',\n",
       " 'Dyspareunia',\n",
       " 'Dystonia',\n",
       " 'Dysuria',\n",
       " 'Ear Wax Impaction',\n",
       " 'Eczema',\n",
       " 'Edema',\n",
       " 'Ehrlichiosis',\n",
       " 'Emergency Contraception',\n",
       " 'Endometrial Cance',\n",
       " 'Endometrial Hyperplasia',\n",
       " 'Endometriosis',\n",
       " 'Enterocolitis',\n",
       " 'Eosinophilic Esophagitis',\n",
       " 'Epididymitis, Sexually Transmitted',\n",
       " 'Epilepsy',\n",
       " 'Erectile Dysfunction',\n",
       " 'Erosive Esophagitis',\n",
       " 'Esophageal Variceal Hemorrhage Prophylaxis',\n",
       " 'Expectoration',\n",
       " 'Extrapyramidal Reaction',\n",
       " 'Eye Redness',\n",
       " 'Eye Redness/Itching',\n",
       " 'Eyelash Hypotrichosis',\n",
       " 'GERD',\n",
       " 'Gallbladder Disease',\n",
       " 'Gas',\n",
       " 'Gastric Ulcer Maintenance Treatment',\n",
       " 'Gastritis/Duodenitis',\n",
       " 'Gastroenteritis',\n",
       " 'Gastrointestinal Decontamination',\n",
       " 'Gastrointestinal Hemorrhage',\n",
       " 'Gastrointestinal Stromal Tum',\n",
       " 'Gastroparesis',\n",
       " 'Gender Dysphoria',\n",
       " 'Generalized Anxiety Disorde',\n",
       " 'Giant Cell Tumor of Bone',\n",
       " 'Giardiasis',\n",
       " 'Gingivitis',\n",
       " 'Glaucoma',\n",
       " 'Glaucoma, Open Angle',\n",
       " 'Glioblastoma Multi',\n",
       " 'Glioblastoma Multiforme',\n",
       " 'Gonadotropin Inhibition',\n",
       " 'Gonococcal Infection, Uncomplicated',\n",
       " 'Gout',\n",
       " 'Gout, Acute',\n",
       " 'Gouty Arthritis',\n",
       " 'HIV Infection',\n",
       " \"Hashimoto's disease\",\n",
       " 'Head Injury',\n",
       " 'Head Lice',\n",
       " 'Head and Neck Cance',\n",
       " 'Headache',\n",
       " 'Heart Attack',\n",
       " 'Heart Failure',\n",
       " 'Helicobacter Pylori Infection',\n",
       " 'Hemophilia A',\n",
       " 'Hemophilia B',\n",
       " 'Hemorrhoids',\n",
       " 'Hemorrhoids (pramoxine / zinc oxide)',\n",
       " 'Hepatic Encephalopathy',\n",
       " 'Hepatitis B',\n",
       " 'Hepatitis C',\n",
       " 'Hepatocellular Carcinoma',\n",
       " 'Herbal Supplementation',\n",
       " 'Hereditary Angioedema',\n",
       " 'Herpes Simplex',\n",
       " 'Herpes Simplex Dendritic Keratitis',\n",
       " 'Herpes Simplex, Mucocutaneous/Immunocompetent Host',\n",
       " 'Herpes Simplex, Mucocutaneous/Immunocompromised Host',\n",
       " 'Herpes Simplex, Suppression',\n",
       " 'Herpes Zoste',\n",
       " 'Herpes Zoster, Prophylaxis',\n",
       " 'Hiccups',\n",
       " 'Hidradenitis Suppurativa',\n",
       " 'High Blood Pressure',\n",
       " 'High Cholesterol',\n",
       " 'High Cholesterol, Familial Heterozygous',\n",
       " 'High Cholesterol, Familial Homozygous',\n",
       " 'Hirsutism',\n",
       " 'Histoplasmosis',\n",
       " 'Hot Flashes',\n",
       " 'Human Papilloma Virus',\n",
       " 'Human Papillomavirus Prophylaxis',\n",
       " 'Hypercalcemia of Malignancy',\n",
       " 'Hyperekplexia',\n",
       " 'Hyperhidrosis',\n",
       " 'Hyperkalemia',\n",
       " 'Hyperlipoproteinemia',\n",
       " 'Hyperlipoproteinemia Type IIa, Elevated LDL',\n",
       " 'Hyperphosphatemia',\n",
       " 'Hyperphosphatemia of Renal Failure',\n",
       " 'Hyperprolactinemia',\n",
       " 'Hypersomnia',\n",
       " 'Hypertensive Emergency',\n",
       " 'Hyperthyroidism',\n",
       " 'Hypertriglyceridemia',\n",
       " 'Hypoactive Sexual Desire Disorde',\n",
       " 'Hypocalcemia',\n",
       " 'Hypodermoclysis',\n",
       " 'Hypoestrogenism',\n",
       " 'Hypogonadism, Male',\n",
       " 'Hypokalemic Periodic Paralysis',\n",
       " 'Hypomagnesemia',\n",
       " 'Hypoparathyroidism',\n",
       " 'Hypotension',\n",
       " 'Hypothyroidism, After Thyroid Removal',\n",
       " 'ICU Agitation',\n",
       " 'Ichthyosis',\n",
       " 'Idiopathic Thrombocytopenic Purpura',\n",
       " 'Immunosuppression',\n",
       " 'Impetig',\n",
       " 'Indigestion',\n",
       " 'Infection Prophylaxis',\n",
       " 'Inflammatory Bowel Disease',\n",
       " 'Inflammatory Conditions',\n",
       " 'Influenza',\n",
       " 'Influenza Prophylaxis',\n",
       " 'Insomnia',\n",
       " 'Insomnia, Stimulant-Associated',\n",
       " 'Insulin Resistance Syndrome',\n",
       " 'Intermittent Claudication',\n",
       " 'Interstitial Cystitis',\n",
       " 'Intraabdominal Infection',\n",
       " 'Intraocular Hypertension',\n",
       " 'Iritis',\n",
       " 'Iron Deficiency Anemia',\n",
       " 'Irritable Bowel Syndrome',\n",
       " 'Ischemic Stroke',\n",
       " 'Ischemic Stroke, Prophylaxis',\n",
       " 'Jet Lag',\n",
       " 'Joint Infection',\n",
       " 'Juvenile Idiopathic Arthritis',\n",
       " 'Juvenile Rheumatoid Arthritis',\n",
       " 'Keratitis',\n",
       " 'Keratoconjunctivitis Sicca',\n",
       " 'Keratosis',\n",
       " 'Kidney Infections',\n",
       " 'Labor Induction',\n",
       " 'Labor Pain',\n",
       " 'Lactation Augmentation',\n",
       " 'Lactose Intolerance',\n",
       " 'Left Ventricular Dysfunction',\n",
       " 'Lennox-Gastaut Syndrome',\n",
       " 'Leukemia',\n",
       " 'Lichen Planus',\n",
       " 'Lichen Sclerosus',\n",
       " 'Light Anesthesia',\n",
       " 'Light Sedation',\n",
       " 'Lipodystrophy',\n",
       " 'Liver Magnetic Resonance Imaging',\n",
       " 'Local Anesthesia',\n",
       " 'Lyme Disease',\n",
       " 'Lyme Disease, Erythema Chronicum Migrans',\n",
       " 'Lyme Disease, Neurologic',\n",
       " 'Lymphocytic Colitis',\n",
       " 'Lymphoma',\n",
       " 'Macular Degeneration',\n",
       " 'Macular Edema',\n",
       " 'Major Depressive Disorde',\n",
       " 'Malaria',\n",
       " 'Malaria Prevention',\n",
       " 'Mania',\n",
       " 'Mantle Cell Lymphoma',\n",
       " 'Melanoma',\n",
       " 'Melanoma, Metastatic',\n",
       " 'Melasma',\n",
       " \"Meniere's Disease\",\n",
       " 'Meningococcal Meningitis Prophylaxis',\n",
       " 'Menopausal Disorders',\n",
       " 'Menorrhagia',\n",
       " 'Menstrual Disorders',\n",
       " 'Methicillin-Resistant Staphylococcus Aureus Infection',\n",
       " 'Migraine',\n",
       " 'Migraine Prevention',\n",
       " 'Mild Cognitive Impairment',\n",
       " 'Mitral Valve Prolapse',\n",
       " 'Mixed Connective Tissue Disease',\n",
       " 'Mononucleosis',\n",
       " 'Motion Sickness',\n",
       " 'Mountain Sickness / Altitude Sickness',\n",
       " 'Mucositis',\n",
       " 'Multiple Myeloma',\n",
       " 'Multiple Sclerosis',\n",
       " 'Muscle Pain',\n",
       " 'Muscle Spasm',\n",
       " 'Myasthenia Gravis',\n",
       " 'Mycobacterium avium-intracellulare, Treatment',\n",
       " 'Mycoplasma Pneumonia',\n",
       " 'Myelodysplastic Syndrome',\n",
       " 'Myelofibrosis',\n",
       " 'Myeloproliferative Disorders',\n",
       " 'Myotonia Congenita',\n",
       " 'NSAID-Induced Gastric Ulce',\n",
       " 'Narcolepsy',\n",
       " 'Nasal Carriage of Staphylococcus aureus',\n",
       " 'Nasal Congestion',\n",
       " 'Nasal Polyps',\n",
       " 'Nausea (phosphorated carbohydrate solution)',\n",
       " 'Nausea/Vomiting',\n",
       " 'Nausea/Vomiting of Pregnancy',\n",
       " 'Nausea/Vomiting, Chemotherapy Induced',\n",
       " 'Nausea/Vomiting, Postoperative',\n",
       " 'Neck Pain',\n",
       " 'Nephrotic Syndrome',\n",
       " 'Neuralgia',\n",
       " 'Neuropathic Pain',\n",
       " 'Neutropenia',\n",
       " 'Neutropenia Associated with Chemotherapy',\n",
       " 'New Daily Persistent Headache',\n",
       " 'Night Terrors',\n",
       " 'Nightmares',\n",
       " 'Nocturnal Leg Cramps',\n",
       " \"Non-Hodgkin's Lymphoma\",\n",
       " 'Non-Small Cell Lung Cance',\n",
       " 'Noninfectious Colitis',\n",
       " 'Nonoccupational Exposure',\n",
       " 'Not Listed / Othe',\n",
       " 'Obesity',\n",
       " 'Obsessive Compulsive Disorde',\n",
       " 'Obstructive Sleep Apnea/Hypopnea Syndrome',\n",
       " 'Occipital Neuralgia',\n",
       " 'Occupational Exposure',\n",
       " 'Oligospermia',\n",
       " 'Onychomycosis, Fingernail',\n",
       " 'Onychomycosis, Toenail',\n",
       " 'Oophorectomy',\n",
       " 'Ophthalmic Surgery',\n",
       " 'Opiate Adjunct',\n",
       " 'Opiate Dependence',\n",
       " 'Opiate Withdrawal',\n",
       " 'Opioid Overdose',\n",
       " 'Opioid-Induced Constipation',\n",
       " 'Oppositional Defiant Disorde',\n",
       " 'Oral Thrush',\n",
       " 'Oral and Dental Conditions',\n",
       " 'Organ Transplant, Rejection Prophylaxis',\n",
       " 'Organ Transplant, Rejection Reversal',\n",
       " 'Osteoarthritis',\n",
       " 'Osteolytic Bone Lesions of Multiple Myeloma',\n",
       " 'Osteolytic Bone Metastases of Solid Tumors',\n",
       " 'Osteoporosis',\n",
       " 'Otitis Externa',\n",
       " 'Otitis Media',\n",
       " 'Ovarian Cance',\n",
       " 'Ovarian Cysts',\n",
       " 'Overactive Bladde',\n",
       " 'Ovulation Induction',\n",
       " \"Paget's Disease\",\n",
       " 'Pain',\n",
       " 'Pain/Feve',\n",
       " 'Pancreatic Cance',\n",
       " 'Pancreatic Exocrine Dysfunction',\n",
       " 'Panic Disorde',\n",
       " 'Paranoid Disorde',\n",
       " \"Parkinson's Disease\",\n",
       " 'Parkinsonism',\n",
       " 'Pe',\n",
       " 'Pediatric Growth Hormone Deficiency',\n",
       " 'Pelvic Inflammatory Disease',\n",
       " 'Pemphigoid',\n",
       " 'Pemphigus',\n",
       " 'Peptic Ulce',\n",
       " 'Percutaneous Coronary Intervention',\n",
       " 'Performance Anxiety',\n",
       " 'Perimenopausal Symptoms',\n",
       " 'Period Pain',\n",
       " 'Periodic Limb Movement Disorde',\n",
       " 'Periodontitis',\n",
       " 'Perioral Dermatitis',\n",
       " 'Peripheral Arterial Disease',\n",
       " 'Peripheral Neuropathy',\n",
       " 'Peritonitis',\n",
       " 'Persistent Depressive Disorde',\n",
       " 'Pertussis',\n",
       " 'Pertussis Prophylaxis',\n",
       " 'Pharyngitis',\n",
       " 'Photoaging of the Skin',\n",
       " 'Pinworm Infection (Enterobius vermicularis)',\n",
       " 'Pityriasis rubra pilaris',\n",
       " 'Plaque Psoriasis',\n",
       " 'Platelet Aggregation Inhibition',\n",
       " 'Pneumococcal Disease Prophylaxis',\n",
       " 'Pneumonia',\n",
       " 'Polycystic Ovary Syndrome',\n",
       " 'Polycythemia Vera',\n",
       " 'Polymyositis/Dermatomyositis',\n",
       " 'Post Traumatic Stress Disorde',\n",
       " 'Post-Cholecystectomy Diarrhea',\n",
       " 'Postherpetic Neuralgia',\n",
       " 'Postmenopausal Symptoms',\n",
       " 'Postoperative Increased Intraocular Pressure',\n",
       " 'Postoperative Ocular Inflammation',\n",
       " 'Postoperative Pain',\n",
       " 'Postpartum Depression',\n",
       " 'Postural Orthostatic Tachycardia Syndrome',\n",
       " 'Pre-Exposure Prophylaxis',\n",
       " 'Precocious Puberty',\n",
       " 'Premature Ejaculation',\n",
       " 'Premature Lab',\n",
       " 'Premature Ventricular Depolarizations',\n",
       " 'Premenstrual Dysphoric Disorde',\n",
       " 'Premenstrual Syndrome',\n",
       " 'Prevention of Bladder infection',\n",
       " 'Prevention of Cardiovascular Disease',\n",
       " 'Prevention of Dental Caries',\n",
       " 'Prevention of Hypokalemia',\n",
       " 'Prevention of Osteoporosis',\n",
       " 'Prevention of Thromboembolism in Atrial Fibrillation',\n",
       " 'Primary Hyperaldosteronism',\n",
       " 'Primary Immunodeficiency Syndrome',\n",
       " 'Primary Nocturnal Enuresis',\n",
       " 'Primary Ovarian Failure',\n",
       " 'Progesterone Insufficiency',\n",
       " 'Prostate Cance',\n",
       " 'Prostatitis',\n",
       " 'Pruritus',\n",
       " 'Pseudobulbar Affect',\n",
       " 'Pseudotumor Cerebri',\n",
       " 'Psoriasis',\n",
       " 'Psoriatic Arthritis',\n",
       " 'Psychosis',\n",
       " 'Pudendal Neuralgia',\n",
       " 'Pulmonary Edema',\n",
       " 'Pulmonary Embolism',\n",
       " 'Pulmonary Embolism, First Event',\n",
       " 'Pulmonary Hypertension',\n",
       " 'Pupillary Dilation',\n",
       " 'Radionuclide Myocardial Perfusion Study',\n",
       " 'Rat-bite Feve',\n",
       " \"Raynaud's Syndrome\",\n",
       " 'Reflex Sympathetic Dystrophy Syndrome',\n",
       " 'Renal Cell Carcinoma',\n",
       " 'Renal Tubular Acidosis',\n",
       " 'Restless Legs Syndrome',\n",
       " 'Reversal of Nondepolarizing Muscle Relaxants',\n",
       " 'Reversal of Opioid Sedation',\n",
       " 'Rheumatoid Arthritis',\n",
       " 'Rhinitis',\n",
       " 'Rhinorrhea',\n",
       " 'Rosacea',\n",
       " 'Salmonella Gastroenteritis',\n",
       " 'Sarcoidosis',\n",
       " 'Scabies',\n",
       " 'Schilling Test',\n",
       " 'Schizoaffective Disorde',\n",
       " 'Schizophrenia',\n",
       " 'Schnitzler Syndrome',\n",
       " 'Sciatica',\n",
       " 'Seasonal Affective Disorde',\n",
       " 'Seasonal Allergic Conjunctivitis',\n",
       " 'Seborrheic Dermatitis',\n",
       " 'Secondary Hyperparathyroidism',\n",
       " 'Sedation',\n",
       " 'Seizure Prevention',\n",
       " 'Seizures',\n",
       " 'Sexual Dysfunction, SSRI Induced',\n",
       " 'Shift Work Sleep Disorde',\n",
       " 'Sinus Symptoms',\n",
       " 'Sinusitis',\n",
       " \"Sjogren's Syndrome\",\n",
       " 'Skin Cance',\n",
       " 'Skin Disinfection, Preoperative',\n",
       " 'Skin Rash',\n",
       " 'Skin and Structure Infection',\n",
       " 'Skin or Soft Tissue Infection',\n",
       " 'Small Bowel or Pancreatic Fistula',\n",
       " 'Smoking Cessation',\n",
       " 'Social Anxiety Disorde',\n",
       " 'Soft Tissue Sarcoma',\n",
       " 'Somat',\n",
       " 'Sore Throat',\n",
       " 'Spondyloarthritis',\n",
       " 'Spondylolisthesis',\n",
       " 'Squamous Cell Carcinoma',\n",
       " 'Status Epilepticus',\n",
       " 'Steroid Responsive Inflammatory Conditions',\n",
       " \"Still's Disease\",\n",
       " 'Stomach Cance',\n",
       " 'Stomach Ulce',\n",
       " 'Strabismus',\n",
       " 'Strep Throat',\n",
       " 'Streptococcal Infection',\n",
       " 'Stress Ulcer Prophylaxis',\n",
       " 'Strongyloidiasis',\n",
       " 'Subarachnoid Hemorrhage',\n",
       " 'Submental Fullness',\n",
       " 'Sunburn',\n",
       " 'Supraventricular Tachycardia',\n",
       " 'Surgical Prophylaxis',\n",
       " 'Swine Flu',\n",
       " 'Syringomyelia',\n",
       " 'Systemic Lupus Erythematosus',\n",
       " 'Systemic Mastocytosis',\n",
       " 'Systemic Sclerosis',\n",
       " 'TSH Suppression',\n",
       " 'Temporomandibular Joint Disorde',\n",
       " 'Tendonitis',\n",
       " 'Thrombocythemia',\n",
       " 'Thromboembolic Stroke Prophylaxis',\n",
       " 'Thyroid Cance',\n",
       " 'Thyrotoxicosis',\n",
       " 'Tinea Corporis',\n",
       " 'Tinea Cruris',\n",
       " 'Tinea Pedis',\n",
       " 'Tinea Versicol',\n",
       " 'Tinnitus',\n",
       " 'Tonsillitis/Pharyngitis',\n",
       " 'Topical Disinfection',\n",
       " \"Tourette's Syndrome\",\n",
       " 'Transient Ischemic Attack',\n",
       " \"Traveler's Diarrhea\",\n",
       " 'Trichomoniasis',\n",
       " 'Trichotillomania',\n",
       " 'Trigeminal Neuralgia',\n",
       " 'Tuberculosis, Latent',\n",
       " 'Tympanostomy Tube Placement Surgery',\n",
       " 'Ulcerative Colitis',\n",
       " 'Ulcerative Colitis, Active',\n",
       " 'Ulcerative Colitis, Maintenance',\n",
       " 'Ulcerative Proctitis',\n",
       " 'Underactive Thyroid',\n",
       " 'Undifferentiated Connective Tissue Disease',\n",
       " 'Upper Limb Spasticity',\n",
       " 'Upper Respiratory Tract Infection',\n",
       " 'Urinary Incontinence',\n",
       " 'Urinary Retention',\n",
       " 'Urinary Tract Infection',\n",
       " 'Urinary Tract Stones',\n",
       " 'Urticaria',\n",
       " 'Uterine Bleeding',\n",
       " 'Uterine Fibroids',\n",
       " 'Uveitis',\n",
       " 'Uveitis, Posteri',\n",
       " 'Vaginal Yeast Infection',\n",
       " 'Varicella-Zoste',\n",
       " 'Ventricular Arrhythmia',\n",
       " 'Ventricular Fibrillation',\n",
       " 'Ventricular Tachycardia',\n",
       " 'Vertig',\n",
       " 'Vitamin B12 Deficiency',\n",
       " 'Vitamin D Deficiency',\n",
       " 'Vitamin/Mineral Supplementation and Deficiency',\n",
       " 'Vitamin/Mineral Supplementation during Pregnancy/Lactation',\n",
       " 'Vulvodynia',\n",
       " 'Warts',\n",
       " \"Wegener's Granulomatosis\",\n",
       " 'Weight Loss',\n",
       " 'Wolff-Parkinson-White Syndrome',\n",
       " 'Women (oxybutynin)',\n",
       " 'Xerostomia',\n",
       " 'Yellow Fever Prophylaxis',\n",
       " 'Zollinger-Ellison Syndrome',\n",
       " 'acial Lipoatrophy',\n",
       " 'acial Wrinkles',\n",
       " 'actor IX Deficiency',\n",
       " 'amilial Cold Autoinflammatory Syndrome',\n",
       " 'atigue',\n",
       " 'cal Segmental Glomerulosclerosis',\n",
       " 'emale Infertility',\n",
       " 'eve',\n",
       " 'ge (amlodipine / valsartan)',\n",
       " 'ibrocystic Breast Disease',\n",
       " 'ibromyalgia',\n",
       " 'lic Acid Deficiency',\n",
       " 'llicle Stimulation',\n",
       " 'm Pain Disorde',\n",
       " 'mance Anxiety',\n",
       " 'me',\n",
       " 'min / saxagliptin)',\n",
       " 'min / sitagliptin)',\n",
       " 'min)',\n",
       " 'mist (',\n",
       " 'moterol / mometasone)',\n",
       " 'moterol)',\n",
       " 'mulation) (phenylephrine)',\n",
       " 'tic (mycophenolic acid)',\n",
       " \"von Willebrand's Disease\",\n",
       " 'zen Shoulde'}"
      ]
     },
     "execution_count": 1185,
     "metadata": {},
     "output_type": "execute_result"
    }
   ],
   "source": [
    "set(df_test.condition.sort_values())"
   ]
  },
  {
   "cell_type": "code",
   "execution_count": 1186,
   "metadata": {},
   "outputs": [],
   "source": [
    "df.replace(regex='\\d*</span> users found this comment helpful.', value='unknown', inplace=True)"
   ]
  },
  {
   "cell_type": "code",
   "execution_count": 1187,
   "metadata": {},
   "outputs": [],
   "source": [
    "df_test.replace(regex='\\d*</span> users found this comment helpful.', value='unknown', inplace=True)"
   ]
  },
  {
   "cell_type": "markdown",
   "metadata": {},
   "source": [
    "## Drugs with more than 100 reviews"
   ]
  },
  {
   "cell_type": "code",
   "execution_count": 1188,
   "metadata": {},
   "outputs": [],
   "source": [
    "drug_100plus_review=set()\n",
    "for x in df.drugName.values:\n",
    "    if x not in drug_100plus_review:\n",
    "        if len(df[df.drugName==x])>=100:\n",
    "            drug_100plus_review.add(x)"
   ]
  },
  {
   "cell_type": "code",
   "execution_count": 1189,
   "metadata": {},
   "outputs": [
    {
     "data": {
      "text/plain": [
       "340"
      ]
     },
     "execution_count": 1189,
     "metadata": {},
     "output_type": "execute_result"
    }
   ],
   "source": [
    "len(drug_100plus_review)"
   ]
  },
  {
   "cell_type": "code",
   "execution_count": 1190,
   "metadata": {},
   "outputs": [],
   "source": [
    "df_drug=df[df.drugName.isin(drug_100plus_review)]"
   ]
  },
  {
   "cell_type": "code",
   "execution_count": 1191,
   "metadata": {},
   "outputs": [
    {
     "data": {
      "text/plain": [
       "Levonorgestrel                       3631\n",
       "Etonogestrel                         3321\n",
       "Ethinyl estradiol / norethindrone    2750\n",
       "Nexplanon                            2156\n",
       "Ethinyl estradiol / norgestimate     2033\n",
       "                                     ... \n",
       "Movantik                              102\n",
       "Avelox                                102\n",
       "Levomilnacipran                       101\n",
       "Dexmethylphenidate                    101\n",
       "Naloxegol                             100\n",
       "Name: drugName, Length: 340, dtype: int64"
      ]
     },
     "execution_count": 1191,
     "metadata": {},
     "output_type": "execute_result"
    }
   ],
   "source": [
    "df[df.drugName.isin(drug_100plus_review)].drugName.value_counts()"
   ]
  },
  {
   "cell_type": "code",
   "execution_count": 1192,
   "metadata": {},
   "outputs": [],
   "source": [
    "# sns_plot=sns.countplot(x=\"drugName\", data=df_drug)\n",
    "# plt.tight_layout()\n",
    "# plt.show()\n",
    "# fig = sns_plot.get_figure()\n",
    "# #fig.savefig('/Users/atousachaharsoughshirazi/drug_review/figures/rating_countplot.png') "
   ]
  },
  {
   "cell_type": "markdown",
   "metadata": {},
   "source": [
    "## Conditions with more than 100 reviews"
   ]
  },
  {
   "cell_type": "code",
   "execution_count": 1193,
   "metadata": {},
   "outputs": [],
   "source": [
    "condition_100plus_review=set()\n",
    "for x in df.condition.values:\n",
    "    if x not in condition_100plus_review:\n",
    "        if len(df[df.condition==x])>=100:\n",
    "            condition_100plus_review.add(x)"
   ]
  },
  {
   "cell_type": "code",
   "execution_count": 1194,
   "metadata": {},
   "outputs": [
    {
     "data": {
      "text/plain": [
       "150"
      ]
     },
     "execution_count": 1194,
     "metadata": {},
     "output_type": "execute_result"
    }
   ],
   "source": [
    "len(condition_100plus_review)"
   ]
  },
  {
   "cell_type": "code",
   "execution_count": 1195,
   "metadata": {},
   "outputs": [],
   "source": [
    "df_condition=df[df.condition.isin(condition_100plus_review)]"
   ]
  },
  {
   "cell_type": "code",
   "execution_count": 1196,
   "metadata": {},
   "outputs": [
    {
     "data": {
      "text/plain": [
       "Birth Control                28788\n",
       "Depression                    9069\n",
       "Pain                          6145\n",
       "Anxiety                       5904\n",
       "Acne                          5588\n",
       "                             ...  \n",
       "Breast Cancer, Metastatic      102\n",
       "Human Papilloma Virus          102\n",
       "Dietary Supplementation        102\n",
       "Vertig                         101\n",
       "Urinary Tract Stones           101\n",
       "Name: condition, Length: 150, dtype: int64"
      ]
     },
     "execution_count": 1196,
     "metadata": {},
     "output_type": "execute_result"
    }
   ],
   "source": [
    "df[df.condition.isin(condition_100plus_review)].condition.value_counts()"
   ]
  },
  {
   "cell_type": "code",
   "execution_count": 1197,
   "metadata": {},
   "outputs": [
    {
     "data": {
      "text/plain": [
       "116317"
      ]
     },
     "execution_count": 1197,
     "metadata": {},
     "output_type": "execute_result"
    }
   ],
   "source": [
    "df_final=df_condition[df_condition.drugName.isin(drug_100plus_review)]\n",
    "len(df_final)"
   ]
  },
  {
   "cell_type": "markdown",
   "metadata": {},
   "source": [
    "# EDA"
   ]
  },
  {
   "cell_type": "markdown",
   "metadata": {},
   "source": [
    "## Which patients tend to have more negative reviews?"
   ]
  },
  {
   "cell_type": "markdown",
   "metadata": {},
   "source": [
    "### Conditions with more negative reviews"
   ]
  },
  {
   "cell_type": "markdown",
   "metadata": {},
   "source": [
    "#### Top patient conditions"
   ]
  },
  {
   "cell_type": "markdown",
   "metadata": {},
   "source": [
    "These are the top patient conditions that had negative reviews. "
   ]
  },
  {
   "cell_type": "code",
   "execution_count": 1198,
   "metadata": {},
   "outputs": [
    {
     "data": {
      "text/plain": [
       "array(['Cold Sores', 'Kidney Infections', 'Herpes Simplex',\n",
       "       'Vaginal Yeast Infection', 'Bacterial Infection',\n",
       "       'Bacterial Skin Infection', 'Bacterial Vaginitis',\n",
       "       'Upper Respiratory Tract Infection',\n",
       "       'Nausea/Vomiting of Pregnancy', 'Diverticulitis'], dtype='<U33')"
      ]
     },
     "execution_count": 1198,
     "metadata": {},
     "output_type": "execute_result"
    }
   ],
   "source": [
    "list1=df_condition[['condition', 'negative_polarity_binary']].groupby('condition').mean().sort_values(by='negative_polarity_binary', ascending=False)[:10].index.values\n",
    "list1.astype(str)"
   ]
  },
  {
   "cell_type": "code",
   "execution_count": 1199,
   "metadata": {},
   "outputs": [],
   "source": [
    "df_new=df[df['condition'].isin(list1)]"
   ]
  },
  {
   "cell_type": "code",
   "execution_count": 1200,
   "metadata": {},
   "outputs": [
    {
     "data": {
      "image/png": "[encoded data removed]",
      "text/plain": [
       "<Figure size 576x360 with 1 Axes>"
      ]
     },
     "metadata": {},
     "output_type": "display_data"
    }
   ],
   "source": [
    "sns.set(rc={'axes.grid':False, \n",
    "            'axes.labelsize':13,\n",
    "            'figure.figsize':(8, 5),\n",
    "            'xtick.labelsize':13,\n",
    "            'ytick.labelsize':13})\n",
    "sns_plot=sns.barplot(x='condition', y='negative_polarity_binary',palette='tab10', data=df_new, dodge=False, order=list1)\n",
    "sns_plot.set_xticklabels(sns_plot.get_xticklabels(), rotation=40, ha=\"right\")\n",
    "sns_plot.set(ylabel='percentage of negative reviews')\n",
    "plt.tight_layout()\n",
    "plt.show()\n",
    "fig = sns_plot.get_figure()\n",
    "fig.savefig('/Users/atousachaharsoughshirazi/drug_review/figures/percentageofnegativereviewsbycondition.png') "
   ]
  },
  {
   "cell_type": "markdown",
   "metadata": {},
   "source": [
    "#### Low patient conditions"
   ]
  },
  {
   "cell_type": "markdown",
   "metadata": {},
   "source": [
    "These are the low patient conditions that had negative reviews. "
   ]
  },
  {
   "cell_type": "code",
   "execution_count": 1201,
   "metadata": {},
   "outputs": [
    {
     "data": {
      "image/png": "[encoded data removed]",
      "text/plain": [
       "<Figure size 576x360 with 1 Axes>"
      ]
     },
     "metadata": {},
     "output_type": "display_data"
    }
   ],
   "source": [
    "list1_bot=df_condition[['condition', 'negative_polarity_binary']].groupby('condition').mean().sort_values(by='negative_polarity_binary', ascending=True)[:10].index.values\n",
    "\n",
    "list1_bot.astype(str)\n",
    "df_new_bot=df[df['condition'].isin(list1_bot)]\n",
    "sns.set(rc={'axes.grid':False, \n",
    "            'axes.labelsize':13,\n",
    "            'figure.figsize':(8, 5),\n",
    "            'xtick.labelsize':13,\n",
    "            'ytick.labelsize':13})\n",
    "sns_plot=sns.barplot(x='condition', y='negative_polarity_binary',palette='tab10', data=df_new_bot, dodge=False, order=list1_bot)\n",
    "sns_plot.set_xticklabels(sns_plot.get_xticklabels(), rotation=40, ha=\"right\")\n",
    "sns_plot.set(ylabel='percentage of negative reviews')\n",
    "plt.tight_layout()\n",
    "plt.show()\n",
    "fig = sns_plot.get_figure()\n",
    "fig.savefig('/Users/atousachaharsoughshirazi/drug_review/figures/bottom_percentageofnegativereviewsbycondition.png') "
   ]
  },
  {
   "cell_type": "markdown",
   "metadata": {},
   "source": [
    "### Drugs with more negative reviews"
   ]
  },
  {
   "cell_type": "markdown",
   "metadata": {},
   "source": [
    "#### Top drugs "
   ]
  },
  {
   "cell_type": "code",
   "execution_count": 1202,
   "metadata": {},
   "outputs": [
    {
     "data": {
      "text/plain": [
       "array(['Docosanol', 'Abreva', 'Dextromethorphan', 'Valacyclovir',\n",
       "       'Clarithromycin', 'Movantik', 'Miconazole', 'Dulcolax',\n",
       "       'Metronidazole', 'Bisacodyl'], dtype='<U16')"
      ]
     },
     "execution_count": 1202,
     "metadata": {},
     "output_type": "execute_result"
    }
   ],
   "source": [
    "list2=df_drug[['drugName', 'negative_polarity_binary']].groupby('drugName').mean().sort_values(by='negative_polarity_binary', ascending=False)[:10].index.values\n",
    "list2.astype(str)"
   ]
  },
  {
   "cell_type": "code",
   "execution_count": 1203,
   "metadata": {},
   "outputs": [],
   "source": [
    "df_new_drug=df[df['drugName'].isin(list2)]"
   ]
  },
  {
   "cell_type": "code",
   "execution_count": 1204,
   "metadata": {},
   "outputs": [
    {
     "data": {
      "image/png": "[encoded data removed]",
      "text/plain": [
       "<Figure size 576x360 with 1 Axes>"
      ]
     },
     "metadata": {},
     "output_type": "display_data"
    }
   ],
   "source": [
    "sns.set(rc={'axes.grid':False, \n",
    "            'axes.labelsize':13,\n",
    "            'figure.figsize':(8, 5),\n",
    "            'xtick.labelsize':13,\n",
    "            'ytick.labelsize':13})\n",
    "sns_plot=sns.barplot(x='drugName', y='negative_polarity_binary',palette='tab10', data=df_new_drug, dodge=False, order=list2)\n",
    "sns_plot.set_xticklabels(sns_plot.get_xticklabels(), rotation=40, ha=\"right\")\n",
    "sns_plot.set(ylabel='percentage of negative reviews')\n",
    "plt.tight_layout()\n",
    "plt.show()\n",
    "fig = sns_plot.get_figure()\n",
    "fig.savefig('/Users/atousachaharsoughshirazi/drug_review/figures/percentageofnegativereviewsbydrugname.png') "
   ]
  },
  {
   "cell_type": "markdown",
   "metadata": {},
   "source": [
    "#### Low drugs"
   ]
  },
  {
   "cell_type": "code",
   "execution_count": 1205,
   "metadata": {},
   "outputs": [
    {
     "data": {
      "text/plain": [
       "array(['Cialis', 'Viagra', 'Sildenafil', 'Tadalafil', 'Testosterone',\n",
       "       'Adipex-P', 'Phentermine', 'Lisdexamfetamine', 'Provigil',\n",
       "       'Vyvanse'], dtype='<U16')"
      ]
     },
     "execution_count": 1205,
     "metadata": {},
     "output_type": "execute_result"
    }
   ],
   "source": [
    "list2_bot=df_drug[['drugName', 'negative_polarity_binary']].groupby('drugName').mean().sort_values(by='negative_polarity_binary', ascending=True)[:10].index.values\n",
    "list2_bot.astype(str)"
   ]
  },
  {
   "cell_type": "code",
   "execution_count": 1206,
   "metadata": {},
   "outputs": [],
   "source": [
    "df_new_drug_bot=df[df['drugName'].isin(list2_bot)]"
   ]
  },
  {
   "cell_type": "code",
   "execution_count": 1207,
   "metadata": {},
   "outputs": [
    {
     "data": {
      "image/png": "[encoded data removed]",
      "text/plain": [
       "<Figure size 576x360 with 1 Axes>"
      ]
     },
     "metadata": {},
     "output_type": "display_data"
    }
   ],
   "source": [
    "sns.set(rc={'axes.grid':False, \n",
    "            'axes.labelsize':13,\n",
    "            'figure.figsize':(8, 5),\n",
    "            'xtick.labelsize':13,\n",
    "            'ytick.labelsize':13})\n",
    "sns_plot=sns.barplot(x='drugName', y='negative_polarity_binary',palette='tab10', data=df_new_drug_bot, dodge=False, order=list2_bot)\n",
    "sns_plot.set_xticklabels(sns_plot.get_xticklabels(), rotation=40, ha=\"right\")\n",
    "sns_plot.set(ylabel='percentage of negative reviews')\n",
    "plt.tight_layout()\n",
    "plt.show()\n",
    "fig = sns_plot.get_figure()\n",
    "fig.savefig('/Users/atousachaharsoughshirazi/drug_review/figures/bottom_percentageofnegativereviewsbydrugname.png') "
   ]
  },
  {
   "cell_type": "markdown",
   "metadata": {},
   "source": [
    "## Which patients tend to have more low ratings?"
   ]
  },
  {
   "cell_type": "markdown",
   "metadata": {},
   "source": [
    "### Conditions with low ratings"
   ]
  },
  {
   "cell_type": "markdown",
   "metadata": {},
   "source": [
    "#### Top patient conditions"
   ]
  },
  {
   "cell_type": "code",
   "execution_count": 1208,
   "metadata": {},
   "outputs": [
    {
     "data": {
      "text/plain": [
       "array(['Vaginal Yeast Infection', 'Abnormal Uterine Bleeding',\n",
       "       'Osteoporosis', 'Constipation, Drug Induced', 'Asthma, acute',\n",
       "       'Bladder Infection', 'Dry Eye Disease', 'Urinary Tract Infection',\n",
       "       'Atrophic Vaginitis', 'Allergies'], dtype='<U26')"
      ]
     },
     "execution_count": 1208,
     "metadata": {},
     "output_type": "execute_result"
    }
   ],
   "source": [
    "list3=df_condition[['condition', 'low_rating_binary']].groupby('condition').mean().sort_values( by='low_rating_binary', ascending=False)[:10].index.values\n",
    "list3.astype(str)"
   ]
  },
  {
   "cell_type": "code",
   "execution_count": 1209,
   "metadata": {},
   "outputs": [],
   "source": [
    "df_new_con=df[df['condition'].isin(list3)]"
   ]
  },
  {
   "cell_type": "code",
   "execution_count": 1210,
   "metadata": {},
   "outputs": [
    {
     "data": {
      "image/png": "[encoded data removed]",
      "text/plain": [
       "<Figure size 576x360 with 1 Axes>"
      ]
     },
     "metadata": {},
     "output_type": "display_data"
    }
   ],
   "source": [
    "sns.set(rc={'axes.grid':False, \n",
    "            'axes.labelsize':13,\n",
    "            'figure.figsize':(8, 5),\n",
    "            'xtick.labelsize':13,\n",
    "            'ytick.labelsize':13})\n",
    "sns_plot=sns.barplot(x='condition', y='low_rating_binary',palette='tab10', data=df_new_con, dodge=False, order=list3)\n",
    "sns_plot.set_xticklabels(sns_plot.get_xticklabels(), rotation=40, ha=\"right\")\n",
    "sns_plot.set(ylabel='percentage of low ratings')\n",
    "plt.tight_layout()\n",
    "plt.show()\n",
    "fig = sns_plot.get_figure()\n",
    "fig.savefig('/Users/atousachaharsoughshirazi/drug_review/figures/percentageoflowratingsbycondition.png') "
   ]
  },
  {
   "cell_type": "markdown",
   "metadata": {},
   "source": [
    "#### Low patient conditions"
   ]
  },
  {
   "cell_type": "code",
   "execution_count": 1211,
   "metadata": {},
   "outputs": [
    {
     "data": {
      "text/plain": [
       "array(['mance Anxiety', 'Alcohol Withdrawal', 'Opiate Withdrawal',\n",
       "       'Alcohol Dependence', 'Cold Sores', 'Hyperhidrosis',\n",
       "       'Cluster Headaches', 'Eczema', 'Smoking Cessation',\n",
       "       'HIV Infection'], dtype='<U18')"
      ]
     },
     "execution_count": 1211,
     "metadata": {},
     "output_type": "execute_result"
    }
   ],
   "source": [
    "list3_bot=df_condition[['condition', 'low_rating_binary']].groupby('condition').mean().sort_values( by='low_rating_binary', ascending=True)[:10].index.values\n",
    "list3_bot.astype(str)"
   ]
  },
  {
   "cell_type": "code",
   "execution_count": 1212,
   "metadata": {},
   "outputs": [],
   "source": [
    "df_new_con_bot=df[df['condition'].isin(list3_bot)]"
   ]
  },
  {
   "cell_type": "code",
   "execution_count": 1213,
   "metadata": {},
   "outputs": [
    {
     "data": {
      "image/png": "[encoded data removed]",
      "text/plain": [
       "<Figure size 576x360 with 1 Axes>"
      ]
     },
     "metadata": {},
     "output_type": "display_data"
    }
   ],
   "source": [
    "sns.set(rc={'axes.grid':False, \n",
    "            'axes.labelsize':13,\n",
    "            'figure.figsize':(8, 5),\n",
    "            'xtick.labelsize':13,\n",
    "            'ytick.labelsize':13})\n",
    "sns_plot=sns.barplot(x='condition', y='low_rating_binary',palette='tab10', data=df_new_con_bot, dodge=False, order=list3_bot)\n",
    "sns_plot.set_xticklabels(sns_plot.get_xticklabels(), rotation=40, ha=\"right\")\n",
    "sns_plot.set(ylabel='percentage of low ratings')\n",
    "plt.tight_layout()\n",
    "plt.show()\n",
    "fig = sns_plot.get_figure()\n",
    "fig.savefig('/Users/atousachaharsoughshirazi/drug_review/figures/bottom_percentageoflowratingsbycondition.png') "
   ]
  },
  {
   "cell_type": "code",
   "execution_count": 1214,
   "metadata": {},
   "outputs": [],
   "source": [
    "# for x in list3:\n",
    "#     df_condition[df_condition.condition==x][.low_rating_binary"
   ]
  },
  {
   "cell_type": "code",
   "execution_count": 1215,
   "metadata": {},
   "outputs": [],
   "source": [
    "# list_new=df_final[df_final.condition=='Vaginal Yeast Infection'][['drugName','low_rating_binary']].groupby('drugName').mean().sort_values(by='low_rating_binary', ascending=False)[:10].index.values\n",
    "# list_new.astype(str)"
   ]
  },
  {
   "cell_type": "code",
   "execution_count": 1216,
   "metadata": {},
   "outputs": [],
   "source": [
    "#df_awesome=df_final[df_final.condition=='Vaginal Yeast Infection'][df_final.drugName.isin(list_new)]"
   ]
  },
  {
   "cell_type": "code",
   "execution_count": 1217,
   "metadata": {},
   "outputs": [],
   "source": [
    "# sns_plot=sns.barplot(x='drugName', y='low_rating_binary',palette='tab10', data=df_awesome, dodge=False, order=list_new)\n",
    "# sns_plot.set_xticklabels(sns_plot.get_xticklabels(), rotation=40, ha=\"right\")\n",
    "# sns_plot.set(ylabel='percentage of low ratings')\n",
    "# sns_plot.set(xlabel='drugs for vaginal yeast infection')\n",
    "# plt.tight_layout()\n",
    "# plt.show()\n",
    "# fig = sns_plot.get_figure()"
   ]
  },
  {
   "cell_type": "markdown",
   "metadata": {},
   "source": [
    "### Drugs with low ratings"
   ]
  },
  {
   "cell_type": "markdown",
   "metadata": {},
   "source": [
    "#### Top drugs"
   ]
  },
  {
   "cell_type": "code",
   "execution_count": 1218,
   "metadata": {},
   "outputs": [
    {
     "data": {
      "text/plain": [
       "array(['Miconazole', 'Belsomra', 'Suvorexant', 'Dextromethorphan',\n",
       "       'Cefdinir', 'Movantik', 'Naloxegol', 'Metoclopramide',\n",
       "       'Tioconazole', 'Depo-Provera'], dtype='<U16')"
      ]
     },
     "execution_count": 1218,
     "metadata": {},
     "output_type": "execute_result"
    }
   ],
   "source": [
    "list4=df_drug[['drugName', 'low_rating_binary']].groupby('drugName').mean().sort_values( by='low_rating_binary', ascending=False)[:10].index.values\n",
    "list4.astype(str)"
   ]
  },
  {
   "cell_type": "code",
   "execution_count": 1219,
   "metadata": {},
   "outputs": [],
   "source": [
    "df_new_dru=df[df['drugName'].isin(list4)]"
   ]
  },
  {
   "cell_type": "code",
   "execution_count": 1220,
   "metadata": {},
   "outputs": [
    {
     "data": {
      "image/png": "[encoded data removed]",
      "text/plain": [
       "<Figure size 576x360 with 1 Axes>"
      ]
     },
     "metadata": {},
     "output_type": "display_data"
    }
   ],
   "source": [
    "sns.set(rc={'axes.grid':False, \n",
    "            'axes.labelsize':13,\n",
    "            'figure.figsize':(8, 5),\n",
    "            'xtick.labelsize':13,\n",
    "            'ytick.labelsize':13})\n",
    "sns_plot=sns.barplot(x='drugName', y='low_rating_binary',palette='tab10', data=df_new_dru, dodge=False, order=list4)\n",
    "sns_plot.set_xticklabels(sns_plot.get_xticklabels(), rotation=40, ha=\"right\")\n",
    "sns_plot.set(ylabel='percentage of low ratings')\n",
    "sns_plot.set(xlabel='drug name')\n",
    "plt.tight_layout()\n",
    "plt.show()\n",
    "fig = sns_plot.get_figure()\n",
    "fig.savefig('/Users/atousachaharsoughshirazi/drug_review/figures/percentageoflowratingsbydrugname.png') "
   ]
  },
  {
   "cell_type": "markdown",
   "metadata": {},
   "source": [
    "#### Low drugs"
   ]
  },
  {
   "cell_type": "code",
   "execution_count": 1221,
   "metadata": {},
   "outputs": [
    {
     "data": {
      "text/plain": [
       "array(['Percocet', 'Carisoprodol', 'Adipex-P', 'Magnesium citrate',\n",
       "       'Valium', 'Methadone', 'Phentermine', 'Suboxone', 'Diazepam',\n",
       "       'Fentanyl'], dtype='<U17')"
      ]
     },
     "execution_count": 1221,
     "metadata": {},
     "output_type": "execute_result"
    }
   ],
   "source": [
    "list4_bot=df_drug[['drugName', 'low_rating_binary']].groupby('drugName').mean().sort_values( by='low_rating_binary', ascending=True)[:10].index.values\n",
    "list4_bot.astype(str)"
   ]
  },
  {
   "cell_type": "code",
   "execution_count": 1222,
   "metadata": {},
   "outputs": [],
   "source": [
    "df_new_dru_bot=df[df['drugName'].isin(list4_bot)]"
   ]
  },
  {
   "cell_type": "code",
   "execution_count": 1223,
   "metadata": {},
   "outputs": [
    {
     "data": {
      "image/png": "[encoded data removed]",
      "text/plain": [
       "<Figure size 576x360 with 1 Axes>"
      ]
     },
     "metadata": {},
     "output_type": "display_data"
    }
   ],
   "source": [
    "sns.set(rc={'axes.grid':False, \n",
    "            'axes.labelsize':13,\n",
    "            'figure.figsize':(8, 5),\n",
    "            'xtick.labelsize':13,\n",
    "            'ytick.labelsize':13})\n",
    "sns_plot=sns.barplot(x='drugName', y='low_rating_binary',palette='tab10', data=df_new_dru_bot, dodge=False, order=list4_bot)\n",
    "sns_plot.set_xticklabels(sns_plot.get_xticklabels(), rotation=40, ha=\"right\")\n",
    "sns_plot.set(ylabel='percentage of low ratings')\n",
    "sns_plot.set(xlabel='drug name')\n",
    "plt.tight_layout()\n",
    "plt.show()\n",
    "fig = sns_plot.get_figure()\n",
    "fig.savefig('/Users/atousachaharsoughshirazi/drug_review/figures/bottom_percentageoflowratingsbydrugname.png') "
   ]
  },
  {
   "cell_type": "markdown",
   "metadata": {},
   "source": [
    "# Text vectorizer"
   ]
  },
  {
   "cell_type": "markdown",
   "metadata": {},
   "source": [
    "## Preprocessing"
   ]
  },
  {
   "cell_type": "code",
   "execution_count": 1224,
   "metadata": {},
   "outputs": [],
   "source": [
    "def preProcess(s):\n",
    "    lower=s.lower()\n",
    "    nodigit = re.sub(r'\\d+', '', lower)\n",
    "    nopunc = nodigit.translate(str.maketrans('','', string.punctuation))\n",
    "    input_str = nopunc.strip()\n",
    "    return input_str"
   ]
  },
  {
   "cell_type": "markdown",
   "metadata": {},
   "source": [
    "## Count Vectorizer"
   ]
  },
  {
   "cell_type": "code",
   "execution_count": 1225,
   "metadata": {},
   "outputs": [],
   "source": [
    "y_train=df['condition']\n",
    "X_train=df['review']\n",
    "y_test=df_test['condition']\n",
    "X_test=df_test['review']"
   ]
  },
  {
   "cell_type": "code",
   "execution_count": 1226,
   "metadata": {},
   "outputs": [],
   "source": [
    "count_vectorizer=CountVectorizer(stop_words='english', preprocessor=preProcess)"
   ]
  },
  {
   "cell_type": "code",
   "execution_count": 1227,
   "metadata": {},
   "outputs": [],
   "source": [
    "count_train=count_vectorizer.fit_transform(X_train.values)\n",
    "scipy.sparse.save_npz('count_train', count_train)"
   ]
  },
  {
   "cell_type": "code",
   "execution_count": 1228,
   "metadata": {},
   "outputs": [
    {
     "data": {
      "text/plain": [
       "scipy.sparse.csr.csr_matrix"
      ]
     },
     "execution_count": 1228,
     "metadata": {},
     "output_type": "execute_result"
    }
   ],
   "source": [
    "#Transform the data into a 'document-term matrix'\n",
    "count_test=count_vectorizer.transform(X_test.values)\n",
    "type(count_test)"
   ]
  },
  {
   "cell_type": "code",
   "execution_count": 1229,
   "metadata": {},
   "outputs": [],
   "source": [
    "scipy.sparse.save_npz('count_test', count_test)"
   ]
  },
  {
   "cell_type": "code",
   "execution_count": 1230,
   "metadata": {},
   "outputs": [
    {
     "data": {
      "text/plain": [
       "<53471x70269 sparse matrix of type '<class 'numpy.int64'>'\n",
       "\twith 1678745 stored elements in Compressed Sparse Row format>"
      ]
     },
     "execution_count": 1230,
     "metadata": {},
     "output_type": "execute_result"
    }
   ],
   "source": [
    "count_test"
   ]
  },
  {
   "cell_type": "code",
   "execution_count": 1231,
   "metadata": {},
   "outputs": [
    {
     "data": {
      "text/plain": [
       "['aa',\n",
       " 'aaa',\n",
       " 'aaaaaammazing',\n",
       " 'aaaaand',\n",
       " 'aaaaarg',\n",
       " 'aaaand',\n",
       " 'aaahh',\n",
       " 'aaand',\n",
       " 'aaccidentpain',\n",
       " 'aadd']"
      ]
     },
     "execution_count": 1231,
     "metadata": {},
     "output_type": "execute_result"
    }
   ],
   "source": [
    "count_vectorizer.get_feature_names()[:10]"
   ]
  },
  {
   "cell_type": "code",
   "execution_count": 1232,
   "metadata": {},
   "outputs": [],
   "source": [
    "# count_df=pd.DataFrame(count_train.A , columns=count_vectorizer.get_feature_names())\n",
    "# count_df.head()"
   ]
  },
  {
   "cell_type": "code",
   "execution_count": 1233,
   "metadata": {},
   "outputs": [],
   "source": [
    "# # convert sparse matrix to a dense matrix\n",
    "# trans_text.toarray()\n",
    "\n",
    "# # examine the vocabulary and document-term matrix together\n",
    "# pd.DataFrame(simple_train_dtm.toarray(), columns=vect.get_feature_names())"
   ]
  },
  {
   "cell_type": "markdown",
   "metadata": {},
   "source": [
    "## TfidVectorizer"
   ]
  },
  {
   "cell_type": "code",
   "execution_count": 1234,
   "metadata": {},
   "outputs": [],
   "source": [
    "#feat_with_weights=sorted(zip(nb_classifier.coef_[0], feature_names))"
   ]
  },
  {
   "cell_type": "code",
   "execution_count": 1235,
   "metadata": {},
   "outputs": [],
   "source": [
    "#sklearn.utils.all_estimators(type_filter=\"classifier\")"
   ]
  },
  {
   "cell_type": "code",
   "execution_count": 1236,
   "metadata": {},
   "outputs": [],
   "source": [
    "#tfidf_train.A[:5]"
   ]
  },
  {
   "cell_type": "code",
   "execution_count": 1237,
   "metadata": {},
   "outputs": [],
   "source": [
    "#tfidf_df=pd.DataFrame(tfidf_train.A, columns=tfidf_vectorizer.get_feature_names())\n",
    "#tfidf_df.head()"
   ]
  },
  {
   "cell_type": "code",
   "execution_count": 1238,
   "metadata": {},
   "outputs": [],
   "source": [
    "tfidf_vectorizer= TfidfVectorizer(stop_words=\"english\", ngram_range=(1,3), preprocessor=preProcess)"
   ]
  },
  {
   "cell_type": "code",
   "execution_count": 1239,
   "metadata": {},
   "outputs": [],
   "source": [
    "tfidf_train=tfidf_vectorizer.fit_transform(X_train.values)"
   ]
  },
  {
   "cell_type": "code",
   "execution_count": 1240,
   "metadata": {},
   "outputs": [],
   "source": [
    "feature_names=tfidf_vectorizer.get_feature_names()"
   ]
  },
  {
   "cell_type": "code",
   "execution_count": 1241,
   "metadata": {},
   "outputs": [
    {
     "data": {
      "text/plain": [
       "['aa',\n",
       " 'aa acamprosate',\n",
       " 'aa acamprosate drop',\n",
       " 'aa address',\n",
       " 'aa address underlying',\n",
       " 'aa alcohol',\n",
       " 'aa alcohol use',\n",
       " 'aa amphetamine',\n",
       " 'aa amphetamine addiction',\n",
       " 'aa begin']"
      ]
     },
     "execution_count": 1241,
     "metadata": {},
     "output_type": "execute_result"
    }
   ],
   "source": [
    "feature_names[:10]"
   ]
  },
  {
   "cell_type": "code",
   "execution_count": 1242,
   "metadata": {},
   "outputs": [
    {
     "data": {
      "text/plain": [
       "'\"My son is halfway through his fourth week of Intuniv. We became concerned when he began this last week, when he started taking the highest dose he will be on. For two days, he could hardly get out of bed, was very cranky, and slept for nearly 8 hours on a drive home from school vacation (very unusual for him.) I called his doctor on Monday morning and she said to stick it out a few days. See how he did at school, and with getting up in the morning. The last two days have been problem free. He is MUCH more agreeable than ever. He is less emotional (a good thing), less cranky. He is remembering all the things he should. Overall his behavior is better. \\r\\nWe have tried many different medications and so far this is the most effective.\"'"
      ]
     },
     "execution_count": 1242,
     "metadata": {},
     "output_type": "execute_result"
    }
   ],
   "source": [
    "df.review[1]"
   ]
  },
  {
   "cell_type": "code",
   "execution_count": 1243,
   "metadata": {},
   "outputs": [],
   "source": [
    "scipy.sparse.save_npz('tfidf_train', tfidf_train)"
   ]
  },
  {
   "cell_type": "code",
   "execution_count": 1244,
   "metadata": {},
   "outputs": [],
   "source": [
    "tfidf_test=tfidf_vectorizer.transform(X_test.values)"
   ]
  },
  {
   "cell_type": "code",
   "execution_count": 1245,
   "metadata": {},
   "outputs": [],
   "source": [
    "scipy.sparse.save_npz('tfidf_test', tfidf_test)"
   ]
  },
  {
   "cell_type": "markdown",
   "metadata": {},
   "source": [
    "# Wordcloud"
   ]
  },
  {
   "cell_type": "code",
   "execution_count": null,
   "metadata": {},
   "outputs": [],
   "source": [
    "#wordcloud2 = WordCloud().generate(' '.join(df['review']))"
   ]
  },
  {
   "cell_type": "code",
   "execution_count": 1246,
   "metadata": {},
   "outputs": [],
   "source": [
    "#dfword=WordCloud().generate_from_frequencies(df.review[0])"
   ]
  },
  {
   "cell_type": "code",
   "execution_count": 1247,
   "metadata": {},
   "outputs": [
    {
     "data": {
      "image/png": "[encoded data removed]",
      "text/plain": [
       "<Figure size 576x360 with 1 Axes>"
      ]
     },
     "metadata": {},
     "output_type": "display_data"
    }
   ],
   "source": [
    "# plt.imshow(dfword , interpolation='bilinear')\n",
    "# plt.axis('off')\n",
    "# plt.show()"
   ]
  },
  {
   "cell_type": "code",
   "execution_count": 1248,
   "metadata": {},
   "outputs": [
    {
     "data": {
      "text/plain": [
       "160398"
      ]
     },
     "execution_count": 1248,
     "metadata": {},
     "output_type": "execute_result"
    }
   ],
   "source": [
    "# len((df.low_rating_binary == 1).values)"
   ]
  },
  {
   "cell_type": "markdown",
   "metadata": {},
   "source": [
    "# MultinomialNB "
   ]
  },
  {
   "cell_type": "markdown",
   "metadata": {},
   "source": [
    "## best score before tuning"
   ]
  },
  {
   "cell_type": "markdown",
   "metadata": {},
   "source": [
    "### with countvectorizer"
   ]
  },
  {
   "cell_type": "code",
   "execution_count": 1278,
   "metadata": {},
   "outputs": [],
   "source": [
    "X_count_train=count_train\n",
    "X_count_train = X_count_train.tocsc()  # some versions of sklearn return COO format\n",
    "y_train = (df.low_rating_binary == 1).values"
   ]
  },
  {
   "cell_type": "code",
   "execution_count": 1250,
   "metadata": {},
   "outputs": [],
   "source": [
    "X_count_test=count_test\n",
    "X_count_test = X_count_test.tocsc()  # some versions of sklearn return COO format\n",
    "y_test = (df_test.low_rating_binary == 1).values"
   ]
  },
  {
   "cell_type": "code",
   "execution_count": 1251,
   "metadata": {},
   "outputs": [
    {
     "data": {
      "text/plain": [
       "0.8373884909577154"
      ]
     },
     "execution_count": 1251,
     "metadata": {},
     "output_type": "execute_result"
    }
   ],
   "source": [
    "nb_classifier=MultinomialNB()\n",
    "nb_classifier.fit(X_count_train, y_train)\n",
    "# Predict the labels: pred\n",
    "y_pred_test_count = nb_classifier.predict(X_count_test)\n",
    "# Compute accuracy: score\n",
    "test_score_count = metrics.accuracy_score(y_test, y_pred_test_count)\n",
    "test_score_count\n",
    "#nb_classifier.score(X_count_test, y_test)"
   ]
  },
  {
   "cell_type": "code",
   "execution_count": 1252,
   "metadata": {},
   "outputs": [
    {
     "data": {
      "text/plain": [
       "0.8549420815720894"
      ]
     },
     "execution_count": 1252,
     "metadata": {},
     "output_type": "execute_result"
    }
   ],
   "source": [
    "y_pred_train_count = nb_classifier.predict(X_count_train)\n",
    "train_score_count = metrics.accuracy_score(y_train, y_pred_train_count)\n",
    "train_score_count\n",
    "#nb_classifier.score(X_count_train, y_train)"
   ]
  },
  {
   "cell_type": "markdown",
   "metadata": {},
   "source": [
    "### with tfidfvectorizer"
   ]
  },
  {
   "cell_type": "code",
   "execution_count": 1253,
   "metadata": {},
   "outputs": [],
   "source": [
    "X_tfidf_train=tfidf_train\n",
    "X_tfidf_train = X_tfidf_train.tocsc()\n",
    "X_tfidf_test=tfidf_test\n",
    "X_tfidf_test = X_tfidf_test.tocsc()"
   ]
  },
  {
   "cell_type": "code",
   "execution_count": 1254,
   "metadata": {},
   "outputs": [
    {
     "data": {
      "text/plain": [
       "0.7798993847132091"
      ]
     },
     "execution_count": 1254,
     "metadata": {},
     "output_type": "execute_result"
    }
   ],
   "source": [
    "nb_classifier.fit(X_tfidf_train, y_train)\n",
    "# Predict the labels: pred\n",
    "y_pred_test_tfidf = nb_classifier.predict(X_tfidf_test)\n",
    "# Compute accuracy: score\n",
    "test_score_tfidf = metrics.accuracy_score(y_test, y_pred_test_tfidf)\n",
    "test_score_tfidf"
   ]
  },
  {
   "cell_type": "code",
   "execution_count": 1257,
   "metadata": {},
   "outputs": [
    {
     "data": {
      "text/plain": [
       "0.785178119427923"
      ]
     },
     "execution_count": 1257,
     "metadata": {},
     "output_type": "execute_result"
    }
   ],
   "source": [
    "y_pred_train_tfidf = nb_classifier.predict(X_tfidf_train)\n",
    "train_score_tfidf = metrics.accuracy_score(y_train, y_pred_train_tfidf)\n",
    "train_score_tfidf"
   ]
  },
  {
   "cell_type": "markdown",
   "metadata": {},
   "source": [
    "## Hyperparameter tuning"
   ]
  },
  {
   "cell_type": "markdown",
   "metadata": {},
   "source": [
    "### with tfidfvectorizer"
   ]
  },
  {
   "cell_type": "code",
   "execution_count": 1279,
   "metadata": {},
   "outputs": [],
   "source": [
    "cumulative = X_tfidf_train.sum(axis=0)"
   ]
  },
  {
   "cell_type": "code",
   "execution_count": 1280,
   "metadata": {},
   "outputs": [
    {
     "data": {
      "text/plain": [
       "numpy.matrix"
      ]
     },
     "execution_count": 1280,
     "metadata": {},
     "output_type": "execute_result"
    }
   ],
   "source": [
    "type(cumulative)"
   ]
  },
  {
   "cell_type": "code",
   "execution_count": 1281,
   "metadata": {},
   "outputs": [
    {
     "data": {
      "text/plain": [
       "1341.6593574856265"
      ]
     },
     "execution_count": 1281,
     "metadata": {},
     "output_type": "execute_result"
    }
   ],
   "source": [
    "cumulative.max()"
   ]
  },
  {
   "cell_type": "code",
   "execution_count": 1282,
   "metadata": {},
   "outputs": [
    {
     "data": {
      "text/plain": [
       "Text(0, 0.5, 'CDF')"
      ]
     },
     "execution_count": 1282,
     "metadata": {},
     "output_type": "execute_result"
    },
    {
     "data": {
      "image/png": "[encoded data removed]",
      "text/plain": [
       "<Figure size 576x360 with 1 Axes>"
      ]
     },
     "metadata": {},
     "output_type": "display_data"
    }
   ],
   "source": [
    "df_plot = sorted((X_tfidf_train > 0).sum(axis=0).reshape(-1).tolist()[0])\n",
    "rows, features = X_tfidf_train.shape\n",
    "height, axis = np.histogram(df_plot, bins=len(np.unique(df_plot)))\n",
    "cumhist = np.cumsum(height * 1, axis=0) / features\n",
    "axis = np.insert(axis, 0, 0)\n",
    "cumhist = np.insert(cumhist, 0, 0)\n",
    "plt.plot(axis[:-1], cumhist)\n",
    "plt.xlim(-1, 25)\n",
    "plt.xlabel(\"Document Count\")\n",
    "plt.ylabel(\"CDF\")"
   ]
  },
  {
   "cell_type": "code",
   "execution_count": 1283,
   "metadata": {},
   "outputs": [],
   "source": [
    "# # Now, sum up the number of times the words appear in document using a dictionary\n",
    "# words_in_doc_freq = {}\n",
    "# for i in range(int(cumulative.max()) +1): \n",
    "#     words_in_doc_freq[i] = np.sum(cumulative < i)\n",
    "\n",
    "# # Plot the dictionary items\n",
    "# for key, value in words_in_doc_freq.items():\n",
    "#     plt.scatter(x=int(key),y=int(value))\n",
    "    \n",
    "# plt.xlabel('Document Frequencies', fontsize=12)\n",
    "# plt.ylabel('Percent Words that Appear Less Than Document Frequencies', fontsize=12)"
   ]
  },
  {
   "cell_type": "code",
   "execution_count": 1284,
   "metadata": {},
   "outputs": [],
   "source": [
    "from sklearn.model_selection import KFold\n",
    "def cv_score(clf, X, y, scorefunc):\n",
    "    result = 0.\n",
    "    nfold = 5\n",
    "    for train, test in KFold(nfold).split(X): # split data into train/test groups, 5 times\n",
    "        clf.fit(X[train], y[train]) # fit the classifier, passed is as clf.\n",
    "        result += scorefunc(clf, X[test], y[test]) # evaluate score function on held-out data\n",
    "    return result / nfold # average"
   ]
  },
  {
   "cell_type": "code",
   "execution_count": 1285,
   "metadata": {},
   "outputs": [],
   "source": [
    "def log_likelihood(clf, x, y):\n",
    "    prob = clf.predict_log_proba(x)\n",
    "    highrating = y == 0\n",
    "    lowrating = ~highrating\n",
    "    return prob[highrating, 0].sum() + prob[lowrating, 1].sum()"
   ]
  },
  {
   "cell_type": "code",
   "execution_count": 1286,
   "metadata": {},
   "outputs": [],
   "source": [
    "_, itest = train_test_split(range(df.shape[0]), train_size=0.7)\n",
    "mask = np.zeros(df.shape[0], dtype=np.bool)\n",
    "mask[itest] = True"
   ]
  },
  {
   "cell_type": "code",
   "execution_count": 1287,
   "metadata": {},
   "outputs": [],
   "source": [
    "def make_xy(df, vectorizer=None):\n",
    "    #Your code here    \n",
    "    if vectorizer is None:\n",
    "        vectorizer = TfidfVectorizer(stop_words=\"english\", ngram_range=(1,3), preprocessor=preProcess)\n",
    "    X = vectorizer.fit_transform(df.review)\n",
    "    X = X.tocsc()  # some versions of sklearn return COO format\n",
    "    y= (df.low_rating_binary == 1).values\n",
    "    return X, y\n"
   ]
  },
  {
   "cell_type": "code",
   "execution_count": 1288,
   "metadata": {},
   "outputs": [
    {
     "name": "stdout",
     "output_type": "stream",
     "text": [
      "best alpha: 0.1\n",
      "maxscore: -6723.000430600046\n",
      "best min df: 0\n"
     ]
    }
   ],
   "source": [
    "#the grid of parameters to search over\n",
    "alphas = [.1, 1, 5, 10, 50]\n",
    "best_min_df = 0 # YOUR TURN: put your value of min_df here.\n",
    "\n",
    "#Find the best value for alpha and min_df, and the best classifier\n",
    "best_alpha = None\n",
    "maxscore=-np.inf\n",
    "for alpha in alphas:        \n",
    "    vectorizer = TfidfVectorizer(stop_words=\"english\", ngram_range=(1,3), preprocessor=preProcess, min_df=best_min_df)       \n",
    "    Xthis, ythis = make_xy(df, vectorizer)\n",
    "    Xtrainthis = Xthis[mask]\n",
    "    ytrainthis = ythis[mask]\n",
    "    # your turn\n",
    "    classifier = MultinomialNB()\n",
    "    scr = cv_score(classifier, Xtrainthis, ytrainthis, log_likelihood)\n",
    "    if scr > maxscore:\n",
    "        maxscore = scr\n",
    "        best_alpha = alpha\n",
    "        best_min_df = best_min_df\n",
    "        \n",
    "print(\"best alpha: {}\".format(best_alpha))\n",
    "print(\"maxscore: {}\".format(maxscore))\n",
    "print(\"best min df: {}\".format(best_min_df))"
   ]
  },
  {
   "cell_type": "code",
   "execution_count": 1289,
   "metadata": {},
   "outputs": [
    {
     "name": "stdout",
     "output_type": "stream",
     "text": [
      "Accuracy on training data: 0.859435\n",
      "Accuracy on test data:     0.812822\n"
     ]
    }
   ],
   "source": [
    "vectorizer = TfidfVectorizer(min_df=best_min_df,stop_words='english', preprocessor=preProcess)\n",
    "X, y = make_xy(df, vectorizer)\n",
    "xtrain=X[mask]\n",
    "ytrain=y[mask]\n",
    "xtest=X[~mask]\n",
    "ytest=y[~mask]\n",
    "\n",
    "clf = MultinomialNB(alpha=best_alpha).fit(xtrain, ytrain)\n",
    "\n",
    "#your turn. Print the accuracy on the test and training dataset\n",
    "training_accuracy = clf.score(xtrain, ytrain)\n",
    "test_accuracy = clf.score(xtest, ytest)\n",
    "\n",
    "print(\"Accuracy on training data: {:2f}\".format(training_accuracy))\n",
    "print(\"Accuracy on test data:     {:2f}\".format(test_accuracy))"
   ]
  },
  {
   "cell_type": "code",
   "execution_count": 1290,
   "metadata": {},
   "outputs": [
    {
     "name": "stdout",
     "output_type": "stream",
     "text": [
      "[[86584  1440]\n",
      " [19576  4678]]\n"
     ]
    }
   ],
   "source": [
    "print(confusion_matrix(ytest, clf.predict(xtest)))"
   ]
  },
  {
   "cell_type": "code",
   "execution_count": 1291,
   "metadata": {},
   "outputs": [
    {
     "name": "stdout",
     "output_type": "stream",
     "text": [
      "Good words\t     P(low rating | word)\n",
      "          aspirinlow 0.95\n",
      "           coughgels 0.95\n",
      "                ziac 0.94\n",
      "            stoppedi 0.94\n",
      "        nightnothing 0.94\n",
      "      quotgentlequot 0.94\n",
      "           reimburse 0.94\n",
      "    medicationwithin 0.94\n",
      "                moly 0.94\n",
      "              lipase 0.94\n",
      "Bad words\t     P(low rating | word)\n",
      "            smoother 0.01\n",
      "               proud 0.01\n",
      "               saver 0.01\n",
      "              treats 0.01\n",
      "              adipex 0.01\n",
      "           dramamine 0.01\n",
      "               penny 0.01\n",
      "            portions 0.01\n",
      "            drawback 0.01\n",
      "            downfall 0.00\n"
     ]
    }
   ],
   "source": [
    "words = np.array(vectorizer.get_feature_names())\n",
    "\n",
    "x = np.eye(xtest.shape[1])\n",
    "probs = clf.predict_log_proba(x)[:, 0]\n",
    "ind = np.argsort(probs)\n",
    "\n",
    "good_words = words[ind[:10]]\n",
    "bad_words = words[ind[-10:]]\n",
    "\n",
    "good_prob = probs[ind[:10]]\n",
    "bad_prob = probs[ind[-10:]]\n",
    "\n",
    "print(\"Good words\\t     P(low rating | word)\")\n",
    "for w, p in zip(good_words, good_prob):\n",
    "    print(\"{:>20}\".format(w), \"{:.2f}\".format(1 - np.exp(p)))\n",
    "    \n",
    "print(\"Bad words\\t     P(low rating | word)\")\n",
    "for w, p in zip(bad_words, bad_prob):\n",
    "    print(\"{:>20}\".format(w), \"{:.2f}\".format(1 - np.exp(p)))"
   ]
  },
  {
   "cell_type": "code",
   "execution_count": 1292,
   "metadata": {},
   "outputs": [
    {
     "name": "stdout",
     "output_type": "stream",
     "text": [
      "Mis-predicted high rating\n",
      "---------------------------\n",
      "\"The miracle pill!\r\n",
      "I have constipation since my childhood.\r\n",
      "I have try everything on the market and even change my diet with high fiber with no result. I am 53 years old and for the first time of my life ,I am regular(go every day).\r\n",
      "I feel like a new person.I use to go once a week .constella pill just change my life!\r\n",
      "La pilule miracle.je souffre de constipation depuis mon enfance.j&#039;ai tout essay&eacute; sur le march&eacute; et m&ecirc;me avec un r&eacute;gime &agrave; haute teneur en fibre,aucun resultat.j&#039;ai 53 ans et pour la premi&egrave;re fois de toute ma vie,je suis r&eacute;guli&egrave;re(une fois tout les jour plut&ocirc;t qu&#039;une fois par semaine!)\r\n",
      "Je suis une nouvelle personne. Constella a chang&eacute; ma vie!\"\n",
      "\n",
      "\"A horrible drug. Macrobid should be banned, I feel weak and I have had two anxiety attacks because of it. I&#039;m super tired and depressed. I am sensitive to antibiotics anyways, I called CVS and they told me to continue it!!! Ummm, hell no! \r",
      "\r\n",
      "Whether you take it with or without food it is horrible for your body. I felt pins and  needles in my back from this on the third night. Buh-bye\"\n",
      "\n",
      "\"Thought all my issues were from babysitting 3 kids under 5 for 5 years. Brain fog, blurry vision, severe muscle and joint pain in mid and lower back,anxious, awful Charlie horses in foot,leg pain, feeling like I aged 10 years. Been to 2 spine docs, chiro for 6 months, physical therapy, unlimited trips to my GP.  (yes you have stress) no kidding I am in pain. Not one Doc said it was my meds. Finally going to a pain management doc for my back. My elbows started to hurt over summer and when I mentioned it to him he I said could it be pravistatin he said he has seen it before. Stopped pravistatin 2 months ago, fog is gone, no charlie horses, anxious well down, back is FINALLY starting to feel better. I am so mad no Dr ever mentioned it!\"\n",
      "\n",
      "\"I tried the 3 day monistat cream for a yeast infection years ago, and it BURNED LIKE HELL FIRE as soon as I put it in. It was horrible. So this time I got a YI I was loathe to try Monistat again. For weeks I tried every treatment under the sun, boric acid, colloidal silver, yogurt, probiotics, ACV, etc... Nothing worked. I finally gave in and figured I would need to use the acid bath... I picked up the 1 day hoping that at least my suffering would be confined to one night. I read the reviews online and apologized to my vajayjay as I popped the egg thingy in a little before bedtime and prepared for the worst... Nothing happened. Seriously. No pain. No burn. A little itch as the product melted. And now my YI is gone! I love this egg.\"\n",
      "\n",
      "\"It&#039;s like my vagina was a good little catholic who played around with Monistat 7 and became possessed by Lucifer Himself.  \r\n",
      "\r\n",
      "I do have one tip.  If you get the itchy fire ants from hell reaction,  try lying in bed on a towel,  naked from the waist down and just opening your legs.  The air helps to soothe it.  Don&#039;t take a bath or you&#039;ll remove the only thing that&#039;s curing the infection. \r\n",
      "\r\n",
      "Also,  as much as the side effects make scratch my own vajayjay with fork sound like a sweet relief.... The medication itself does work.  So stick with it because it doesn&#039;t feel like this by day 7.\"\n",
      "\n",
      "Mis-predicted low rating\n",
      "--------------------------\n",
      "\"I am 25 years old and I have suffered from social anxiety for my whole life. To cope with anxiety I became addicted to opiates. I am now in rehab and my doctor has changed my meds many times. I have been on gabapentin for almost a month I don&#039;t feel any changes yet. She says it may take up to a month for this medicine to start working. I am on 300 mg three times a day A long with other antidepressants and Suboxone to treat my opiate addiction. I wish I could get on Xanax because it is the only thing that helps with my anxiety, but because I am an addict my doctor will not prescribe me any medications that I may become addicted to or I should say that give me a high sort of feeling. The only difference is I feel like a zombie.\"\n",
      "\n",
      "\"I have been taking 105mg slow release of phendimetrazine, once a day for 3 months. I haven&#039;t experienced any bad side affects. It has curbed my wild cravings &amp; making it possible to cut my caloric intake from 3500 a day to 1500 - 1700 a day. I don&#039;t really exercise, but I get up &amp; move &amp; leave the house, whereas before I didn&#039;t move off the bed or couch &amp; didn&#039;t leave the house but once a week  My only problem is, I have only lost 3 pounds. I don&#039;t drink sodas, I use sugarless foods &amp; try not to eat any bad carbs. I am basically eating meat (beef, chicken &amp; lean pork), yogurt, green veggies &amp; a protein drink with a banana &amp; blueberries. I am very depressed over this. I used to eat cookies, cakes &amp; all kinds of bad snacks, now I don&#039;t.\"\n",
      "\n",
      "\"I have degenerative disc disease and had spinal fusion and stenosis surgery in my lower back. For years I have been on Norco 7.5mg/325 (1 pill 4x a day as needed.) and for the most part that took care of my pain. Roughly the past year my dr decided to reduce the Norco by half and added MS Contin. 15mg 1 pill twice a  day. It didn&#039;t help much. For me it takes the MS Contin three hours for me to notice any difference and it only helps for about six hours leaving three hours before I can take another. He upped it to 30mg in the morning and 15mg at night. Still not seeing anything different. This Friday I am going to ask him if I can just go back on the Norco at my old regiment. It seemed to work better for me then these extended release meds.\"\n",
      "\n",
      "\"I am starting week 4 on Chantix. I smoked for over 40 years and had planned to smoke a carton the first week on Chantix as my last hurrah. I was actually very disappointed to loose my craving after the first few days. I have been smoke free for 15 days.  Side effects are minimal. Have gained some weight and still get cravings but they are short lived and can be put aside.  I do miss the simple pleasure of smoking.\"\n",
      "\n",
      "\"I am starting week 4 on Chantix. I smoked for over 40 years and had planned to smoke a carton the first week on Chantix as my last hurrah. I was actually very disappointed to loose my craving after the first few days. I have been smoke free for 15 days.  Side effects are minimal. Have gained some weight and still get cravings but they are short lived and can be put aside.  I do miss the simple pleasure of smoking.\"\n",
      "\n"
     ]
    }
   ],
   "source": [
    "x, y = make_xy(df, vectorizer)\n",
    "\n",
    "prob = clf.predict_proba(x)[:, 0]\n",
    "predict = clf.predict(x)\n",
    "\n",
    "bad_highrating = np.argsort(prob[y == 0])[:5]\n",
    "bad_lowrating = np.argsort(prob[y == 1])[-5:]\n",
    "\n",
    "print(\"Mis-predicted high rating\")\n",
    "print('---------------------------')\n",
    "for row in bad_highrating:\n",
    "    print(df[y == 0].review.iloc[row])\n",
    "    print(\"\")\n",
    "\n",
    "print(\"Mis-predicted low rating\")\n",
    "print('--------------------------')\n",
    "for row in bad_lowrating:\n",
    "    print(df[y == 1].review.iloc[row])\n",
    "    print(\"\")"
   ]
  },
  {
   "cell_type": "markdown",
   "metadata": {},
   "source": [
    "### with countvectorizer"
   ]
  },
  {
   "cell_type": "code",
   "execution_count": null,
   "metadata": {},
   "outputs": [],
   "source": [
    "#cumulative = X_count_train.sum(axis=0)"
   ]
  },
  {
   "cell_type": "code",
   "execution_count": 1293,
   "metadata": {},
   "outputs": [
    {
     "data": {
      "text/plain": [
       "Text(0, 0.5, 'CDF')"
      ]
     },
     "execution_count": 1293,
     "metadata": {},
     "output_type": "execute_result"
    },
    {
     "data": {
      "image/png": "[encoded data removed]",
      "text/plain": [
       "<Figure size 576x360 with 1 Axes>"
      ]
     },
     "metadata": {},
     "output_type": "display_data"
    }
   ],
   "source": [
    "df_plot = sorted((X_count_train > 0).sum(axis=0).reshape(-1).tolist()[0])\n",
    "rows, features = X_count_train.shape\n",
    "height, axis = np.histogram(df_plot, bins=len(np.unique(df_plot)))\n",
    "cumhist = np.cumsum(height * 1, axis=0) / features\n",
    "axis = np.insert(axis, 0, 0)\n",
    "cumhist = np.insert(cumhist, 0, 0)\n",
    "plt.plot(axis[:-1], cumhist)\n",
    "plt.xlim(-1, 25)\n",
    "plt.xlabel(\"Document Count\")\n",
    "plt.ylabel(\"CDF\")"
   ]
  },
  {
   "cell_type": "code",
   "execution_count": 1294,
   "metadata": {},
   "outputs": [
    {
     "name": "stdout",
     "output_type": "stream",
     "text": [
      "best alpha: 0.1\n",
      "maxscore: -6896.715980346448\n",
      "best min df: 0\n"
     ]
    }
   ],
   "source": [
    "#the grid of parameters to search over\n",
    "alphas = [.1, 1, 5, 10, 50]\n",
    "best_min_df = 0 # YOUR TURN: put your value of min_df here.\n",
    "\n",
    "#Find the best value for alpha and min_df, and the best classifier\n",
    "best_alpha = None\n",
    "maxscore=-np.inf\n",
    "for alpha in alphas:        \n",
    "    vectorizer = CountVectorizer(min_df=best_min_df, stop_words='english', preprocessor=preProcess)       \n",
    "    Xthis, ythis = make_xy(df, vectorizer)\n",
    "    Xtrainthis = Xthis[mask]\n",
    "    ytrainthis = ythis[mask]\n",
    "    # your turn\n",
    "    classifier = MultinomialNB()\n",
    "    scr = cv_score(classifier, Xtrainthis, ytrainthis, log_likelihood)\n",
    "    if scr > maxscore:\n",
    "        maxscore = scr\n",
    "        best_alpha = alpha\n",
    "        best_min_df = best_min_df\n",
    "        \n",
    "print(\"best alpha: {}\".format(best_alpha))\n",
    "print(\"maxscore: {}\".format(maxscore))\n",
    "print(\"best min df: {}\".format(best_min_df))"
   ]
  },
  {
   "cell_type": "code",
   "execution_count": 1295,
   "metadata": {},
   "outputs": [
    {
     "name": "stdout",
     "output_type": "stream",
     "text": [
      "Accuracy on training data: 0.885910\n",
      "Accuracy on test data:     0.815048\n"
     ]
    }
   ],
   "source": [
    "vectorizer = CountVectorizer(min_df=best_min_df,stop_words='english', preprocessor=preProcess)\n",
    "X, y = make_xy(df, vectorizer)\n",
    "xtrain=X[mask]\n",
    "ytrain=y[mask]\n",
    "xtest=X[~mask]\n",
    "ytest=y[~mask]\n",
    "\n",
    "clf = MultinomialNB(alpha=best_alpha).fit(xtrain, ytrain)\n",
    "\n",
    "#your turn. Print the accuracy on the test and training dataset\n",
    "training_accuracy = clf.score(xtrain, ytrain)\n",
    "test_accuracy = clf.score(xtest, ytest)\n",
    "\n",
    "print(\"Accuracy on training data: {:2f}\".format(training_accuracy))\n",
    "print(\"Accuracy on test data:     {:2f}\".format(test_accuracy))"
   ]
  },
  {
   "cell_type": "code",
   "execution_count": 1296,
   "metadata": {},
   "outputs": [
    {
     "name": "stdout",
     "output_type": "stream",
     "text": [
      "Good words\t     P(low rating | word)\n",
      "              lipase 0.99\n",
      "                moly 0.98\n",
      "              opdivo 0.98\n",
      "                 bpo 0.98\n",
      "      quotgentlequot 0.98\n",
      "            revlimid 0.98\n",
      "                ziac 0.98\n",
      "                 asa 0.98\n",
      "          indwelling 0.98\n",
      "              savage 0.98\n",
      "Bad words\t     P(low rating | word)\n",
      "              shrunk 0.00\n",
      "           downsides 0.00\n",
      "               proud 0.00\n",
      "              treats 0.00\n",
      "                  aa 0.00\n",
      "               penny 0.00\n",
      "           dramamine 0.00\n",
      "            drawback 0.00\n",
      "            portions 0.00\n",
      "            downfall 0.00\n"
     ]
    }
   ],
   "source": [
    "words = np.array(vectorizer.get_feature_names())\n",
    "\n",
    "x = np.eye(xtest.shape[1])\n",
    "probs = clf.predict_log_proba(x)[:, 0]\n",
    "ind = np.argsort(probs)\n",
    "\n",
    "good_words = words[ind[:10]]\n",
    "bad_words = words[ind[-10:]]\n",
    "\n",
    "good_prob = probs[ind[:10]]\n",
    "bad_prob = probs[ind[-10:]]\n",
    "\n",
    "print(\"Good words\\t     P(low rating | word)\")\n",
    "for w, p in zip(good_words, good_prob):\n",
    "    print(\"{:>20}\".format(w), \"{:.2f}\".format(1 - np.exp(p)))\n",
    "    \n",
    "print(\"Bad words\\t     P(low rating | word)\")\n",
    "for w, p in zip(bad_words, bad_prob):\n",
    "    print(\"{:>20}\".format(w), \"{:.2f}\".format(1 - np.exp(p)))"
   ]
  },
  {
   "cell_type": "code",
   "execution_count": 1297,
   "metadata": {},
   "outputs": [
    {
     "name": "stdout",
     "output_type": "stream",
     "text": [
      "Mis-predicted high rating\n",
      "---------------------------\n",
      "\"The miracle pill!\r\n",
      "I have constipation since my childhood.\r\n",
      "I have try everything on the market and even change my diet with high fiber with no result. I am 53 years old and for the first time of my life ,I am regular(go every day).\r\n",
      "I feel like a new person.I use to go once a week .constella pill just change my life!\r\n",
      "La pilule miracle.je souffre de constipation depuis mon enfance.j&#039;ai tout essay&eacute; sur le march&eacute; et m&ecirc;me avec un r&eacute;gime &agrave; haute teneur en fibre,aucun resultat.j&#039;ai 53 ans et pour la premi&egrave;re fois de toute ma vie,je suis r&eacute;guli&egrave;re(une fois tout les jour plut&ocirc;t qu&#039;une fois par semaine!)\r\n",
      "Je suis une nouvelle personne. Constella a chang&eacute; ma vie!\"\n",
      "\n",
      "\"Thought all my issues were from babysitting 3 kids under 5 for 5 years. Brain fog, blurry vision, severe muscle and joint pain in mid and lower back,anxious, awful Charlie horses in foot,leg pain, feeling like I aged 10 years. Been to 2 spine docs, chiro for 6 months, physical therapy, unlimited trips to my GP.  (yes you have stress) no kidding I am in pain. Not one Doc said it was my meds. Finally going to a pain management doc for my back. My elbows started to hurt over summer and when I mentioned it to him he I said could it be pravistatin he said he has seen it before. Stopped pravistatin 2 months ago, fog is gone, no charlie horses, anxious well down, back is FINALLY starting to feel better. I am so mad no Dr ever mentioned it!\"\n",
      "\n",
      "\"I had a severe allergic reaction to something and was in the ambulance when I was given epinephrine intravenously after Benadryl failed to slow the reaction. The epinephrine hurt as it entered my blood stream; I could trace a burning pins and needles sensation as it traveled up my arm, across my back, and into my head. Then it hit - sudden terrible throbbing headache, my limbs going numb, absolute instant vomiting and involuntary bowel movement. I said &quot;I&#039;m going to die,&quot; since it felt like my body was shutting down. My heart rate jumped but my blood pressure dropped like a rock - from 145/95 to 85/50 within thirty seconds. It took several minutes for the pain to subside and the numbness to fade. Did it help? Yes, but I don&#039;t think I&#039;ll use it again.\"\n",
      "\n",
      "\"I was placed on Minastrin 24 FE after I complained about horrible 5-7 day periods, a week off, then 4 days of spotting that has been happening for 14 months. My doc said this would stop the 2nd spotting period I had every month. She also signed me up for a pelvic ultrasond. Well since I have been on the pill I have had a whole month of bleeding, not spotting. I&#039;m exhausted and can&#039;t even go to work till 10am now cause the bleeding is soooo bad from 5am to 9am. Now I will say they did find a rather large polyp on my utereus during the ultrasound so I will have it surgically removed next week... so maybe the intense bleeding is a combo of the low dose estrogen and polyp. I just hate that the bleeding was so intense as soon as iIstarted this pill.\"\n",
      "\n",
      "\"Well, At the beginning of Feb. 2016 I had a bad sinus and ear infection. Clinic gave me Augmentin. after 3 days the infecton went into my lungs and the Dr. said Bronchitis. I finished the Augmentin and was stil very sick and coughing like mad. I told the Dr. It feels like razor blades when I cough and he scheduled me for another appointment asap. I said please x-ray my chest, I know there&#039;s something wrong.  Yep, the x-ray showed Pneumonia in my right lung, Left lung looked ok. He Prescribed Levaquin(Levofloxacin) and yes, It has been 7 days now and I have had the worst insomnia and nervousness. For awhile there I felt like I might die. It was very scary. But I am feeling better but still get breathless and weak. I hope by day 10, I am clear\"\n",
      "\n",
      "Mis-predicted low rating\n",
      "--------------------------\n",
      "\"Yes, this medication works. It works very well for chronic anxiety disorder and  sudden onsets of severe panic attacks. Knowing what I know now, I wish with all my being it had never ever been prescribed to me, and without the absurd nonchalance dozens of practitioners have portrayed. \r",
      "\r\n",
      "I&#039;m 32 and have been prescribed clonazopam for 14 years. Ive been in situations where my health insurance is in transition and I must go off the medication abruptly-- this is when I realized how deep I was. Weeks upon weeks of non stop physical, emotional, and psychological withdrawal effects that are like hell. Words cannot accurately describe just how awful it is. This, again, has been my experience during withdrawal as a long term clonazopam patient. \r",
      "\r\n",
      "All skin, especially the face, becomes numb. Vision gets fuzzy and difficult to see clearly. Panic attacks become extremely exasperated, frequent and debilitating. Severe irritability. Worst of all: a terrifying disconnection between your mind and body; as if you&#039;re an onlooker watching and feeling this horrible thing happen to you, but not actually feeling connected to any of it-- that one is tough to explain. All of this... It can lasts months, maybe more. That&#039;s right. Not just some one week hump to overcome. \r",
      "\r\n",
      "After finding how awful the withdrawal is I&#039;ve been attempting to ween very very slowly down from 3 2mg doses per day to eventually zero, hopefully. After six months of gradually decreases in dose I&#039;m now at 2- 1mg doses per day and I&#039;m not sure how or if I can go much less than that. No doctors I&#039;ve had have been of any help. The ween down was my idea and the rate of it was also my idea based on experience. It sure would be nice to meet a doctor that truly had knowledge of this withdrawal syndrome and took it a bit more seriously. I am confident that the medication is no longer treating my anxiety disorder, but simply preventing withdrawal from the meds themselves. And there don&#039;t seem to be any good alternatives. It&#039;s a long road ahead, please think it over and over with someone knowledgeable before being so quick to embrace this miracle drug. The truth is that most of us actually need very real psychotherapy, not chemicals that run our lives. \r",
      "\r\n",
      "Once again, all my point of view from my personal experience. It feels very good to share this.\"\n",
      "\n",
      "\"I have degenerative disc disease and had spinal fusion and stenosis surgery in my lower back. For years I have been on Norco 7.5mg/325 (1 pill 4x a day as needed.) and for the most part that took care of my pain. Roughly the past year my dr decided to reduce the Norco by half and added MS Contin. 15mg 1 pill twice a  day. It didn&#039;t help much. For me it takes the MS Contin three hours for me to notice any difference and it only helps for about six hours leaving three hours before I can take another. He upped it to 30mg in the morning and 15mg at night. Still not seeing anything different. This Friday I am going to ask him if I can just go back on the Norco at my old regiment. It seemed to work better for me then these extended release meds.\"\n",
      "\n",
      "\"I took Apriso for a year and it was successful in treating my ulcerative colitis. I was then switched to Asacol HD.  My prescription plan eventually decided Asacol HD was too expensive and I was put back on Apriso.  This second course on Apriso was not successful.  It did nothing to alleviate my Ulcerative Colitis symptoms, and produced a number of unpleasant side affects - the worst of which was moderate-to-severe stomach cramps around the clock - even waking me from sound sleep.  Coupled with an incredibly dry mouth that invited multiple canker sores to erupt in my mouth, these symptoms made eating anything very unpleasant;   I lost 15 lbs in the three weeks I was on the Apriso.  As soon as I stopped taking it, the cramping and canker sores disappeared.\"\n",
      "\n",
      "\"I took Apriso for a year and it was successful in treating my ulcerative colitis. I was then switched to Asacol HD.  My prescription plan eventually decided Asacol HD was too expensive and I was put back on Apriso.  This second course on Apriso was not successful.  It did nothing to alleviate my Ulcerative Colitis symptoms, and produced a number of unpleasant side affects - the worst of which was moderate-to-severe stomach cramps around the clock - even waking me from sound sleep.  Coupled with an incredibly dry mouth that invited multiple canker sores to erupt in my mouth, these symptoms made eating anything very unpleasant;   I lost 15 lbs in the three weeks I was on the Apriso.  As soon as I stopped taking it, the cramping and canker sores disappeared.\"\n",
      "\n",
      "\"I have been taking 105mg slow release of phendimetrazine, once a day for 3 months. I haven&#039;t experienced any bad side affects. It has curbed my wild cravings &amp; making it possible to cut my caloric intake from 3500 a day to 1500 - 1700 a day. I don&#039;t really exercise, but I get up &amp; move &amp; leave the house, whereas before I didn&#039;t move off the bed or couch &amp; didn&#039;t leave the house but once a week  My only problem is, I have only lost 3 pounds. I don&#039;t drink sodas, I use sugarless foods &amp; try not to eat any bad carbs. I am basically eating meat (beef, chicken &amp; lean pork), yogurt, green veggies &amp; a protein drink with a banana &amp; blueberries. I am very depressed over this. I used to eat cookies, cakes &amp; all kinds of bad snacks, now I don&#039;t.\"\n",
      "\n"
     ]
    }
   ],
   "source": [
    "x, y = make_xy(df, vectorizer)\n",
    "\n",
    "prob = clf.predict_proba(x)[:, 0]\n",
    "predict = clf.predict(x)\n",
    "\n",
    "bad_highrating = np.argsort(prob[y == 0])[:5]\n",
    "bad_lowrating = np.argsort(prob[y == 1])[-5:]\n",
    "\n",
    "print(\"Mis-predicted high rating\")\n",
    "print('---------------------------')\n",
    "for row in bad_highrating:\n",
    "    print(df[y == 0].review.iloc[row])\n",
    "    print(\"\")\n",
    "\n",
    "print(\"Mis-predicted low rating\")\n",
    "print('--------------------------')\n",
    "for row in bad_lowrating:\n",
    "    print(df[y == 1].review.iloc[row])\n",
    "    print(\"\")"
   ]
  },
  {
   "cell_type": "code",
   "execution_count": null,
   "metadata": {},
   "outputs": [],
   "source": []
  }
 ],
 "metadata": {
  "kernelspec": {
   "display_name": "Python 3",
   "language": "python",
   "name": "python3"
  },
  "language_info": {
   "codemirror_mode": {
    "name": "ipython",
    "version": 3
   },
   "file_extension": ".py",
   "mimetype": "text/x-python",
   "name": "python",
   "nbconvert_exporter": "python",
   "pygments_lexer": "ipython3",
   "version": "3.8.5"
  },
  "toc": {
   "base_numbering": 1,
   "nav_menu": {},
   "number_sections": true,
   "sideBar": true,
   "skip_h1_title": false,
   "title_cell": "Table of Contents",
   "title_sidebar": "Contents",
   "toc_cell": true,
   "toc_position": {
    "height": "calc(100% - 180px)",
    "left": "10px",
    "top": "150px",
    "width": "287.796875px"
   },
   "toc_section_display": true,
   "toc_window_display": true
  }
 },
 "nbformat": 4,
 "nbformat_minor": 4
}
