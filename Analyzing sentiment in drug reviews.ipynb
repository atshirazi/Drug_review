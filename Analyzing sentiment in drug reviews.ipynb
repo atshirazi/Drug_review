{
 "cells": [
  {
   "cell_type": "markdown",
   "metadata": {
    "toc": true
   },
   "source": [
    "<h1>Table of Contents<span class=\"tocSkip\"></span></h1>\n",
    "<div class=\"toc\"><ul class=\"toc-item\"><li><span><a href=\"#Introduction\" data-toc-modified-id=\"Introduction-1\"><span class=\"toc-item-num\">1&nbsp;&nbsp;</span>Introduction</a></span></li><li><span><a href=\"#Data-wrangling\" data-toc-modified-id=\"Data-wrangling-2\"><span class=\"toc-item-num\">2&nbsp;&nbsp;</span>Data wrangling</a></span><ul class=\"toc-item\"><li><span><a href=\"#Dropping-the-null-values-in-the-train-and-test-sets\" data-toc-modified-id=\"Dropping-the-null-values-in-the-train-and-test-sets-2.1\"><span class=\"toc-item-num\">2.1&nbsp;&nbsp;</span>Dropping the null values in the train and test sets</a></span></li><li><span><a href=\"#Polarity-and-subjectivity\" data-toc-modified-id=\"Polarity-and-subjectivity-2.2\"><span class=\"toc-item-num\">2.2&nbsp;&nbsp;</span>Polarity and subjectivity</a></span><ul class=\"toc-item\"><li><span><a href=\"#Negative-polarity-binary-column\" data-toc-modified-id=\"Negative-polarity-binary-column-2.2.1\"><span class=\"toc-item-num\">2.2.1&nbsp;&nbsp;</span>Negative-polarity binary column</a></span></li></ul></li><li><span><a href=\"#Rating-column\" data-toc-modified-id=\"Rating-column-2.3\"><span class=\"toc-item-num\">2.3&nbsp;&nbsp;</span>Rating column</a></span><ul class=\"toc-item\"><li><span><a href=\"#Countplot\" data-toc-modified-id=\"Countplot-2.3.1\"><span class=\"toc-item-num\">2.3.1&nbsp;&nbsp;</span>Countplot</a></span></li><li><span><a href=\"#Ratings-grouping\" data-toc-modified-id=\"Ratings-grouping-2.3.2\"><span class=\"toc-item-num\">2.3.2&nbsp;&nbsp;</span>Ratings grouping</a></span></li><li><span><a href=\"#Binary-low-rating-column\" data-toc-modified-id=\"Binary-low-rating-column-2.3.3\"><span class=\"toc-item-num\">2.3.3&nbsp;&nbsp;</span>Binary low-rating column</a></span></li></ul></li><li><span><a href=\"#Unknown-conditions\" data-toc-modified-id=\"Unknown-conditions-2.4\"><span class=\"toc-item-num\">2.4&nbsp;&nbsp;</span>Unknown conditions</a></span></li><li><span><a href=\"#Drugs-with-more-than-100-reviews\" data-toc-modified-id=\"Drugs-with-more-than-100-reviews-2.5\"><span class=\"toc-item-num\">2.5&nbsp;&nbsp;</span>Drugs with more than 100 reviews</a></span></li><li><span><a href=\"#Conditions-with-more-than-100-reviews\" data-toc-modified-id=\"Conditions-with-more-than-100-reviews-2.6\"><span class=\"toc-item-num\">2.6&nbsp;&nbsp;</span>Conditions with more than 100 reviews</a></span></li></ul></li><li><span><a href=\"#EDA\" data-toc-modified-id=\"EDA-3\"><span class=\"toc-item-num\">3&nbsp;&nbsp;</span>EDA</a></span><ul class=\"toc-item\"><li><span><a href=\"#Which-patients-tend-to-have-more-negative-reviews?\" data-toc-modified-id=\"Which-patients-tend-to-have-more-negative-reviews?-3.1\"><span class=\"toc-item-num\">3.1&nbsp;&nbsp;</span>Which patients tend to have more negative reviews?</a></span><ul class=\"toc-item\"><li><span><a href=\"#Conditions-with-more-negative-reviews\" data-toc-modified-id=\"Conditions-with-more-negative-reviews-3.1.1\"><span class=\"toc-item-num\">3.1.1&nbsp;&nbsp;</span>Conditions with more negative reviews</a></span><ul class=\"toc-item\"><li><span><a href=\"#Top-patient-conditions\" data-toc-modified-id=\"Top-patient-conditions-3.1.1.1\"><span class=\"toc-item-num\">3.1.1.1&nbsp;&nbsp;</span>Top patient conditions</a></span></li><li><span><a href=\"#Lowest-patient-conditions\" data-toc-modified-id=\"Lowest-patient-conditions-3.1.1.2\"><span class=\"toc-item-num\">3.1.1.2&nbsp;&nbsp;</span>Lowest patient conditions</a></span></li></ul></li><li><span><a href=\"#Drugs-with-more-negative-reviews\" data-toc-modified-id=\"Drugs-with-more-negative-reviews-3.1.2\"><span class=\"toc-item-num\">3.1.2&nbsp;&nbsp;</span>Drugs with more negative reviews</a></span><ul class=\"toc-item\"><li><span><a href=\"#Top-drugs\" data-toc-modified-id=\"Top-drugs-3.1.2.1\"><span class=\"toc-item-num\">3.1.2.1&nbsp;&nbsp;</span>Top drugs</a></span></li><li><span><a href=\"#Least-drugs\" data-toc-modified-id=\"Least-drugs-3.1.2.2\"><span class=\"toc-item-num\">3.1.2.2&nbsp;&nbsp;</span>Least drugs</a></span></li></ul></li></ul></li><li><span><a href=\"#Low-rated-drugs\" data-toc-modified-id=\"Low-rated-drugs-3.2\"><span class=\"toc-item-num\">3.2&nbsp;&nbsp;</span>Low-rated drugs</a></span><ul class=\"toc-item\"><li><span><a href=\"#Top-patient-conditions-with-low-ratings\" data-toc-modified-id=\"Top-patient-conditions-with-low-ratings-3.2.1\"><span class=\"toc-item-num\">3.2.1&nbsp;&nbsp;</span>Top patient conditions with low ratings</a></span></li><li><span><a href=\"#Least-patient-conditions-with-low-ratings\" data-toc-modified-id=\"Least-patient-conditions-with-low-ratings-3.2.2\"><span class=\"toc-item-num\">3.2.2&nbsp;&nbsp;</span>Least patient conditions with low ratings</a></span></li><li><span><a href=\"#Top-low-rated-drugs\" data-toc-modified-id=\"Top-low-rated-drugs-3.2.3\"><span class=\"toc-item-num\">3.2.3&nbsp;&nbsp;</span>Top low-rated drugs</a></span></li><li><span><a href=\"#Least-low-rated-drugs\" data-toc-modified-id=\"Least-low-rated-drugs-3.2.4\"><span class=\"toc-item-num\">3.2.4&nbsp;&nbsp;</span>Least low-rated drugs</a></span></li></ul></li></ul></li><li><span><a href=\"#Classification-Predict-the-low-rating-(rating-&lt;4)-drugs-based-on-the-review.\" data-toc-modified-id=\"Classification-Predict-the-low-rating-(rating-<4)-drugs-based-on-the-review.-4\"><span class=\"toc-item-num\">4&nbsp;&nbsp;</span>Classification-Predict the low-rating (rating &lt;4) drugs based on the review.</a></span><ul class=\"toc-item\"><li><span><a href=\"#Preprocessing\" data-toc-modified-id=\"Preprocessing-4.1\"><span class=\"toc-item-num\">4.1&nbsp;&nbsp;</span>Preprocessing</a></span></li><li><span><a href=\"#MultinomialNB\" data-toc-modified-id=\"MultinomialNB-4.2\"><span class=\"toc-item-num\">4.2&nbsp;&nbsp;</span>MultinomialNB</a></span></li><li><span><a href=\"#Best-predictive-words\" data-toc-modified-id=\"Best-predictive-words-4.3\"><span class=\"toc-item-num\">4.3&nbsp;&nbsp;</span>Best predictive words</a></span></li><li><span><a href=\"#Sample-mis-predicted-ratings\" data-toc-modified-id=\"Sample-mis-predicted-ratings-4.4\"><span class=\"toc-item-num\">4.4&nbsp;&nbsp;</span>Sample mis-predicted ratings</a></span></li><li><span><a href=\"#Wordcloud\" data-toc-modified-id=\"Wordcloud-4.5\"><span class=\"toc-item-num\">4.5&nbsp;&nbsp;</span>Wordcloud</a></span></li></ul></li></ul></div>"
   ]
  },
  {
   "cell_type": "code",
   "execution_count": 1,
   "metadata": {},
   "outputs": [],
   "source": [
    "import pandas as pd\n",
    "#import dataframe_image as dfi\n",
    "import os\n",
    "import numpy as np\n",
    "import datetime as dt\n",
    "import seaborn as sns\n",
    "import matplotlib.pyplot as plt\n",
    "import pandas_profiling\n",
    "import statsmodels.api as sm\n",
    "import re\n",
    "import nltk\n",
    "import spacy\n",
    "import math\n",
    "import sklearn\n",
    "\n",
    "from pandas_profiling.utils.cache import cache_file\n",
    "\n",
    "from sklearn import metrics, datasets, linear_model, preprocessing\n",
    "from sklearn.linear_model import LogisticRegression, Lasso, Ridge\n",
    "from sklearn.model_selection import train_test_split, KFold, RandomizedSearchCV, cross_val_score, GridSearchCV, StratifiedKFold\n",
    "from sklearn.cluster import KMeans\n",
    "from sklearn.neighbors import KNeighborsClassifier\n",
    "from sklearn.metrics import roc_curve, roc_auc_score, accuracy_score, confusion_matrix, classification_report, precision_recall_curve, mean_squared_error, f1_score, plot_confusion_matrix  \n",
    "from sklearn.tree import DecisionTreeClassifier\n",
    "from sklearn.svm import SVC, LinearSVC\n",
    "from sklearn.preprocessing import scale, StandardScaler\n",
    "from sklearn.pipeline import Pipeline\n",
    "from sklearn.feature_extraction.text import CountVectorizer, TfidfVectorizer, TfidfTransformer\n",
    "from sklearn.naive_bayes import MultinomialNB\n",
    "from sklearn.ensemble import RandomForestRegressor, RandomForestClassifier \n",
    "\n",
    "from nltk.tokenize import word_tokenize, sent_tokenize\n",
    "from collections import Counter\n",
    "from textblob import TextBlob\n",
    "from wordcloud import WordCloud\n",
    "import scipy.sparse\n",
    "import seaborn as sns\n",
    "import string\n",
    "\n",
    "#nltk.download('punkt')\n"
   ]
  },
  {
   "cell_type": "code",
   "execution_count": 2,
   "metadata": {},
   "outputs": [],
   "source": [
    "#print(os.getcwd())\n",
    "path=\"/Users/atousachaharsoughshirazi/drug_review\"\n",
    "os.chdir(path)\n",
    "file_train=\"drugsComTrain_raw.csv\"\n",
    "df=pd.read_csv(file_train, header=0)\n",
    "file_test=\"drugsComTest_raw.csv\"\n",
    "df_test=pd.read_csv(file_test, header=0)"
   ]
  },
  {
   "cell_type": "markdown",
   "metadata": {},
   "source": [
    "# Introduction\n",
    "\n",
    "Pharmaceutical companies develop drugs based on intensive research and clinical trials. However, clinical trials provide a limited resource to examine the drugs and their side effects, and the patients' reviews after mass production are a great source of information for pharmaceutical companies to learn more about customer reaction to their products, discover potential problems before they occur, and better allocate their resources. . In this project, we will aim to predict whether or not a customer review is negative (rating <4) and analyze what indicators in a review make it most likely to be negative for different types of drugs.  Some problems that we address in this project are:\n",
    "\n",
    "* Classification: Can we predict the rating of the drug based on the review?\n",
    "* Sentiment analysis: Determine if a review is positive, neutral, or negative. Which patients tend to have more negative reviews? What elements of a review make it more helpful to others?\n",
    "\n",
    "This data set contains patients review and rating of 3436 different drugs. The condition of the patients for which the drug is taken is given and the number of people who found the review useful. The data set is big and there are about 161,000 reviews. \n"
   ]
  },
  {
   "cell_type": "markdown",
   "metadata": {},
   "source": [
    "# Data wrangling"
   ]
  },
  {
   "cell_type": "code",
   "execution_count": 3,
   "metadata": {},
   "outputs": [
    {
     "data": {
      "text/html": [
       "<div>\n",
       "<style scoped>\n",
       "    .dataframe tbody tr th:only-of-type {\n",
       "        vertical-align: middle;\n",
       "    }\n",
       "\n",
       "    .dataframe tbody tr th {\n",
       "        vertical-align: top;\n",
       "    }\n",
       "\n",
       "    .dataframe thead th {\n",
       "        text-align: right;\n",
       "    }\n",
       "</style>\n",
       "<table border=\"1\" class=\"dataframe\">\n",
       "  <thead>\n",
       "    <tr style=\"text-align: right;\">\n",
       "      <th></th>\n",
       "      <th>uniqueID</th>\n",
       "      <th>drugName</th>\n",
       "      <th>condition</th>\n",
       "      <th>review</th>\n",
       "      <th>rating</th>\n",
       "      <th>date</th>\n",
       "      <th>usefulCount</th>\n",
       "    </tr>\n",
       "  </thead>\n",
       "  <tbody>\n",
       "    <tr>\n",
       "      <th>0</th>\n",
       "      <td>206461</td>\n",
       "      <td>Valsartan</td>\n",
       "      <td>Left Ventricular Dysfunction</td>\n",
       "      <td>\"It has no side effect, I take it in combinati...</td>\n",
       "      <td>9</td>\n",
       "      <td>20-May-12</td>\n",
       "      <td>27</td>\n",
       "    </tr>\n",
       "    <tr>\n",
       "      <th>1</th>\n",
       "      <td>95260</td>\n",
       "      <td>Guanfacine</td>\n",
       "      <td>ADHD</td>\n",
       "      <td>\"My son is halfway through his fourth week of ...</td>\n",
       "      <td>8</td>\n",
       "      <td>27-Apr-10</td>\n",
       "      <td>192</td>\n",
       "    </tr>\n",
       "    <tr>\n",
       "      <th>2</th>\n",
       "      <td>92703</td>\n",
       "      <td>Lybrel</td>\n",
       "      <td>Birth Control</td>\n",
       "      <td>\"I used to take another oral contraceptive, wh...</td>\n",
       "      <td>5</td>\n",
       "      <td>14-Dec-09</td>\n",
       "      <td>17</td>\n",
       "    </tr>\n",
       "    <tr>\n",
       "      <th>3</th>\n",
       "      <td>138000</td>\n",
       "      <td>Ortho Evra</td>\n",
       "      <td>Birth Control</td>\n",
       "      <td>\"This is my first time using any form of birth...</td>\n",
       "      <td>8</td>\n",
       "      <td>3-Nov-15</td>\n",
       "      <td>10</td>\n",
       "    </tr>\n",
       "    <tr>\n",
       "      <th>4</th>\n",
       "      <td>35696</td>\n",
       "      <td>Buprenorphine / naloxone</td>\n",
       "      <td>Opiate Dependence</td>\n",
       "      <td>\"Suboxone has completely turned my life around...</td>\n",
       "      <td>9</td>\n",
       "      <td>27-Nov-16</td>\n",
       "      <td>37</td>\n",
       "    </tr>\n",
       "  </tbody>\n",
       "</table>\n",
       "</div>"
      ],
      "text/plain": [
       "   uniqueID                  drugName                     condition  \\\n",
       "0    206461                 Valsartan  Left Ventricular Dysfunction   \n",
       "1     95260                Guanfacine                          ADHD   \n",
       "2     92703                    Lybrel                 Birth Control   \n",
       "3    138000                Ortho Evra                 Birth Control   \n",
       "4     35696  Buprenorphine / naloxone             Opiate Dependence   \n",
       "\n",
       "                                              review  rating       date  \\\n",
       "0  \"It has no side effect, I take it in combinati...       9  20-May-12   \n",
       "1  \"My son is halfway through his fourth week of ...       8  27-Apr-10   \n",
       "2  \"I used to take another oral contraceptive, wh...       5  14-Dec-09   \n",
       "3  \"This is my first time using any form of birth...       8   3-Nov-15   \n",
       "4  \"Suboxone has completely turned my life around...       9  27-Nov-16   \n",
       "\n",
       "   usefulCount  \n",
       "0           27  \n",
       "1          192  \n",
       "2           17  \n",
       "3           10  \n",
       "4           37  "
      ]
     },
     "execution_count": 3,
     "metadata": {},
     "output_type": "execute_result"
    }
   ],
   "source": [
    "df.head()"
   ]
  },
  {
   "cell_type": "code",
   "execution_count": 4,
   "metadata": {},
   "outputs": [
    {
     "data": {
      "text/plain": [
       "(161297, 7)"
      ]
     },
     "execution_count": 4,
     "metadata": {},
     "output_type": "execute_result"
    }
   ],
   "source": [
    "df.shape"
   ]
  },
  {
   "cell_type": "code",
   "execution_count": 5,
   "metadata": {},
   "outputs": [
    {
     "name": "stdout",
     "output_type": "stream",
     "text": [
      "<class 'pandas.core.frame.DataFrame'>\n",
      "RangeIndex: 161297 entries, 0 to 161296\n",
      "Data columns (total 7 columns):\n",
      " #   Column       Non-Null Count   Dtype \n",
      "---  ------       --------------   ----- \n",
      " 0   uniqueID     161297 non-null  int64 \n",
      " 1   drugName     161297 non-null  object\n",
      " 2   condition    160398 non-null  object\n",
      " 3   review       161297 non-null  object\n",
      " 4   rating       161297 non-null  int64 \n",
      " 5   date         161297 non-null  object\n",
      " 6   usefulCount  161297 non-null  int64 \n",
      "dtypes: int64(3), object(4)\n",
      "memory usage: 8.6+ MB\n"
     ]
    }
   ],
   "source": [
    "df.info()"
   ]
  },
  {
   "cell_type": "code",
   "execution_count": 6,
   "metadata": {},
   "outputs": [
    {
     "name": "stdout",
     "output_type": "stream",
     "text": [
      "uniqueID 161297\n",
      "drugName 3436\n",
      "condition 884\n",
      "review 112329\n",
      "rating 10\n",
      "date 3579\n",
      "usefulCount 389\n"
     ]
    }
   ],
   "source": [
    "#Unique values in the train data set\n",
    "column_list = df.columns.values.tolist()\n",
    "for column_name in column_list:\n",
    "    print(column_name, df[column_name].nunique())"
   ]
  },
  {
   "cell_type": "code",
   "execution_count": 7,
   "metadata": {},
   "outputs": [
    {
     "name": "stdout",
     "output_type": "stream",
     "text": [
      "uniqueID 53766\n",
      "drugName 2637\n",
      "condition 708\n",
      "review 48280\n",
      "rating 10\n",
      "date 3566\n",
      "usefulCount 325\n"
     ]
    }
   ],
   "source": [
    "#Unique values in the test data set\n",
    "column_list = df_test.columns.values.tolist()\n",
    "for column_name in column_list:\n",
    "    print(column_name, df_test[column_name].nunique())"
   ]
  },
  {
   "cell_type": "code",
   "execution_count": 8,
   "metadata": {},
   "outputs": [
    {
     "data": {
      "text/plain": [
       "32"
      ]
     },
     "execution_count": 8,
     "metadata": {},
     "output_type": "execute_result"
    }
   ],
   "source": [
    "#There are 32 unique conditions in the test set that are not in the train set\n",
    "A=set(df.condition.values)\n",
    "B=set(df_test.condition.values)\n",
    "len(B.difference(A))"
   ]
  },
  {
   "cell_type": "code",
   "execution_count": 9,
   "metadata": {},
   "outputs": [
    {
     "data": {
      "text/plain": [
       "208"
      ]
     },
     "execution_count": 9,
     "metadata": {},
     "output_type": "execute_result"
    }
   ],
   "source": [
    "#There are 208 unique conditions in the train set that are not in the test set\n",
    "len(A.difference(B))"
   ]
  },
  {
   "cell_type": "code",
   "execution_count": 10,
   "metadata": {},
   "outputs": [
    {
     "data": {
      "text/plain": [
       "1034"
      ]
     },
     "execution_count": 10,
     "metadata": {},
     "output_type": "execute_result"
    }
   ],
   "source": [
    "#There are 1034 drug names that are in the train data set and not in the test data set\n",
    "C=set(df.drugName.values)\n",
    "D=set(df_test.drugName.values)\n",
    "len(C.difference(D))"
   ]
  },
  {
   "cell_type": "code",
   "execution_count": 11,
   "metadata": {},
   "outputs": [
    {
     "data": {
      "text/plain": [
       "235"
      ]
     },
     "execution_count": 11,
     "metadata": {},
     "output_type": "execute_result"
    }
   ],
   "source": [
    "#There are 235 drug names that are in the test data set and not in the train data set\n",
    "len(D.difference(C))"
   ]
  },
  {
   "cell_type": "markdown",
   "metadata": {},
   "source": [
    "## Dropping the null values in the train and test sets"
   ]
  },
  {
   "cell_type": "code",
   "execution_count": 12,
   "metadata": {},
   "outputs": [
    {
     "data": {
      "text/plain": [
       "True"
      ]
     },
     "execution_count": 12,
     "metadata": {},
     "output_type": "execute_result"
    }
   ],
   "source": [
    "df.isna().any().any()"
   ]
  },
  {
   "cell_type": "code",
   "execution_count": 13,
   "metadata": {},
   "outputs": [
    {
     "data": {
      "text/plain": [
       "899"
      ]
     },
     "execution_count": 13,
     "metadata": {},
     "output_type": "execute_result"
    }
   ],
   "source": [
    "df.isna().sum().sum()"
   ]
  },
  {
   "cell_type": "code",
   "execution_count": 14,
   "metadata": {},
   "outputs": [
    {
     "name": "stdout",
     "output_type": "stream",
     "text": [
      "Column with lowest amount of missings contains 0.0 % missings.\n",
      "Column with highest amount of missings contains 0.5573569254232875 % missings.\n"
     ]
    }
   ],
   "source": [
    "temp = df.isna().sum()/(len(df))*100\n",
    "print(\"Column with lowest amount of missings contains {} % missings.\".format(temp.min()))\n",
    "print(\"Column with highest amount of missings contains {} % missings.\".format(temp.max()))\n"
   ]
  },
  {
   "cell_type": "code",
   "execution_count": 15,
   "metadata": {},
   "outputs": [
    {
     "data": {
      "text/plain": [
       "Index(['condition'], dtype='object')"
      ]
     },
     "execution_count": 15,
     "metadata": {},
     "output_type": "execute_result"
    }
   ],
   "source": [
    "df.loc[:, df.isnull().any()].columns"
   ]
  },
  {
   "cell_type": "code",
   "execution_count": 16,
   "metadata": {},
   "outputs": [],
   "source": [
    "df.dropna(inplace=True)"
   ]
  },
  {
   "cell_type": "code",
   "execution_count": 17,
   "metadata": {},
   "outputs": [
    {
     "data": {
      "text/plain": [
       "True"
      ]
     },
     "execution_count": 17,
     "metadata": {},
     "output_type": "execute_result"
    }
   ],
   "source": [
    "df_test.isna().any().any()"
   ]
  },
  {
   "cell_type": "code",
   "execution_count": 18,
   "metadata": {},
   "outputs": [
    {
     "data": {
      "text/plain": [
       "295"
      ]
     },
     "execution_count": 18,
     "metadata": {},
     "output_type": "execute_result"
    }
   ],
   "source": [
    "df_test.isna().sum().sum()"
   ]
  },
  {
   "cell_type": "code",
   "execution_count": 19,
   "metadata": {},
   "outputs": [],
   "source": [
    "df_test.dropna(inplace=True)"
   ]
  },
  {
   "cell_type": "markdown",
   "metadata": {},
   "source": [
    "## Polarity and subjectivity"
   ]
  },
  {
   "cell_type": "code",
   "execution_count": 20,
   "metadata": {},
   "outputs": [],
   "source": [
    "df[['polarity', 'subjectivity']] = df['review'].apply(lambda text: pd.Series(TextBlob(text).sentiment))"
   ]
  },
  {
   "cell_type": "code",
   "execution_count": 21,
   "metadata": {},
   "outputs": [
    {
     "data": {
      "text/html": [
       "<div>\n",
       "<style scoped>\n",
       "    .dataframe tbody tr th:only-of-type {\n",
       "        vertical-align: middle;\n",
       "    }\n",
       "\n",
       "    .dataframe tbody tr th {\n",
       "        vertical-align: top;\n",
       "    }\n",
       "\n",
       "    .dataframe thead th {\n",
       "        text-align: right;\n",
       "    }\n",
       "</style>\n",
       "<table border=\"1\" class=\"dataframe\">\n",
       "  <thead>\n",
       "    <tr style=\"text-align: right;\">\n",
       "      <th></th>\n",
       "      <th>uniqueID</th>\n",
       "      <th>drugName</th>\n",
       "      <th>condition</th>\n",
       "      <th>review</th>\n",
       "      <th>rating</th>\n",
       "      <th>date</th>\n",
       "      <th>usefulCount</th>\n",
       "      <th>polarity</th>\n",
       "      <th>subjectivity</th>\n",
       "      <th>sentiment</th>\n",
       "    </tr>\n",
       "  </thead>\n",
       "  <tbody>\n",
       "    <tr>\n",
       "      <th>0</th>\n",
       "      <td>206461</td>\n",
       "      <td>Valsartan</td>\n",
       "      <td>Left Ventricular Dysfunction</td>\n",
       "      <td>\"It has no side effect, I take it in combinati...</td>\n",
       "      <td>9</td>\n",
       "      <td>20-May-12</td>\n",
       "      <td>27</td>\n",
       "      <td>0.000000</td>\n",
       "      <td>0.000000</td>\n",
       "      <td>neutral</td>\n",
       "    </tr>\n",
       "    <tr>\n",
       "      <th>1</th>\n",
       "      <td>95260</td>\n",
       "      <td>Guanfacine</td>\n",
       "      <td>ADHD</td>\n",
       "      <td>\"My son is halfway through his fourth week of ...</td>\n",
       "      <td>8</td>\n",
       "      <td>27-Apr-10</td>\n",
       "      <td>192</td>\n",
       "      <td>0.168333</td>\n",
       "      <td>0.431349</td>\n",
       "      <td>neutral</td>\n",
       "    </tr>\n",
       "    <tr>\n",
       "      <th>2</th>\n",
       "      <td>92703</td>\n",
       "      <td>Lybrel</td>\n",
       "      <td>Birth Control</td>\n",
       "      <td>\"I used to take another oral contraceptive, wh...</td>\n",
       "      <td>5</td>\n",
       "      <td>14-Dec-09</td>\n",
       "      <td>17</td>\n",
       "      <td>0.067210</td>\n",
       "      <td>0.402155</td>\n",
       "      <td>neutral</td>\n",
       "    </tr>\n",
       "    <tr>\n",
       "      <th>3</th>\n",
       "      <td>138000</td>\n",
       "      <td>Ortho Evra</td>\n",
       "      <td>Birth Control</td>\n",
       "      <td>\"This is my first time using any form of birth...</td>\n",
       "      <td>8</td>\n",
       "      <td>3-Nov-15</td>\n",
       "      <td>10</td>\n",
       "      <td>0.179545</td>\n",
       "      <td>0.665909</td>\n",
       "      <td>neutral</td>\n",
       "    </tr>\n",
       "    <tr>\n",
       "      <th>4</th>\n",
       "      <td>35696</td>\n",
       "      <td>Buprenorphine / naloxone</td>\n",
       "      <td>Opiate Dependence</td>\n",
       "      <td>\"Suboxone has completely turned my life around...</td>\n",
       "      <td>9</td>\n",
       "      <td>27-Nov-16</td>\n",
       "      <td>37</td>\n",
       "      <td>0.194444</td>\n",
       "      <td>0.401389</td>\n",
       "      <td>neutral</td>\n",
       "    </tr>\n",
       "  </tbody>\n",
       "</table>\n",
       "</div>"
      ],
      "text/plain": [
       "   uniqueID                  drugName                     condition  \\\n",
       "0    206461                 Valsartan  Left Ventricular Dysfunction   \n",
       "1     95260                Guanfacine                          ADHD   \n",
       "2     92703                    Lybrel                 Birth Control   \n",
       "3    138000                Ortho Evra                 Birth Control   \n",
       "4     35696  Buprenorphine / naloxone             Opiate Dependence   \n",
       "\n",
       "                                              review  rating       date  \\\n",
       "0  \"It has no side effect, I take it in combinati...       9  20-May-12   \n",
       "1  \"My son is halfway through his fourth week of ...       8  27-Apr-10   \n",
       "2  \"I used to take another oral contraceptive, wh...       5  14-Dec-09   \n",
       "3  \"This is my first time using any form of birth...       8   3-Nov-15   \n",
       "4  \"Suboxone has completely turned my life around...       9  27-Nov-16   \n",
       "\n",
       "   usefulCount  polarity  subjectivity sentiment  \n",
       "0           27  0.000000      0.000000   neutral  \n",
       "1          192  0.168333      0.431349   neutral  \n",
       "2           17  0.067210      0.402155   neutral  \n",
       "3           10  0.179545      0.665909   neutral  \n",
       "4           37  0.194444      0.401389   neutral  "
      ]
     },
     "execution_count": 21,
     "metadata": {},
     "output_type": "execute_result"
    }
   ],
   "source": [
    "bins = [-1 ,-0.6, -0.2, 0.2, 0.6, 1]\n",
    "labels = ['very negative', 'negative' , 'neutral', 'positive', 'very positive']\n",
    "df['sentiment'] = pd.cut(df.polarity, bins, labels = labels,include_lowest = True)\n",
    "\n",
    "df.head()"
   ]
  },
  {
   "cell_type": "markdown",
   "metadata": {},
   "source": [
    "### Negative-polarity binary column"
   ]
  },
  {
   "cell_type": "code",
   "execution_count": 22,
   "metadata": {},
   "outputs": [
    {
     "data": {
      "text/html": [
       "<div>\n",
       "<style scoped>\n",
       "    .dataframe tbody tr th:only-of-type {\n",
       "        vertical-align: middle;\n",
       "    }\n",
       "\n",
       "    .dataframe tbody tr th {\n",
       "        vertical-align: top;\n",
       "    }\n",
       "\n",
       "    .dataframe thead th {\n",
       "        text-align: right;\n",
       "    }\n",
       "</style>\n",
       "<table border=\"1\" class=\"dataframe\">\n",
       "  <thead>\n",
       "    <tr style=\"text-align: right;\">\n",
       "      <th></th>\n",
       "      <th>uniqueID</th>\n",
       "      <th>drugName</th>\n",
       "      <th>condition</th>\n",
       "      <th>review</th>\n",
       "      <th>rating</th>\n",
       "      <th>date</th>\n",
       "      <th>usefulCount</th>\n",
       "      <th>polarity</th>\n",
       "      <th>subjectivity</th>\n",
       "      <th>sentiment</th>\n",
       "      <th>negative_polarity_binary</th>\n",
       "    </tr>\n",
       "  </thead>\n",
       "  <tbody>\n",
       "    <tr>\n",
       "      <th>0</th>\n",
       "      <td>206461</td>\n",
       "      <td>Valsartan</td>\n",
       "      <td>Left Ventricular Dysfunction</td>\n",
       "      <td>\"It has no side effect, I take it in combinati...</td>\n",
       "      <td>9</td>\n",
       "      <td>20-May-12</td>\n",
       "      <td>27</td>\n",
       "      <td>0.000000</td>\n",
       "      <td>0.000000</td>\n",
       "      <td>neutral</td>\n",
       "      <td>positive</td>\n",
       "    </tr>\n",
       "    <tr>\n",
       "      <th>1</th>\n",
       "      <td>95260</td>\n",
       "      <td>Guanfacine</td>\n",
       "      <td>ADHD</td>\n",
       "      <td>\"My son is halfway through his fourth week of ...</td>\n",
       "      <td>8</td>\n",
       "      <td>27-Apr-10</td>\n",
       "      <td>192</td>\n",
       "      <td>0.168333</td>\n",
       "      <td>0.431349</td>\n",
       "      <td>neutral</td>\n",
       "      <td>positive</td>\n",
       "    </tr>\n",
       "    <tr>\n",
       "      <th>2</th>\n",
       "      <td>92703</td>\n",
       "      <td>Lybrel</td>\n",
       "      <td>Birth Control</td>\n",
       "      <td>\"I used to take another oral contraceptive, wh...</td>\n",
       "      <td>5</td>\n",
       "      <td>14-Dec-09</td>\n",
       "      <td>17</td>\n",
       "      <td>0.067210</td>\n",
       "      <td>0.402155</td>\n",
       "      <td>neutral</td>\n",
       "      <td>positive</td>\n",
       "    </tr>\n",
       "    <tr>\n",
       "      <th>3</th>\n",
       "      <td>138000</td>\n",
       "      <td>Ortho Evra</td>\n",
       "      <td>Birth Control</td>\n",
       "      <td>\"This is my first time using any form of birth...</td>\n",
       "      <td>8</td>\n",
       "      <td>3-Nov-15</td>\n",
       "      <td>10</td>\n",
       "      <td>0.179545</td>\n",
       "      <td>0.665909</td>\n",
       "      <td>neutral</td>\n",
       "      <td>positive</td>\n",
       "    </tr>\n",
       "    <tr>\n",
       "      <th>4</th>\n",
       "      <td>35696</td>\n",
       "      <td>Buprenorphine / naloxone</td>\n",
       "      <td>Opiate Dependence</td>\n",
       "      <td>\"Suboxone has completely turned my life around...</td>\n",
       "      <td>9</td>\n",
       "      <td>27-Nov-16</td>\n",
       "      <td>37</td>\n",
       "      <td>0.194444</td>\n",
       "      <td>0.401389</td>\n",
       "      <td>neutral</td>\n",
       "      <td>positive</td>\n",
       "    </tr>\n",
       "  </tbody>\n",
       "</table>\n",
       "</div>"
      ],
      "text/plain": [
       "   uniqueID                  drugName                     condition  \\\n",
       "0    206461                 Valsartan  Left Ventricular Dysfunction   \n",
       "1     95260                Guanfacine                          ADHD   \n",
       "2     92703                    Lybrel                 Birth Control   \n",
       "3    138000                Ortho Evra                 Birth Control   \n",
       "4     35696  Buprenorphine / naloxone             Opiate Dependence   \n",
       "\n",
       "                                              review  rating       date  \\\n",
       "0  \"It has no side effect, I take it in combinati...       9  20-May-12   \n",
       "1  \"My son is halfway through his fourth week of ...       8  27-Apr-10   \n",
       "2  \"I used to take another oral contraceptive, wh...       5  14-Dec-09   \n",
       "3  \"This is my first time using any form of birth...       8   3-Nov-15   \n",
       "4  \"Suboxone has completely turned my life around...       9  27-Nov-16   \n",
       "\n",
       "   usefulCount  polarity  subjectivity sentiment negative_polarity_binary  \n",
       "0           27  0.000000      0.000000   neutral                 positive  \n",
       "1          192  0.168333      0.431349   neutral                 positive  \n",
       "2           17  0.067210      0.402155   neutral                 positive  \n",
       "3           10  0.179545      0.665909   neutral                 positive  \n",
       "4           37  0.194444      0.401389   neutral                 positive  "
      ]
     },
     "execution_count": 22,
     "metadata": {},
     "output_type": "execute_result"
    }
   ],
   "source": [
    "bins = [-1,0, 1]\n",
    "labels = ['negative', 'positive']\n",
    "df['negative_polarity_binary'] = pd.cut(df.polarity, bins, labels = labels, right=False, include_lowest = True)\n",
    "\n",
    "df.head()"
   ]
  },
  {
   "cell_type": "code",
   "execution_count": 23,
   "metadata": {},
   "outputs": [
    {
     "data": {
      "text/html": [
       "<div>\n",
       "<style scoped>\n",
       "    .dataframe tbody tr th:only-of-type {\n",
       "        vertical-align: middle;\n",
       "    }\n",
       "\n",
       "    .dataframe tbody tr th {\n",
       "        vertical-align: top;\n",
       "    }\n",
       "\n",
       "    .dataframe thead th {\n",
       "        text-align: right;\n",
       "    }\n",
       "</style>\n",
       "<table border=\"1\" class=\"dataframe\">\n",
       "  <thead>\n",
       "    <tr style=\"text-align: right;\">\n",
       "      <th></th>\n",
       "      <th>uniqueID</th>\n",
       "      <th>drugName</th>\n",
       "      <th>condition</th>\n",
       "      <th>review</th>\n",
       "      <th>rating</th>\n",
       "      <th>date</th>\n",
       "      <th>usefulCount</th>\n",
       "      <th>polarity</th>\n",
       "      <th>subjectivity</th>\n",
       "      <th>sentiment</th>\n",
       "      <th>negative_polarity_binary</th>\n",
       "    </tr>\n",
       "  </thead>\n",
       "  <tbody>\n",
       "    <tr>\n",
       "      <th>0</th>\n",
       "      <td>206461</td>\n",
       "      <td>Valsartan</td>\n",
       "      <td>Left Ventricular Dysfunction</td>\n",
       "      <td>\"It has no side effect, I take it in combinati...</td>\n",
       "      <td>9</td>\n",
       "      <td>20-May-12</td>\n",
       "      <td>27</td>\n",
       "      <td>0.000000</td>\n",
       "      <td>0.000000</td>\n",
       "      <td>neutral</td>\n",
       "      <td>0.0</td>\n",
       "    </tr>\n",
       "    <tr>\n",
       "      <th>1</th>\n",
       "      <td>95260</td>\n",
       "      <td>Guanfacine</td>\n",
       "      <td>ADHD</td>\n",
       "      <td>\"My son is halfway through his fourth week of ...</td>\n",
       "      <td>8</td>\n",
       "      <td>27-Apr-10</td>\n",
       "      <td>192</td>\n",
       "      <td>0.168333</td>\n",
       "      <td>0.431349</td>\n",
       "      <td>neutral</td>\n",
       "      <td>0.0</td>\n",
       "    </tr>\n",
       "    <tr>\n",
       "      <th>2</th>\n",
       "      <td>92703</td>\n",
       "      <td>Lybrel</td>\n",
       "      <td>Birth Control</td>\n",
       "      <td>\"I used to take another oral contraceptive, wh...</td>\n",
       "      <td>5</td>\n",
       "      <td>14-Dec-09</td>\n",
       "      <td>17</td>\n",
       "      <td>0.067210</td>\n",
       "      <td>0.402155</td>\n",
       "      <td>neutral</td>\n",
       "      <td>0.0</td>\n",
       "    </tr>\n",
       "    <tr>\n",
       "      <th>3</th>\n",
       "      <td>138000</td>\n",
       "      <td>Ortho Evra</td>\n",
       "      <td>Birth Control</td>\n",
       "      <td>\"This is my first time using any form of birth...</td>\n",
       "      <td>8</td>\n",
       "      <td>3-Nov-15</td>\n",
       "      <td>10</td>\n",
       "      <td>0.179545</td>\n",
       "      <td>0.665909</td>\n",
       "      <td>neutral</td>\n",
       "      <td>0.0</td>\n",
       "    </tr>\n",
       "    <tr>\n",
       "      <th>4</th>\n",
       "      <td>35696</td>\n",
       "      <td>Buprenorphine / naloxone</td>\n",
       "      <td>Opiate Dependence</td>\n",
       "      <td>\"Suboxone has completely turned my life around...</td>\n",
       "      <td>9</td>\n",
       "      <td>27-Nov-16</td>\n",
       "      <td>37</td>\n",
       "      <td>0.194444</td>\n",
       "      <td>0.401389</td>\n",
       "      <td>neutral</td>\n",
       "      <td>0.0</td>\n",
       "    </tr>\n",
       "  </tbody>\n",
       "</table>\n",
       "</div>"
      ],
      "text/plain": [
       "   uniqueID                  drugName                     condition  \\\n",
       "0    206461                 Valsartan  Left Ventricular Dysfunction   \n",
       "1     95260                Guanfacine                          ADHD   \n",
       "2     92703                    Lybrel                 Birth Control   \n",
       "3    138000                Ortho Evra                 Birth Control   \n",
       "4     35696  Buprenorphine / naloxone             Opiate Dependence   \n",
       "\n",
       "                                              review  rating       date  \\\n",
       "0  \"It has no side effect, I take it in combinati...       9  20-May-12   \n",
       "1  \"My son is halfway through his fourth week of ...       8  27-Apr-10   \n",
       "2  \"I used to take another oral contraceptive, wh...       5  14-Dec-09   \n",
       "3  \"This is my first time using any form of birth...       8   3-Nov-15   \n",
       "4  \"Suboxone has completely turned my life around...       9  27-Nov-16   \n",
       "\n",
       "   usefulCount  polarity  subjectivity sentiment  negative_polarity_binary  \n",
       "0           27  0.000000      0.000000   neutral                       0.0  \n",
       "1          192  0.168333      0.431349   neutral                       0.0  \n",
       "2           17  0.067210      0.402155   neutral                       0.0  \n",
       "3           10  0.179545      0.665909   neutral                       0.0  \n",
       "4           37  0.194444      0.401389   neutral                       0.0  "
      ]
     },
     "execution_count": 23,
     "metadata": {},
     "output_type": "execute_result"
    }
   ],
   "source": [
    "df.negative_polarity_binary.replace(['negative','positive'],[1,0] ,inplace=True)\n",
    "df.head()"
   ]
  },
  {
   "cell_type": "code",
   "execution_count": 24,
   "metadata": {},
   "outputs": [
    {
     "data": {
      "text/plain": [
       "0.0    106642\n",
       "1.0     53030\n",
       "Name: negative_polarity_binary, dtype: int64"
      ]
     },
     "execution_count": 24,
     "metadata": {},
     "output_type": "execute_result"
    }
   ],
   "source": [
    "df.negative_polarity_binary.value_counts()"
   ]
  },
  {
   "cell_type": "markdown",
   "metadata": {},
   "source": [
    "## Rating column"
   ]
  },
  {
   "cell_type": "markdown",
   "metadata": {},
   "source": [
    "### Countplot"
   ]
  },
  {
   "cell_type": "code",
   "execution_count": 25,
   "metadata": {},
   "outputs": [
    {
     "data": {
      "image/png": "[encoded data removed]",
      "text/plain": [
       "<Figure size 432x288 with 1 Axes>"
      ]
     },
     "metadata": {
      "needs_background": "light"
     },
     "output_type": "display_data"
    }
   ],
   "source": [
    "sns_plot=sns.countplot(x=\"rating\", data=df)\n",
    "plt.tight_layout()\n",
    "plt.show()\n",
    "fig = sns_plot.get_figure()\n",
    "fig.savefig('/Users/atousachaharsoughshirazi/drug_review/figures/rating_countplot.png') "
   ]
  },
  {
   "cell_type": "markdown",
   "metadata": {},
   "source": [
    "### Ratings grouping"
   ]
  },
  {
   "cell_type": "code",
   "execution_count": 26,
   "metadata": {},
   "outputs": [
    {
     "data": {
      "text/html": [
       "<div>\n",
       "<style scoped>\n",
       "    .dataframe tbody tr th:only-of-type {\n",
       "        vertical-align: middle;\n",
       "    }\n",
       "\n",
       "    .dataframe tbody tr th {\n",
       "        vertical-align: top;\n",
       "    }\n",
       "\n",
       "    .dataframe thead th {\n",
       "        text-align: right;\n",
       "    }\n",
       "</style>\n",
       "<table border=\"1\" class=\"dataframe\">\n",
       "  <thead>\n",
       "    <tr style=\"text-align: right;\">\n",
       "      <th></th>\n",
       "      <th>uniqueID</th>\n",
       "      <th>drugName</th>\n",
       "      <th>condition</th>\n",
       "      <th>review</th>\n",
       "      <th>rating</th>\n",
       "      <th>date</th>\n",
       "      <th>usefulCount</th>\n",
       "      <th>polarity</th>\n",
       "      <th>subjectivity</th>\n",
       "      <th>sentiment</th>\n",
       "      <th>negative_polarity_binary</th>\n",
       "      <th>rating_groups</th>\n",
       "    </tr>\n",
       "  </thead>\n",
       "  <tbody>\n",
       "    <tr>\n",
       "      <th>0</th>\n",
       "      <td>206461</td>\n",
       "      <td>Valsartan</td>\n",
       "      <td>Left Ventricular Dysfunction</td>\n",
       "      <td>\"It has no side effect, I take it in combinati...</td>\n",
       "      <td>9</td>\n",
       "      <td>20-May-12</td>\n",
       "      <td>27</td>\n",
       "      <td>0.000000</td>\n",
       "      <td>0.000000</td>\n",
       "      <td>neutral</td>\n",
       "      <td>0.0</td>\n",
       "      <td>&gt;7</td>\n",
       "    </tr>\n",
       "    <tr>\n",
       "      <th>1</th>\n",
       "      <td>95260</td>\n",
       "      <td>Guanfacine</td>\n",
       "      <td>ADHD</td>\n",
       "      <td>\"My son is halfway through his fourth week of ...</td>\n",
       "      <td>8</td>\n",
       "      <td>27-Apr-10</td>\n",
       "      <td>192</td>\n",
       "      <td>0.168333</td>\n",
       "      <td>0.431349</td>\n",
       "      <td>neutral</td>\n",
       "      <td>0.0</td>\n",
       "      <td>&gt;7</td>\n",
       "    </tr>\n",
       "    <tr>\n",
       "      <th>2</th>\n",
       "      <td>92703</td>\n",
       "      <td>Lybrel</td>\n",
       "      <td>Birth Control</td>\n",
       "      <td>\"I used to take another oral contraceptive, wh...</td>\n",
       "      <td>5</td>\n",
       "      <td>14-Dec-09</td>\n",
       "      <td>17</td>\n",
       "      <td>0.067210</td>\n",
       "      <td>0.402155</td>\n",
       "      <td>neutral</td>\n",
       "      <td>0.0</td>\n",
       "      <td>4-7</td>\n",
       "    </tr>\n",
       "    <tr>\n",
       "      <th>3</th>\n",
       "      <td>138000</td>\n",
       "      <td>Ortho Evra</td>\n",
       "      <td>Birth Control</td>\n",
       "      <td>\"This is my first time using any form of birth...</td>\n",
       "      <td>8</td>\n",
       "      <td>3-Nov-15</td>\n",
       "      <td>10</td>\n",
       "      <td>0.179545</td>\n",
       "      <td>0.665909</td>\n",
       "      <td>neutral</td>\n",
       "      <td>0.0</td>\n",
       "      <td>&gt;7</td>\n",
       "    </tr>\n",
       "    <tr>\n",
       "      <th>4</th>\n",
       "      <td>35696</td>\n",
       "      <td>Buprenorphine / naloxone</td>\n",
       "      <td>Opiate Dependence</td>\n",
       "      <td>\"Suboxone has completely turned my life around...</td>\n",
       "      <td>9</td>\n",
       "      <td>27-Nov-16</td>\n",
       "      <td>37</td>\n",
       "      <td>0.194444</td>\n",
       "      <td>0.401389</td>\n",
       "      <td>neutral</td>\n",
       "      <td>0.0</td>\n",
       "      <td>&gt;7</td>\n",
       "    </tr>\n",
       "  </tbody>\n",
       "</table>\n",
       "</div>"
      ],
      "text/plain": [
       "   uniqueID                  drugName                     condition  \\\n",
       "0    206461                 Valsartan  Left Ventricular Dysfunction   \n",
       "1     95260                Guanfacine                          ADHD   \n",
       "2     92703                    Lybrel                 Birth Control   \n",
       "3    138000                Ortho Evra                 Birth Control   \n",
       "4     35696  Buprenorphine / naloxone             Opiate Dependence   \n",
       "\n",
       "                                              review  rating       date  \\\n",
       "0  \"It has no side effect, I take it in combinati...       9  20-May-12   \n",
       "1  \"My son is halfway through his fourth week of ...       8  27-Apr-10   \n",
       "2  \"I used to take another oral contraceptive, wh...       5  14-Dec-09   \n",
       "3  \"This is my first time using any form of birth...       8   3-Nov-15   \n",
       "4  \"Suboxone has completely turned my life around...       9  27-Nov-16   \n",
       "\n",
       "   usefulCount  polarity  subjectivity sentiment  negative_polarity_binary  \\\n",
       "0           27  0.000000      0.000000   neutral                       0.0   \n",
       "1          192  0.168333      0.431349   neutral                       0.0   \n",
       "2           17  0.067210      0.402155   neutral                       0.0   \n",
       "3           10  0.179545      0.665909   neutral                       0.0   \n",
       "4           37  0.194444      0.401389   neutral                       0.0   \n",
       "\n",
       "  rating_groups  \n",
       "0            >7  \n",
       "1            >7  \n",
       "2           4-7  \n",
       "3            >7  \n",
       "4            >7  "
      ]
     },
     "execution_count": 26,
     "metadata": {},
     "output_type": "execute_result"
    }
   ],
   "source": [
    "bins = [0 ,4, 7, np.inf]\n",
    "labels = ['<4', '4-7', '>7']\n",
    "df['rating_groups'] = pd.cut(df.rating, bins, labels = labels,include_lowest = True)\n",
    "\n",
    "df.head()"
   ]
  },
  {
   "cell_type": "code",
   "execution_count": 27,
   "metadata": {},
   "outputs": [
    {
     "data": {
      "text/plain": [
       "<AxesSubplot:xlabel='polarity', ylabel='Count'>"
      ]
     },
     "execution_count": 27,
     "metadata": {},
     "output_type": "execute_result"
    },
    {
     "data": {
      "image/png": "[encoded data removed]",
      "text/plain": [
       "<Figure size 432x288 with 1 Axes>"
      ]
     },
     "metadata": {
      "needs_background": "light"
     },
     "output_type": "display_data"
    }
   ],
   "source": [
    "sns.histplot(x=\"polarity\", data=df)"
   ]
  },
  {
   "cell_type": "markdown",
   "metadata": {},
   "source": [
    "### Binary low-rating column"
   ]
  },
  {
   "cell_type": "markdown",
   "metadata": {},
   "source": [
    "Later we are interested to investigate which patients tend to give low ratings (rating<4) and what elements in the reviews make a low rating. Therefore, it is useful to add a column and categorize the reviews as a separate binary group. Since we are interested in low rating reviews we will assign 1 to low ratings and 0 to others."
   ]
  },
  {
   "cell_type": "code",
   "execution_count": 28,
   "metadata": {},
   "outputs": [
    {
     "data": {
      "text/html": [
       "<div>\n",
       "<style scoped>\n",
       "    .dataframe tbody tr th:only-of-type {\n",
       "        vertical-align: middle;\n",
       "    }\n",
       "\n",
       "    .dataframe tbody tr th {\n",
       "        vertical-align: top;\n",
       "    }\n",
       "\n",
       "    .dataframe thead th {\n",
       "        text-align: right;\n",
       "    }\n",
       "</style>\n",
       "<table border=\"1\" class=\"dataframe\">\n",
       "  <thead>\n",
       "    <tr style=\"text-align: right;\">\n",
       "      <th></th>\n",
       "      <th>uniqueID</th>\n",
       "      <th>drugName</th>\n",
       "      <th>condition</th>\n",
       "      <th>review</th>\n",
       "      <th>rating</th>\n",
       "      <th>date</th>\n",
       "      <th>usefulCount</th>\n",
       "      <th>polarity</th>\n",
       "      <th>subjectivity</th>\n",
       "      <th>sentiment</th>\n",
       "      <th>negative_polarity_binary</th>\n",
       "      <th>rating_groups</th>\n",
       "      <th>low_rating_binary</th>\n",
       "    </tr>\n",
       "  </thead>\n",
       "  <tbody>\n",
       "    <tr>\n",
       "      <th>0</th>\n",
       "      <td>206461</td>\n",
       "      <td>Valsartan</td>\n",
       "      <td>Left Ventricular Dysfunction</td>\n",
       "      <td>\"It has no side effect, I take it in combinati...</td>\n",
       "      <td>9</td>\n",
       "      <td>20-May-12</td>\n",
       "      <td>27</td>\n",
       "      <td>0.000000</td>\n",
       "      <td>0.000000</td>\n",
       "      <td>neutral</td>\n",
       "      <td>0.0</td>\n",
       "      <td>&gt;7</td>\n",
       "      <td>0</td>\n",
       "    </tr>\n",
       "    <tr>\n",
       "      <th>1</th>\n",
       "      <td>95260</td>\n",
       "      <td>Guanfacine</td>\n",
       "      <td>ADHD</td>\n",
       "      <td>\"My son is halfway through his fourth week of ...</td>\n",
       "      <td>8</td>\n",
       "      <td>27-Apr-10</td>\n",
       "      <td>192</td>\n",
       "      <td>0.168333</td>\n",
       "      <td>0.431349</td>\n",
       "      <td>neutral</td>\n",
       "      <td>0.0</td>\n",
       "      <td>&gt;7</td>\n",
       "      <td>0</td>\n",
       "    </tr>\n",
       "    <tr>\n",
       "      <th>2</th>\n",
       "      <td>92703</td>\n",
       "      <td>Lybrel</td>\n",
       "      <td>Birth Control</td>\n",
       "      <td>\"I used to take another oral contraceptive, wh...</td>\n",
       "      <td>5</td>\n",
       "      <td>14-Dec-09</td>\n",
       "      <td>17</td>\n",
       "      <td>0.067210</td>\n",
       "      <td>0.402155</td>\n",
       "      <td>neutral</td>\n",
       "      <td>0.0</td>\n",
       "      <td>4-7</td>\n",
       "      <td>0</td>\n",
       "    </tr>\n",
       "    <tr>\n",
       "      <th>3</th>\n",
       "      <td>138000</td>\n",
       "      <td>Ortho Evra</td>\n",
       "      <td>Birth Control</td>\n",
       "      <td>\"This is my first time using any form of birth...</td>\n",
       "      <td>8</td>\n",
       "      <td>3-Nov-15</td>\n",
       "      <td>10</td>\n",
       "      <td>0.179545</td>\n",
       "      <td>0.665909</td>\n",
       "      <td>neutral</td>\n",
       "      <td>0.0</td>\n",
       "      <td>&gt;7</td>\n",
       "      <td>0</td>\n",
       "    </tr>\n",
       "    <tr>\n",
       "      <th>4</th>\n",
       "      <td>35696</td>\n",
       "      <td>Buprenorphine / naloxone</td>\n",
       "      <td>Opiate Dependence</td>\n",
       "      <td>\"Suboxone has completely turned my life around...</td>\n",
       "      <td>9</td>\n",
       "      <td>27-Nov-16</td>\n",
       "      <td>37</td>\n",
       "      <td>0.194444</td>\n",
       "      <td>0.401389</td>\n",
       "      <td>neutral</td>\n",
       "      <td>0.0</td>\n",
       "      <td>&gt;7</td>\n",
       "      <td>0</td>\n",
       "    </tr>\n",
       "  </tbody>\n",
       "</table>\n",
       "</div>"
      ],
      "text/plain": [
       "   uniqueID                  drugName                     condition  \\\n",
       "0    206461                 Valsartan  Left Ventricular Dysfunction   \n",
       "1     95260                Guanfacine                          ADHD   \n",
       "2     92703                    Lybrel                 Birth Control   \n",
       "3    138000                Ortho Evra                 Birth Control   \n",
       "4     35696  Buprenorphine / naloxone             Opiate Dependence   \n",
       "\n",
       "                                              review  rating       date  \\\n",
       "0  \"It has no side effect, I take it in combinati...       9  20-May-12   \n",
       "1  \"My son is halfway through his fourth week of ...       8  27-Apr-10   \n",
       "2  \"I used to take another oral contraceptive, wh...       5  14-Dec-09   \n",
       "3  \"This is my first time using any form of birth...       8   3-Nov-15   \n",
       "4  \"Suboxone has completely turned my life around...       9  27-Nov-16   \n",
       "\n",
       "   usefulCount  polarity  subjectivity sentiment  negative_polarity_binary  \\\n",
       "0           27  0.000000      0.000000   neutral                       0.0   \n",
       "1          192  0.168333      0.431349   neutral                       0.0   \n",
       "2           17  0.067210      0.402155   neutral                       0.0   \n",
       "3           10  0.179545      0.665909   neutral                       0.0   \n",
       "4           37  0.194444      0.401389   neutral                       0.0   \n",
       "\n",
       "  rating_groups  low_rating_binary  \n",
       "0            >7                  0  \n",
       "1            >7                  0  \n",
       "2           4-7                  0  \n",
       "3            >7                  0  \n",
       "4            >7                  0  "
      ]
     },
     "execution_count": 28,
     "metadata": {},
     "output_type": "execute_result"
    }
   ],
   "source": [
    "df['low_rating_binary']=df.rating.replace([1,2,3, 4, 5,6,7,8,9,10],[1,1,1,0,0,0,0,0,0,0])\n",
    "df.head()"
   ]
  },
  {
   "cell_type": "code",
   "execution_count": 29,
   "metadata": {},
   "outputs": [],
   "source": [
    "df.low_rating_binary=df.low_rating_binary.astype(int)"
   ]
  },
  {
   "cell_type": "code",
   "execution_count": 30,
   "metadata": {},
   "outputs": [],
   "source": [
    "#Test set\n",
    "df_test['low_rating_binary']=df_test.rating.replace([1,2,3, 4, 5,6,7,8,9,10],[1,1,1,0,0,0,0,0,0,0])\n",
    "df_test.low_rating_binary=df_test.low_rating_binary.astype(int)"
   ]
  },
  {
   "cell_type": "markdown",
   "metadata": {},
   "source": [
    "## Unknown conditions"
   ]
  },
  {
   "cell_type": "markdown",
   "metadata": {},
   "source": [
    "There are some rows that that the condition is missing and it is replaced by the statement that how many users found the review useful. We replace them all by \"unknown\". "
   ]
  },
  {
   "cell_type": "code",
   "execution_count": 31,
   "metadata": {},
   "outputs": [],
   "source": [
    "#set(df.condition.sort_values())"
   ]
  },
  {
   "cell_type": "code",
   "execution_count": 32,
   "metadata": {},
   "outputs": [],
   "source": [
    "#set(df_test.condition.sort_values())"
   ]
  },
  {
   "cell_type": "code",
   "execution_count": 33,
   "metadata": {},
   "outputs": [],
   "source": [
    "df.replace(regex='\\d*</span> users found this comment helpful.', value='unknown', inplace=True)"
   ]
  },
  {
   "cell_type": "code",
   "execution_count": 34,
   "metadata": {},
   "outputs": [],
   "source": [
    "df_test.replace(regex='\\d*</span> users found this comment helpful.', value='unknown', inplace=True)"
   ]
  },
  {
   "cell_type": "markdown",
   "metadata": {},
   "source": [
    "## Drugs with more than 100 reviews"
   ]
  },
  {
   "cell_type": "code",
   "execution_count": 35,
   "metadata": {},
   "outputs": [],
   "source": [
    "drug_100plus_review=set()\n",
    "for x in df.drugName.values:\n",
    "    if x not in drug_100plus_review:\n",
    "        if len(df[df.drugName==x])>=100:\n",
    "            drug_100plus_review.add(x)"
   ]
  },
  {
   "cell_type": "code",
   "execution_count": 36,
   "metadata": {},
   "outputs": [
    {
     "data": {
      "text/plain": [
       "340"
      ]
     },
     "execution_count": 36,
     "metadata": {},
     "output_type": "execute_result"
    }
   ],
   "source": [
    "len(drug_100plus_review)"
   ]
  },
  {
   "cell_type": "code",
   "execution_count": 37,
   "metadata": {},
   "outputs": [],
   "source": [
    "df_drug=df[df.drugName.isin(drug_100plus_review)]"
   ]
  },
  {
   "cell_type": "code",
   "execution_count": 38,
   "metadata": {},
   "outputs": [
    {
     "data": {
      "text/plain": [
       "Levonorgestrel                       3631\n",
       "Etonogestrel                         3321\n",
       "Ethinyl estradiol / norethindrone    2750\n",
       "Nexplanon                            2156\n",
       "Ethinyl estradiol / norgestimate     2033\n",
       "                                     ... \n",
       "Avelox                                102\n",
       "Movantik                              102\n",
       "Levomilnacipran                       101\n",
       "Dexmethylphenidate                    101\n",
       "Naloxegol                             100\n",
       "Name: drugName, Length: 340, dtype: int64"
      ]
     },
     "execution_count": 38,
     "metadata": {},
     "output_type": "execute_result"
    }
   ],
   "source": [
    "df[df.drugName.isin(drug_100plus_review)].drugName.value_counts()"
   ]
  },
  {
   "cell_type": "code",
   "execution_count": 39,
   "metadata": {},
   "outputs": [],
   "source": [
    "# sns_plot=sns.countplot(x=\"drugName\", data=df_drug)\n",
    "# plt.tight_layout()\n",
    "# plt.show()\n",
    "# fig = sns_plot.get_figure()\n",
    "# #fig.savefig('/Users/atousachaharsoughshirazi/drug_review/figures/rating_countplot.png') "
   ]
  },
  {
   "cell_type": "markdown",
   "metadata": {},
   "source": [
    "## Conditions with more than 100 reviews"
   ]
  },
  {
   "cell_type": "code",
   "execution_count": 40,
   "metadata": {},
   "outputs": [],
   "source": [
    "condition_100plus_review=set()\n",
    "for x in df.condition.values:\n",
    "    if x not in condition_100plus_review:\n",
    "        if len(df[df.condition==x])>=100:\n",
    "            condition_100plus_review.add(x)"
   ]
  },
  {
   "cell_type": "code",
   "execution_count": 41,
   "metadata": {},
   "outputs": [
    {
     "data": {
      "text/plain": [
       "150"
      ]
     },
     "execution_count": 41,
     "metadata": {},
     "output_type": "execute_result"
    }
   ],
   "source": [
    "len(condition_100plus_review)"
   ]
  },
  {
   "cell_type": "code",
   "execution_count": 42,
   "metadata": {},
   "outputs": [],
   "source": [
    "df_condition=df[df.condition.isin(condition_100plus_review)]"
   ]
  },
  {
   "cell_type": "code",
   "execution_count": 43,
   "metadata": {},
   "outputs": [
    {
     "data": {
      "text/plain": [
       "Birth Control                28788\n",
       "Depression                    9069\n",
       "Pain                          6145\n",
       "Anxiety                       5904\n",
       "Acne                          5588\n",
       "                             ...  \n",
       "Human Papilloma Virus          102\n",
       "Dietary Supplementation        102\n",
       "Breast Cancer, Metastatic      102\n",
       "Vertig                         101\n",
       "Urinary Tract Stones           101\n",
       "Name: condition, Length: 150, dtype: int64"
      ]
     },
     "execution_count": 43,
     "metadata": {},
     "output_type": "execute_result"
    }
   ],
   "source": [
    "df[df.condition.isin(condition_100plus_review)].condition.value_counts()"
   ]
  },
  {
   "cell_type": "code",
   "execution_count": 44,
   "metadata": {},
   "outputs": [
    {
     "data": {
      "text/plain": [
       "116317"
      ]
     },
     "execution_count": 44,
     "metadata": {},
     "output_type": "execute_result"
    }
   ],
   "source": [
    "df_final=df_condition[df_condition.drugName.isin(drug_100plus_review)]\n",
    "len(df_final)"
   ]
  },
  {
   "cell_type": "markdown",
   "metadata": {},
   "source": [
    "# EDA"
   ]
  },
  {
   "cell_type": "markdown",
   "metadata": {},
   "source": [
    "## Which patients tend to have more negative reviews?"
   ]
  },
  {
   "cell_type": "markdown",
   "metadata": {},
   "source": [
    "### Conditions with more negative reviews"
   ]
  },
  {
   "cell_type": "markdown",
   "metadata": {},
   "source": [
    "#### Top patient conditions"
   ]
  },
  {
   "cell_type": "markdown",
   "metadata": {},
   "source": [
    "These are the top patient conditions that had negative reviews. "
   ]
  },
  {
   "cell_type": "code",
   "execution_count": 45,
   "metadata": {},
   "outputs": [
    {
     "data": {
      "text/plain": [
       "array(['Cold Sores', 'Kidney Infections', 'Herpes Simplex',\n",
       "       'Vaginal Yeast Infection', 'Bacterial Infection',\n",
       "       'Bacterial Skin Infection', 'Bacterial Vaginitis',\n",
       "       'Upper Respiratory Tract Infection',\n",
       "       'Nausea/Vomiting of Pregnancy', 'Diverticulitis'], dtype='<U33')"
      ]
     },
     "execution_count": 45,
     "metadata": {},
     "output_type": "execute_result"
    }
   ],
   "source": [
    "list1=df_condition[['condition', 'negative_polarity_binary']].groupby('condition').mean().sort_values(by='negative_polarity_binary', ascending=False)[:10].index.values\n",
    "list1.astype(str)"
   ]
  },
  {
   "cell_type": "code",
   "execution_count": 46,
   "metadata": {},
   "outputs": [],
   "source": [
    "df_new=df[df['condition'].isin(list1)]"
   ]
  },
  {
   "cell_type": "code",
   "execution_count": 47,
   "metadata": {},
   "outputs": [
    {
     "data": {
      "image/png": "[encoded data removed]",
      "text/plain": [
       "<Figure size 576x360 with 1 Axes>"
      ]
     },
     "metadata": {},
     "output_type": "display_data"
    }
   ],
   "source": [
    "sns.set(rc={'axes.grid':False, \n",
    "            'axes.labelsize':13,\n",
    "            'figure.figsize':(8, 5),\n",
    "            'xtick.labelsize':13,\n",
    "            'ytick.labelsize':13})\n",
    "sns_plot=sns.barplot(x='condition', y='negative_polarity_binary',palette='tab10', data=df_new, dodge=False, order=list1, estimator=lambda x: sum(x==1)*100.0/len(x))\n",
    "sns_plot.set_xticklabels(sns_plot.get_xticklabels(), rotation=40, ha=\"right\")\n",
    "sns_plot.set(ylabel='percentage of negative reviews')\n",
    "plt.tight_layout()\n",
    "plt.show()\n",
    "fig = sns_plot.get_figure()\n",
    "fig.savefig('/Users/atousachaharsoughshirazi/drug_review/figures/percentageofnegativereviewsbycondition.png') "
   ]
  },
  {
   "cell_type": "markdown",
   "metadata": {},
   "source": [
    "#### Lowest patient conditions"
   ]
  },
  {
   "cell_type": "markdown",
   "metadata": {},
   "source": [
    "These are the low patient conditions that had negative reviews. "
   ]
  },
  {
   "cell_type": "code",
   "execution_count": 48,
   "metadata": {},
   "outputs": [
    {
     "data": {
      "image/png": "[encoded data removed]",
      "text/plain": [
       "<Figure size 576x360 with 1 Axes>"
      ]
     },
     "metadata": {},
     "output_type": "display_data"
    }
   ],
   "source": [
    "list1_bot=df_condition[['condition', 'negative_polarity_binary']].groupby('condition').mean().sort_values(by='negative_polarity_binary', ascending=True)[:10].index.values\n",
    "\n",
    "list1_bot.astype(str)\n",
    "df_new_bot=df[df['condition'].isin(list1_bot)]\n",
    "sns.set(rc={'axes.grid':False, \n",
    "            'axes.labelsize':13,\n",
    "            'figure.figsize':(8, 5),\n",
    "            'xtick.labelsize':13,\n",
    "            'ytick.labelsize':13})\n",
    "sns_plot=sns.barplot(x='condition', y='negative_polarity_binary',palette='tab10', data=df_new_bot, dodge=False, order=list1_bot, estimator=lambda x: sum(x==1)*100.0/len(x))\n",
    "sns_plot.set_xticklabels(sns_plot.get_xticklabels(), rotation=40, ha=\"right\")\n",
    "sns_plot.set(ylabel='percentage of negative reviews')\n",
    "plt.tight_layout()\n",
    "plt.show()\n",
    "fig = sns_plot.get_figure()\n",
    "fig.savefig('/Users/atousachaharsoughshirazi/drug_review/figures/bottom_percentageofnegativereviewsbycondition.png') "
   ]
  },
  {
   "cell_type": "markdown",
   "metadata": {},
   "source": [
    "### Drugs with more negative reviews"
   ]
  },
  {
   "cell_type": "markdown",
   "metadata": {},
   "source": [
    "#### Top drugs "
   ]
  },
  {
   "cell_type": "code",
   "execution_count": 49,
   "metadata": {},
   "outputs": [
    {
     "data": {
      "text/plain": [
       "array(['Docosanol', 'Abreva', 'Dextromethorphan', 'Valacyclovir',\n",
       "       'Clarithromycin', 'Movantik', 'Miconazole', 'Dulcolax',\n",
       "       'Metronidazole', 'Bisacodyl'], dtype='<U16')"
      ]
     },
     "execution_count": 49,
     "metadata": {},
     "output_type": "execute_result"
    }
   ],
   "source": [
    "list2=df_drug[['drugName', 'negative_polarity_binary']].groupby('drugName').mean().sort_values(by='negative_polarity_binary', ascending=False)[:10].index.values\n",
    "list2.astype(str)"
   ]
  },
  {
   "cell_type": "code",
   "execution_count": 50,
   "metadata": {},
   "outputs": [],
   "source": [
    "df_new_drug=df[df['drugName'].isin(list2)]"
   ]
  },
  {
   "cell_type": "code",
   "execution_count": 51,
   "metadata": {},
   "outputs": [
    {
     "data": {
      "image/png": "[encoded data removed]",
      "text/plain": [
       "<Figure size 576x360 with 1 Axes>"
      ]
     },
     "metadata": {},
     "output_type": "display_data"
    }
   ],
   "source": [
    "sns.set(rc={'axes.grid':False, \n",
    "            'axes.labelsize':13,\n",
    "            'figure.figsize':(8, 5),\n",
    "            'xtick.labelsize':13,\n",
    "            'ytick.labelsize':13})\n",
    "sns_plot=sns.barplot(x='drugName', y='negative_polarity_binary',palette='tab10', data=df_new_drug, dodge=False, order=list2, estimator=lambda x: sum(x==1)*100.0/len(x))\n",
    "sns_plot.set_xticklabels(sns_plot.get_xticklabels(), rotation=40, ha=\"right\")\n",
    "sns_plot.set(ylabel='percentage of negative reviews')\n",
    "plt.tight_layout()\n",
    "plt.show()\n",
    "fig = sns_plot.get_figure()\n",
    "fig.savefig('/Users/atousachaharsoughshirazi/drug_review/figures/percentageofnegativereviewsbydrugname.png') "
   ]
  },
  {
   "cell_type": "markdown",
   "metadata": {},
   "source": [
    "#### Least drugs"
   ]
  },
  {
   "cell_type": "code",
   "execution_count": 52,
   "metadata": {},
   "outputs": [
    {
     "data": {
      "text/plain": [
       "array(['Cialis', 'Viagra', 'Sildenafil', 'Tadalafil', 'Testosterone',\n",
       "       'Adipex-P', 'Phentermine', 'Lisdexamfetamine', 'Provigil',\n",
       "       'Vyvanse'], dtype='<U16')"
      ]
     },
     "execution_count": 52,
     "metadata": {},
     "output_type": "execute_result"
    }
   ],
   "source": [
    "list2_bot=df_drug[['drugName', 'negative_polarity_binary']].groupby('drugName').mean().sort_values(by='negative_polarity_binary', ascending=True)[:10].index.values\n",
    "list2_bot.astype(str)"
   ]
  },
  {
   "cell_type": "code",
   "execution_count": 53,
   "metadata": {},
   "outputs": [],
   "source": [
    "df_new_drug_bot=df[df['drugName'].isin(list2_bot)]"
   ]
  },
  {
   "cell_type": "code",
   "execution_count": 54,
   "metadata": {},
   "outputs": [
    {
     "data": {
      "image/png": "[encoded data removed]",
      "text/plain": [
       "<Figure size 576x360 with 1 Axes>"
      ]
     },
     "metadata": {},
     "output_type": "display_data"
    }
   ],
   "source": [
    "sns.set(rc={'axes.grid':False, \n",
    "            'axes.labelsize':13,\n",
    "            'figure.figsize':(8, 5),\n",
    "            'xtick.labelsize':13,\n",
    "            'ytick.labelsize':13})\n",
    "sns_plot=sns.barplot(x='drugName', y='negative_polarity_binary',palette='tab10', data=df_new_drug_bot, dodge=False, order=list2_bot, estimator=lambda x: sum(x==1)*100.0/len(x))\n",
    "sns_plot.set_xticklabels(sns_plot.get_xticklabels(), rotation=40, ha=\"right\")\n",
    "sns_plot.set(ylabel='percentage of negative reviews')\n",
    "plt.tight_layout()\n",
    "plt.show()\n",
    "fig = sns_plot.get_figure()\n",
    "fig.savefig('/Users/atousachaharsoughshirazi/drug_review/figures/bottom_percentageofnegativereviewsbydrugname.png') "
   ]
  },
  {
   "cell_type": "markdown",
   "metadata": {},
   "source": [
    "## Low-rated drugs"
   ]
  },
  {
   "cell_type": "markdown",
   "metadata": {},
   "source": [
    "### Top patient conditions with low ratings"
   ]
  },
  {
   "cell_type": "code",
   "execution_count": 55,
   "metadata": {},
   "outputs": [
    {
     "data": {
      "text/plain": [
       "array(['Vaginal Yeast Infection', 'Abnormal Uterine Bleeding',\n",
       "       'Osteoporosis', 'Constipation, Drug Induced', 'Asthma, acute',\n",
       "       'Bladder Infection', 'Dry Eye Disease', 'Urinary Tract Infection',\n",
       "       'Atrophic Vaginitis', 'Allergies'], dtype='<U26')"
      ]
     },
     "execution_count": 55,
     "metadata": {},
     "output_type": "execute_result"
    }
   ],
   "source": [
    "list3=df_condition[['condition', 'low_rating_binary']].groupby('condition').mean().sort_values( by='low_rating_binary', ascending=False)[:10].index.values\n",
    "list3.astype(str)"
   ]
  },
  {
   "cell_type": "code",
   "execution_count": 56,
   "metadata": {},
   "outputs": [],
   "source": [
    "df_new_con=df[df['condition'].isin(list3)]"
   ]
  },
  {
   "cell_type": "code",
   "execution_count": 57,
   "metadata": {},
   "outputs": [
    {
     "data": {
      "image/png": "[encoded data removed]",
      "text/plain": [
       "<Figure size 576x360 with 1 Axes>"
      ]
     },
     "metadata": {},
     "output_type": "display_data"
    }
   ],
   "source": [
    "sns.set(rc={'axes.grid':False, \n",
    "            'axes.labelsize':13,\n",
    "            'figure.figsize':(8, 5),\n",
    "            'xtick.labelsize':13,\n",
    "            'ytick.labelsize':13})\n",
    "sns_plot=sns.barplot(x='condition', y='low_rating_binary',palette='tab10', data=df_new_con, dodge=False, order=list3, estimator=lambda x: sum(x==1)*100.0/len(x))\n",
    "sns_plot.set_xticklabels(sns_plot.get_xticklabels(), rotation=40, ha=\"right\")\n",
    "sns_plot.set(ylabel='percentage of low ratings')\n",
    "plt.tight_layout()\n",
    "plt.show()\n",
    "fig = sns_plot.get_figure()\n",
    "fig.savefig('/Users/atousachaharsoughshirazi/drug_review/figures/percentageoflowratingsbycondition.png') "
   ]
  },
  {
   "cell_type": "markdown",
   "metadata": {},
   "source": [
    "### Least patient conditions with low ratings"
   ]
  },
  {
   "cell_type": "code",
   "execution_count": 58,
   "metadata": {},
   "outputs": [
    {
     "data": {
      "text/plain": [
       "array(['mance Anxiety', 'Alcohol Withdrawal', 'Opiate Withdrawal',\n",
       "       'Alcohol Dependence', 'Cold Sores', 'Hyperhidrosis',\n",
       "       'Cluster Headaches', 'Eczema', 'Smoking Cessation',\n",
       "       'HIV Infection'], dtype='<U18')"
      ]
     },
     "execution_count": 58,
     "metadata": {},
     "output_type": "execute_result"
    }
   ],
   "source": [
    "list3_bot=df_condition[['condition', 'low_rating_binary']].groupby('condition').mean().sort_values( by='low_rating_binary', ascending=True)[:10].index.values\n",
    "list3_bot.astype(str)"
   ]
  },
  {
   "cell_type": "code",
   "execution_count": 59,
   "metadata": {},
   "outputs": [],
   "source": [
    "df_new_con_bot=df[df['condition'].isin(list3_bot)]"
   ]
  },
  {
   "cell_type": "code",
   "execution_count": 60,
   "metadata": {},
   "outputs": [
    {
     "data": {
      "image/png": "[encoded data removed]",
      "text/plain": [
       "<Figure size 576x360 with 1 Axes>"
      ]
     },
     "metadata": {},
     "output_type": "display_data"
    }
   ],
   "source": [
    "sns.set(rc={'axes.grid':False, \n",
    "            'axes.labelsize':13,\n",
    "            'figure.figsize':(8, 5),\n",
    "            'xtick.labelsize':13,\n",
    "            'ytick.labelsize':13})\n",
    "sns_plot=sns.barplot(x='condition', y='low_rating_binary',palette='tab10', data=df_new_con_bot, dodge=False, order=list3_bot, estimator=lambda x: sum(x==1)*100.0/len(x))\n",
    "sns_plot.set_xticklabels(sns_plot.get_xticklabels(), rotation=40, ha=\"right\")\n",
    "sns_plot.set(ylabel='percentage of low ratings')\n",
    "plt.tight_layout()\n",
    "plt.show()\n",
    "fig = sns_plot.get_figure()\n",
    "fig.savefig('/Users/atousachaharsoughshirazi/drug_review/figures/bottom_percentageoflowratingsbycondition.png') "
   ]
  },
  {
   "cell_type": "code",
   "execution_count": 61,
   "metadata": {},
   "outputs": [
    {
     "data": {
      "text/plain": [
       "array(['Miconazole', 'Tioconazole', 'Fluconazole'], dtype='<U11')"
      ]
     },
     "execution_count": 61,
     "metadata": {},
     "output_type": "execute_result"
    }
   ],
   "source": [
    "list_new=df_final[df_final.condition=='Vaginal Yeast Infection'][['drugName','low_rating_binary']].groupby('drugName').mean().sort_values(by='low_rating_binary', ascending=False)[:10].index.values\n",
    "list_new.astype(str)"
   ]
  },
  {
   "cell_type": "markdown",
   "metadata": {},
   "source": [
    "### Top low-rated drugs"
   ]
  },
  {
   "cell_type": "code",
   "execution_count": 62,
   "metadata": {},
   "outputs": [
    {
     "data": {
      "text/plain": [
       "array(['Miconazole', 'Belsomra', 'Suvorexant', 'Dextromethorphan',\n",
       "       'Cefdinir', 'Movantik', 'Naloxegol', 'Metoclopramide',\n",
       "       'Tioconazole', 'Depo-Provera'], dtype='<U16')"
      ]
     },
     "execution_count": 62,
     "metadata": {},
     "output_type": "execute_result"
    }
   ],
   "source": [
    "list4=df_drug[['drugName', 'low_rating_binary']].groupby('drugName').mean().sort_values( by='low_rating_binary', ascending=False)[:10].index.values\n",
    "list4.astype(str)"
   ]
  },
  {
   "cell_type": "code",
   "execution_count": 63,
   "metadata": {},
   "outputs": [],
   "source": [
    "df_new_dru=df[df['drugName'].isin(list4)]"
   ]
  },
  {
   "cell_type": "code",
   "execution_count": 64,
   "metadata": {},
   "outputs": [
    {
     "data": {
      "image/png": "[encoded data removed]",
      "text/plain": [
       "<Figure size 576x360 with 1 Axes>"
      ]
     },
     "metadata": {},
     "output_type": "display_data"
    }
   ],
   "source": [
    "sns.set(rc={'axes.grid':False, \n",
    "            'axes.labelsize':13,\n",
    "            'figure.figsize':(8, 5),\n",
    "            'xtick.labelsize':13,\n",
    "            'ytick.labelsize':13})\n",
    "sns_plot=sns.barplot(x='drugName', y='low_rating_binary',palette='tab10', data=df_new_dru, dodge=False, order=list4, estimator=lambda x: sum(x==1)*100.0/len(x))\n",
    "sns_plot.set_xticklabels(sns_plot.get_xticklabels(), rotation=40, ha=\"right\")\n",
    "sns_plot.set(ylabel='percentage of low ratings')\n",
    "sns_plot.set(xlabel='drug name')\n",
    "plt.tight_layout()\n",
    "plt.show()\n",
    "fig = sns_plot.get_figure()\n",
    "fig.savefig('/Users/atousachaharsoughshirazi/drug_review/figures/percentageoflowratingsbydrugname.png') "
   ]
  },
  {
   "cell_type": "markdown",
   "metadata": {},
   "source": [
    "### Least low-rated drugs"
   ]
  },
  {
   "cell_type": "code",
   "execution_count": 65,
   "metadata": {},
   "outputs": [
    {
     "data": {
      "text/plain": [
       "array(['Percocet', 'Carisoprodol', 'Adipex-P', 'Magnesium citrate',\n",
       "       'Valium', 'Methadone', 'Phentermine', 'Suboxone', 'Diazepam',\n",
       "       'Fentanyl'], dtype='<U17')"
      ]
     },
     "execution_count": 65,
     "metadata": {},
     "output_type": "execute_result"
    }
   ],
   "source": [
    "list4_bot=df_drug[['drugName', 'low_rating_binary']].groupby('drugName').mean().sort_values( by='low_rating_binary', ascending=True)[:10].index.values\n",
    "list4_bot.astype(str)"
   ]
  },
  {
   "cell_type": "code",
   "execution_count": 66,
   "metadata": {},
   "outputs": [],
   "source": [
    "df_new_dru_bot=df[df['drugName'].isin(list4_bot)]"
   ]
  },
  {
   "cell_type": "code",
   "execution_count": 67,
   "metadata": {},
   "outputs": [
    {
     "data": {
      "image/png": "[encoded data removed]",
      "text/plain": [
       "<Figure size 576x360 with 1 Axes>"
      ]
     },
     "metadata": {},
     "output_type": "display_data"
    }
   ],
   "source": [
    "sns.set(rc={'axes.grid':False, \n",
    "            'axes.labelsize':13,\n",
    "            'figure.figsize':(8, 5),\n",
    "            'xtick.labelsize':13,\n",
    "            'ytick.labelsize':13})\n",
    "sns_plot=sns.barplot(x='drugName', y='low_rating_binary',palette='tab10', data=df_new_dru_bot, dodge=False, order=list4_bot, estimator=lambda x: sum(x==1)*100.0/len(x))\n",
    "sns_plot.set_xticklabels(sns_plot.get_xticklabels(), rotation=40, ha=\"right\")\n",
    "sns_plot.set(ylabel='percentage of low ratings')\n",
    "sns_plot.set(xlabel='drug name')\n",
    "plt.tight_layout()\n",
    "plt.show()\n",
    "fig = sns_plot.get_figure()\n",
    "fig.savefig('/Users/atousachaharsoughshirazi/drug_review/figures/bottom_percentageoflowratingsbydrugname.png') "
   ]
  },
  {
   "cell_type": "markdown",
   "metadata": {},
   "source": [
    "# Classification-Predict the low-rating (rating <4) drugs based on the review."
   ]
  },
  {
   "cell_type": "markdown",
   "metadata": {},
   "source": [
    "## Preprocessing"
   ]
  },
  {
   "cell_type": "code",
   "execution_count": 69,
   "metadata": {},
   "outputs": [],
   "source": [
    "drugnames=df['drugName'].str.lower().unique().tolist()"
   ]
  },
  {
   "cell_type": "code",
   "execution_count": 70,
   "metadata": {},
   "outputs": [],
   "source": [
    "def preProcess(s):\n",
    "    lower=s.lower()\n",
    "    nodigit = re.sub(r'\\d+', '', lower)\n",
    "    nopunc = nodigit.translate(str.maketrans('','', string.punctuation))\n",
    "    input_str = nopunc.strip()\n",
    "    final=input_str.replace('|'.join(drugnames), '')\n",
    "    return final"
   ]
  },
  {
   "cell_type": "code",
   "execution_count": 71,
   "metadata": {},
   "outputs": [],
   "source": [
    "y_train=df_final['low_rating_binary']\n",
    "X_train=df_final['review']\n",
    "y_test=df_test['low_rating_binary']\n",
    "X_test=df_test['review']"
   ]
  },
  {
   "cell_type": "code",
   "execution_count": 72,
   "metadata": {},
   "outputs": [],
   "source": [
    "y_train = (df_final.low_rating_binary == 1).values\n",
    "#len(y_train)"
   ]
  },
  {
   "cell_type": "code",
   "execution_count": 73,
   "metadata": {},
   "outputs": [],
   "source": [
    "y_test = (df_test.low_rating_binary == 1).values"
   ]
  },
  {
   "cell_type": "code",
   "execution_count": 74,
   "metadata": {},
   "outputs": [],
   "source": [
    "count_vectorizer=CountVectorizer(stop_words='english', preprocessor=preProcess)"
   ]
  },
  {
   "cell_type": "code",
   "execution_count": 75,
   "metadata": {},
   "outputs": [],
   "source": [
    "tfidf_vectorizer= TfidfVectorizer(stop_words=\"english\", ngram_range=(1,3), preprocessor=preProcess)"
   ]
  },
  {
   "cell_type": "markdown",
   "metadata": {},
   "source": [
    "## MultinomialNB "
   ]
  },
  {
   "cell_type": "code",
   "execution_count": 76,
   "metadata": {},
   "outputs": [],
   "source": [
    "clf_MNB=MultinomialNB()"
   ]
  },
  {
   "cell_type": "code",
   "execution_count": 77,
   "metadata": {},
   "outputs": [],
   "source": [
    "tf_idf = TfidfTransformer()\n",
    "steps = [(\"count_vec\", TfidfVectorizer()),(\"clf_MNB\", clf_MNB)]\n",
    "\n",
    "p_grid = [{'count_vec__min_df': [1, 3, 5, 10, 30, 50, 75, 100], 'clf_MNB__alpha': [1, 0.1, 0.01, 0.001, 0.0001, 0.00001]}]\n",
    "\n",
    "pipeline = Pipeline(steps)\n",
    "skf = StratifiedKFold(n_splits=5, shuffle=True, random_state=42)\n",
    "nb = GridSearchCV(pipeline, param_grid=p_grid, cv=skf, scoring='roc_auc')"
   ]
  },
  {
   "cell_type": "code",
   "execution_count": 108,
   "metadata": {},
   "outputs": [
    {
     "data": {
      "text/plain": [
       "GridSearchCV(cv=StratifiedKFold(n_splits=5, random_state=42, shuffle=True),\n",
       "             estimator=Pipeline(steps=[('count_vec', TfidfVectorizer()),\n",
       "                                       ('clf_MNB', MultinomialNB())]),\n",
       "             param_grid=[{'clf_MNB__alpha': [1, 0.1, 0.01, 0.001, 0.0001,\n",
       "                                             1e-05],\n",
       "                          'count_vec__min_df': [1, 3, 5, 10, 30, 50, 75, 100]}],\n",
       "             scoring='roc_auc')"
      ]
     },
     "execution_count": 108,
     "metadata": {},
     "output_type": "execute_result"
    }
   ],
   "source": [
    "nb.fit(X_train, y_train)\n",
    "#y_pred_test_count = nb.best_estimator_.predict(X_test)"
   ]
  },
  {
   "cell_type": "code",
   "execution_count": 91,
   "metadata": {},
   "outputs": [],
   "source": [
    "#clf_MNB.get_params().keys()"
   ]
  },
  {
   "cell_type": "code",
   "execution_count": 92,
   "metadata": {},
   "outputs": [
    {
     "name": "stdout",
     "output_type": "stream",
     "text": [
      "0.8803199161421336\n",
      "{'clf_MNB__alpha': 0.1, 'count_vec__min_df': 1}\n"
     ]
    }
   ],
   "source": [
    "print(nb.best_score_)\n",
    "print(nb.best_params_)"
   ]
  },
  {
   "cell_type": "code",
   "execution_count": 94,
   "metadata": {},
   "outputs": [],
   "source": [
    "#nb.cv_results_"
   ]
  },
  {
   "cell_type": "code",
   "execution_count": 95,
   "metadata": {},
   "outputs": [
    {
     "data": {
      "text/plain": [
       "0.8694"
      ]
     },
     "execution_count": 95,
     "metadata": {},
     "output_type": "execute_result"
    }
   ],
   "source": [
    "y_pred_prob_nb=nb.best_estimator_.predict_proba(X_test)[:,1]\n",
    "roc_auc_score(y_test, y_pred_prob_nb).round(4)"
   ]
  },
  {
   "cell_type": "code",
   "execution_count": 100,
   "metadata": {},
   "outputs": [
    {
     "name": "stdout",
     "output_type": "stream",
     "text": [
      "Accuracy on training data: 0.923851\n",
      "Accuracy on test data:     0.869378\n"
     ]
    }
   ],
   "source": [
    "\n",
    "#Print the accuracy on the test and training dataset\n",
    "training_accuracy = nb.score(X_train, y_train)\n",
    "test_accuracy = nb.score(X_test, y_test)\n",
    "\n",
    "print(\"Accuracy on training data: {:2f}\".format(training_accuracy))\n",
    "print(\"Accuracy on test data:     {:2f}\".format(test_accuracy))"
   ]
  },
  {
   "cell_type": "code",
   "execution_count": 101,
   "metadata": {},
   "outputs": [
    {
     "name": "stdout",
     "output_type": "stream",
     "text": [
      "[[41191   494]\n",
      " [ 9128  2658]]\n"
     ]
    }
   ],
   "source": [
    "print(confusion_matrix(y_test, nb.predict(X_test)))"
   ]
  },
  {
   "cell_type": "code",
   "execution_count": 102,
   "metadata": {},
   "outputs": [
    {
     "name": "stdout",
     "output_type": "stream",
     "text": [
      "              precision    recall  f1-score   support\n",
      "\n",
      "       False       0.82      0.99      0.90     41685\n",
      "        True       0.84      0.23      0.36     11786\n",
      "\n",
      "    accuracy                           0.82     53471\n",
      "   macro avg       0.83      0.61      0.63     53471\n",
      "weighted avg       0.82      0.82      0.78     53471\n",
      "\n"
     ]
    }
   ],
   "source": [
    "print(classification_report(y_test, nb.predict(X_test)))"
   ]
  },
  {
   "cell_type": "code",
   "execution_count": 189,
   "metadata": {},
   "outputs": [],
   "source": [
    "class_report = classification_report(y_test, nb.predict(X_test), output_dict=True)\n",
    "dflog = pd.DataFrame(class_report).transpose().round(2)\n",
    "dflog.to_csv(r'/Users/atousachaharsoughshirazi/drug_review/figures/class_report_nb.csv')"
   ]
  },
  {
   "cell_type": "code",
   "execution_count": 78,
   "metadata": {},
   "outputs": [],
   "source": [
    "vectorizer_new = TfidfVectorizer(min_df=50, stop_words='english', preprocessor=preProcess)\n",
    "tfidf_train=vectorizer_new.fit_transform(X_train.values)"
   ]
  },
  {
   "cell_type": "code",
   "execution_count": 79,
   "metadata": {},
   "outputs": [],
   "source": [
    "clf=MultinomialNB(alpha=0.1)"
   ]
  },
  {
   "cell_type": "code",
   "execution_count": 80,
   "metadata": {},
   "outputs": [
    {
     "data": {
      "text/plain": [
       "MultinomialNB(alpha=0.1)"
      ]
     },
     "execution_count": 80,
     "metadata": {},
     "output_type": "execute_result"
    }
   ],
   "source": [
    "clf.fit(tfidf_train, y_train)"
   ]
  },
  {
   "cell_type": "markdown",
   "metadata": {},
   "source": [
    "## Best predictive words"
   ]
  },
  {
   "cell_type": "code",
   "execution_count": 93,
   "metadata": {},
   "outputs": [
    {
     "name": "stdout",
     "output_type": "stream",
     "text": [
      "Good words\t     P(low rating | word)\n",
      "              poison 0.86\n",
      "              banned 0.85\n",
      "             garbage 0.81\n",
      "               enemy 0.78\n",
      "               trash 0.77\n",
      "               waste 0.74\n",
      "             rubbish 0.72\n",
      "                ants 0.72\n",
      "             blisovi 0.70\n",
      "           pulmonary 0.70\n",
      "Bad words\t     P(low rating | word)\n",
      "                 cum 0.02\n",
      "              smoked 0.02\n",
      "            drawback 0.01\n",
      "               proud 0.01\n",
      "             changer 0.01\n",
      "            believer 0.01\n",
      "           obsessing 0.01\n",
      "               saver 0.01\n",
      "              precum 0.01\n",
      "       presentations 0.01\n"
     ]
    }
   ],
   "source": [
    "words = np.array(vectorizer_new.get_feature_names())\n",
    "probs = clf.predict_proba(x)[:, 0]\n",
    "ind = np.argsort(probs)\n",
    "\n",
    "good_words = words[ind[:10]]\n",
    "bad_words = words[ind[-10:]]\n",
    "\n",
    "good_prob = probs[ind[:10]]\n",
    "bad_prob = probs[ind[-10:]]\n",
    "\n",
    "print(\"Good words\\t     P(low rating | word)\")\n",
    "for w, p in zip(good_words, good_prob):\n",
    "    print(\"{:>20}\".format(w), \"{:.2f}\".format(1 - p))\n",
    "    \n",
    "print(\"Bad words\\t     P(low rating | word)\")\n",
    "for w, p in zip(bad_words, bad_prob):\n",
    "    print(\"{:>20}\".format(w), \"{:.2f}\".format(1 - p))"
   ]
  },
  {
   "cell_type": "code",
   "execution_count": 106,
   "metadata": {},
   "outputs": [
    {
     "data": {
      "text/html": [
       "<div>\n",
       "<style scoped>\n",
       "    .dataframe tbody tr th:only-of-type {\n",
       "        vertical-align: middle;\n",
       "    }\n",
       "\n",
       "    .dataframe tbody tr th {\n",
       "        vertical-align: top;\n",
       "    }\n",
       "\n",
       "    .dataframe thead th {\n",
       "        text-align: right;\n",
       "    }\n",
       "</style>\n",
       "<table border=\"1\" class=\"dataframe\">\n",
       "  <thead>\n",
       "    <tr style=\"text-align: right;\">\n",
       "      <th></th>\n",
       "      <th>good words</th>\n",
       "      <th>low-rating probability</th>\n",
       "      <th>bad words</th>\n",
       "      <th>low-rating probability</th>\n",
       "    </tr>\n",
       "  </thead>\n",
       "  <tbody>\n",
       "    <tr>\n",
       "      <th>1</th>\n",
       "      <td>poison</td>\n",
       "      <td>0.86</td>\n",
       "      <td>cum</td>\n",
       "      <td>0.02</td>\n",
       "    </tr>\n",
       "    <tr>\n",
       "      <th>2</th>\n",
       "      <td>banned</td>\n",
       "      <td>0.85</td>\n",
       "      <td>smoked</td>\n",
       "      <td>0.02</td>\n",
       "    </tr>\n",
       "    <tr>\n",
       "      <th>3</th>\n",
       "      <td>garbage</td>\n",
       "      <td>0.81</td>\n",
       "      <td>drawback</td>\n",
       "      <td>0.01</td>\n",
       "    </tr>\n",
       "    <tr>\n",
       "      <th>4</th>\n",
       "      <td>enemy</td>\n",
       "      <td>0.78</td>\n",
       "      <td>proud</td>\n",
       "      <td>0.01</td>\n",
       "    </tr>\n",
       "    <tr>\n",
       "      <th>5</th>\n",
       "      <td>trash</td>\n",
       "      <td>0.77</td>\n",
       "      <td>changer</td>\n",
       "      <td>0.01</td>\n",
       "    </tr>\n",
       "    <tr>\n",
       "      <th>6</th>\n",
       "      <td>waste</td>\n",
       "      <td>0.74</td>\n",
       "      <td>believer</td>\n",
       "      <td>0.01</td>\n",
       "    </tr>\n",
       "    <tr>\n",
       "      <th>7</th>\n",
       "      <td>rubbish</td>\n",
       "      <td>0.72</td>\n",
       "      <td>obsessing</td>\n",
       "      <td>0.01</td>\n",
       "    </tr>\n",
       "    <tr>\n",
       "      <th>8</th>\n",
       "      <td>ants</td>\n",
       "      <td>0.72</td>\n",
       "      <td>saver</td>\n",
       "      <td>0.01</td>\n",
       "    </tr>\n",
       "    <tr>\n",
       "      <th>9</th>\n",
       "      <td>blisovi</td>\n",
       "      <td>0.70</td>\n",
       "      <td>precum</td>\n",
       "      <td>0.01</td>\n",
       "    </tr>\n",
       "    <tr>\n",
       "      <th>10</th>\n",
       "      <td>pulmonary</td>\n",
       "      <td>0.70</td>\n",
       "      <td>presentations</td>\n",
       "      <td>0.01</td>\n",
       "    </tr>\n",
       "  </tbody>\n",
       "</table>\n",
       "</div>"
      ],
      "text/plain": [
       "   good words  low-rating probability      bad words  low-rating probability\n",
       "1      poison                    0.86            cum                    0.02\n",
       "2      banned                    0.85         smoked                    0.02\n",
       "3     garbage                    0.81       drawback                    0.01\n",
       "4       enemy                    0.78          proud                    0.01\n",
       "5       trash                    0.77        changer                    0.01\n",
       "6       waste                    0.74       believer                    0.01\n",
       "7     rubbish                    0.72      obsessing                    0.01\n",
       "8        ants                    0.72          saver                    0.01\n",
       "9     blisovi                    0.70         precum                    0.01\n",
       "10  pulmonary                    0.70  presentations                    0.01"
      ]
     },
     "execution_count": 106,
     "metadata": {},
     "output_type": "execute_result"
    }
   ],
   "source": [
    "report=zip(good_words,1- good_prob,bad_words,1- bad_prob)\n",
    "#report_badwords=zip(bad_words,1- bad_prob)\n",
    "dfnb = pd.DataFrame(report).round(2)\n",
    "dfnb.columns=['good words','low-rating probability', 'bad words', 'low-rating probability']\n",
    "dfnb.index += 1 \n",
    "dfnb.to_csv(r'/Users/atousachaharsoughshirazi/drug_review/figures/goodwordsbadwordsnb.csv')\n",
    "dfnb\n"
   ]
  },
  {
   "cell_type": "markdown",
   "metadata": {},
   "source": [
    "## Sample mis-predicted ratings"
   ]
  },
  {
   "cell_type": "code",
   "execution_count": 111,
   "metadata": {
    "scrolled": true
   },
   "outputs": [
    {
     "name": "stdout",
     "output_type": "stream",
     "text": [
      "Mis-predicted high rating\n",
      "---------------------------\n",
      "\"Well, At the beginning of Feb. 2016 I had a bad sinus and ear infection. Clinic gave me Augmentin. after 3 days the infecton went into my lungs and the Dr. said Bronchitis. I finished the Augmentin and was stil very sick and coughing like mad. I told the Dr. It feels like razor blades when I cough and he scheduled me for another appointment asap. I said please x-ray my chest, I know there&#039;s something wrong.  Yep, the x-ray showed Pneumonia in my right lung, Left lung looked ok. He Prescribed Levaquin(Levofloxacin) and yes, It has been 7 days now and I have had the worst insomnia and nervousness. For awhile there I felt like I might die. It was very scary. But I am feeling better but still get breathless and weak. I hope by day 10, I am clear\"\n",
      "\n",
      "\"It&#039;s like my vagina was a good little catholic who played around with Monistat 7 and became possessed by Lucifer Himself.  \r\n",
      "\r\n",
      "I do have one tip.  If you get the itchy fire ants from hell reaction,  try lying in bed on a towel,  naked from the waist down and just opening your legs.  The air helps to soothe it.  Don&#039;t take a bath or you&#039;ll remove the only thing that&#039;s curing the infection. \r\n",
      "\r\n",
      "Also,  as much as the side effects make scratch my own vajayjay with fork sound like a sweet relief.... The medication itself does work.  So stick with it because it doesn&#039;t feel like this by day 7.\"\n",
      "\n",
      "\"This is my second YI. I got my first back in feburary and took monistat 3 without any problems. Literally no itching or burning worse than my YI happened after I took it. I felt the symptoms coming on today so I decided to go to the store to get another monistat 3 kit. This time the applicator was a bit different... First time it was a little egg thing that I put on the applicator this time it was a cream filled applicator. An hour after inserting it and I am SO ITCHY mildly burning but so so so itchy. Honestly don&#039;t even know what to do.\"\n",
      "\n",
      "\"I swear I took this insert before but omg after not even 5 minutes after inserting it felt like fire ants in my freakin vagina and itching like crazy. My YI wasn&#039;t even burning yet but now it is! Hopefully it will run its course cause I sure can&#039;t sleep like this \"\n",
      "\n",
      "\"Omg!! Fire fire fire. My vulva felt like I sat on a campfire!! This is too strong for a delicate place (vagina), almost an hour after insertion my itching intensified, burning felt as if I sat on Satan&#039;s lap just excruciating pain, until all of a sudden I felt relief out of no where. I will use a prescription from my MD next time. Whewwww  horrific experience.\"\n",
      "\n",
      "Mis-predicted low rating\n",
      "--------------------------\n",
      "\"Ok, Xanax was the very 1st Benzo I tried, my doctor Rx&#039;d me 1mg 3x daily. It worked decently, but I was expecting a lot more. After talking to Doc about it, he switched me to Klonopin 1mg 3x daily. All I can say is, WOW! Klonopin is SO much more effective for me. It does take a couple of hours to kick in, but once it does.. I can&#039;t honestly say how much better Klonopin is than Xanax. Both are equivalent mg for mg. Klonopin has a MUCH longer half life. It just works overall way better than Xanax. I see so many positive reviews of Xanax, but I&#039;m wondering if most of them have tried a different benzo?\"\n",
      "\n",
      "\"I have Bipolar Disorder with rapid cycling, mixed states, but mostly depression and severe anxiety.  After several years of trial and error I take the following:  Seroquel XR 600mg at night, Klonopin 1mg 3 times daily, Adderall 40mg twice daily, Lamictal 200mg twice daily,  and switched from Effexor XR 300mg daily to the new antidepressant Brintellix. I&#039;ve had the Lamictal titrated up to 400mg a day for last 3 years. I don&#039;t think it does anything, good or bad. It&#039;s I&#039;ve never noticed any effect of any kind. I keep taking it because I trust my doctor and it&#039;s cheap.\"\n",
      "\n",
      "\"I have been on pain medicines since 1993 for back pain. I have been taking Oxycontin 40 Mg 3x per day, last month my pain management Doctor said that he was no longer writing for Oxycontin because of it showing up on the streets of our community. He said I had the choices of Morphine, Methadone, or Opana ER. I chose Opana so now I am on 30mg twice a day. The only benefit that I am experiencing is that it takes away the withdrawal symptoms and they don&#039;t drop you like when an Oxycontin wears off but for me the pain is still there.\"\n",
      "\n",
      "\"I am 25 years old and I have suffered from social anxiety for my whole life. To cope with anxiety I became addicted to opiates. I am now in rehab and my doctor has changed my meds many times. I have been on gabapentin for almost a month I don&#039;t feel any changes yet. She says it may take up to a month for this medicine to start working. I am on 300 mg three times a day A long with other antidepressants and Suboxone to treat my opiate addiction. I wish I could get on Xanax because it is the only thing that helps with my anxiety, but because I am an addict my doctor will not prescribe me any medications that I may become addicted to or I should say that give me a high sort of feeling. The only difference is I feel like a zombie.\"\n",
      "\n",
      "\"I have degenerative disc disease and had spinal fusion and stenosis surgery in my lower back. For years I have been on Norco 7.5mg/325 (1 pill 4x a day as needed.) and for the most part that took care of my pain. Roughly the past year my dr decided to reduce the Norco by half and added MS Contin. 15mg 1 pill twice a  day. It didn&#039;t help much. For me it takes the MS Contin three hours for me to notice any difference and it only helps for about six hours leaving three hours before I can take another. He upped it to 30mg in the morning and 15mg at night. Still not seeing anything different. This Friday I am going to ask him if I can just go back on the Norco at my old regiment. It seemed to work better for me then these extended release meds.\"\n",
      "\n"
     ]
    }
   ],
   "source": [
    "#x, y = make_xy(df, vectorizer)\n",
    "\n",
    "prob = nb.predict_proba(X_train)[:, 0]\n",
    "predict = nb.predict(X_train)\n",
    "\n",
    "bad_highrating = np.argsort(prob[y_train == 0])[:5]\n",
    "bad_lowrating = np.argsort(prob[y_train == 1])[-5:]\n",
    "\n",
    "print(\"Mis-predicted high rating\")\n",
    "print('---------------------------')\n",
    "for row in bad_highrating:\n",
    "    print(df_final[y_train == 0].review.iloc[row])\n",
    "    print(\"\")\n",
    "\n",
    "print(\"Mis-predicted low rating\")\n",
    "print('--------------------------')\n",
    "for row in bad_lowrating:\n",
    "    print(df_final[y_train == 1].review.iloc[row])\n",
    "    print(\"\")"
   ]
  },
  {
   "cell_type": "markdown",
   "metadata": {},
   "source": [
    "## Wordcloud"
   ]
  },
  {
   "cell_type": "code",
   "execution_count": 206,
   "metadata": {},
   "outputs": [],
   "source": [
    "#vectorizer = TfidfVectorizer(stop_words='english')\n",
    "#vecs = vectorizer.fit_transform(corpus)\n",
    "# feature_names = vectorizer_new.get_feature_names()\n",
    "# dense = tfidf_train.todense()\n",
    "# lst1 = dense.tolist()"
   ]
  },
  {
   "cell_type": "code",
   "execution_count": 205,
   "metadata": {},
   "outputs": [],
   "source": [
    "# feat_with_weights=sorted(zip(clf.coef_[0], feature_names))"
   ]
  },
  {
   "cell_type": "code",
   "execution_count": 132,
   "metadata": {},
   "outputs": [],
   "source": [
    "# # Print the first class label and the top 20 feat_with_weights entries\n",
    "# print(class_labels[0], feat_with_weights[:20])\n",
    "\n",
    "# # Print the second class label and the bottom 20 feat_with_weights entries\n",
    "# print(class_labels[1], feat_with_weights[-20:])"
   ]
  },
  {
   "cell_type": "code",
   "execution_count": 204,
   "metadata": {},
   "outputs": [],
   "source": [
    "# feat_with_weights[:20]"
   ]
  },
  {
   "cell_type": "code",
   "execution_count": 203,
   "metadata": {},
   "outputs": [],
   "source": [
    "# feat_with_weights[-20:]"
   ]
  },
  {
   "cell_type": "code",
   "execution_count": 199,
   "metadata": {},
   "outputs": [],
   "source": [
    "# feat_counts=sorted(zip( clf.feature_count_[1],feature_names,))\n",
    "# #clf.feature_count_"
   ]
  },
  {
   "cell_type": "code",
   "execution_count": 200,
   "metadata": {},
   "outputs": [],
   "source": [
    "# d2=dict(feat_counts[-20:])\n",
    "# new_d2 = dict([(value, key) for key, value in d2.items()])"
   ]
  },
  {
   "cell_type": "code",
   "execution_count": 201,
   "metadata": {},
   "outputs": [],
   "source": [
    "# d3=dict(feat_counts[:20])\n",
    "# new_d3 = dict([(value, key) for key, value in d3.items()])"
   ]
  },
  {
   "cell_type": "code",
   "execution_count": 202,
   "metadata": {},
   "outputs": [],
   "source": [
    "# feat_counts[-20:]"
   ]
  },
  {
   "cell_type": "code",
   "execution_count": 192,
   "metadata": {},
   "outputs": [],
   "source": [
    "wc = WordCloud()"
   ]
  },
  {
   "cell_type": "code",
   "execution_count": 193,
   "metadata": {},
   "outputs": [],
   "source": [
    "d=dict(zip(good_words,1- good_prob))"
   ]
  },
  {
   "cell_type": "code",
   "execution_count": 194,
   "metadata": {},
   "outputs": [],
   "source": [
    "dfword=wc.generate_from_frequencies(d)"
   ]
  },
  {
   "cell_type": "code",
   "execution_count": 195,
   "metadata": {},
   "outputs": [
    {
     "data": {
      "image/png": "[encoded data removed]",
      "text/plain": [
       "<Figure size 576x360 with 1 Axes>"
      ]
     },
     "metadata": {},
     "output_type": "display_data"
    }
   ],
   "source": [
    "plt.imshow(dfword , interpolation='bilinear')\n",
    "plt.axis('off')\n",
    "plt.show()"
   ]
  },
  {
   "cell_type": "code",
   "execution_count": 197,
   "metadata": {},
   "outputs": [
    {
     "data": {
      "text/plain": [
       "<wordcloud.wordcloud.WordCloud at 0x7ffcd7444f10>"
      ]
     },
     "execution_count": 197,
     "metadata": {},
     "output_type": "execute_result"
    }
   ],
   "source": [
    "wc.to_file(\"wc_goodwords.png\")"
   ]
  },
  {
   "cell_type": "code",
   "execution_count": null,
   "metadata": {},
   "outputs": [],
   "source": [
    "#dfword2=wc.generate_from_frequencies(df.T.sum(axis=1))"
   ]
  },
  {
   "cell_type": "code",
   "execution_count": null,
   "metadata": {},
   "outputs": [],
   "source": [
    "# plt.imshow(dfword2 , interpolation='bilinear')\n",
    "# plt.axis('off')\n",
    "# plt.show()"
   ]
  },
  {
   "cell_type": "code",
   "execution_count": 166,
   "metadata": {},
   "outputs": [],
   "source": [
    "#dfword3=wc.generate_from_frequencies(new_d3)"
   ]
  },
  {
   "cell_type": "code",
   "execution_count": 207,
   "metadata": {},
   "outputs": [],
   "source": [
    "# plt.imshow(dfword3 , interpolation='bilinear')\n",
    "# plt.axis('off')\n",
    "# plt.show()"
   ]
  },
  {
   "cell_type": "code",
   "execution_count": null,
   "metadata": {},
   "outputs": [],
   "source": [
    "#df_awesome=df_final[df_final.condition=='Vaginal Yeast Infection'][df_final.drugName.isin(list_new)]"
   ]
  },
  {
   "cell_type": "code",
   "execution_count": 198,
   "metadata": {},
   "outputs": [],
   "source": [
    "#df_final[df_final.drugName=='Belsomra'][df_final.low_rating_binary==1].review"
   ]
  },
  {
   "cell_type": "code",
   "execution_count": null,
   "metadata": {},
   "outputs": [],
   "source": []
  }
 ],
 "metadata": {
  "kernelspec": {
   "display_name": "Python 3",
   "language": "python",
   "name": "python3"
  },
  "language_info": {
   "codemirror_mode": {
    "name": "ipython",
    "version": 3
   },
   "file_extension": ".py",
   "mimetype": "text/x-python",
   "name": "python",
   "nbconvert_exporter": "python",
   "pygments_lexer": "ipython3",
   "version": "3.8.5"
  },
  "toc": {
   "base_numbering": 1,
   "nav_menu": {},
   "number_sections": true,
   "sideBar": true,
   "skip_h1_title": false,
   "title_cell": "Table of Contents",
   "title_sidebar": "Contents",
   "toc_cell": true,
   "toc_position": {
    "height": "calc(100% - 180px)",
    "left": "10px",
    "top": "150px",
    "width": "287.796875px"
   },
   "toc_section_display": true,
   "toc_window_display": true
  }
 },
 "nbformat": 4,
 "nbformat_minor": 4
}
