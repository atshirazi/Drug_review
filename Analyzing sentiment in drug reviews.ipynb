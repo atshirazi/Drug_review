{
 "cells": [
  {
   "cell_type": "markdown",
   "metadata": {
    "toc": true
   },
   "source": [
    "<h1>Table of Contents<span class=\"tocSkip\"></span></h1>\n",
    "<div class=\"toc\"><ul class=\"toc-item\"><li><span><a href=\"#Introduction\" data-toc-modified-id=\"Introduction-1\"><span class=\"toc-item-num\">1&nbsp;&nbsp;</span>Introduction</a></span></li><li><span><a href=\"#Data-wrangling\" data-toc-modified-id=\"Data-wrangling-2\"><span class=\"toc-item-num\">2&nbsp;&nbsp;</span>Data wrangling</a></span><ul class=\"toc-item\"><li><span><a href=\"#Dropping-the-null-values-in-the-train-and-test-sets\" data-toc-modified-id=\"Dropping-the-null-values-in-the-train-and-test-sets-2.1\"><span class=\"toc-item-num\">2.1&nbsp;&nbsp;</span>Dropping the null values in the train and test sets</a></span></li><li><span><a href=\"#Polarity-and-subjectivity\" data-toc-modified-id=\"Polarity-and-subjectivity-2.2\"><span class=\"toc-item-num\">2.2&nbsp;&nbsp;</span>Polarity and subjectivity</a></span><ul class=\"toc-item\"><li><span><a href=\"#Negative-polarity-binary-column\" data-toc-modified-id=\"Negative-polarity-binary-column-2.2.1\"><span class=\"toc-item-num\">2.2.1&nbsp;&nbsp;</span>Negative-polarity binary column</a></span></li></ul></li><li><span><a href=\"#Rating-column\" data-toc-modified-id=\"Rating-column-2.3\"><span class=\"toc-item-num\">2.3&nbsp;&nbsp;</span>Rating column</a></span><ul class=\"toc-item\"><li><span><a href=\"#Countplot\" data-toc-modified-id=\"Countplot-2.3.1\"><span class=\"toc-item-num\">2.3.1&nbsp;&nbsp;</span>Countplot</a></span></li><li><span><a href=\"#Ratings-grouping\" data-toc-modified-id=\"Ratings-grouping-2.3.2\"><span class=\"toc-item-num\">2.3.2&nbsp;&nbsp;</span>Ratings grouping</a></span></li><li><span><a href=\"#Binary-low-rating-column\" data-toc-modified-id=\"Binary-low-rating-column-2.3.3\"><span class=\"toc-item-num\">2.3.3&nbsp;&nbsp;</span>Binary low-rating column</a></span></li></ul></li><li><span><a href=\"#Unknown-conditions\" data-toc-modified-id=\"Unknown-conditions-2.4\"><span class=\"toc-item-num\">2.4&nbsp;&nbsp;</span>Unknown conditions</a></span></li><li><span><a href=\"#Drugs-with-more-than-100-reviews\" data-toc-modified-id=\"Drugs-with-more-than-100-reviews-2.5\"><span class=\"toc-item-num\">2.5&nbsp;&nbsp;</span>Drugs with more than 100 reviews</a></span></li><li><span><a href=\"#Conditions-with-more-than-100-reviews\" data-toc-modified-id=\"Conditions-with-more-than-100-reviews-2.6\"><span class=\"toc-item-num\">2.6&nbsp;&nbsp;</span>Conditions with more than 100 reviews</a></span></li></ul></li><li><span><a href=\"#EDA\" data-toc-modified-id=\"EDA-3\"><span class=\"toc-item-num\">3&nbsp;&nbsp;</span>EDA</a></span><ul class=\"toc-item\"><li><span><a href=\"#Which-patients-tend-to-have-more-negative-reviews?\" data-toc-modified-id=\"Which-patients-tend-to-have-more-negative-reviews?-3.1\"><span class=\"toc-item-num\">3.1&nbsp;&nbsp;</span>Which patients tend to have more negative reviews?</a></span><ul class=\"toc-item\"><li><span><a href=\"#Conditions-with-more-negative-reviews\" data-toc-modified-id=\"Conditions-with-more-negative-reviews-3.1.1\"><span class=\"toc-item-num\">3.1.1&nbsp;&nbsp;</span>Conditions with more negative reviews</a></span><ul class=\"toc-item\"><li><span><a href=\"#Top-patient-conditions\" data-toc-modified-id=\"Top-patient-conditions-3.1.1.1\"><span class=\"toc-item-num\">3.1.1.1&nbsp;&nbsp;</span>Top patient conditions</a></span></li><li><span><a href=\"#Lowest-patient-conditions\" data-toc-modified-id=\"Lowest-patient-conditions-3.1.1.2\"><span class=\"toc-item-num\">3.1.1.2&nbsp;&nbsp;</span>Lowest patient conditions</a></span></li></ul></li><li><span><a href=\"#Drugs-with-more-negative-reviews\" data-toc-modified-id=\"Drugs-with-more-negative-reviews-3.1.2\"><span class=\"toc-item-num\">3.1.2&nbsp;&nbsp;</span>Drugs with more negative reviews</a></span><ul class=\"toc-item\"><li><span><a href=\"#Top-drugs\" data-toc-modified-id=\"Top-drugs-3.1.2.1\"><span class=\"toc-item-num\">3.1.2.1&nbsp;&nbsp;</span>Top drugs</a></span></li><li><span><a href=\"#Least-drugs\" data-toc-modified-id=\"Least-drugs-3.1.2.2\"><span class=\"toc-item-num\">3.1.2.2&nbsp;&nbsp;</span>Least drugs</a></span></li></ul></li></ul></li><li><span><a href=\"#Low-rated-drugs\" data-toc-modified-id=\"Low-rated-drugs-3.2\"><span class=\"toc-item-num\">3.2&nbsp;&nbsp;</span>Low-rated drugs</a></span><ul class=\"toc-item\"><li><span><a href=\"#Top-patient-conditions-with-low-ratings\" data-toc-modified-id=\"Top-patient-conditions-with-low-ratings-3.2.1\"><span class=\"toc-item-num\">3.2.1&nbsp;&nbsp;</span>Top patient conditions with low ratings</a></span></li><li><span><a href=\"#Least-patient-conditions-with-low-ratings\" data-toc-modified-id=\"Least-patient-conditions-with-low-ratings-3.2.2\"><span class=\"toc-item-num\">3.2.2&nbsp;&nbsp;</span>Least patient conditions with low ratings</a></span></li><li><span><a href=\"#Top-low-rated-drugs\" data-toc-modified-id=\"Top-low-rated-drugs-3.2.3\"><span class=\"toc-item-num\">3.2.3&nbsp;&nbsp;</span>Top low-rated drugs</a></span></li><li><span><a href=\"#Least-low-rated-drugs\" data-toc-modified-id=\"Least-low-rated-drugs-3.2.4\"><span class=\"toc-item-num\">3.2.4&nbsp;&nbsp;</span>Least low-rated drugs</a></span></li></ul></li></ul></li><li><span><a href=\"#Classification-Predict-the-low-rating-(rating-&lt;4)-drugs-based-on-the-review.\" data-toc-modified-id=\"Classification-Predict-the-low-rating-(rating-<4)-drugs-based-on-the-review.-4\"><span class=\"toc-item-num\">4&nbsp;&nbsp;</span>Classification-Predict the low-rating (rating &lt;4) drugs based on the review.</a></span><ul class=\"toc-item\"><li><span><a href=\"#Preprocessing\" data-toc-modified-id=\"Preprocessing-4.1\"><span class=\"toc-item-num\">4.1&nbsp;&nbsp;</span>Preprocessing</a></span></li><li><span><a href=\"#MultinomialNB\" data-toc-modified-id=\"MultinomialNB-4.2\"><span class=\"toc-item-num\">4.2&nbsp;&nbsp;</span>MultinomialNB</a></span><ul class=\"toc-item\"><li><span><a href=\"#Best-predictive-words\" data-toc-modified-id=\"Best-predictive-words-4.2.1\"><span class=\"toc-item-num\">4.2.1&nbsp;&nbsp;</span>Best predictive words</a></span></li><li><span><a href=\"#Sample-mis-predicted-ratings\" data-toc-modified-id=\"Sample-mis-predicted-ratings-4.2.2\"><span class=\"toc-item-num\">4.2.2&nbsp;&nbsp;</span>Sample mis-predicted ratings</a></span></li><li><span><a href=\"#Wordcloud\" data-toc-modified-id=\"Wordcloud-4.2.3\"><span class=\"toc-item-num\">4.2.3&nbsp;&nbsp;</span>Wordcloud</a></span></li><li><span><a href=\"#Top-low-rated-drug:-'Miconazole'\" data-toc-modified-id=\"Top-low-rated-drug:-'Miconazole'-4.2.4\"><span class=\"toc-item-num\">4.2.4&nbsp;&nbsp;</span>Top low-rated drug: 'Miconazole'</a></span></li></ul></li><li><span><a href=\"#Logistic-regression\" data-toc-modified-id=\"Logistic-regression-4.3\"><span class=\"toc-item-num\">4.3&nbsp;&nbsp;</span>Logistic regression</a></span></li><li><span><a href=\"#Threshold-tuning-for-the-best-model-(NB)\" data-toc-modified-id=\"Threshold-tuning-for-the-best-model-(NB)-4.4\"><span class=\"toc-item-num\">4.4&nbsp;&nbsp;</span>Threshold tuning for the best model (NB)</a></span><ul class=\"toc-item\"><li><span><a href=\"#By-optimizing-F-score\" data-toc-modified-id=\"By-optimizing-F-score-4.4.1\"><span class=\"toc-item-num\">4.4.1&nbsp;&nbsp;</span>By optimizing F-score</a></span></li><li><span><a href=\"#By-optimizing-geometric-mean\" data-toc-modified-id=\"By-optimizing-geometric-mean-4.4.2\"><span class=\"toc-item-num\">4.4.2&nbsp;&nbsp;</span>By optimizing geometric mean</a></span></li></ul></li></ul></li></ul></div>"
   ]
  },
  {
   "cell_type": "code",
   "execution_count": 440,
   "metadata": {},
   "outputs": [],
   "source": [
    "import pandas as pd\n",
    "#import dataframe_image as dfi\n",
    "import os\n",
    "import numpy as np\n",
    "import datetime as dt\n",
    "import seaborn as sns\n",
    "import matplotlib.pyplot as plt\n",
    "import pandas_profiling\n",
    "import statsmodels.api as sm\n",
    "import re\n",
    "import nltk\n",
    "import spacy\n",
    "import math\n",
    "import sklearn\n",
    "\n",
    "from pandas_profiling.utils.cache import cache_file\n",
    "\n",
    "from sklearn import metrics, datasets, linear_model, preprocessing\n",
    "from sklearn.linear_model import LogisticRegression, Lasso, Ridge\n",
    "from sklearn.model_selection import train_test_split, KFold, RandomizedSearchCV, cross_val_score, GridSearchCV, StratifiedKFold\n",
    "from sklearn.cluster import KMeans\n",
    "from sklearn.neighbors import KNeighborsClassifier\n",
    "from sklearn.metrics import roc_curve, roc_auc_score, accuracy_score, confusion_matrix, classification_report, precision_recall_curve, mean_squared_error, f1_score, plot_confusion_matrix  \n",
    "from sklearn.tree import DecisionTreeClassifier\n",
    "from sklearn.svm import SVC, LinearSVC\n",
    "from sklearn.preprocessing import scale, StandardScaler\n",
    "from sklearn.pipeline import Pipeline\n",
    "from sklearn.feature_extraction.text import CountVectorizer, TfidfVectorizer, TfidfTransformer\n",
    "from sklearn.naive_bayes import MultinomialNB\n",
    "from sklearn.ensemble import RandomForestRegressor, RandomForestClassifier \n",
    "\n",
    "from nltk.tokenize import word_tokenize, sent_tokenize\n",
    "from collections import Counter\n",
    "from textblob import TextBlob\n",
    "from wordcloud import WordCloud\n",
    "import scipy.sparse\n",
    "import seaborn as sns\n",
    "import string\n",
    "\n",
    "#nltk.download('punkt')\n"
   ]
  },
  {
   "cell_type": "code",
   "execution_count": 441,
   "metadata": {},
   "outputs": [],
   "source": [
    "#print(os.getcwd())\n",
    "path=\"/Users/atousachaharsoughshirazi/drug_review\"\n",
    "os.chdir(path)\n",
    "file_train=\"drugsComTrain_raw.csv\"\n",
    "df=pd.read_csv(file_train, header=0)\n",
    "file_test=\"drugsComTest_raw.csv\"\n",
    "df_test=pd.read_csv(file_test, header=0)"
   ]
  },
  {
   "cell_type": "markdown",
   "metadata": {},
   "source": [
    "# Introduction\n",
    "\n",
    "Pharmaceutical companies develop drugs based on intensive research and clinical trials. However, clinical trials provide a limited resource to examine the drugs and their side effects, and the patients' reviews after mass production are a great source of information for pharmaceutical companies to learn more about customer reaction to their products, discover potential problems before they occur, and better allocate their resources. . In this project, we will aim to predict whether or not a customer review is negative (rating <4) and analyze what indicators in a review make it most likely to be negative for different types of drugs.  Some problems that we address in this project are:\n",
    "\n",
    "* Classification: Can we predict the rating of the drug based on the review?\n",
    "* Sentiment analysis: Determine if a review is positive, neutral, or negative. Which patients tend to have more negative reviews? What elements of a review make it more helpful to others?\n",
    "\n",
    "This data set contains patients review and rating of 3436 different drugs. The condition of the patients for which the drug is taken is given and the number of people who found the review useful. The data set is big and there are about 161,000 reviews. \n"
   ]
  },
  {
   "cell_type": "markdown",
   "metadata": {},
   "source": [
    "# Data wrangling"
   ]
  },
  {
   "cell_type": "code",
   "execution_count": 442,
   "metadata": {},
   "outputs": [
    {
     "data": {
      "text/html": [
       "<div>\n",
       "<style scoped>\n",
       "    .dataframe tbody tr th:only-of-type {\n",
       "        vertical-align: middle;\n",
       "    }\n",
       "\n",
       "    .dataframe tbody tr th {\n",
       "        vertical-align: top;\n",
       "    }\n",
       "\n",
       "    .dataframe thead th {\n",
       "        text-align: right;\n",
       "    }\n",
       "</style>\n",
       "<table border=\"1\" class=\"dataframe\">\n",
       "  <thead>\n",
       "    <tr style=\"text-align: right;\">\n",
       "      <th></th>\n",
       "      <th>uniqueID</th>\n",
       "      <th>drugName</th>\n",
       "      <th>condition</th>\n",
       "      <th>review</th>\n",
       "      <th>rating</th>\n",
       "      <th>date</th>\n",
       "      <th>usefulCount</th>\n",
       "    </tr>\n",
       "  </thead>\n",
       "  <tbody>\n",
       "    <tr>\n",
       "      <th>0</th>\n",
       "      <td>206461</td>\n",
       "      <td>Valsartan</td>\n",
       "      <td>Left Ventricular Dysfunction</td>\n",
       "      <td>\"It has no side effect, I take it in combinati...</td>\n",
       "      <td>9</td>\n",
       "      <td>20-May-12</td>\n",
       "      <td>27</td>\n",
       "    </tr>\n",
       "    <tr>\n",
       "      <th>1</th>\n",
       "      <td>95260</td>\n",
       "      <td>Guanfacine</td>\n",
       "      <td>ADHD</td>\n",
       "      <td>\"My son is halfway through his fourth week of ...</td>\n",
       "      <td>8</td>\n",
       "      <td>27-Apr-10</td>\n",
       "      <td>192</td>\n",
       "    </tr>\n",
       "    <tr>\n",
       "      <th>2</th>\n",
       "      <td>92703</td>\n",
       "      <td>Lybrel</td>\n",
       "      <td>Birth Control</td>\n",
       "      <td>\"I used to take another oral contraceptive, wh...</td>\n",
       "      <td>5</td>\n",
       "      <td>14-Dec-09</td>\n",
       "      <td>17</td>\n",
       "    </tr>\n",
       "    <tr>\n",
       "      <th>3</th>\n",
       "      <td>138000</td>\n",
       "      <td>Ortho Evra</td>\n",
       "      <td>Birth Control</td>\n",
       "      <td>\"This is my first time using any form of birth...</td>\n",
       "      <td>8</td>\n",
       "      <td>3-Nov-15</td>\n",
       "      <td>10</td>\n",
       "    </tr>\n",
       "    <tr>\n",
       "      <th>4</th>\n",
       "      <td>35696</td>\n",
       "      <td>Buprenorphine / naloxone</td>\n",
       "      <td>Opiate Dependence</td>\n",
       "      <td>\"Suboxone has completely turned my life around...</td>\n",
       "      <td>9</td>\n",
       "      <td>27-Nov-16</td>\n",
       "      <td>37</td>\n",
       "    </tr>\n",
       "  </tbody>\n",
       "</table>\n",
       "</div>"
      ],
      "text/plain": [
       "   uniqueID                  drugName                     condition  \\\n",
       "0    206461                 Valsartan  Left Ventricular Dysfunction   \n",
       "1     95260                Guanfacine                          ADHD   \n",
       "2     92703                    Lybrel                 Birth Control   \n",
       "3    138000                Ortho Evra                 Birth Control   \n",
       "4     35696  Buprenorphine / naloxone             Opiate Dependence   \n",
       "\n",
       "                                              review  rating       date  \\\n",
       "0  \"It has no side effect, I take it in combinati...       9  20-May-12   \n",
       "1  \"My son is halfway through his fourth week of ...       8  27-Apr-10   \n",
       "2  \"I used to take another oral contraceptive, wh...       5  14-Dec-09   \n",
       "3  \"This is my first time using any form of birth...       8   3-Nov-15   \n",
       "4  \"Suboxone has completely turned my life around...       9  27-Nov-16   \n",
       "\n",
       "   usefulCount  \n",
       "0           27  \n",
       "1          192  \n",
       "2           17  \n",
       "3           10  \n",
       "4           37  "
      ]
     },
     "execution_count": 442,
     "metadata": {},
     "output_type": "execute_result"
    }
   ],
   "source": [
    "df.head()"
   ]
  },
  {
   "cell_type": "code",
   "execution_count": 443,
   "metadata": {},
   "outputs": [
    {
     "data": {
      "text/plain": [
       "(161297, 7)"
      ]
     },
     "execution_count": 443,
     "metadata": {},
     "output_type": "execute_result"
    }
   ],
   "source": [
    "df.shape"
   ]
  },
  {
   "cell_type": "code",
   "execution_count": 444,
   "metadata": {},
   "outputs": [
    {
     "name": "stdout",
     "output_type": "stream",
     "text": [
      "<class 'pandas.core.frame.DataFrame'>\n",
      "RangeIndex: 161297 entries, 0 to 161296\n",
      "Data columns (total 7 columns):\n",
      " #   Column       Non-Null Count   Dtype \n",
      "---  ------       --------------   ----- \n",
      " 0   uniqueID     161297 non-null  int64 \n",
      " 1   drugName     161297 non-null  object\n",
      " 2   condition    160398 non-null  object\n",
      " 3   review       161297 non-null  object\n",
      " 4   rating       161297 non-null  int64 \n",
      " 5   date         161297 non-null  object\n",
      " 6   usefulCount  161297 non-null  int64 \n",
      "dtypes: int64(3), object(4)\n",
      "memory usage: 8.6+ MB\n"
     ]
    }
   ],
   "source": [
    "df.info()"
   ]
  },
  {
   "cell_type": "code",
   "execution_count": 445,
   "metadata": {},
   "outputs": [
    {
     "name": "stdout",
     "output_type": "stream",
     "text": [
      "uniqueID 161297\n",
      "drugName 3436\n",
      "condition 884\n",
      "review 112329\n",
      "rating 10\n",
      "date 3579\n",
      "usefulCount 389\n"
     ]
    }
   ],
   "source": [
    "#Unique values in the train data set\n",
    "column_list = df.columns.values.tolist()\n",
    "for column_name in column_list:\n",
    "    print(column_name, df[column_name].nunique())"
   ]
  },
  {
   "cell_type": "code",
   "execution_count": 446,
   "metadata": {},
   "outputs": [
    {
     "name": "stdout",
     "output_type": "stream",
     "text": [
      "uniqueID 53766\n",
      "drugName 2637\n",
      "condition 708\n",
      "review 48280\n",
      "rating 10\n",
      "date 3566\n",
      "usefulCount 325\n"
     ]
    }
   ],
   "source": [
    "#Unique values in the test data set\n",
    "column_list = df_test.columns.values.tolist()\n",
    "for column_name in column_list:\n",
    "    print(column_name, df_test[column_name].nunique())"
   ]
  },
  {
   "cell_type": "code",
   "execution_count": 447,
   "metadata": {},
   "outputs": [
    {
     "data": {
      "text/plain": [
       "32"
      ]
     },
     "execution_count": 447,
     "metadata": {},
     "output_type": "execute_result"
    }
   ],
   "source": [
    "#There are 32 unique conditions in the test set that are not in the train set\n",
    "A=set(df.condition.values)\n",
    "B=set(df_test.condition.values)\n",
    "len(B.difference(A))"
   ]
  },
  {
   "cell_type": "code",
   "execution_count": 448,
   "metadata": {},
   "outputs": [
    {
     "data": {
      "text/plain": [
       "208"
      ]
     },
     "execution_count": 448,
     "metadata": {},
     "output_type": "execute_result"
    }
   ],
   "source": [
    "#There are 208 unique conditions in the train set that are not in the test set\n",
    "len(A.difference(B))"
   ]
  },
  {
   "cell_type": "code",
   "execution_count": 449,
   "metadata": {},
   "outputs": [
    {
     "data": {
      "text/plain": [
       "1034"
      ]
     },
     "execution_count": 449,
     "metadata": {},
     "output_type": "execute_result"
    }
   ],
   "source": [
    "#There are 1034 drug names that are in the train data set and not in the test data set\n",
    "C=set(df.drugName.values)\n",
    "D=set(df_test.drugName.values)\n",
    "len(C.difference(D))"
   ]
  },
  {
   "cell_type": "code",
   "execution_count": 450,
   "metadata": {},
   "outputs": [
    {
     "data": {
      "text/plain": [
       "235"
      ]
     },
     "execution_count": 450,
     "metadata": {},
     "output_type": "execute_result"
    }
   ],
   "source": [
    "#There are 235 drug names that are in the test data set and not in the train data set\n",
    "len(D.difference(C))"
   ]
  },
  {
   "cell_type": "markdown",
   "metadata": {},
   "source": [
    "## Dropping the null values in the train and test sets"
   ]
  },
  {
   "cell_type": "code",
   "execution_count": 451,
   "metadata": {},
   "outputs": [
    {
     "data": {
      "text/plain": [
       "True"
      ]
     },
     "execution_count": 451,
     "metadata": {},
     "output_type": "execute_result"
    }
   ],
   "source": [
    "df.isna().any().any()"
   ]
  },
  {
   "cell_type": "code",
   "execution_count": 452,
   "metadata": {},
   "outputs": [
    {
     "data": {
      "text/plain": [
       "899"
      ]
     },
     "execution_count": 452,
     "metadata": {},
     "output_type": "execute_result"
    }
   ],
   "source": [
    "df.isna().sum().sum()"
   ]
  },
  {
   "cell_type": "code",
   "execution_count": 453,
   "metadata": {},
   "outputs": [
    {
     "name": "stdout",
     "output_type": "stream",
     "text": [
      "Column with lowest amount of missings contains 0.0 % missings.\n",
      "Column with highest amount of missings contains 0.5573569254232875 % missings.\n"
     ]
    }
   ],
   "source": [
    "temp = df.isna().sum()/(len(df))*100\n",
    "print(\"Column with lowest amount of missings contains {} % missings.\".format(temp.min()))\n",
    "print(\"Column with highest amount of missings contains {} % missings.\".format(temp.max()))\n"
   ]
  },
  {
   "cell_type": "code",
   "execution_count": 454,
   "metadata": {},
   "outputs": [
    {
     "data": {
      "text/plain": [
       "Index(['condition'], dtype='object')"
      ]
     },
     "execution_count": 454,
     "metadata": {},
     "output_type": "execute_result"
    }
   ],
   "source": [
    "df.loc[:, df.isnull().any()].columns"
   ]
  },
  {
   "cell_type": "code",
   "execution_count": 455,
   "metadata": {},
   "outputs": [],
   "source": [
    "df.dropna(inplace=True)"
   ]
  },
  {
   "cell_type": "code",
   "execution_count": 456,
   "metadata": {},
   "outputs": [
    {
     "data": {
      "text/plain": [
       "True"
      ]
     },
     "execution_count": 456,
     "metadata": {},
     "output_type": "execute_result"
    }
   ],
   "source": [
    "df_test.isna().any().any()"
   ]
  },
  {
   "cell_type": "code",
   "execution_count": 457,
   "metadata": {},
   "outputs": [
    {
     "data": {
      "text/plain": [
       "295"
      ]
     },
     "execution_count": 457,
     "metadata": {},
     "output_type": "execute_result"
    }
   ],
   "source": [
    "df_test.isna().sum().sum()"
   ]
  },
  {
   "cell_type": "code",
   "execution_count": 458,
   "metadata": {},
   "outputs": [],
   "source": [
    "df_test.dropna(inplace=True)"
   ]
  },
  {
   "cell_type": "markdown",
   "metadata": {},
   "source": [
    "## Polarity and subjectivity"
   ]
  },
  {
   "cell_type": "code",
   "execution_count": 459,
   "metadata": {},
   "outputs": [],
   "source": [
    "df[['polarity', 'subjectivity']] = df['review'].apply(lambda text: pd.Series(TextBlob(text).sentiment))"
   ]
  },
  {
   "cell_type": "code",
   "execution_count": 460,
   "metadata": {},
   "outputs": [
    {
     "data": {
      "text/html": [
       "<div>\n",
       "<style scoped>\n",
       "    .dataframe tbody tr th:only-of-type {\n",
       "        vertical-align: middle;\n",
       "    }\n",
       "\n",
       "    .dataframe tbody tr th {\n",
       "        vertical-align: top;\n",
       "    }\n",
       "\n",
       "    .dataframe thead th {\n",
       "        text-align: right;\n",
       "    }\n",
       "</style>\n",
       "<table border=\"1\" class=\"dataframe\">\n",
       "  <thead>\n",
       "    <tr style=\"text-align: right;\">\n",
       "      <th></th>\n",
       "      <th>uniqueID</th>\n",
       "      <th>drugName</th>\n",
       "      <th>condition</th>\n",
       "      <th>review</th>\n",
       "      <th>rating</th>\n",
       "      <th>date</th>\n",
       "      <th>usefulCount</th>\n",
       "      <th>polarity</th>\n",
       "      <th>subjectivity</th>\n",
       "      <th>sentiment</th>\n",
       "    </tr>\n",
       "  </thead>\n",
       "  <tbody>\n",
       "    <tr>\n",
       "      <th>0</th>\n",
       "      <td>206461</td>\n",
       "      <td>Valsartan</td>\n",
       "      <td>Left Ventricular Dysfunction</td>\n",
       "      <td>\"It has no side effect, I take it in combinati...</td>\n",
       "      <td>9</td>\n",
       "      <td>20-May-12</td>\n",
       "      <td>27</td>\n",
       "      <td>0.000000</td>\n",
       "      <td>0.000000</td>\n",
       "      <td>neutral</td>\n",
       "    </tr>\n",
       "    <tr>\n",
       "      <th>1</th>\n",
       "      <td>95260</td>\n",
       "      <td>Guanfacine</td>\n",
       "      <td>ADHD</td>\n",
       "      <td>\"My son is halfway through his fourth week of ...</td>\n",
       "      <td>8</td>\n",
       "      <td>27-Apr-10</td>\n",
       "      <td>192</td>\n",
       "      <td>0.168333</td>\n",
       "      <td>0.431349</td>\n",
       "      <td>neutral</td>\n",
       "    </tr>\n",
       "    <tr>\n",
       "      <th>2</th>\n",
       "      <td>92703</td>\n",
       "      <td>Lybrel</td>\n",
       "      <td>Birth Control</td>\n",
       "      <td>\"I used to take another oral contraceptive, wh...</td>\n",
       "      <td>5</td>\n",
       "      <td>14-Dec-09</td>\n",
       "      <td>17</td>\n",
       "      <td>0.067210</td>\n",
       "      <td>0.402155</td>\n",
       "      <td>neutral</td>\n",
       "    </tr>\n",
       "    <tr>\n",
       "      <th>3</th>\n",
       "      <td>138000</td>\n",
       "      <td>Ortho Evra</td>\n",
       "      <td>Birth Control</td>\n",
       "      <td>\"This is my first time using any form of birth...</td>\n",
       "      <td>8</td>\n",
       "      <td>3-Nov-15</td>\n",
       "      <td>10</td>\n",
       "      <td>0.179545</td>\n",
       "      <td>0.665909</td>\n",
       "      <td>neutral</td>\n",
       "    </tr>\n",
       "    <tr>\n",
       "      <th>4</th>\n",
       "      <td>35696</td>\n",
       "      <td>Buprenorphine / naloxone</td>\n",
       "      <td>Opiate Dependence</td>\n",
       "      <td>\"Suboxone has completely turned my life around...</td>\n",
       "      <td>9</td>\n",
       "      <td>27-Nov-16</td>\n",
       "      <td>37</td>\n",
       "      <td>0.194444</td>\n",
       "      <td>0.401389</td>\n",
       "      <td>neutral</td>\n",
       "    </tr>\n",
       "  </tbody>\n",
       "</table>\n",
       "</div>"
      ],
      "text/plain": [
       "   uniqueID                  drugName                     condition  \\\n",
       "0    206461                 Valsartan  Left Ventricular Dysfunction   \n",
       "1     95260                Guanfacine                          ADHD   \n",
       "2     92703                    Lybrel                 Birth Control   \n",
       "3    138000                Ortho Evra                 Birth Control   \n",
       "4     35696  Buprenorphine / naloxone             Opiate Dependence   \n",
       "\n",
       "                                              review  rating       date  \\\n",
       "0  \"It has no side effect, I take it in combinati...       9  20-May-12   \n",
       "1  \"My son is halfway through his fourth week of ...       8  27-Apr-10   \n",
       "2  \"I used to take another oral contraceptive, wh...       5  14-Dec-09   \n",
       "3  \"This is my first time using any form of birth...       8   3-Nov-15   \n",
       "4  \"Suboxone has completely turned my life around...       9  27-Nov-16   \n",
       "\n",
       "   usefulCount  polarity  subjectivity sentiment  \n",
       "0           27  0.000000      0.000000   neutral  \n",
       "1          192  0.168333      0.431349   neutral  \n",
       "2           17  0.067210      0.402155   neutral  \n",
       "3           10  0.179545      0.665909   neutral  \n",
       "4           37  0.194444      0.401389   neutral  "
      ]
     },
     "execution_count": 460,
     "metadata": {},
     "output_type": "execute_result"
    }
   ],
   "source": [
    "bins = [-1 ,-0.6, -0.2, 0.2, 0.6, 1]\n",
    "labels = ['very negative', 'negative' , 'neutral', 'positive', 'very positive']\n",
    "df['sentiment'] = pd.cut(df.polarity, bins, labels = labels,include_lowest = True)\n",
    "\n",
    "df.head()"
   ]
  },
  {
   "cell_type": "markdown",
   "metadata": {},
   "source": [
    "### Negative-polarity binary column"
   ]
  },
  {
   "cell_type": "code",
   "execution_count": 461,
   "metadata": {},
   "outputs": [
    {
     "data": {
      "text/html": [
       "<div>\n",
       "<style scoped>\n",
       "    .dataframe tbody tr th:only-of-type {\n",
       "        vertical-align: middle;\n",
       "    }\n",
       "\n",
       "    .dataframe tbody tr th {\n",
       "        vertical-align: top;\n",
       "    }\n",
       "\n",
       "    .dataframe thead th {\n",
       "        text-align: right;\n",
       "    }\n",
       "</style>\n",
       "<table border=\"1\" class=\"dataframe\">\n",
       "  <thead>\n",
       "    <tr style=\"text-align: right;\">\n",
       "      <th></th>\n",
       "      <th>uniqueID</th>\n",
       "      <th>drugName</th>\n",
       "      <th>condition</th>\n",
       "      <th>review</th>\n",
       "      <th>rating</th>\n",
       "      <th>date</th>\n",
       "      <th>usefulCount</th>\n",
       "      <th>polarity</th>\n",
       "      <th>subjectivity</th>\n",
       "      <th>sentiment</th>\n",
       "      <th>negative_polarity_binary</th>\n",
       "    </tr>\n",
       "  </thead>\n",
       "  <tbody>\n",
       "    <tr>\n",
       "      <th>0</th>\n",
       "      <td>206461</td>\n",
       "      <td>Valsartan</td>\n",
       "      <td>Left Ventricular Dysfunction</td>\n",
       "      <td>\"It has no side effect, I take it in combinati...</td>\n",
       "      <td>9</td>\n",
       "      <td>20-May-12</td>\n",
       "      <td>27</td>\n",
       "      <td>0.000000</td>\n",
       "      <td>0.000000</td>\n",
       "      <td>neutral</td>\n",
       "      <td>positive</td>\n",
       "    </tr>\n",
       "    <tr>\n",
       "      <th>1</th>\n",
       "      <td>95260</td>\n",
       "      <td>Guanfacine</td>\n",
       "      <td>ADHD</td>\n",
       "      <td>\"My son is halfway through his fourth week of ...</td>\n",
       "      <td>8</td>\n",
       "      <td>27-Apr-10</td>\n",
       "      <td>192</td>\n",
       "      <td>0.168333</td>\n",
       "      <td>0.431349</td>\n",
       "      <td>neutral</td>\n",
       "      <td>positive</td>\n",
       "    </tr>\n",
       "    <tr>\n",
       "      <th>2</th>\n",
       "      <td>92703</td>\n",
       "      <td>Lybrel</td>\n",
       "      <td>Birth Control</td>\n",
       "      <td>\"I used to take another oral contraceptive, wh...</td>\n",
       "      <td>5</td>\n",
       "      <td>14-Dec-09</td>\n",
       "      <td>17</td>\n",
       "      <td>0.067210</td>\n",
       "      <td>0.402155</td>\n",
       "      <td>neutral</td>\n",
       "      <td>positive</td>\n",
       "    </tr>\n",
       "    <tr>\n",
       "      <th>3</th>\n",
       "      <td>138000</td>\n",
       "      <td>Ortho Evra</td>\n",
       "      <td>Birth Control</td>\n",
       "      <td>\"This is my first time using any form of birth...</td>\n",
       "      <td>8</td>\n",
       "      <td>3-Nov-15</td>\n",
       "      <td>10</td>\n",
       "      <td>0.179545</td>\n",
       "      <td>0.665909</td>\n",
       "      <td>neutral</td>\n",
       "      <td>positive</td>\n",
       "    </tr>\n",
       "    <tr>\n",
       "      <th>4</th>\n",
       "      <td>35696</td>\n",
       "      <td>Buprenorphine / naloxone</td>\n",
       "      <td>Opiate Dependence</td>\n",
       "      <td>\"Suboxone has completely turned my life around...</td>\n",
       "      <td>9</td>\n",
       "      <td>27-Nov-16</td>\n",
       "      <td>37</td>\n",
       "      <td>0.194444</td>\n",
       "      <td>0.401389</td>\n",
       "      <td>neutral</td>\n",
       "      <td>positive</td>\n",
       "    </tr>\n",
       "  </tbody>\n",
       "</table>\n",
       "</div>"
      ],
      "text/plain": [
       "   uniqueID                  drugName                     condition  \\\n",
       "0    206461                 Valsartan  Left Ventricular Dysfunction   \n",
       "1     95260                Guanfacine                          ADHD   \n",
       "2     92703                    Lybrel                 Birth Control   \n",
       "3    138000                Ortho Evra                 Birth Control   \n",
       "4     35696  Buprenorphine / naloxone             Opiate Dependence   \n",
       "\n",
       "                                              review  rating       date  \\\n",
       "0  \"It has no side effect, I take it in combinati...       9  20-May-12   \n",
       "1  \"My son is halfway through his fourth week of ...       8  27-Apr-10   \n",
       "2  \"I used to take another oral contraceptive, wh...       5  14-Dec-09   \n",
       "3  \"This is my first time using any form of birth...       8   3-Nov-15   \n",
       "4  \"Suboxone has completely turned my life around...       9  27-Nov-16   \n",
       "\n",
       "   usefulCount  polarity  subjectivity sentiment negative_polarity_binary  \n",
       "0           27  0.000000      0.000000   neutral                 positive  \n",
       "1          192  0.168333      0.431349   neutral                 positive  \n",
       "2           17  0.067210      0.402155   neutral                 positive  \n",
       "3           10  0.179545      0.665909   neutral                 positive  \n",
       "4           37  0.194444      0.401389   neutral                 positive  "
      ]
     },
     "execution_count": 461,
     "metadata": {},
     "output_type": "execute_result"
    }
   ],
   "source": [
    "bins = [-1,0, 1]\n",
    "labels = ['negative', 'positive']\n",
    "df['negative_polarity_binary'] = pd.cut(df.polarity, bins, labels = labels, right=False, include_lowest = True)\n",
    "\n",
    "df.head()"
   ]
  },
  {
   "cell_type": "code",
   "execution_count": 462,
   "metadata": {},
   "outputs": [
    {
     "data": {
      "text/html": [
       "<div>\n",
       "<style scoped>\n",
       "    .dataframe tbody tr th:only-of-type {\n",
       "        vertical-align: middle;\n",
       "    }\n",
       "\n",
       "    .dataframe tbody tr th {\n",
       "        vertical-align: top;\n",
       "    }\n",
       "\n",
       "    .dataframe thead th {\n",
       "        text-align: right;\n",
       "    }\n",
       "</style>\n",
       "<table border=\"1\" class=\"dataframe\">\n",
       "  <thead>\n",
       "    <tr style=\"text-align: right;\">\n",
       "      <th></th>\n",
       "      <th>uniqueID</th>\n",
       "      <th>drugName</th>\n",
       "      <th>condition</th>\n",
       "      <th>review</th>\n",
       "      <th>rating</th>\n",
       "      <th>date</th>\n",
       "      <th>usefulCount</th>\n",
       "      <th>polarity</th>\n",
       "      <th>subjectivity</th>\n",
       "      <th>sentiment</th>\n",
       "      <th>negative_polarity_binary</th>\n",
       "    </tr>\n",
       "  </thead>\n",
       "  <tbody>\n",
       "    <tr>\n",
       "      <th>0</th>\n",
       "      <td>206461</td>\n",
       "      <td>Valsartan</td>\n",
       "      <td>Left Ventricular Dysfunction</td>\n",
       "      <td>\"It has no side effect, I take it in combinati...</td>\n",
       "      <td>9</td>\n",
       "      <td>20-May-12</td>\n",
       "      <td>27</td>\n",
       "      <td>0.000000</td>\n",
       "      <td>0.000000</td>\n",
       "      <td>neutral</td>\n",
       "      <td>0.0</td>\n",
       "    </tr>\n",
       "    <tr>\n",
       "      <th>1</th>\n",
       "      <td>95260</td>\n",
       "      <td>Guanfacine</td>\n",
       "      <td>ADHD</td>\n",
       "      <td>\"My son is halfway through his fourth week of ...</td>\n",
       "      <td>8</td>\n",
       "      <td>27-Apr-10</td>\n",
       "      <td>192</td>\n",
       "      <td>0.168333</td>\n",
       "      <td>0.431349</td>\n",
       "      <td>neutral</td>\n",
       "      <td>0.0</td>\n",
       "    </tr>\n",
       "    <tr>\n",
       "      <th>2</th>\n",
       "      <td>92703</td>\n",
       "      <td>Lybrel</td>\n",
       "      <td>Birth Control</td>\n",
       "      <td>\"I used to take another oral contraceptive, wh...</td>\n",
       "      <td>5</td>\n",
       "      <td>14-Dec-09</td>\n",
       "      <td>17</td>\n",
       "      <td>0.067210</td>\n",
       "      <td>0.402155</td>\n",
       "      <td>neutral</td>\n",
       "      <td>0.0</td>\n",
       "    </tr>\n",
       "    <tr>\n",
       "      <th>3</th>\n",
       "      <td>138000</td>\n",
       "      <td>Ortho Evra</td>\n",
       "      <td>Birth Control</td>\n",
       "      <td>\"This is my first time using any form of birth...</td>\n",
       "      <td>8</td>\n",
       "      <td>3-Nov-15</td>\n",
       "      <td>10</td>\n",
       "      <td>0.179545</td>\n",
       "      <td>0.665909</td>\n",
       "      <td>neutral</td>\n",
       "      <td>0.0</td>\n",
       "    </tr>\n",
       "    <tr>\n",
       "      <th>4</th>\n",
       "      <td>35696</td>\n",
       "      <td>Buprenorphine / naloxone</td>\n",
       "      <td>Opiate Dependence</td>\n",
       "      <td>\"Suboxone has completely turned my life around...</td>\n",
       "      <td>9</td>\n",
       "      <td>27-Nov-16</td>\n",
       "      <td>37</td>\n",
       "      <td>0.194444</td>\n",
       "      <td>0.401389</td>\n",
       "      <td>neutral</td>\n",
       "      <td>0.0</td>\n",
       "    </tr>\n",
       "  </tbody>\n",
       "</table>\n",
       "</div>"
      ],
      "text/plain": [
       "   uniqueID                  drugName                     condition  \\\n",
       "0    206461                 Valsartan  Left Ventricular Dysfunction   \n",
       "1     95260                Guanfacine                          ADHD   \n",
       "2     92703                    Lybrel                 Birth Control   \n",
       "3    138000                Ortho Evra                 Birth Control   \n",
       "4     35696  Buprenorphine / naloxone             Opiate Dependence   \n",
       "\n",
       "                                              review  rating       date  \\\n",
       "0  \"It has no side effect, I take it in combinati...       9  20-May-12   \n",
       "1  \"My son is halfway through his fourth week of ...       8  27-Apr-10   \n",
       "2  \"I used to take another oral contraceptive, wh...       5  14-Dec-09   \n",
       "3  \"This is my first time using any form of birth...       8   3-Nov-15   \n",
       "4  \"Suboxone has completely turned my life around...       9  27-Nov-16   \n",
       "\n",
       "   usefulCount  polarity  subjectivity sentiment  negative_polarity_binary  \n",
       "0           27  0.000000      0.000000   neutral                       0.0  \n",
       "1          192  0.168333      0.431349   neutral                       0.0  \n",
       "2           17  0.067210      0.402155   neutral                       0.0  \n",
       "3           10  0.179545      0.665909   neutral                       0.0  \n",
       "4           37  0.194444      0.401389   neutral                       0.0  "
      ]
     },
     "execution_count": 462,
     "metadata": {},
     "output_type": "execute_result"
    }
   ],
   "source": [
    "df.negative_polarity_binary.replace(['negative','positive'],[1,0] ,inplace=True)\n",
    "df.head()"
   ]
  },
  {
   "cell_type": "code",
   "execution_count": 463,
   "metadata": {},
   "outputs": [
    {
     "data": {
      "text/plain": [
       "0.0    106642\n",
       "1.0     53030\n",
       "Name: negative_polarity_binary, dtype: int64"
      ]
     },
     "execution_count": 463,
     "metadata": {},
     "output_type": "execute_result"
    }
   ],
   "source": [
    "df.negative_polarity_binary.value_counts()"
   ]
  },
  {
   "cell_type": "markdown",
   "metadata": {},
   "source": [
    "## Rating column"
   ]
  },
  {
   "cell_type": "markdown",
   "metadata": {},
   "source": [
    "### Countplot"
   ]
  },
  {
   "cell_type": "code",
   "execution_count": 464,
   "metadata": {},
   "outputs": [
    {
     "data": {
      "image/png": "[encoded data removed]",
      "text/plain": [
       "<Figure size 576x360 with 1 Axes>"
      ]
     },
     "metadata": {},
     "output_type": "display_data"
    }
   ],
   "source": [
    "sns_plot=sns.countplot(x=\"rating\", data=df)\n",
    "plt.tight_layout()\n",
    "plt.show()\n",
    "fig = sns_plot.get_figure()\n",
    "fig.savefig('/Users/atousachaharsoughshirazi/drug_review/figures/rating_countplot.png') "
   ]
  },
  {
   "cell_type": "markdown",
   "metadata": {},
   "source": [
    "### Ratings grouping"
   ]
  },
  {
   "cell_type": "code",
   "execution_count": 465,
   "metadata": {},
   "outputs": [
    {
     "data": {
      "text/html": [
       "<div>\n",
       "<style scoped>\n",
       "    .dataframe tbody tr th:only-of-type {\n",
       "        vertical-align: middle;\n",
       "    }\n",
       "\n",
       "    .dataframe tbody tr th {\n",
       "        vertical-align: top;\n",
       "    }\n",
       "\n",
       "    .dataframe thead th {\n",
       "        text-align: right;\n",
       "    }\n",
       "</style>\n",
       "<table border=\"1\" class=\"dataframe\">\n",
       "  <thead>\n",
       "    <tr style=\"text-align: right;\">\n",
       "      <th></th>\n",
       "      <th>uniqueID</th>\n",
       "      <th>drugName</th>\n",
       "      <th>condition</th>\n",
       "      <th>review</th>\n",
       "      <th>rating</th>\n",
       "      <th>date</th>\n",
       "      <th>usefulCount</th>\n",
       "      <th>polarity</th>\n",
       "      <th>subjectivity</th>\n",
       "      <th>sentiment</th>\n",
       "      <th>negative_polarity_binary</th>\n",
       "      <th>rating_groups</th>\n",
       "    </tr>\n",
       "  </thead>\n",
       "  <tbody>\n",
       "    <tr>\n",
       "      <th>0</th>\n",
       "      <td>206461</td>\n",
       "      <td>Valsartan</td>\n",
       "      <td>Left Ventricular Dysfunction</td>\n",
       "      <td>\"It has no side effect, I take it in combinati...</td>\n",
       "      <td>9</td>\n",
       "      <td>20-May-12</td>\n",
       "      <td>27</td>\n",
       "      <td>0.000000</td>\n",
       "      <td>0.000000</td>\n",
       "      <td>neutral</td>\n",
       "      <td>0.0</td>\n",
       "      <td>&gt;7</td>\n",
       "    </tr>\n",
       "    <tr>\n",
       "      <th>1</th>\n",
       "      <td>95260</td>\n",
       "      <td>Guanfacine</td>\n",
       "      <td>ADHD</td>\n",
       "      <td>\"My son is halfway through his fourth week of ...</td>\n",
       "      <td>8</td>\n",
       "      <td>27-Apr-10</td>\n",
       "      <td>192</td>\n",
       "      <td>0.168333</td>\n",
       "      <td>0.431349</td>\n",
       "      <td>neutral</td>\n",
       "      <td>0.0</td>\n",
       "      <td>&gt;7</td>\n",
       "    </tr>\n",
       "    <tr>\n",
       "      <th>2</th>\n",
       "      <td>92703</td>\n",
       "      <td>Lybrel</td>\n",
       "      <td>Birth Control</td>\n",
       "      <td>\"I used to take another oral contraceptive, wh...</td>\n",
       "      <td>5</td>\n",
       "      <td>14-Dec-09</td>\n",
       "      <td>17</td>\n",
       "      <td>0.067210</td>\n",
       "      <td>0.402155</td>\n",
       "      <td>neutral</td>\n",
       "      <td>0.0</td>\n",
       "      <td>4-7</td>\n",
       "    </tr>\n",
       "    <tr>\n",
       "      <th>3</th>\n",
       "      <td>138000</td>\n",
       "      <td>Ortho Evra</td>\n",
       "      <td>Birth Control</td>\n",
       "      <td>\"This is my first time using any form of birth...</td>\n",
       "      <td>8</td>\n",
       "      <td>3-Nov-15</td>\n",
       "      <td>10</td>\n",
       "      <td>0.179545</td>\n",
       "      <td>0.665909</td>\n",
       "      <td>neutral</td>\n",
       "      <td>0.0</td>\n",
       "      <td>&gt;7</td>\n",
       "    </tr>\n",
       "    <tr>\n",
       "      <th>4</th>\n",
       "      <td>35696</td>\n",
       "      <td>Buprenorphine / naloxone</td>\n",
       "      <td>Opiate Dependence</td>\n",
       "      <td>\"Suboxone has completely turned my life around...</td>\n",
       "      <td>9</td>\n",
       "      <td>27-Nov-16</td>\n",
       "      <td>37</td>\n",
       "      <td>0.194444</td>\n",
       "      <td>0.401389</td>\n",
       "      <td>neutral</td>\n",
       "      <td>0.0</td>\n",
       "      <td>&gt;7</td>\n",
       "    </tr>\n",
       "  </tbody>\n",
       "</table>\n",
       "</div>"
      ],
      "text/plain": [
       "   uniqueID                  drugName                     condition  \\\n",
       "0    206461                 Valsartan  Left Ventricular Dysfunction   \n",
       "1     95260                Guanfacine                          ADHD   \n",
       "2     92703                    Lybrel                 Birth Control   \n",
       "3    138000                Ortho Evra                 Birth Control   \n",
       "4     35696  Buprenorphine / naloxone             Opiate Dependence   \n",
       "\n",
       "                                              review  rating       date  \\\n",
       "0  \"It has no side effect, I take it in combinati...       9  20-May-12   \n",
       "1  \"My son is halfway through his fourth week of ...       8  27-Apr-10   \n",
       "2  \"I used to take another oral contraceptive, wh...       5  14-Dec-09   \n",
       "3  \"This is my first time using any form of birth...       8   3-Nov-15   \n",
       "4  \"Suboxone has completely turned my life around...       9  27-Nov-16   \n",
       "\n",
       "   usefulCount  polarity  subjectivity sentiment  negative_polarity_binary  \\\n",
       "0           27  0.000000      0.000000   neutral                       0.0   \n",
       "1          192  0.168333      0.431349   neutral                       0.0   \n",
       "2           17  0.067210      0.402155   neutral                       0.0   \n",
       "3           10  0.179545      0.665909   neutral                       0.0   \n",
       "4           37  0.194444      0.401389   neutral                       0.0   \n",
       "\n",
       "  rating_groups  \n",
       "0            >7  \n",
       "1            >7  \n",
       "2           4-7  \n",
       "3            >7  \n",
       "4            >7  "
      ]
     },
     "execution_count": 465,
     "metadata": {},
     "output_type": "execute_result"
    }
   ],
   "source": [
    "bins = [0 ,4, 7, np.inf]\n",
    "labels = ['<4', '4-7', '>7']\n",
    "df['rating_groups'] = pd.cut(df.rating, bins, labels = labels,include_lowest = True)\n",
    "\n",
    "df.head()"
   ]
  },
  {
   "cell_type": "code",
   "execution_count": 466,
   "metadata": {},
   "outputs": [
    {
     "data": {
      "text/plain": [
       "<AxesSubplot:xlabel='polarity', ylabel='Count'>"
      ]
     },
     "execution_count": 466,
     "metadata": {},
     "output_type": "execute_result"
    },
    {
     "data": {
      "image/png": "[encoded data removed]",
      "text/plain": [
       "<Figure size 576x360 with 1 Axes>"
      ]
     },
     "metadata": {},
     "output_type": "display_data"
    }
   ],
   "source": [
    "sns.histplot(x=\"polarity\", data=df)"
   ]
  },
  {
   "cell_type": "markdown",
   "metadata": {},
   "source": [
    "### Binary low-rating column"
   ]
  },
  {
   "cell_type": "markdown",
   "metadata": {},
   "source": [
    "Later we are interested to investigate which patients tend to give low ratings (rating<4) and what elements in the reviews make a low rating. Therefore, it is useful to add a column and categorize the reviews as a separate binary group. Since we are interested in low rating reviews we will assign 1 to low ratings and 0 to others."
   ]
  },
  {
   "cell_type": "code",
   "execution_count": 467,
   "metadata": {},
   "outputs": [
    {
     "data": {
      "text/html": [
       "<div>\n",
       "<style scoped>\n",
       "    .dataframe tbody tr th:only-of-type {\n",
       "        vertical-align: middle;\n",
       "    }\n",
       "\n",
       "    .dataframe tbody tr th {\n",
       "        vertical-align: top;\n",
       "    }\n",
       "\n",
       "    .dataframe thead th {\n",
       "        text-align: right;\n",
       "    }\n",
       "</style>\n",
       "<table border=\"1\" class=\"dataframe\">\n",
       "  <thead>\n",
       "    <tr style=\"text-align: right;\">\n",
       "      <th></th>\n",
       "      <th>uniqueID</th>\n",
       "      <th>drugName</th>\n",
       "      <th>condition</th>\n",
       "      <th>review</th>\n",
       "      <th>rating</th>\n",
       "      <th>date</th>\n",
       "      <th>usefulCount</th>\n",
       "      <th>polarity</th>\n",
       "      <th>subjectivity</th>\n",
       "      <th>sentiment</th>\n",
       "      <th>negative_polarity_binary</th>\n",
       "      <th>rating_groups</th>\n",
       "      <th>low_rating_binary</th>\n",
       "    </tr>\n",
       "  </thead>\n",
       "  <tbody>\n",
       "    <tr>\n",
       "      <th>0</th>\n",
       "      <td>206461</td>\n",
       "      <td>Valsartan</td>\n",
       "      <td>Left Ventricular Dysfunction</td>\n",
       "      <td>\"It has no side effect, I take it in combinati...</td>\n",
       "      <td>9</td>\n",
       "      <td>20-May-12</td>\n",
       "      <td>27</td>\n",
       "      <td>0.000000</td>\n",
       "      <td>0.000000</td>\n",
       "      <td>neutral</td>\n",
       "      <td>0.0</td>\n",
       "      <td>&gt;7</td>\n",
       "      <td>0</td>\n",
       "    </tr>\n",
       "    <tr>\n",
       "      <th>1</th>\n",
       "      <td>95260</td>\n",
       "      <td>Guanfacine</td>\n",
       "      <td>ADHD</td>\n",
       "      <td>\"My son is halfway through his fourth week of ...</td>\n",
       "      <td>8</td>\n",
       "      <td>27-Apr-10</td>\n",
       "      <td>192</td>\n",
       "      <td>0.168333</td>\n",
       "      <td>0.431349</td>\n",
       "      <td>neutral</td>\n",
       "      <td>0.0</td>\n",
       "      <td>&gt;7</td>\n",
       "      <td>0</td>\n",
       "    </tr>\n",
       "    <tr>\n",
       "      <th>2</th>\n",
       "      <td>92703</td>\n",
       "      <td>Lybrel</td>\n",
       "      <td>Birth Control</td>\n",
       "      <td>\"I used to take another oral contraceptive, wh...</td>\n",
       "      <td>5</td>\n",
       "      <td>14-Dec-09</td>\n",
       "      <td>17</td>\n",
       "      <td>0.067210</td>\n",
       "      <td>0.402155</td>\n",
       "      <td>neutral</td>\n",
       "      <td>0.0</td>\n",
       "      <td>4-7</td>\n",
       "      <td>0</td>\n",
       "    </tr>\n",
       "    <tr>\n",
       "      <th>3</th>\n",
       "      <td>138000</td>\n",
       "      <td>Ortho Evra</td>\n",
       "      <td>Birth Control</td>\n",
       "      <td>\"This is my first time using any form of birth...</td>\n",
       "      <td>8</td>\n",
       "      <td>3-Nov-15</td>\n",
       "      <td>10</td>\n",
       "      <td>0.179545</td>\n",
       "      <td>0.665909</td>\n",
       "      <td>neutral</td>\n",
       "      <td>0.0</td>\n",
       "      <td>&gt;7</td>\n",
       "      <td>0</td>\n",
       "    </tr>\n",
       "    <tr>\n",
       "      <th>4</th>\n",
       "      <td>35696</td>\n",
       "      <td>Buprenorphine / naloxone</td>\n",
       "      <td>Opiate Dependence</td>\n",
       "      <td>\"Suboxone has completely turned my life around...</td>\n",
       "      <td>9</td>\n",
       "      <td>27-Nov-16</td>\n",
       "      <td>37</td>\n",
       "      <td>0.194444</td>\n",
       "      <td>0.401389</td>\n",
       "      <td>neutral</td>\n",
       "      <td>0.0</td>\n",
       "      <td>&gt;7</td>\n",
       "      <td>0</td>\n",
       "    </tr>\n",
       "  </tbody>\n",
       "</table>\n",
       "</div>"
      ],
      "text/plain": [
       "   uniqueID                  drugName                     condition  \\\n",
       "0    206461                 Valsartan  Left Ventricular Dysfunction   \n",
       "1     95260                Guanfacine                          ADHD   \n",
       "2     92703                    Lybrel                 Birth Control   \n",
       "3    138000                Ortho Evra                 Birth Control   \n",
       "4     35696  Buprenorphine / naloxone             Opiate Dependence   \n",
       "\n",
       "                                              review  rating       date  \\\n",
       "0  \"It has no side effect, I take it in combinati...       9  20-May-12   \n",
       "1  \"My son is halfway through his fourth week of ...       8  27-Apr-10   \n",
       "2  \"I used to take another oral contraceptive, wh...       5  14-Dec-09   \n",
       "3  \"This is my first time using any form of birth...       8   3-Nov-15   \n",
       "4  \"Suboxone has completely turned my life around...       9  27-Nov-16   \n",
       "\n",
       "   usefulCount  polarity  subjectivity sentiment  negative_polarity_binary  \\\n",
       "0           27  0.000000      0.000000   neutral                       0.0   \n",
       "1          192  0.168333      0.431349   neutral                       0.0   \n",
       "2           17  0.067210      0.402155   neutral                       0.0   \n",
       "3           10  0.179545      0.665909   neutral                       0.0   \n",
       "4           37  0.194444      0.401389   neutral                       0.0   \n",
       "\n",
       "  rating_groups  low_rating_binary  \n",
       "0            >7                  0  \n",
       "1            >7                  0  \n",
       "2           4-7                  0  \n",
       "3            >7                  0  \n",
       "4            >7                  0  "
      ]
     },
     "execution_count": 467,
     "metadata": {},
     "output_type": "execute_result"
    }
   ],
   "source": [
    "df['low_rating_binary']=df.rating.replace([1,2,3, 4, 5,6,7,8,9,10],[1,1,1,0,0,0,0,0,0,0])\n",
    "df.head()"
   ]
  },
  {
   "cell_type": "code",
   "execution_count": 468,
   "metadata": {},
   "outputs": [],
   "source": [
    "df.low_rating_binary=df.low_rating_binary.astype(int)"
   ]
  },
  {
   "cell_type": "code",
   "execution_count": 469,
   "metadata": {},
   "outputs": [],
   "source": [
    "#Test set\n",
    "df_test['low_rating_binary']=df_test.rating.replace([1,2,3, 4, 5,6,7,8,9,10],[1,1,1,0,0,0,0,0,0,0])\n",
    "df_test.low_rating_binary=df_test.low_rating_binary.astype(int)"
   ]
  },
  {
   "cell_type": "markdown",
   "metadata": {},
   "source": [
    "## Unknown conditions"
   ]
  },
  {
   "cell_type": "markdown",
   "metadata": {},
   "source": [
    "There are some rows that that the condition is missing and it is replaced by the statement that how many users found the review useful. We replace them all by \"unknown\". "
   ]
  },
  {
   "cell_type": "code",
   "execution_count": 470,
   "metadata": {},
   "outputs": [],
   "source": [
    "#set(df.condition.sort_values())"
   ]
  },
  {
   "cell_type": "code",
   "execution_count": 471,
   "metadata": {},
   "outputs": [],
   "source": [
    "#set(df_test.condition.sort_values())"
   ]
  },
  {
   "cell_type": "code",
   "execution_count": 472,
   "metadata": {},
   "outputs": [],
   "source": [
    "df.replace(regex='\\d*</span> users found this comment helpful.', value='unknown', inplace=True)"
   ]
  },
  {
   "cell_type": "code",
   "execution_count": 473,
   "metadata": {},
   "outputs": [],
   "source": [
    "df_test.replace(regex='\\d*</span> users found this comment helpful.', value='unknown', inplace=True)"
   ]
  },
  {
   "cell_type": "markdown",
   "metadata": {},
   "source": [
    "## Drugs with more than 100 reviews"
   ]
  },
  {
   "cell_type": "code",
   "execution_count": 474,
   "metadata": {},
   "outputs": [],
   "source": [
    "drug_100plus_review=set()\n",
    "for x in df.drugName.values:\n",
    "    if x not in drug_100plus_review:\n",
    "        if len(df[df.drugName==x])>=100:\n",
    "            drug_100plus_review.add(x)"
   ]
  },
  {
   "cell_type": "code",
   "execution_count": 475,
   "metadata": {},
   "outputs": [
    {
     "data": {
      "text/plain": [
       "340"
      ]
     },
     "execution_count": 475,
     "metadata": {},
     "output_type": "execute_result"
    }
   ],
   "source": [
    "len(drug_100plus_review)"
   ]
  },
  {
   "cell_type": "code",
   "execution_count": 476,
   "metadata": {},
   "outputs": [],
   "source": [
    "df_drug=df[df.drugName.isin(drug_100plus_review)]"
   ]
  },
  {
   "cell_type": "code",
   "execution_count": 477,
   "metadata": {},
   "outputs": [
    {
     "data": {
      "text/plain": [
       "Levonorgestrel                       3631\n",
       "Etonogestrel                         3321\n",
       "Ethinyl estradiol / norethindrone    2750\n",
       "Nexplanon                            2156\n",
       "Ethinyl estradiol / norgestimate     2033\n",
       "                                     ... \n",
       "Avelox                                102\n",
       "Movantik                              102\n",
       "Levomilnacipran                       101\n",
       "Dexmethylphenidate                    101\n",
       "Naloxegol                             100\n",
       "Name: drugName, Length: 340, dtype: int64"
      ]
     },
     "execution_count": 477,
     "metadata": {},
     "output_type": "execute_result"
    }
   ],
   "source": [
    "df[df.drugName.isin(drug_100plus_review)].drugName.value_counts()"
   ]
  },
  {
   "cell_type": "code",
   "execution_count": 478,
   "metadata": {},
   "outputs": [],
   "source": [
    "# sns_plot=sns.countplot(x=\"drugName\", data=df_drug)\n",
    "# plt.tight_layout()\n",
    "# plt.show()\n",
    "# fig = sns_plot.get_figure()\n",
    "# #fig.savefig('/Users/atousachaharsoughshirazi/drug_review/figures/rating_countplot.png') "
   ]
  },
  {
   "cell_type": "markdown",
   "metadata": {},
   "source": [
    "## Conditions with more than 100 reviews"
   ]
  },
  {
   "cell_type": "code",
   "execution_count": 479,
   "metadata": {},
   "outputs": [],
   "source": [
    "condition_100plus_review=set()\n",
    "for x in df.condition.values:\n",
    "    if x not in condition_100plus_review:\n",
    "        if len(df[df.condition==x])>=100:\n",
    "            condition_100plus_review.add(x)"
   ]
  },
  {
   "cell_type": "code",
   "execution_count": 480,
   "metadata": {},
   "outputs": [
    {
     "data": {
      "text/plain": [
       "150"
      ]
     },
     "execution_count": 480,
     "metadata": {},
     "output_type": "execute_result"
    }
   ],
   "source": [
    "len(condition_100plus_review)"
   ]
  },
  {
   "cell_type": "code",
   "execution_count": 481,
   "metadata": {},
   "outputs": [],
   "source": [
    "df_condition=df[df.condition.isin(condition_100plus_review)]"
   ]
  },
  {
   "cell_type": "code",
   "execution_count": 482,
   "metadata": {},
   "outputs": [
    {
     "data": {
      "text/plain": [
       "Birth Control                28788\n",
       "Depression                    9069\n",
       "Pain                          6145\n",
       "Anxiety                       5904\n",
       "Acne                          5588\n",
       "                             ...  \n",
       "Human Papilloma Virus          102\n",
       "Dietary Supplementation        102\n",
       "Breast Cancer, Metastatic      102\n",
       "Vertig                         101\n",
       "Urinary Tract Stones           101\n",
       "Name: condition, Length: 150, dtype: int64"
      ]
     },
     "execution_count": 482,
     "metadata": {},
     "output_type": "execute_result"
    }
   ],
   "source": [
    "df[df.condition.isin(condition_100plus_review)].condition.value_counts()"
   ]
  },
  {
   "cell_type": "code",
   "execution_count": 483,
   "metadata": {},
   "outputs": [
    {
     "data": {
      "text/plain": [
       "116317"
      ]
     },
     "execution_count": 483,
     "metadata": {},
     "output_type": "execute_result"
    }
   ],
   "source": [
    "df_final=df_condition[df_condition.drugName.isin(drug_100plus_review)]\n",
    "len(df_final)"
   ]
  },
  {
   "cell_type": "markdown",
   "metadata": {},
   "source": [
    "# EDA"
   ]
  },
  {
   "cell_type": "markdown",
   "metadata": {},
   "source": [
    "## Which patients tend to have more negative reviews?"
   ]
  },
  {
   "cell_type": "markdown",
   "metadata": {},
   "source": [
    "### Conditions with more negative reviews"
   ]
  },
  {
   "cell_type": "markdown",
   "metadata": {},
   "source": [
    "#### Top patient conditions"
   ]
  },
  {
   "cell_type": "markdown",
   "metadata": {},
   "source": [
    "These are the top patient conditions that had negative reviews. "
   ]
  },
  {
   "cell_type": "code",
   "execution_count": 484,
   "metadata": {},
   "outputs": [
    {
     "data": {
      "text/plain": [
       "array(['Cold Sores', 'Kidney Infections', 'Herpes Simplex',\n",
       "       'Vaginal Yeast Infection', 'Bacterial Infection',\n",
       "       'Bacterial Skin Infection', 'Bacterial Vaginitis',\n",
       "       'Upper Respiratory Tract Infection',\n",
       "       'Nausea/Vomiting of Pregnancy', 'Diverticulitis'], dtype='<U33')"
      ]
     },
     "execution_count": 484,
     "metadata": {},
     "output_type": "execute_result"
    }
   ],
   "source": [
    "list1=df_condition[['condition', 'negative_polarity_binary']].groupby('condition').mean().sort_values(by='negative_polarity_binary', ascending=False)[:10].index.values\n",
    "list1.astype(str)"
   ]
  },
  {
   "cell_type": "code",
   "execution_count": 485,
   "metadata": {},
   "outputs": [],
   "source": [
    "df_new=df[df['condition'].isin(list1)]"
   ]
  },
  {
   "cell_type": "code",
   "execution_count": 486,
   "metadata": {},
   "outputs": [
    {
     "data": {
      "image/png": "[encoded data removed]",
      "text/plain": [
       "<Figure size 576x360 with 1 Axes>"
      ]
     },
     "metadata": {},
     "output_type": "display_data"
    }
   ],
   "source": [
    "sns.set(rc={'axes.grid':False, \n",
    "            'axes.labelsize':13,\n",
    "            'figure.figsize':(8, 5),\n",
    "            'xtick.labelsize':13,\n",
    "            'ytick.labelsize':13})\n",
    "sns_plot=sns.barplot(x='condition', y='negative_polarity_binary',palette='tab10', data=df_new, dodge=False, order=list1, estimator=lambda x: sum(x==1)*100.0/len(x))\n",
    "sns_plot.set_xticklabels(sns_plot.get_xticklabels(), rotation=40, ha=\"right\")\n",
    "sns_plot.set(ylabel='percentage of negative reviews')\n",
    "plt.tight_layout()\n",
    "plt.show()\n",
    "fig = sns_plot.get_figure()\n",
    "fig.savefig('/Users/atousachaharsoughshirazi/drug_review/figures/percentageofnegativereviewsbycondition.png') "
   ]
  },
  {
   "cell_type": "markdown",
   "metadata": {},
   "source": [
    "#### Lowest patient conditions"
   ]
  },
  {
   "cell_type": "markdown",
   "metadata": {},
   "source": [
    "These are the low patient conditions that had negative reviews. "
   ]
  },
  {
   "cell_type": "code",
   "execution_count": 487,
   "metadata": {},
   "outputs": [
    {
     "data": {
      "image/png": "[encoded data removed]",
      "text/plain": [
       "<Figure size 576x360 with 1 Axes>"
      ]
     },
     "metadata": {},
     "output_type": "display_data"
    }
   ],
   "source": [
    "list1_bot=df_condition[['condition', 'negative_polarity_binary']].groupby('condition').mean().sort_values(by='negative_polarity_binary', ascending=True)[:10].index.values\n",
    "\n",
    "list1_bot.astype(str)\n",
    "df_new_bot=df[df['condition'].isin(list1_bot)]\n",
    "sns.set(rc={'axes.grid':False, \n",
    "            'axes.labelsize':13,\n",
    "            'figure.figsize':(8, 5),\n",
    "            'xtick.labelsize':13,\n",
    "            'ytick.labelsize':13})\n",
    "sns_plot=sns.barplot(x='condition', y='negative_polarity_binary',palette='tab10', data=df_new_bot, dodge=False, order=list1_bot, estimator=lambda x: sum(x==1)*100.0/len(x))\n",
    "sns_plot.set_xticklabels(sns_plot.get_xticklabels(), rotation=40, ha=\"right\")\n",
    "sns_plot.set(ylabel='percentage of negative reviews')\n",
    "plt.tight_layout()\n",
    "plt.show()\n",
    "fig = sns_plot.get_figure()\n",
    "fig.savefig('/Users/atousachaharsoughshirazi/drug_review/figures/bottom_percentageofnegativereviewsbycondition.png') "
   ]
  },
  {
   "cell_type": "markdown",
   "metadata": {},
   "source": [
    "### Drugs with more negative reviews"
   ]
  },
  {
   "cell_type": "markdown",
   "metadata": {},
   "source": [
    "#### Top drugs "
   ]
  },
  {
   "cell_type": "code",
   "execution_count": 488,
   "metadata": {},
   "outputs": [
    {
     "data": {
      "text/plain": [
       "array(['Docosanol', 'Abreva', 'Dextromethorphan', 'Valacyclovir',\n",
       "       'Clarithromycin', 'Movantik', 'Miconazole', 'Dulcolax',\n",
       "       'Metronidazole', 'Bisacodyl'], dtype='<U16')"
      ]
     },
     "execution_count": 488,
     "metadata": {},
     "output_type": "execute_result"
    }
   ],
   "source": [
    "list2=df_drug[['drugName', 'negative_polarity_binary']].groupby('drugName').mean().sort_values(by='negative_polarity_binary', ascending=False)[:10].index.values\n",
    "list2.astype(str)"
   ]
  },
  {
   "cell_type": "code",
   "execution_count": 489,
   "metadata": {},
   "outputs": [],
   "source": [
    "df_new_drug=df[df['drugName'].isin(list2)]"
   ]
  },
  {
   "cell_type": "code",
   "execution_count": 490,
   "metadata": {},
   "outputs": [
    {
     "data": {
      "image/png": "[encoded data removed]",
      "text/plain": [
       "<Figure size 576x360 with 1 Axes>"
      ]
     },
     "metadata": {},
     "output_type": "display_data"
    }
   ],
   "source": [
    "sns.set(rc={'axes.grid':False, \n",
    "            'axes.labelsize':13,\n",
    "            'figure.figsize':(8, 5),\n",
    "            'xtick.labelsize':13,\n",
    "            'ytick.labelsize':13})\n",
    "sns_plot=sns.barplot(x='drugName', y='negative_polarity_binary',palette='tab10', data=df_new_drug, dodge=False, order=list2, estimator=lambda x: sum(x==1)*100.0/len(x))\n",
    "sns_plot.set_xticklabels(sns_plot.get_xticklabels(), rotation=40, ha=\"right\")\n",
    "sns_plot.set(ylabel='percentage of negative reviews')\n",
    "plt.tight_layout()\n",
    "plt.show()\n",
    "fig = sns_plot.get_figure()\n",
    "fig.savefig('/Users/atousachaharsoughshirazi/drug_review/figures/percentageofnegativereviewsbydrugname.png') "
   ]
  },
  {
   "cell_type": "markdown",
   "metadata": {},
   "source": [
    "#### Least drugs"
   ]
  },
  {
   "cell_type": "code",
   "execution_count": 491,
   "metadata": {},
   "outputs": [
    {
     "data": {
      "text/plain": [
       "array(['Cialis', 'Viagra', 'Sildenafil', 'Tadalafil', 'Testosterone',\n",
       "       'Adipex-P', 'Phentermine', 'Lisdexamfetamine', 'Provigil',\n",
       "       'Vyvanse'], dtype='<U16')"
      ]
     },
     "execution_count": 491,
     "metadata": {},
     "output_type": "execute_result"
    }
   ],
   "source": [
    "list2_bot=df_drug[['drugName', 'negative_polarity_binary']].groupby('drugName').mean().sort_values(by='negative_polarity_binary', ascending=True)[:10].index.values\n",
    "list2_bot.astype(str)"
   ]
  },
  {
   "cell_type": "code",
   "execution_count": 492,
   "metadata": {},
   "outputs": [],
   "source": [
    "df_new_drug_bot=df[df['drugName'].isin(list2_bot)]"
   ]
  },
  {
   "cell_type": "code",
   "execution_count": 493,
   "metadata": {},
   "outputs": [
    {
     "data": {
      "image/png": "[encoded data removed]",
      "text/plain": [
       "<Figure size 576x360 with 1 Axes>"
      ]
     },
     "metadata": {},
     "output_type": "display_data"
    }
   ],
   "source": [
    "sns.set(rc={'axes.grid':False, \n",
    "            'axes.labelsize':13,\n",
    "            'figure.figsize':(8, 5),\n",
    "            'xtick.labelsize':13,\n",
    "            'ytick.labelsize':13})\n",
    "sns_plot=sns.barplot(x='drugName', y='negative_polarity_binary',palette='tab10', data=df_new_drug_bot, dodge=False, order=list2_bot, estimator=lambda x: sum(x==1)*100.0/len(x))\n",
    "sns_plot.set_xticklabels(sns_plot.get_xticklabels(), rotation=40, ha=\"right\")\n",
    "sns_plot.set(ylabel='percentage of negative reviews')\n",
    "plt.tight_layout()\n",
    "plt.show()\n",
    "fig = sns_plot.get_figure()\n",
    "fig.savefig('/Users/atousachaharsoughshirazi/drug_review/figures/bottom_percentageofnegativereviewsbydrugname.png') "
   ]
  },
  {
   "cell_type": "markdown",
   "metadata": {},
   "source": [
    "## Low-rated drugs"
   ]
  },
  {
   "cell_type": "markdown",
   "metadata": {},
   "source": [
    "### Top patient conditions with low ratings"
   ]
  },
  {
   "cell_type": "code",
   "execution_count": 494,
   "metadata": {},
   "outputs": [
    {
     "data": {
      "text/plain": [
       "array(['Vaginal Yeast Infection', 'Abnormal Uterine Bleeding',\n",
       "       'Osteoporosis', 'Constipation, Drug Induced', 'Asthma, acute',\n",
       "       'Bladder Infection', 'Dry Eye Disease', 'Urinary Tract Infection',\n",
       "       'Atrophic Vaginitis', 'Allergies'], dtype='<U26')"
      ]
     },
     "execution_count": 494,
     "metadata": {},
     "output_type": "execute_result"
    }
   ],
   "source": [
    "list3=df_condition[['condition', 'low_rating_binary']].groupby('condition').mean().sort_values( by='low_rating_binary', ascending=False)[:10].index.values\n",
    "list3.astype(str)"
   ]
  },
  {
   "cell_type": "code",
   "execution_count": 495,
   "metadata": {},
   "outputs": [],
   "source": [
    "df_new_con=df[df['condition'].isin(list3)]"
   ]
  },
  {
   "cell_type": "code",
   "execution_count": 496,
   "metadata": {},
   "outputs": [
    {
     "data": {
      "image/png": "[encoded data removed]",
      "text/plain": [
       "<Figure size 576x360 with 1 Axes>"
      ]
     },
     "metadata": {},
     "output_type": "display_data"
    }
   ],
   "source": [
    "sns.set(rc={'axes.grid':False, \n",
    "            'axes.labelsize':13,\n",
    "            'figure.figsize':(8, 5),\n",
    "            'xtick.labelsize':13,\n",
    "            'ytick.labelsize':13})\n",
    "sns_plot=sns.barplot(x='condition', y='low_rating_binary',palette='tab10', data=df_new_con, dodge=False, order=list3, estimator=lambda x: sum(x==1)*100.0/len(x))\n",
    "sns_plot.set_xticklabels(sns_plot.get_xticklabels(), rotation=40, ha=\"right\")\n",
    "sns_plot.set(ylabel='percentage of low ratings')\n",
    "plt.tight_layout()\n",
    "plt.show()\n",
    "fig = sns_plot.get_figure()\n",
    "fig.savefig('/Users/atousachaharsoughshirazi/drug_review/figures/percentageoflowratingsbycondition.png') "
   ]
  },
  {
   "cell_type": "markdown",
   "metadata": {},
   "source": [
    "### Least patient conditions with low ratings"
   ]
  },
  {
   "cell_type": "code",
   "execution_count": 497,
   "metadata": {},
   "outputs": [
    {
     "data": {
      "text/plain": [
       "array(['mance Anxiety', 'Alcohol Withdrawal', 'Opiate Withdrawal',\n",
       "       'Alcohol Dependence', 'Cold Sores', 'Hyperhidrosis',\n",
       "       'Cluster Headaches', 'Eczema', 'Smoking Cessation',\n",
       "       'HIV Infection'], dtype='<U18')"
      ]
     },
     "execution_count": 497,
     "metadata": {},
     "output_type": "execute_result"
    }
   ],
   "source": [
    "list3_bot=df_condition[['condition', 'low_rating_binary']].groupby('condition').mean().sort_values( by='low_rating_binary', ascending=True)[:10].index.values\n",
    "list3_bot.astype(str)"
   ]
  },
  {
   "cell_type": "code",
   "execution_count": 498,
   "metadata": {},
   "outputs": [],
   "source": [
    "df_new_con_bot=df[df['condition'].isin(list3_bot)]"
   ]
  },
  {
   "cell_type": "code",
   "execution_count": 499,
   "metadata": {},
   "outputs": [
    {
     "data": {
      "image/png": "[encoded data removed]",
      "text/plain": [
       "<Figure size 576x360 with 1 Axes>"
      ]
     },
     "metadata": {},
     "output_type": "display_data"
    }
   ],
   "source": [
    "sns.set(rc={'axes.grid':False, \n",
    "            'axes.labelsize':13,\n",
    "            'figure.figsize':(8, 5),\n",
    "            'xtick.labelsize':13,\n",
    "            'ytick.labelsize':13})\n",
    "sns_plot=sns.barplot(x='condition', y='low_rating_binary',palette='tab10', data=df_new_con_bot, dodge=False, order=list3_bot, estimator=lambda x: sum(x==1)*100.0/len(x))\n",
    "sns_plot.set_xticklabels(sns_plot.get_xticklabels(), rotation=40, ha=\"right\")\n",
    "sns_plot.set(ylabel='percentage of low ratings')\n",
    "plt.tight_layout()\n",
    "plt.show()\n",
    "fig = sns_plot.get_figure()\n",
    "fig.savefig('/Users/atousachaharsoughshirazi/drug_review/figures/bottom_percentageoflowratingsbycondition.png') "
   ]
  },
  {
   "cell_type": "code",
   "execution_count": 500,
   "metadata": {},
   "outputs": [
    {
     "data": {
      "text/plain": [
       "array(['Miconazole', 'Tioconazole', 'Fluconazole'], dtype='<U11')"
      ]
     },
     "execution_count": 500,
     "metadata": {},
     "output_type": "execute_result"
    }
   ],
   "source": [
    "list_new=df_final[df_final.condition=='Vaginal Yeast Infection'][['drugName','low_rating_binary']].groupby('drugName').mean().sort_values(by='low_rating_binary', ascending=False)[:10].index.values\n",
    "list_new.astype(str)"
   ]
  },
  {
   "cell_type": "markdown",
   "metadata": {},
   "source": [
    "### Top low-rated drugs"
   ]
  },
  {
   "cell_type": "code",
   "execution_count": 501,
   "metadata": {},
   "outputs": [
    {
     "data": {
      "text/plain": [
       "array(['Miconazole', 'Belsomra', 'Suvorexant', 'Dextromethorphan',\n",
       "       'Cefdinir', 'Movantik', 'Naloxegol', 'Metoclopramide',\n",
       "       'Tioconazole', 'Depo-Provera'], dtype='<U16')"
      ]
     },
     "execution_count": 501,
     "metadata": {},
     "output_type": "execute_result"
    }
   ],
   "source": [
    "list4=df_drug[['drugName', 'low_rating_binary']].groupby('drugName').mean().sort_values( by='low_rating_binary', ascending=False)[:10].index.values\n",
    "list4.astype(str)"
   ]
  },
  {
   "cell_type": "code",
   "execution_count": 502,
   "metadata": {},
   "outputs": [],
   "source": [
    "df_new_dru=df[df['drugName'].isin(list4)]"
   ]
  },
  {
   "cell_type": "code",
   "execution_count": 503,
   "metadata": {},
   "outputs": [
    {
     "data": {
      "image/png": "[encoded data removed]",
      "text/plain": [
       "<Figure size 576x360 with 1 Axes>"
      ]
     },
     "metadata": {},
     "output_type": "display_data"
    }
   ],
   "source": [
    "sns.set(rc={'axes.grid':False, \n",
    "            'axes.labelsize':13,\n",
    "            'figure.figsize':(8, 5),\n",
    "            'xtick.labelsize':13,\n",
    "            'ytick.labelsize':13})\n",
    "sns_plot=sns.barplot(x='drugName', y='low_rating_binary',palette='tab10', data=df_new_dru, dodge=False, order=list4, estimator=lambda x: sum(x==1)*100.0/len(x))\n",
    "sns_plot.set_xticklabels(sns_plot.get_xticklabels(), rotation=40, ha=\"right\")\n",
    "sns_plot.set(ylabel='percentage of low ratings')\n",
    "sns_plot.set(xlabel='drug name')\n",
    "plt.tight_layout()\n",
    "plt.show()\n",
    "fig = sns_plot.get_figure()\n",
    "fig.savefig('/Users/atousachaharsoughshirazi/drug_review/figures/percentageoflowratingsbydrugname.png') "
   ]
  },
  {
   "cell_type": "markdown",
   "metadata": {},
   "source": [
    "### Least low-rated drugs"
   ]
  },
  {
   "cell_type": "code",
   "execution_count": 504,
   "metadata": {},
   "outputs": [
    {
     "data": {
      "text/plain": [
       "array(['Percocet', 'Carisoprodol', 'Adipex-P', 'Magnesium citrate',\n",
       "       'Valium', 'Methadone', 'Phentermine', 'Suboxone', 'Diazepam',\n",
       "       'Fentanyl'], dtype='<U17')"
      ]
     },
     "execution_count": 504,
     "metadata": {},
     "output_type": "execute_result"
    }
   ],
   "source": [
    "list4_bot=df_drug[['drugName', 'low_rating_binary']].groupby('drugName').mean().sort_values( by='low_rating_binary', ascending=True)[:10].index.values\n",
    "list4_bot.astype(str)"
   ]
  },
  {
   "cell_type": "code",
   "execution_count": 505,
   "metadata": {},
   "outputs": [],
   "source": [
    "df_new_dru_bot=df[df['drugName'].isin(list4_bot)]"
   ]
  },
  {
   "cell_type": "code",
   "execution_count": 506,
   "metadata": {},
   "outputs": [
    {
     "data": {
      "image/png": "[encoded data removed]",
      "text/plain": [
       "<Figure size 576x360 with 1 Axes>"
      ]
     },
     "metadata": {},
     "output_type": "display_data"
    }
   ],
   "source": [
    "sns.set(rc={'axes.grid':False, \n",
    "            'axes.labelsize':13,\n",
    "            'figure.figsize':(8, 5),\n",
    "            'xtick.labelsize':13,\n",
    "            'ytick.labelsize':13})\n",
    "sns_plot=sns.barplot(x='drugName', y='low_rating_binary',palette='tab10', data=df_new_dru_bot, dodge=False, order=list4_bot, estimator=lambda x: sum(x==1)*100.0/len(x))\n",
    "sns_plot.set_xticklabels(sns_plot.get_xticklabels(), rotation=40, ha=\"right\")\n",
    "sns_plot.set(ylabel='percentage of low ratings')\n",
    "sns_plot.set(xlabel='drug name')\n",
    "plt.tight_layout()\n",
    "plt.show()\n",
    "fig = sns_plot.get_figure()\n",
    "fig.savefig('/Users/atousachaharsoughshirazi/drug_review/figures/bottom_percentageoflowratingsbydrugname.png') "
   ]
  },
  {
   "cell_type": "markdown",
   "metadata": {},
   "source": [
    "# Classification-Predict the low-rating (rating <4) drugs based on the review."
   ]
  },
  {
   "cell_type": "markdown",
   "metadata": {},
   "source": [
    "## Preprocessing"
   ]
  },
  {
   "cell_type": "code",
   "execution_count": 507,
   "metadata": {},
   "outputs": [],
   "source": [
    "drugnames=df['drugName'].str.lower().unique().tolist()"
   ]
  },
  {
   "cell_type": "code",
   "execution_count": 508,
   "metadata": {},
   "outputs": [],
   "source": [
    "def preProcess(s):\n",
    "    lower=s.lower()\n",
    "    nodigit = re.sub(r'\\d+', '', lower)\n",
    "    nopunc = nodigit.translate(str.maketrans('','', string.punctuation))\n",
    "    input_str = nopunc.strip()\n",
    "    final=input_str.replace('|'.join(drugnames), '')\n",
    "    return final"
   ]
  },
  {
   "cell_type": "code",
   "execution_count": 514,
   "metadata": {},
   "outputs": [],
   "source": [
    "y_train=df_final['low_rating_binary']\n",
    "X_train=df_final['review']\n",
    "y_test=df_test['low_rating_binary']\n",
    "X_test=df_test['review']"
   ]
  },
  {
   "cell_type": "code",
   "execution_count": 510,
   "metadata": {},
   "outputs": [],
   "source": [
    "y_train = (df_final.low_rating_binary == 1).values\n",
    "#len(y_train)"
   ]
  },
  {
   "cell_type": "code",
   "execution_count": 511,
   "metadata": {},
   "outputs": [],
   "source": [
    "y_test = (df_test.low_rating_binary == 1).values"
   ]
  },
  {
   "cell_type": "code",
   "execution_count": 512,
   "metadata": {},
   "outputs": [],
   "source": [
    "tfidf_vectorizer= TfidfVectorizer(stop_words=\"english\", ngram_range=(1,3), preprocessor=preProcess)"
   ]
  },
  {
   "cell_type": "markdown",
   "metadata": {},
   "source": [
    "## MultinomialNB "
   ]
  },
  {
   "cell_type": "code",
   "execution_count": 219,
   "metadata": {},
   "outputs": [],
   "source": [
    "clf_MNB=MultinomialNB()"
   ]
  },
  {
   "cell_type": "code",
   "execution_count": 332,
   "metadata": {},
   "outputs": [],
   "source": [
    "#tf_idf = TfidfTransformer()\n",
    "steps = [(\"count_vec\", tfidf_vectorizer),(\"clf_MNB\", clf_MNB)]\n",
    "\n",
    "p_grid = [{'count_vec__min_df': [1, 3, 5, 10, 30, 50, 75, 100], 'clf_MNB__alpha': [1, 0.1, 0.01, 0.001, 0.0001, 0.00001]}]\n",
    "\n",
    "pipeline = Pipeline(steps)\n",
    "skf = StratifiedKFold(n_splits=5, shuffle=True, random_state=42)\n",
    "nb = GridSearchCV(pipeline, param_grid=p_grid, cv=skf, scoring='roc_auc')"
   ]
  },
  {
   "cell_type": "code",
   "execution_count": 333,
   "metadata": {},
   "outputs": [
    {
     "data": {
      "text/plain": [
       "GridSearchCV(cv=StratifiedKFold(n_splits=5, random_state=42, shuffle=True),\n",
       "             estimator=Pipeline(steps=[('count_vec',\n",
       "                                        TfidfVectorizer(ngram_range=(1, 3),\n",
       "                                                        preprocessor=<function preProcess at 0x7fe99f5ed670>,\n",
       "                                                        stop_words='english')),\n",
       "                                       ('clf_MNB', MultinomialNB())]),\n",
       "             param_grid=[{'clf_MNB__alpha': [1, 0.1, 0.01, 0.001, 0.0001,\n",
       "                                             1e-05],\n",
       "                          'count_vec__min_df': [1, 3, 5, 10, 30, 50, 75, 100]}],\n",
       "             scoring='roc_auc')"
      ]
     },
     "execution_count": 333,
     "metadata": {},
     "output_type": "execute_result"
    }
   ],
   "source": [
    "nb.fit(X_train, y_train)\n",
    "#y_pred_test_count = nb.best_estimator_.predict(X_test)"
   ]
  },
  {
   "cell_type": "code",
   "execution_count": 222,
   "metadata": {},
   "outputs": [],
   "source": [
    "#clf_MNB.get_params().keys()"
   ]
  },
  {
   "cell_type": "code",
   "execution_count": 334,
   "metadata": {},
   "outputs": [
    {
     "name": "stdout",
     "output_type": "stream",
     "text": [
      "0.9497290153797593\n",
      "{'clf_MNB__alpha': 0.01, 'count_vec__min_df': 1}\n"
     ]
    }
   ],
   "source": [
    "print(nb.best_score_)\n",
    "print(nb.best_params_)"
   ]
  },
  {
   "cell_type": "code",
   "execution_count": 224,
   "metadata": {},
   "outputs": [],
   "source": [
    "#nb.cv_results_"
   ]
  },
  {
   "cell_type": "code",
   "execution_count": 335,
   "metadata": {},
   "outputs": [
    {
     "data": {
      "text/plain": [
       "0.9457"
      ]
     },
     "execution_count": 335,
     "metadata": {},
     "output_type": "execute_result"
    }
   ],
   "source": [
    "y_pred_prob_nb=nb.best_estimator_.predict_proba(X_test)[:,1]\n",
    "roc_auc_score(y_test, y_pred_prob_nb).round(4)"
   ]
  },
  {
   "cell_type": "code",
   "execution_count": 513,
   "metadata": {},
   "outputs": [
    {
     "name": "stdout",
     "output_type": "stream",
     "text": [
      "ROC-AUC score on training data: 0.999997\n",
      "ROC-AUC score on test data:     0.945672\n"
     ]
    }
   ],
   "source": [
    "\n",
    "#Print the accuracy on the test and training dataset\n",
    "training_accuracy = nb.score(X_train, y_train)\n",
    "test_accuracy = nb.score(X_test, y_test)\n",
    "\n",
    "print(\"ROC-AUC score on training data: {:2f}\".format(training_accuracy))\n",
    "print(\"ROC-AUC score on test data:     {:2f}\".format(test_accuracy))"
   ]
  },
  {
   "cell_type": "code",
   "execution_count": 337,
   "metadata": {},
   "outputs": [
    {
     "name": "stdout",
     "output_type": "stream",
     "text": [
      "[[40788   897]\n",
      " [ 4449  7337]]\n"
     ]
    }
   ],
   "source": [
    "print(confusion_matrix(y_test, nb.predict(X_test)))"
   ]
  },
  {
   "cell_type": "code",
   "execution_count": 515,
   "metadata": {},
   "outputs": [
    {
     "name": "stdout",
     "output_type": "stream",
     "text": [
      "              precision    recall  f1-score   support\n",
      "\n",
      "           0       0.90      0.98      0.94     41685\n",
      "           1       0.89      0.62      0.73     11786\n",
      "\n",
      "    accuracy                           0.90     53471\n",
      "   macro avg       0.90      0.80      0.84     53471\n",
      "weighted avg       0.90      0.90      0.89     53471\n",
      "\n"
     ]
    }
   ],
   "source": [
    "print(classification_report(y_test, nb.predict(X_test)))"
   ]
  },
  {
   "cell_type": "code",
   "execution_count": 516,
   "metadata": {},
   "outputs": [],
   "source": [
    "class_report = classification_report(y_test, nb.predict(X_test), output_dict=True)\n",
    "dflog = pd.DataFrame(class_report).transpose().round(2)\n",
    "dflog.to_csv(r'/Users/atousachaharsoughshirazi/drug_review/figures/class_report_nb.csv')"
   ]
  },
  {
   "cell_type": "markdown",
   "metadata": {},
   "source": [
    "### Best predictive words"
   ]
  },
  {
   "cell_type": "markdown",
   "metadata": {},
   "source": [
    "For the purpose of finding the best predictive words we choose the min_df=50 in order to eliminate the words that appear in very few documents."
   ]
  },
  {
   "cell_type": "code",
   "execution_count": 517,
   "metadata": {},
   "outputs": [],
   "source": [
    "vectorizer_new = TfidfVectorizer(min_df=50, stop_words='english', preprocessor=preProcess)\n",
    "tfidf_train=vectorizer_new.fit_transform(X_train.values)"
   ]
  },
  {
   "cell_type": "code",
   "execution_count": 518,
   "metadata": {},
   "outputs": [],
   "source": [
    "clf=MultinomialNB(alpha=0.01)"
   ]
  },
  {
   "cell_type": "code",
   "execution_count": 519,
   "metadata": {},
   "outputs": [
    {
     "data": {
      "text/plain": [
       "MultinomialNB(alpha=0.01)"
      ]
     },
     "execution_count": 519,
     "metadata": {},
     "output_type": "execute_result"
    }
   ],
   "source": [
    "clf.fit(tfidf_train, y_train)"
   ]
  },
  {
   "cell_type": "code",
   "execution_count": 520,
   "metadata": {},
   "outputs": [],
   "source": [
    "_, itest = train_test_split(range(df_final.shape[0]), train_size=0.7)\n",
    "mask = np.zeros(df_final.shape[0], dtype=np.bool)\n",
    "mask[itest] = True"
   ]
  },
  {
   "cell_type": "code",
   "execution_count": 521,
   "metadata": {},
   "outputs": [
    {
     "data": {
      "text/plain": [
       "numpy.ndarray"
      ]
     },
     "execution_count": 521,
     "metadata": {},
     "output_type": "execute_result"
    }
   ],
   "source": [
    "type(mask)"
   ]
  },
  {
   "cell_type": "code",
   "execution_count": 522,
   "metadata": {},
   "outputs": [],
   "source": [
    "xtrain=tfidf_train[mask]\n",
    "ytrain=y_train[mask]\n",
    "xtest=tfidf_train[~mask]\n",
    "ytest=y_train[~mask]"
   ]
  },
  {
   "cell_type": "code",
   "execution_count": 523,
   "metadata": {},
   "outputs": [
    {
     "name": "stdout",
     "output_type": "stream",
     "text": [
      "Good words\t     P(low rating | word)\n",
      "              poison 0.87\n",
      "              banned 0.85\n",
      "             garbage 0.81\n",
      "               enemy 0.78\n",
      "               trash 0.78\n",
      "               waste 0.74\n",
      "             rubbish 0.72\n",
      "                ants 0.72\n",
      "             blisovi 0.71\n",
      "           pulmonary 0.70\n",
      "Bad words\t     P(low rating | word)\n",
      "               eases 0.01\n",
      "                 cum 0.01\n",
      "            drawback 0.01\n",
      "               proud 0.01\n",
      "             changer 0.01\n",
      "               saver 0.01\n",
      "            believer 0.00\n",
      "           obsessing 0.00\n",
      "              precum 0.00\n",
      "       presentations 0.00\n"
     ]
    }
   ],
   "source": [
    "words = np.array(vectorizer_new.get_feature_names())\n",
    "x = np.eye(xtest.shape[1])\n",
    "probs = clf.predict_proba(x)[:, 0]\n",
    "ind = np.argsort(probs)\n",
    "\n",
    "good_words = words[ind[:10]]\n",
    "bad_words = words[ind[-10:]]\n",
    "\n",
    "good_prob = probs[ind[:10]]\n",
    "bad_prob = probs[ind[-10:]]\n",
    "\n",
    "print(\"Good words\\t     P(low rating | word)\")\n",
    "for w, p in zip(good_words, good_prob):\n",
    "    print(\"{:>20}\".format(w), \"{:.2f}\".format(1 - p))\n",
    "    \n",
    "print(\"Bad words\\t     P(low rating | word)\")\n",
    "for w, p in zip(bad_words, bad_prob):\n",
    "    print(\"{:>20}\".format(w), \"{:.2f}\".format(1 - p))"
   ]
  },
  {
   "cell_type": "code",
   "execution_count": 524,
   "metadata": {},
   "outputs": [
    {
     "data": {
      "text/html": [
       "<div>\n",
       "<style scoped>\n",
       "    .dataframe tbody tr th:only-of-type {\n",
       "        vertical-align: middle;\n",
       "    }\n",
       "\n",
       "    .dataframe tbody tr th {\n",
       "        vertical-align: top;\n",
       "    }\n",
       "\n",
       "    .dataframe thead th {\n",
       "        text-align: right;\n",
       "    }\n",
       "</style>\n",
       "<table border=\"1\" class=\"dataframe\">\n",
       "  <thead>\n",
       "    <tr style=\"text-align: right;\">\n",
       "      <th></th>\n",
       "      <th>good words</th>\n",
       "      <th>low-rating probability</th>\n",
       "      <th>bad words</th>\n",
       "      <th>low-rating probability</th>\n",
       "    </tr>\n",
       "  </thead>\n",
       "  <tbody>\n",
       "    <tr>\n",
       "      <th>1</th>\n",
       "      <td>poison</td>\n",
       "      <td>0.87</td>\n",
       "      <td>eases</td>\n",
       "      <td>0.01</td>\n",
       "    </tr>\n",
       "    <tr>\n",
       "      <th>2</th>\n",
       "      <td>banned</td>\n",
       "      <td>0.85</td>\n",
       "      <td>cum</td>\n",
       "      <td>0.01</td>\n",
       "    </tr>\n",
       "    <tr>\n",
       "      <th>3</th>\n",
       "      <td>garbage</td>\n",
       "      <td>0.81</td>\n",
       "      <td>drawback</td>\n",
       "      <td>0.01</td>\n",
       "    </tr>\n",
       "    <tr>\n",
       "      <th>4</th>\n",
       "      <td>enemy</td>\n",
       "      <td>0.78</td>\n",
       "      <td>proud</td>\n",
       "      <td>0.01</td>\n",
       "    </tr>\n",
       "    <tr>\n",
       "      <th>5</th>\n",
       "      <td>trash</td>\n",
       "      <td>0.78</td>\n",
       "      <td>changer</td>\n",
       "      <td>0.01</td>\n",
       "    </tr>\n",
       "    <tr>\n",
       "      <th>6</th>\n",
       "      <td>waste</td>\n",
       "      <td>0.74</td>\n",
       "      <td>saver</td>\n",
       "      <td>0.01</td>\n",
       "    </tr>\n",
       "    <tr>\n",
       "      <th>7</th>\n",
       "      <td>rubbish</td>\n",
       "      <td>0.72</td>\n",
       "      <td>believer</td>\n",
       "      <td>0.00</td>\n",
       "    </tr>\n",
       "    <tr>\n",
       "      <th>8</th>\n",
       "      <td>ants</td>\n",
       "      <td>0.72</td>\n",
       "      <td>obsessing</td>\n",
       "      <td>0.00</td>\n",
       "    </tr>\n",
       "    <tr>\n",
       "      <th>9</th>\n",
       "      <td>blisovi</td>\n",
       "      <td>0.71</td>\n",
       "      <td>precum</td>\n",
       "      <td>0.00</td>\n",
       "    </tr>\n",
       "    <tr>\n",
       "      <th>10</th>\n",
       "      <td>pulmonary</td>\n",
       "      <td>0.70</td>\n",
       "      <td>presentations</td>\n",
       "      <td>0.00</td>\n",
       "    </tr>\n",
       "  </tbody>\n",
       "</table>\n",
       "</div>"
      ],
      "text/plain": [
       "   good words  low-rating probability      bad words  low-rating probability\n",
       "1      poison                    0.87          eases                    0.01\n",
       "2      banned                    0.85            cum                    0.01\n",
       "3     garbage                    0.81       drawback                    0.01\n",
       "4       enemy                    0.78          proud                    0.01\n",
       "5       trash                    0.78        changer                    0.01\n",
       "6       waste                    0.74          saver                    0.01\n",
       "7     rubbish                    0.72       believer                    0.00\n",
       "8        ants                    0.72      obsessing                    0.00\n",
       "9     blisovi                    0.71         precum                    0.00\n",
       "10  pulmonary                    0.70  presentations                    0.00"
      ]
     },
     "execution_count": 524,
     "metadata": {},
     "output_type": "execute_result"
    }
   ],
   "source": [
    "report=zip(good_words,1- good_prob,bad_words,1- bad_prob)\n",
    "#report_badwords=zip(bad_words,1- bad_prob)\n",
    "dfnb = pd.DataFrame(report).round(2)\n",
    "dfnb.columns=['good words','low-rating probability', 'bad words', 'low-rating probability']\n",
    "dfnb.index += 1 \n",
    "dfnb.to_csv(r'/Users/atousachaharsoughshirazi/drug_review/figures/goodwordsbadwordsnb.csv')\n",
    "dfnb\n"
   ]
  },
  {
   "cell_type": "markdown",
   "metadata": {},
   "source": [
    "### Sample mis-predicted ratings"
   ]
  },
  {
   "cell_type": "code",
   "execution_count": 525,
   "metadata": {
    "scrolled": true
   },
   "outputs": [
    {
     "name": "stdout",
     "output_type": "stream",
     "text": [
      "Mis-predicted high rating\n",
      "---------------------------\n",
      "\"Took Cipro and Bactrim during Chemo and Radiation.  Did not work, may have been because of the Chemo and Radiation, just not sure.   I am now on my 3rd of 5 day Levaquin dose and passed my AZO UTI over the counter test this morning, yea.  Two months of a UTI is a bit much, although, I now know what works for future.\"\n",
      "\n",
      "\"Took Cipro and Bactrim during Chemo and Radiation.  Did not work, may have been because of the Chemo and Radiation, just not sure.   I am now on my 3rd of 5 day Levaquin dose and passed my AZO UTI over the counter test this morning, yea.  Two months of a UTI is a bit much, although, I now know what works for future.\"\n",
      "\n",
      "\"I developed cystic acne, I&#039;m guessing as a result of hormones, stress, and genetics. My doctor and I changed what we were using during the second visit, since we were doing some trial and error (figuring out what works). Since my skin is not sensitive, we went from a combination of doxycycline, tretinoin, and clyndimicine (idk how to spell it) to a combination of tretinoin of higher strength, erythromycin/BP gel, and minocycline. My skin has cleared up in a matter of 2 months with the occasional pimples and some acne scarring.\"\n",
      "\n",
      "\"Absolutely did not work for me.  Slept for a short time at 50 MG (lowest dose) &amp; anything above that gave me a terrible headache the following morning. I tried it in lieu of Dalmane &amp; a combo of Dalmane (30 mg), Gabapentin (600 mg) &amp; 15 mg Remeron (VERY careful re:  Weight Gain Side Effect, gained 20 lbs in short order), dramatically increases your appetite for Carbs &amp; Sugars &amp; overall appetite (what they don&#039;t tell you is that they give this to patients in the hospital who won&#039;t eat to increase their appetite)\"\n",
      "\n",
      "\"I can honestly say I hate this form of birth control I never would get a period until a few months ago and for the past 2 months it has been non stop my mood swings are everywhere I&#039;m gaining weight like crazy this birth control is not even worth it.\"\n",
      "\n",
      "Mis-predicted low rating\n",
      "--------------------------\n",
      "\"Just started\"\n",
      "\n",
      "\"This medicine works great but the side effects are bad. \"\n",
      "\n",
      "\"This medicine works great but the side effects are bad. \"\n",
      "\n",
      "\"Not a very good pain killer.\"\n",
      "\n",
      "\"calms me down too much\"\n",
      "\n",
      "\"calms me down too much\"\n",
      "\n",
      "\"Not good\"\n",
      "\n",
      "\"Not Good\"\n",
      "\n",
      "\"Not good enough\"\n",
      "\n",
      "\"Dry mouth\"\n",
      "\n"
     ]
    }
   ],
   "source": [
    "#x, y = make_xy(df, vectorizer)\n",
    "\n",
    "prob = nb.predict_proba(X_train)[:, 0]\n",
    "predict = nb.predict(X_train)\n",
    "\n",
    "bad_highrating = np.argsort(prob[y_train == 0])[:5]\n",
    "bad_lowrating = np.argsort(prob[y_train == 1])[-10:]\n",
    "\n",
    "print(\"Mis-predicted high rating\")\n",
    "print('---------------------------')\n",
    "for row in bad_highrating:\n",
    "    print(df_final[y_train == 0].review.iloc[row])\n",
    "    print(\"\")\n",
    "\n",
    "print(\"Mis-predicted low rating\")\n",
    "print('--------------------------')\n",
    "for row in bad_lowrating:\n",
    "    print(df_final[y_train == 1].review.iloc[row])\n",
    "    print(\"\")"
   ]
  },
  {
   "cell_type": "code",
   "execution_count": 533,
   "metadata": {},
   "outputs": [
    {
     "data": {
      "text/html": [
       "<div>\n",
       "<style scoped>\n",
       "    .dataframe tbody tr th:only-of-type {\n",
       "        vertical-align: middle;\n",
       "    }\n",
       "\n",
       "    .dataframe tbody tr th {\n",
       "        vertical-align: top;\n",
       "    }\n",
       "\n",
       "    .dataframe thead th {\n",
       "        text-align: right;\n",
       "    }\n",
       "</style>\n",
       "<table border=\"1\" class=\"dataframe\">\n",
       "  <thead>\n",
       "    <tr style=\"text-align: right;\">\n",
       "      <th></th>\n",
       "      <th>uniqueID</th>\n",
       "      <th>drugName</th>\n",
       "      <th>condition</th>\n",
       "      <th>review</th>\n",
       "      <th>rating</th>\n",
       "      <th>date</th>\n",
       "      <th>usefulCount</th>\n",
       "      <th>polarity</th>\n",
       "      <th>subjectivity</th>\n",
       "      <th>sentiment</th>\n",
       "      <th>negative_polarity_binary</th>\n",
       "      <th>rating_groups</th>\n",
       "      <th>low_rating_binary</th>\n",
       "    </tr>\n",
       "  </thead>\n",
       "  <tbody>\n",
       "    <tr>\n",
       "      <th>123718</th>\n",
       "      <td>35378</td>\n",
       "      <td>Levofloxacin</td>\n",
       "      <td>Urinary Tract Infection</td>\n",
       "      <td>\"Took Cipro and Bactrim during Chemo and Radia...</td>\n",
       "      <td>10</td>\n",
       "      <td>23-Jan-11</td>\n",
       "      <td>52</td>\n",
       "      <td>-0.0125</td>\n",
       "      <td>0.303472</td>\n",
       "      <td>neutral</td>\n",
       "      <td>1.0</td>\n",
       "      <td>&gt;7</td>\n",
       "      <td>0</td>\n",
       "    </tr>\n",
       "    <tr>\n",
       "      <th>149588</th>\n",
       "      <td>175865</td>\n",
       "      <td>Levaquin</td>\n",
       "      <td>Urinary Tract Infection</td>\n",
       "      <td>\"Took Cipro and Bactrim during Chemo and Radia...</td>\n",
       "      <td>10</td>\n",
       "      <td>23-Jan-11</td>\n",
       "      <td>52</td>\n",
       "      <td>-0.0125</td>\n",
       "      <td>0.303472</td>\n",
       "      <td>neutral</td>\n",
       "      <td>1.0</td>\n",
       "      <td>&gt;7</td>\n",
       "      <td>0</td>\n",
       "    </tr>\n",
       "  </tbody>\n",
       "</table>\n",
       "</div>"
      ],
      "text/plain": [
       "        uniqueID      drugName                condition  \\\n",
       "123718     35378  Levofloxacin  Urinary Tract Infection   \n",
       "149588    175865      Levaquin  Urinary Tract Infection   \n",
       "\n",
       "                                                   review  rating       date  \\\n",
       "123718  \"Took Cipro and Bactrim during Chemo and Radia...      10  23-Jan-11   \n",
       "149588  \"Took Cipro and Bactrim during Chemo and Radia...      10  23-Jan-11   \n",
       "\n",
       "        usefulCount  polarity  subjectivity sentiment  \\\n",
       "123718           52   -0.0125      0.303472   neutral   \n",
       "149588           52   -0.0125      0.303472   neutral   \n",
       "\n",
       "        negative_polarity_binary rating_groups  low_rating_binary  \n",
       "123718                       1.0            >7                  0  \n",
       "149588                       1.0            >7                  0  "
      ]
     },
     "execution_count": 533,
     "metadata": {},
     "output_type": "execute_result"
    }
   ],
   "source": [
    "df_final[df_final.review== '\"Took Cipro and Bactrim during Chemo and Radiation.  Did not work, may have been because of the Chemo and Radiation, just not sure.   I am now on my 3rd of 5 day Levaquin dose and passed my AZO UTI over the counter test this morning, yea.  Two months of a UTI is a bit much, although, I now know what works for future.\"']"
   ]
  },
  {
   "cell_type": "markdown",
   "metadata": {},
   "source": [
    "### Wordcloud"
   ]
  },
  {
   "cell_type": "code",
   "execution_count": 534,
   "metadata": {},
   "outputs": [],
   "source": [
    "wc = WordCloud()"
   ]
  },
  {
   "cell_type": "code",
   "execution_count": 535,
   "metadata": {},
   "outputs": [],
   "source": [
    "d=dict(zip(good_words,1- good_prob))"
   ]
  },
  {
   "cell_type": "code",
   "execution_count": 536,
   "metadata": {},
   "outputs": [],
   "source": [
    "dfword=wc.generate_from_frequencies(d)"
   ]
  },
  {
   "cell_type": "code",
   "execution_count": 537,
   "metadata": {},
   "outputs": [
    {
     "data": {
      "image/png": "[encoded data removed]",
      "text/plain": [
       "<Figure size 576x360 with 1 Axes>"
      ]
     },
     "metadata": {},
     "output_type": "display_data"
    }
   ],
   "source": [
    "plt.imshow(dfword , interpolation='bilinear')\n",
    "plt.axis('off')\n",
    "plt.show()"
   ]
  },
  {
   "cell_type": "code",
   "execution_count": 538,
   "metadata": {},
   "outputs": [
    {
     "data": {
      "text/plain": [
       "<wordcloud.wordcloud.WordCloud at 0x7ffcd874e250>"
      ]
     },
     "execution_count": 538,
     "metadata": {},
     "output_type": "execute_result"
    }
   ],
   "source": [
    "wc.to_file(\"wc_goodwords.png\")"
   ]
  },
  {
   "cell_type": "markdown",
   "metadata": {},
   "source": [
    "### Top low-rated drug: 'Miconazole' "
   ]
  },
  {
   "cell_type": "code",
   "execution_count": 539,
   "metadata": {},
   "outputs": [],
   "source": [
    "df_Mic=df_final[df_final.drugName=='Miconazole']"
   ]
  },
  {
   "cell_type": "code",
   "execution_count": 540,
   "metadata": {},
   "outputs": [],
   "source": [
    "#y_mic_train=df_Mic['low_rating_binary']\n",
    "X_mic_train=df_Mic['review']"
   ]
  },
  {
   "cell_type": "code",
   "execution_count": 541,
   "metadata": {},
   "outputs": [],
   "source": [
    "y_mic_train = (df_Mic.low_rating_binary == 1).values"
   ]
  },
  {
   "cell_type": "code",
   "execution_count": 542,
   "metadata": {},
   "outputs": [],
   "source": [
    "tfidf_train_mic=vectorizer_new.fit_transform(X_mic_train.values)"
   ]
  },
  {
   "cell_type": "code",
   "execution_count": 543,
   "metadata": {
    "scrolled": true
   },
   "outputs": [
    {
     "data": {
      "text/plain": [
       "MultinomialNB(alpha=0.01)"
      ]
     },
     "execution_count": 543,
     "metadata": {},
     "output_type": "execute_result"
    }
   ],
   "source": [
    "clf.fit(tfidf_train_mic, y_mic_train)"
   ]
  },
  {
   "cell_type": "code",
   "execution_count": 544,
   "metadata": {},
   "outputs": [],
   "source": [
    "df_test_mic=df_test[df_test.drugName=='Miconazole']"
   ]
  },
  {
   "cell_type": "code",
   "execution_count": 545,
   "metadata": {},
   "outputs": [
    {
     "data": {
      "text/plain": [
       "(343,)"
      ]
     },
     "execution_count": 545,
     "metadata": {},
     "output_type": "execute_result"
    }
   ],
   "source": [
    "X_mic_test=df_test_mic['review']\n",
    "X_mic_test.shape"
   ]
  },
  {
   "cell_type": "code",
   "execution_count": 546,
   "metadata": {},
   "outputs": [
    {
     "data": {
      "text/plain": [
       "(53471,)"
      ]
     },
     "execution_count": 546,
     "metadata": {},
     "output_type": "execute_result"
    }
   ],
   "source": [
    "X_test.shape"
   ]
  },
  {
   "cell_type": "code",
   "execution_count": 547,
   "metadata": {},
   "outputs": [],
   "source": [
    "_, itest = train_test_split(range(df_Mic.shape[0]), train_size=0.7)\n",
    "mask = np.zeros(df_Mic.shape[0], dtype=np.bool)\n",
    "mask[itest] = True"
   ]
  },
  {
   "cell_type": "code",
   "execution_count": 548,
   "metadata": {},
   "outputs": [],
   "source": [
    "xtrain=tfidf_train_mic[mask]\n",
    "ytrain=y_mic_train[mask]\n",
    "xtest=tfidf_train_mic[~mask]\n",
    "ytest=y_mic_train[~mask]"
   ]
  },
  {
   "cell_type": "code",
   "execution_count": 549,
   "metadata": {},
   "outputs": [
    {
     "name": "stdout",
     "output_type": "stream",
     "text": [
      "Good words\t     P(low rating | word)\n",
      "           literally 0.93\n",
      "                 buy 0.90\n",
      "            horrible 0.90\n",
      "                wish 0.89\n",
      "               stuff 0.88\n",
      "               awful 0.87\n",
      "               worst 0.87\n",
      "                life 0.86\n",
      "              vagina 0.84\n",
      "              trying 0.84\n",
      "Bad words\t     P(low rating | word)\n",
      "               today 0.55\n",
      "          infections 0.55\n",
      "                 amp 0.54\n",
      "              better 0.53\n",
      "                gone 0.52\n",
      "              little 0.50\n",
      "              second 0.49\n",
      "                hope 0.46\n",
      "                does 0.36\n",
      "               works 0.27\n"
     ]
    }
   ],
   "source": [
    "words_mic = np.array(vectorizer_new.get_feature_names())\n",
    "x_mic = np.eye(xtest.shape[1])\n",
    "probs_mic = clf.predict_proba(x_mic)[:, 0]\n",
    "ind = np.argsort(probs_mic)\n",
    "\n",
    "good_words_mic = words_mic[ind[:10]]\n",
    "bad_words_mic = words_mic[ind[-10:]]\n",
    "\n",
    "good_prob_mic = probs_mic[ind[:10]]\n",
    "bad_prob_mic = probs_mic[ind[-10:]]\n",
    "\n",
    "print(\"Good words\\t     P(low rating | word)\")\n",
    "for w, p in zip(good_words_mic, good_prob_mic):\n",
    "    print(\"{:>20}\".format(w), \"{:.2f}\".format(1 - p))\n",
    "    \n",
    "print(\"Bad words\\t     P(low rating | word)\")\n",
    "for w, p in zip(bad_words_mic, bad_prob_mic):\n",
    "    print(\"{:>20}\".format(w), \"{:.2f}\".format(1 - p))"
   ]
  },
  {
   "cell_type": "code",
   "execution_count": 550,
   "metadata": {},
   "outputs": [
    {
     "data": {
      "text/html": [
       "<div>\n",
       "<style scoped>\n",
       "    .dataframe tbody tr th:only-of-type {\n",
       "        vertical-align: middle;\n",
       "    }\n",
       "\n",
       "    .dataframe tbody tr th {\n",
       "        vertical-align: top;\n",
       "    }\n",
       "\n",
       "    .dataframe thead th {\n",
       "        text-align: right;\n",
       "    }\n",
       "</style>\n",
       "<table border=\"1\" class=\"dataframe\">\n",
       "  <thead>\n",
       "    <tr style=\"text-align: right;\">\n",
       "      <th></th>\n",
       "      <th>good words</th>\n",
       "      <th>low-rating probability</th>\n",
       "      <th>bad words</th>\n",
       "      <th>low-rating probability</th>\n",
       "    </tr>\n",
       "  </thead>\n",
       "  <tbody>\n",
       "    <tr>\n",
       "      <th>1</th>\n",
       "      <td>literally</td>\n",
       "      <td>0.93</td>\n",
       "      <td>today</td>\n",
       "      <td>0.55</td>\n",
       "    </tr>\n",
       "    <tr>\n",
       "      <th>2</th>\n",
       "      <td>buy</td>\n",
       "      <td>0.90</td>\n",
       "      <td>infections</td>\n",
       "      <td>0.55</td>\n",
       "    </tr>\n",
       "    <tr>\n",
       "      <th>3</th>\n",
       "      <td>horrible</td>\n",
       "      <td>0.90</td>\n",
       "      <td>amp</td>\n",
       "      <td>0.54</td>\n",
       "    </tr>\n",
       "    <tr>\n",
       "      <th>4</th>\n",
       "      <td>wish</td>\n",
       "      <td>0.89</td>\n",
       "      <td>better</td>\n",
       "      <td>0.53</td>\n",
       "    </tr>\n",
       "    <tr>\n",
       "      <th>5</th>\n",
       "      <td>stuff</td>\n",
       "      <td>0.88</td>\n",
       "      <td>gone</td>\n",
       "      <td>0.52</td>\n",
       "    </tr>\n",
       "    <tr>\n",
       "      <th>6</th>\n",
       "      <td>awful</td>\n",
       "      <td>0.87</td>\n",
       "      <td>little</td>\n",
       "      <td>0.50</td>\n",
       "    </tr>\n",
       "    <tr>\n",
       "      <th>7</th>\n",
       "      <td>worst</td>\n",
       "      <td>0.87</td>\n",
       "      <td>second</td>\n",
       "      <td>0.49</td>\n",
       "    </tr>\n",
       "    <tr>\n",
       "      <th>8</th>\n",
       "      <td>life</td>\n",
       "      <td>0.86</td>\n",
       "      <td>hope</td>\n",
       "      <td>0.46</td>\n",
       "    </tr>\n",
       "    <tr>\n",
       "      <th>9</th>\n",
       "      <td>vagina</td>\n",
       "      <td>0.84</td>\n",
       "      <td>does</td>\n",
       "      <td>0.36</td>\n",
       "    </tr>\n",
       "    <tr>\n",
       "      <th>10</th>\n",
       "      <td>trying</td>\n",
       "      <td>0.84</td>\n",
       "      <td>works</td>\n",
       "      <td>0.27</td>\n",
       "    </tr>\n",
       "  </tbody>\n",
       "</table>\n",
       "</div>"
      ],
      "text/plain": [
       "   good words  low-rating probability   bad words  low-rating probability\n",
       "1   literally                    0.93       today                    0.55\n",
       "2         buy                    0.90  infections                    0.55\n",
       "3    horrible                    0.90         amp                    0.54\n",
       "4        wish                    0.89      better                    0.53\n",
       "5       stuff                    0.88        gone                    0.52\n",
       "6       awful                    0.87      little                    0.50\n",
       "7       worst                    0.87      second                    0.49\n",
       "8        life                    0.86        hope                    0.46\n",
       "9      vagina                    0.84        does                    0.36\n",
       "10     trying                    0.84       works                    0.27"
      ]
     },
     "execution_count": 550,
     "metadata": {},
     "output_type": "execute_result"
    }
   ],
   "source": [
    "report_mic=zip(good_words_mic,1- good_prob_mic,bad_words_mic,1- bad_prob_mic)\n",
    "#report_badwords=zip(bad_words,1- bad_prob)\n",
    "dfnb_mic = pd.DataFrame(report_mic).round(2)\n",
    "dfnb_mic.columns=['good words','low-rating probability', 'bad words', 'low-rating probability']\n",
    "dfnb_mic.index += 1 \n",
    "#dfnb.to_csv(r'/Users/atousachaharsoughshirazi/drug_review/figures/goodwordsbadwordsnb.csv')\n",
    "dfnb_mic"
   ]
  },
  {
   "cell_type": "markdown",
   "metadata": {},
   "source": [
    "## Logistic regression"
   ]
  },
  {
   "cell_type": "code",
   "execution_count": 320,
   "metadata": {},
   "outputs": [],
   "source": [
    "#Logistic regression\n",
    "logreg=LogisticRegression(class_weight='balanced', random_state=42, multi_class='ovr', max_iter=500)"
   ]
  },
  {
   "cell_type": "code",
   "execution_count": null,
   "metadata": {},
   "outputs": [],
   "source": [
    "accuracy_score(y_test,logreg.predict(tfidf_test)).round(4)"
   ]
  },
  {
   "cell_type": "code",
   "execution_count": null,
   "metadata": {},
   "outputs": [],
   "source": [
    "y_pred_prob = logreg.predict_proba(tfidf_test)\n",
    "roc_auc_score(y_test_rat, y_pred_prob, multi_class=\"ovr\", average='macro').round(4)"
   ]
  },
  {
   "cell_type": "code",
   "execution_count": 321,
   "metadata": {},
   "outputs": [],
   "source": [
    "steps = [(\"count_vec\", tfidf_vectorizer),(\"clf_logreg\", logreg)]\n",
    "\n",
    "p_grid_lr = [{'count_vec__min_df': [1, 3, 5, 10, 30, 50, 75, 100]}]\n",
    "\n",
    "pipeline_lr = Pipeline(steps)\n",
    "skf = StratifiedKFold(n_splits=5, shuffle=True, random_state=42)\n",
    "lr = GridSearchCV(pipeline_lr, param_grid=p_grid_lr, cv=skf, scoring='roc_auc')"
   ]
  },
  {
   "cell_type": "code",
   "execution_count": 322,
   "metadata": {},
   "outputs": [
    {
     "data": {
      "text/plain": [
       "GridSearchCV(cv=StratifiedKFold(n_splits=5, random_state=42, shuffle=True),\n",
       "             estimator=Pipeline(steps=[('count_vec',\n",
       "                                        TfidfVectorizer(ngram_range=(1, 3),\n",
       "                                                        preprocessor=<function preProcess at 0x7fe99f5ed670>,\n",
       "                                                        stop_words='english')),\n",
       "                                       ('clf_logreg',\n",
       "                                        LogisticRegression(class_weight='balanced',\n",
       "                                                           max_iter=500,\n",
       "                                                           multi_class='ovr',\n",
       "                                                           random_state=42))]),\n",
       "             param_grid=[{'count_vec__min_df': [1, 3, 5, 10, 30, 50, 75, 100]}],\n",
       "             scoring='roc_auc')"
      ]
     },
     "execution_count": 322,
     "metadata": {},
     "output_type": "execute_result"
    }
   ],
   "source": [
    "lr.fit(X_train, y_train)"
   ]
  },
  {
   "cell_type": "code",
   "execution_count": 323,
   "metadata": {},
   "outputs": [
    {
     "name": "stdout",
     "output_type": "stream",
     "text": [
      "0.9277321312235977\n",
      "{'count_vec__min_df': 3}\n"
     ]
    }
   ],
   "source": [
    "print(lr.best_score_)\n",
    "print(lr.best_params_)"
   ]
  },
  {
   "cell_type": "code",
   "execution_count": 324,
   "metadata": {},
   "outputs": [
    {
     "data": {
      "text/plain": [
       "0.9266"
      ]
     },
     "execution_count": 324,
     "metadata": {},
     "output_type": "execute_result"
    }
   ],
   "source": [
    "y_pred_prob_lr=lr.best_estimator_.predict_proba(X_test)[:,1]\n",
    "roc_auc_score(y_test, y_pred_prob_lr).round(4)"
   ]
  },
  {
   "cell_type": "code",
   "execution_count": 325,
   "metadata": {},
   "outputs": [
    {
     "name": "stdout",
     "output_type": "stream",
     "text": [
      "Accuracy on training data: 0.978877\n",
      "Accuracy on test data:     0.926613\n"
     ]
    }
   ],
   "source": [
    "#Print the accuracy on the test and training dataset\n",
    "training_accuracy_lr = lr.score(X_train, y_train)\n",
    "test_accuracy_lr = lr.score(X_test, y_test)\n",
    "\n",
    "print(\"ROC-AUC on training data: {:2f}\".format(training_accuracy_lr))\n",
    "print(\"ROC-AUC on test data:     {:2f}\".format(test_accuracy_lr))"
   ]
  },
  {
   "cell_type": "code",
   "execution_count": 326,
   "metadata": {},
   "outputs": [
    {
     "name": "stdout",
     "output_type": "stream",
     "text": [
      "[[36205  5480]\n",
      " [ 1965  9821]]\n"
     ]
    }
   ],
   "source": [
    "print(confusion_matrix(y_test, lr.predict(X_test)))"
   ]
  },
  {
   "cell_type": "code",
   "execution_count": 327,
   "metadata": {},
   "outputs": [
    {
     "name": "stdout",
     "output_type": "stream",
     "text": [
      "              precision    recall  f1-score   support\n",
      "\n",
      "       False       0.95      0.87      0.91     41685\n",
      "        True       0.64      0.83      0.73     11786\n",
      "\n",
      "    accuracy                           0.86     53471\n",
      "   macro avg       0.80      0.85      0.82     53471\n",
      "weighted avg       0.88      0.86      0.87     53471\n",
      "\n"
     ]
    }
   ],
   "source": [
    "print(classification_report(y_test, lr.predict(X_test)))"
   ]
  },
  {
   "cell_type": "code",
   "execution_count": 328,
   "metadata": {},
   "outputs": [],
   "source": [
    "class_report_lr = classification_report(y_test, lr.predict(X_test), output_dict=True)\n",
    "dflr = pd.DataFrame(class_report_lr).transpose().round(2)\n",
    "dflr.to_csv(r'/Users/atousachaharsoughshirazi/drug_review/figures/class_report_lr.csv')"
   ]
  },
  {
   "cell_type": "code",
   "execution_count": 329,
   "metadata": {},
   "outputs": [
    {
     "data": {
      "text/plain": [
       "LogisticRegression(class_weight='balanced', max_iter=500, multi_class='ovr',\n",
       "                   random_state=42)"
      ]
     },
     "execution_count": 329,
     "metadata": {},
     "output_type": "execute_result"
    }
   ],
   "source": [
    "logreg.fit(tfidf_train, y_train)"
   ]
  },
  {
   "cell_type": "code",
   "execution_count": 330,
   "metadata": {},
   "outputs": [
    {
     "name": "stdout",
     "output_type": "stream",
     "text": [
      "Good words\t     P(low rating | word)\n",
      "        disappointed 1.00\n",
      "               worse 1.00\n",
      "               worst 1.00\n",
      "              poison 1.00\n",
      "              ruined 0.99\n",
      "            horrible 0.99\n",
      "               waste 0.99\n",
      "             useless 0.99\n",
      "              gained 0.99\n",
      "           nightmare 0.98\n",
      "Bad words\t     P(low rating | word)\n",
      "               helps 0.01\n",
      "               great 0.01\n",
      "           excellent 0.01\n",
      "           wonderful 0.00\n",
      "               saver 0.00\n",
      "                best 0.00\n",
      "               saved 0.00\n",
      "             amazing 0.00\n",
      "             miracle 0.00\n",
      "                love 0.00\n"
     ]
    }
   ],
   "source": [
    "words = np.array(vectorizer_new.get_feature_names())\n",
    "x = np.eye(xtest.shape[1])\n",
    "probs = logreg.predict_proba(x)[:, 0]\n",
    "ind = np.argsort(probs)\n",
    "\n",
    "good_words = words[ind[:10]]\n",
    "bad_words = words[ind[-10:]]\n",
    "\n",
    "good_prob = probs[ind[:10]]\n",
    "bad_prob = probs[ind[-10:]]\n",
    "\n",
    "print(\"Good words\\t     P(low rating | word)\")\n",
    "for w, p in zip(good_words, good_prob):\n",
    "    print(\"{:>20}\".format(w), \"{:.2f}\".format(1 - p))\n",
    "    \n",
    "print(\"Bad words\\t     P(low rating | word)\")\n",
    "for w, p in zip(bad_words, bad_prob):\n",
    "    print(\"{:>20}\".format(w), \"{:.2f}\".format(1 - p))"
   ]
  },
  {
   "cell_type": "code",
   "execution_count": 331,
   "metadata": {},
   "outputs": [
    {
     "data": {
      "text/html": [
       "<div>\n",
       "<style scoped>\n",
       "    .dataframe tbody tr th:only-of-type {\n",
       "        vertical-align: middle;\n",
       "    }\n",
       "\n",
       "    .dataframe tbody tr th {\n",
       "        vertical-align: top;\n",
       "    }\n",
       "\n",
       "    .dataframe thead th {\n",
       "        text-align: right;\n",
       "    }\n",
       "</style>\n",
       "<table border=\"1\" class=\"dataframe\">\n",
       "  <thead>\n",
       "    <tr style=\"text-align: right;\">\n",
       "      <th></th>\n",
       "      <th>good words</th>\n",
       "      <th>low-rating probability</th>\n",
       "      <th>bad words</th>\n",
       "      <th>low-rating probability</th>\n",
       "    </tr>\n",
       "  </thead>\n",
       "  <tbody>\n",
       "    <tr>\n",
       "      <th>1</th>\n",
       "      <td>disappointed</td>\n",
       "      <td>1.00</td>\n",
       "      <td>helps</td>\n",
       "      <td>0.01</td>\n",
       "    </tr>\n",
       "    <tr>\n",
       "      <th>2</th>\n",
       "      <td>worse</td>\n",
       "      <td>1.00</td>\n",
       "      <td>great</td>\n",
       "      <td>0.01</td>\n",
       "    </tr>\n",
       "    <tr>\n",
       "      <th>3</th>\n",
       "      <td>worst</td>\n",
       "      <td>1.00</td>\n",
       "      <td>excellent</td>\n",
       "      <td>0.01</td>\n",
       "    </tr>\n",
       "    <tr>\n",
       "      <th>4</th>\n",
       "      <td>poison</td>\n",
       "      <td>1.00</td>\n",
       "      <td>wonderful</td>\n",
       "      <td>0.00</td>\n",
       "    </tr>\n",
       "    <tr>\n",
       "      <th>5</th>\n",
       "      <td>ruined</td>\n",
       "      <td>0.99</td>\n",
       "      <td>saver</td>\n",
       "      <td>0.00</td>\n",
       "    </tr>\n",
       "    <tr>\n",
       "      <th>6</th>\n",
       "      <td>horrible</td>\n",
       "      <td>0.99</td>\n",
       "      <td>best</td>\n",
       "      <td>0.00</td>\n",
       "    </tr>\n",
       "    <tr>\n",
       "      <th>7</th>\n",
       "      <td>waste</td>\n",
       "      <td>0.99</td>\n",
       "      <td>saved</td>\n",
       "      <td>0.00</td>\n",
       "    </tr>\n",
       "    <tr>\n",
       "      <th>8</th>\n",
       "      <td>useless</td>\n",
       "      <td>0.99</td>\n",
       "      <td>amazing</td>\n",
       "      <td>0.00</td>\n",
       "    </tr>\n",
       "    <tr>\n",
       "      <th>9</th>\n",
       "      <td>gained</td>\n",
       "      <td>0.99</td>\n",
       "      <td>miracle</td>\n",
       "      <td>0.00</td>\n",
       "    </tr>\n",
       "    <tr>\n",
       "      <th>10</th>\n",
       "      <td>nightmare</td>\n",
       "      <td>0.98</td>\n",
       "      <td>love</td>\n",
       "      <td>0.00</td>\n",
       "    </tr>\n",
       "  </tbody>\n",
       "</table>\n",
       "</div>"
      ],
      "text/plain": [
       "      good words  low-rating probability  bad words  low-rating probability\n",
       "1   disappointed                    1.00      helps                    0.01\n",
       "2          worse                    1.00      great                    0.01\n",
       "3          worst                    1.00  excellent                    0.01\n",
       "4         poison                    1.00  wonderful                    0.00\n",
       "5         ruined                    0.99      saver                    0.00\n",
       "6       horrible                    0.99       best                    0.00\n",
       "7          waste                    0.99      saved                    0.00\n",
       "8        useless                    0.99    amazing                    0.00\n",
       "9         gained                    0.99    miracle                    0.00\n",
       "10     nightmare                    0.98       love                    0.00"
      ]
     },
     "execution_count": 331,
     "metadata": {},
     "output_type": "execute_result"
    }
   ],
   "source": [
    "report_lr=zip(good_words,1- good_prob,bad_words,1- bad_prob)\n",
    "#report_badwords=zip(bad_words,1- bad_prob)\n",
    "dflr2 = pd.DataFrame(report_lr).round(2)\n",
    "dflr2.columns=['good words','low-rating probability', 'bad words', 'low-rating probability']\n",
    "dflr2.index += 1 \n",
    "dflr2.to_csv(r'/Users/atousachaharsoughshirazi/drug_review/figures/goodwordsbadwordslr.csv')\n",
    "dflr2 "
   ]
  },
  {
   "cell_type": "markdown",
   "metadata": {},
   "source": [
    "## Threshold tuning for the best model (NB)"
   ]
  },
  {
   "cell_type": "markdown",
   "metadata": {},
   "source": [
    "### By optimizing F-score"
   ]
  },
  {
   "cell_type": "code",
   "execution_count": 551,
   "metadata": {},
   "outputs": [
    {
     "name": "stdout",
     "output_type": "stream",
     "text": [
      "Best Threshold=0.217874, F-Score=0.757\n"
     ]
    }
   ],
   "source": [
    "precision_nb, recall_nb, thresholds_nb = precision_recall_curve(y_test, y_pred_prob_nb)\n",
    "# convert to f score\n",
    "fscore_nb = (2 * precision_nb * recall_nb) / (precision_nb + recall_nb)\n",
    "# locate the index of the largest f score\n",
    "ix = np.argmax(fscore_nb)\n",
    "print('Best Threshold=%f, F-Score=%.3f' % (thresholds_nb[ix], fscore_nb[ix]))"
   ]
  },
  {
   "cell_type": "code",
   "execution_count": 552,
   "metadata": {},
   "outputs": [
    {
     "name": "stdout",
     "output_type": "stream",
     "text": [
      "Threshold=0.253, F-Score=0.75713\n"
     ]
    }
   ],
   "source": [
    "# # apply threshold to positive probabilities to create labels\n",
    "def to_labels(pos_probs, threshold):\n",
    " \treturn (pos_probs >= threshold).astype('int')\n",
    "\n",
    "# # define thresholds\n",
    "thresholds_nb_def = np.arange(0, 1, 0.001)\n",
    "# # evaluate each threshold\n",
    "scores_nb = [f1_score(y_test, to_labels(y_pred_prob_nb, t)) for t in thresholds_nb_def]\n",
    "# # get best threshold\n",
    "ix = np.argmax(scores_nb)\n",
    "print('Threshold=%.3f, F-Score=%.5f' % (thresholds_nb_def[ix], scores_nb[ix]))"
   ]
  },
  {
   "cell_type": "code",
   "execution_count": 553,
   "metadata": {},
   "outputs": [
    {
     "name": "stderr",
     "output_type": "stream",
     "text": [
      "No handles with labels found to put in legend.\n"
     ]
    },
    {
     "data": {
      "image/png": "[encoded data removed]",
      "text/plain": [
       "<Figure size 576x360 with 1 Axes>"
      ]
     },
     "metadata": {},
     "output_type": "display_data"
    },
    {
     "data": {
      "text/plain": [
       "<Figure size 576x360 with 0 Axes>"
      ]
     },
     "metadata": {},
     "output_type": "display_data"
    }
   ],
   "source": [
    "#Fscore vs threshold graph\n",
    "plt.plot(thresholds_nb_def, scores_nb, color='black')\n",
    "plt.axvline(x=thresholds_nb_def[ix], color='red', linestyle='--')\n",
    "#plt.plot(thresholds[ix], [0,0.5], linestyle='--', color='red', label='Best')\n",
    "# axis labels\n",
    "plt.xlabel('threshold')\n",
    "plt.ylabel('Fscore')\n",
    "plt.title(label='Fscore vs threshold', loc='left')\n",
    "plt.legend()\n",
    "# show the plot\n",
    "plt.show()\n",
    "plt.savefig('/Users/atousachaharsoughshirazi/drug_review/figures/thresholdfscorenb.png') \n"
   ]
  },
  {
   "cell_type": "markdown",
   "metadata": {},
   "source": [
    "### By optimizing geometric mean"
   ]
  },
  {
   "cell_type": "code",
   "execution_count": 554,
   "metadata": {},
   "outputs": [
    {
     "name": "stdout",
     "output_type": "stream",
     "text": [
      "Best Threshold=0.051033, G-Mean=0.860\n"
     ]
    },
    {
     "data": {
      "image/png": "[encoded data removed]",
      "text/plain": [
       "<Figure size 576x360 with 1 Axes>"
      ]
     },
     "metadata": {},
     "output_type": "display_data"
    },
    {
     "data": {
      "text/plain": [
       "<Figure size 576x360 with 0 Axes>"
      ]
     },
     "metadata": {},
     "output_type": "display_data"
    }
   ],
   "source": [
    "# Compute predicted probabilities: y_pred_prob\n",
    "#y_pred_prob_lr2 = log_cv2.predict_proba(X_test)[:,1]\n",
    "\n",
    "# Generate ROC curve values: fpr, tpr, thresholds\n",
    "fpr_nb, tpr_nb, thresholds_nb = roc_curve(y_test, y_pred_prob_nb)\n",
    "\n",
    "gmeans = np.sqrt(tpr_nb * (1-fpr_nb))\n",
    "ix = np.argmax(gmeans)\n",
    "print('Best Threshold=%f, G-Mean=%.3f' % (thresholds_nb[ix], gmeans[ix]))\n",
    "\n",
    "# Plot ROC curve\n",
    "plt.figure()\n",
    "plt.plot([0, 1], [0, 1], 'k--')\n",
    "plt.plot(fpr_nb, tpr_nb)\n",
    "plt.scatter(fpr_nb[ix], tpr_nb[ix], marker='o', color='black', label='Best')\n",
    "plt.xlabel('False Positive Rate')\n",
    "plt.ylabel('True Positive Rate')\n",
    "plt.title('ROC Curve')\n",
    "plt.show()\n",
    "plt.savefig('/Users/atousachaharsoughshirazi/drug_review/figures/rocnb.png') "
   ]
  }
 ],
 "metadata": {
  "kernelspec": {
   "display_name": "Python 3",
   "language": "python",
   "name": "python3"
  },
  "language_info": {
   "codemirror_mode": {
    "name": "ipython",
    "version": 3
   },
   "file_extension": ".py",
   "mimetype": "text/x-python",
   "name": "python",
   "nbconvert_exporter": "python",
   "pygments_lexer": "ipython3",
   "version": "3.8.5"
  },
  "toc": {
   "base_numbering": 1,
   "nav_menu": {},
   "number_sections": true,
   "sideBar": true,
   "skip_h1_title": false,
   "title_cell": "Table of Contents",
   "title_sidebar": "Contents",
   "toc_cell": true,
   "toc_position": {
    "height": "calc(100% - 180px)",
    "left": "10px",
    "top": "150px",
    "width": "287.796875px"
   },
   "toc_section_display": true,
   "toc_window_display": true
  }
 },
 "nbformat": 4,
 "nbformat_minor": 4
}
