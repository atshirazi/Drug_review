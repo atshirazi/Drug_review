{
 "cells": [
  {
   "cell_type": "markdown",
   "metadata": {
    "toc": true
   },
   "source": [
    "<h1>Table of Contents<span class=\"tocSkip\"></span></h1>\n",
    "<div class=\"toc\"><ul class=\"toc-item\"><li><span><a href=\"#Introduction\" data-toc-modified-id=\"Introduction-1\"><span class=\"toc-item-num\">1&nbsp;&nbsp;</span>Introduction</a></span></li><li><span><a href=\"#Data-wrangling\" data-toc-modified-id=\"Data-wrangling-2\"><span class=\"toc-item-num\">2&nbsp;&nbsp;</span>Data wrangling</a></span><ul class=\"toc-item\"><li><span><a href=\"#Dropping-the-null-values-in-the-train-and-test-sets\" data-toc-modified-id=\"Dropping-the-null-values-in-the-train-and-test-sets-2.1\"><span class=\"toc-item-num\">2.1&nbsp;&nbsp;</span>Dropping the null values in the train and test sets</a></span></li><li><span><a href=\"#Polarity-and-subjectivity\" data-toc-modified-id=\"Polarity-and-subjectivity-2.2\"><span class=\"toc-item-num\">2.2&nbsp;&nbsp;</span>Polarity and subjectivity</a></span><ul class=\"toc-item\"><li><span><a href=\"#Negative-polarity-binary-column\" data-toc-modified-id=\"Negative-polarity-binary-column-2.2.1\"><span class=\"toc-item-num\">2.2.1&nbsp;&nbsp;</span>Negative-polarity binary column</a></span></li></ul></li><li><span><a href=\"#Rating-column\" data-toc-modified-id=\"Rating-column-2.3\"><span class=\"toc-item-num\">2.3&nbsp;&nbsp;</span>Rating column</a></span><ul class=\"toc-item\"><li><span><a href=\"#Countplot\" data-toc-modified-id=\"Countplot-2.3.1\"><span class=\"toc-item-num\">2.3.1&nbsp;&nbsp;</span>Countplot</a></span></li><li><span><a href=\"#Ratings-grouping\" data-toc-modified-id=\"Ratings-grouping-2.3.2\"><span class=\"toc-item-num\">2.3.2&nbsp;&nbsp;</span>Ratings grouping</a></span></li><li><span><a href=\"#Binary-low-rating-column\" data-toc-modified-id=\"Binary-low-rating-column-2.3.3\"><span class=\"toc-item-num\">2.3.3&nbsp;&nbsp;</span>Binary low-rating column</a></span></li></ul></li><li><span><a href=\"#Unknown-conditions\" data-toc-modified-id=\"Unknown-conditions-2.4\"><span class=\"toc-item-num\">2.4&nbsp;&nbsp;</span>Unknown conditions</a></span></li><li><span><a href=\"#Drugs-with-more-than-100-reviews\" data-toc-modified-id=\"Drugs-with-more-than-100-reviews-2.5\"><span class=\"toc-item-num\">2.5&nbsp;&nbsp;</span>Drugs with more than 100 reviews</a></span></li><li><span><a href=\"#Conditions-with-more-than-100-reviews\" data-toc-modified-id=\"Conditions-with-more-than-100-reviews-2.6\"><span class=\"toc-item-num\">2.6&nbsp;&nbsp;</span>Conditions with more than 100 reviews</a></span></li></ul></li><li><span><a href=\"#EDA\" data-toc-modified-id=\"EDA-3\"><span class=\"toc-item-num\">3&nbsp;&nbsp;</span>EDA</a></span><ul class=\"toc-item\"><li><span><a href=\"#Which-patients-tend-to-have-more-negative-reviews?\" data-toc-modified-id=\"Which-patients-tend-to-have-more-negative-reviews?-3.1\"><span class=\"toc-item-num\">3.1&nbsp;&nbsp;</span>Which patients tend to have more negative reviews?</a></span><ul class=\"toc-item\"><li><span><a href=\"#Conditions-with-more-negative-reviews\" data-toc-modified-id=\"Conditions-with-more-negative-reviews-3.1.1\"><span class=\"toc-item-num\">3.1.1&nbsp;&nbsp;</span>Conditions with more negative reviews</a></span><ul class=\"toc-item\"><li><span><a href=\"#Top-patient-conditions\" data-toc-modified-id=\"Top-patient-conditions-3.1.1.1\"><span class=\"toc-item-num\">3.1.1.1&nbsp;&nbsp;</span>Top patient conditions</a></span></li><li><span><a href=\"#Lowest-patient-conditions\" data-toc-modified-id=\"Lowest-patient-conditions-3.1.1.2\"><span class=\"toc-item-num\">3.1.1.2&nbsp;&nbsp;</span>Lowest patient conditions</a></span></li></ul></li><li><span><a href=\"#Drugs-with-more-negative-reviews\" data-toc-modified-id=\"Drugs-with-more-negative-reviews-3.1.2\"><span class=\"toc-item-num\">3.1.2&nbsp;&nbsp;</span>Drugs with more negative reviews</a></span><ul class=\"toc-item\"><li><span><a href=\"#Top-drugs\" data-toc-modified-id=\"Top-drugs-3.1.2.1\"><span class=\"toc-item-num\">3.1.2.1&nbsp;&nbsp;</span>Top drugs</a></span></li><li><span><a href=\"#Lowest-drugs\" data-toc-modified-id=\"Lowest-drugs-3.1.2.2\"><span class=\"toc-item-num\">3.1.2.2&nbsp;&nbsp;</span>Lowest drugs</a></span></li></ul></li></ul></li><li><span><a href=\"#Low-rated-drugs\" data-toc-modified-id=\"Low-rated-drugs-3.2\"><span class=\"toc-item-num\">3.2&nbsp;&nbsp;</span>Low-rated drugs</a></span><ul class=\"toc-item\"><li><span><a href=\"#Top-patient-conditions-with-low-ratings\" data-toc-modified-id=\"Top-patient-conditions-with-low-ratings-3.2.1\"><span class=\"toc-item-num\">3.2.1&nbsp;&nbsp;</span>Top patient conditions with low ratings</a></span></li><li><span><a href=\"#Least-patient-conditions-with-low-ratings\" data-toc-modified-id=\"Least-patient-conditions-with-low-ratings-3.2.2\"><span class=\"toc-item-num\">3.2.2&nbsp;&nbsp;</span>Least patient conditions with low ratings</a></span></li><li><span><a href=\"#Top-low-rated-drugs\" data-toc-modified-id=\"Top-low-rated-drugs-3.2.3\"><span class=\"toc-item-num\">3.2.3&nbsp;&nbsp;</span>Top low-rated drugs</a></span></li><li><span><a href=\"#Least-low-rated-drugs\" data-toc-modified-id=\"Least-low-rated-drugs-3.2.4\"><span class=\"toc-item-num\">3.2.4&nbsp;&nbsp;</span>Least low-rated drugs</a></span></li></ul></li></ul></li><li><span><a href=\"#Classification-Predict-the-low-rating-(rating-&lt;4)-drugs-based-on-the-review.\" data-toc-modified-id=\"Classification-Predict-the-low-rating-(rating-<4)-drugs-based-on-the-review.-4\"><span class=\"toc-item-num\">4&nbsp;&nbsp;</span>Classification-Predict the low-rating (rating &lt;4) drugs based on the review.</a></span><ul class=\"toc-item\"><li><span><a href=\"#Preprocessing\" data-toc-modified-id=\"Preprocessing-4.1\"><span class=\"toc-item-num\">4.1&nbsp;&nbsp;</span>Preprocessing</a></span></li><li><span><a href=\"#MultinomialNB\" data-toc-modified-id=\"MultinomialNB-4.2\"><span class=\"toc-item-num\">4.2&nbsp;&nbsp;</span>MultinomialNB</a></span></li><li><span><a href=\"#Hyperparameter-tuning\" data-toc-modified-id=\"Hyperparameter-tuning-4.3\"><span class=\"toc-item-num\">4.3&nbsp;&nbsp;</span>Hyperparameter tuning</a></span><ul class=\"toc-item\"><li><span><a href=\"#min_df-tuning\" data-toc-modified-id=\"min_df-tuning-4.3.1\"><span class=\"toc-item-num\">4.3.1&nbsp;&nbsp;</span>min_df tuning</a></span></li></ul></li><li><span><a href=\"#SVM\" data-toc-modified-id=\"SVM-4.4\"><span class=\"toc-item-num\">4.4&nbsp;&nbsp;</span>SVM</a></span></li><li><span><a href=\"#Random-Forest\" data-toc-modified-id=\"Random-Forest-4.5\"><span class=\"toc-item-num\">4.5&nbsp;&nbsp;</span>Random Forest</a></span></li><li><span><a href=\"#Wordcloud\" data-toc-modified-id=\"Wordcloud-4.6\"><span class=\"toc-item-num\">4.6&nbsp;&nbsp;</span>Wordcloud</a></span></li></ul></li></ul></div>"
   ]
  },
  {
   "cell_type": "code",
   "execution_count": 2,
   "metadata": {},
   "outputs": [],
   "source": [
    "import pandas as pd\n",
    "#import dataframe_image as dfi\n",
    "import os\n",
    "import numpy as np\n",
    "import datetime as dt\n",
    "import seaborn as sns\n",
    "import matplotlib.pyplot as plt\n",
    "import pandas_profiling\n",
    "import statsmodels.api as sm\n",
    "import re\n",
    "import nltk\n",
    "import spacy\n",
    "import math\n",
    "import sklearn\n",
    "\n",
    "from pandas_profiling.utils.cache import cache_file\n",
    "\n",
    "from sklearn import metrics, datasets, linear_model, preprocessing\n",
    "from sklearn.linear_model import LogisticRegression, Lasso, Ridge\n",
    "from sklearn.model_selection import train_test_split, KFold, RandomizedSearchCV, cross_val_score, GridSearchCV, StratifiedKFold\n",
    "from sklearn.cluster import KMeans\n",
    "from sklearn.neighbors import KNeighborsClassifier\n",
    "from sklearn.metrics import roc_curve, roc_auc_score, accuracy_score, confusion_matrix, classification_report, precision_recall_curve, mean_squared_error, f1_score, plot_confusion_matrix  \n",
    "from sklearn.tree import DecisionTreeClassifier\n",
    "from sklearn.svm import SVC, LinearSVC\n",
    "from sklearn.preprocessing import scale, StandardScaler\n",
    "from sklearn.pipeline import Pipeline\n",
    "from sklearn.feature_extraction.text import CountVectorizer, TfidfVectorizer, TfidfTransformer\n",
    "from sklearn.naive_bayes import MultinomialNB\n",
    "from sklearn.ensemble import RandomForestRegressor, RandomForestClassifier \n",
    "\n",
    "from nltk.tokenize import word_tokenize, sent_tokenize\n",
    "from collections import Counter\n",
    "from textblob import TextBlob\n",
    "from wordcloud import WordCloud\n",
    "import scipy.sparse\n",
    "import seaborn as sns\n",
    "import string\n",
    "\n",
    "#nltk.download('punkt')\n"
   ]
  },
  {
   "cell_type": "code",
   "execution_count": 3,
   "metadata": {},
   "outputs": [],
   "source": [
    "#print(os.getcwd())\n",
    "path=\"/Users/atousachaharsoughshirazi/drug_review\"\n",
    "os.chdir(path)\n",
    "file_train=\"drugsComTrain_raw.csv\"\n",
    "df=pd.read_csv(file_train, header=0)\n",
    "file_test=\"drugsComTest_raw.csv\"\n",
    "df_test=pd.read_csv(file_test, header=0)"
   ]
  },
  {
   "cell_type": "markdown",
   "metadata": {},
   "source": [
    "# Introduction\n",
    "\n",
    "Pharmaceutical companies develop drugs based on intensive research and clinical trials. However, clinical trials provide a limited resource to examine the drugs and their side effects, and the patients' reviews after mass production are a great source of information for pharmaceutical companies to learn more about customer reaction to their products, discover potential problems before they occur, and better allocate their resources. . In this project, we will aim to predict whether or not a customer review is negative (rating <4) and analyze what indicators in a review make it most likely to be negative for different types of drugs.  Some problems that we address in this project are:\n",
    "\n",
    "* Classification: Can we predict the rating of the drug based on the review?\n",
    "* Sentiment analysis: Determine if a review is positive, neutral, or negative. Which patients tend to have more negative reviews? What elements of a review make it more helpful to others?\n",
    "\n",
    "This data set contains patients review and rating of 3436 different drugs. The condition of the patients for which the drug is taken is given and the number of people who found the review useful. The data set is big and there are about 161,000 reviews. \n"
   ]
  },
  {
   "cell_type": "markdown",
   "metadata": {},
   "source": [
    "# Data wrangling"
   ]
  },
  {
   "cell_type": "code",
   "execution_count": 4,
   "metadata": {},
   "outputs": [
    {
     "data": {
      "text/html": [
       "<div>\n",
       "<style scoped>\n",
       "    .dataframe tbody tr th:only-of-type {\n",
       "        vertical-align: middle;\n",
       "    }\n",
       "\n",
       "    .dataframe tbody tr th {\n",
       "        vertical-align: top;\n",
       "    }\n",
       "\n",
       "    .dataframe thead th {\n",
       "        text-align: right;\n",
       "    }\n",
       "</style>\n",
       "<table border=\"1\" class=\"dataframe\">\n",
       "  <thead>\n",
       "    <tr style=\"text-align: right;\">\n",
       "      <th></th>\n",
       "      <th>uniqueID</th>\n",
       "      <th>drugName</th>\n",
       "      <th>condition</th>\n",
       "      <th>review</th>\n",
       "      <th>rating</th>\n",
       "      <th>date</th>\n",
       "      <th>usefulCount</th>\n",
       "    </tr>\n",
       "  </thead>\n",
       "  <tbody>\n",
       "    <tr>\n",
       "      <th>0</th>\n",
       "      <td>206461</td>\n",
       "      <td>Valsartan</td>\n",
       "      <td>Left Ventricular Dysfunction</td>\n",
       "      <td>\"It has no side effect, I take it in combinati...</td>\n",
       "      <td>9</td>\n",
       "      <td>20-May-12</td>\n",
       "      <td>27</td>\n",
       "    </tr>\n",
       "    <tr>\n",
       "      <th>1</th>\n",
       "      <td>95260</td>\n",
       "      <td>Guanfacine</td>\n",
       "      <td>ADHD</td>\n",
       "      <td>\"My son is halfway through his fourth week of ...</td>\n",
       "      <td>8</td>\n",
       "      <td>27-Apr-10</td>\n",
       "      <td>192</td>\n",
       "    </tr>\n",
       "    <tr>\n",
       "      <th>2</th>\n",
       "      <td>92703</td>\n",
       "      <td>Lybrel</td>\n",
       "      <td>Birth Control</td>\n",
       "      <td>\"I used to take another oral contraceptive, wh...</td>\n",
       "      <td>5</td>\n",
       "      <td>14-Dec-09</td>\n",
       "      <td>17</td>\n",
       "    </tr>\n",
       "    <tr>\n",
       "      <th>3</th>\n",
       "      <td>138000</td>\n",
       "      <td>Ortho Evra</td>\n",
       "      <td>Birth Control</td>\n",
       "      <td>\"This is my first time using any form of birth...</td>\n",
       "      <td>8</td>\n",
       "      <td>3-Nov-15</td>\n",
       "      <td>10</td>\n",
       "    </tr>\n",
       "    <tr>\n",
       "      <th>4</th>\n",
       "      <td>35696</td>\n",
       "      <td>Buprenorphine / naloxone</td>\n",
       "      <td>Opiate Dependence</td>\n",
       "      <td>\"Suboxone has completely turned my life around...</td>\n",
       "      <td>9</td>\n",
       "      <td>27-Nov-16</td>\n",
       "      <td>37</td>\n",
       "    </tr>\n",
       "  </tbody>\n",
       "</table>\n",
       "</div>"
      ],
      "text/plain": [
       "   uniqueID                  drugName                     condition  \\\n",
       "0    206461                 Valsartan  Left Ventricular Dysfunction   \n",
       "1     95260                Guanfacine                          ADHD   \n",
       "2     92703                    Lybrel                 Birth Control   \n",
       "3    138000                Ortho Evra                 Birth Control   \n",
       "4     35696  Buprenorphine / naloxone             Opiate Dependence   \n",
       "\n",
       "                                              review  rating       date  \\\n",
       "0  \"It has no side effect, I take it in combinati...       9  20-May-12   \n",
       "1  \"My son is halfway through his fourth week of ...       8  27-Apr-10   \n",
       "2  \"I used to take another oral contraceptive, wh...       5  14-Dec-09   \n",
       "3  \"This is my first time using any form of birth...       8   3-Nov-15   \n",
       "4  \"Suboxone has completely turned my life around...       9  27-Nov-16   \n",
       "\n",
       "   usefulCount  \n",
       "0           27  \n",
       "1          192  \n",
       "2           17  \n",
       "3           10  \n",
       "4           37  "
      ]
     },
     "execution_count": 4,
     "metadata": {},
     "output_type": "execute_result"
    }
   ],
   "source": [
    "df.head()"
   ]
  },
  {
   "cell_type": "code",
   "execution_count": 5,
   "metadata": {},
   "outputs": [
    {
     "data": {
      "text/plain": [
       "(161297, 7)"
      ]
     },
     "execution_count": 5,
     "metadata": {},
     "output_type": "execute_result"
    }
   ],
   "source": [
    "df.shape"
   ]
  },
  {
   "cell_type": "code",
   "execution_count": 6,
   "metadata": {},
   "outputs": [
    {
     "name": "stdout",
     "output_type": "stream",
     "text": [
      "<class 'pandas.core.frame.DataFrame'>\n",
      "RangeIndex: 161297 entries, 0 to 161296\n",
      "Data columns (total 7 columns):\n",
      " #   Column       Non-Null Count   Dtype \n",
      "---  ------       --------------   ----- \n",
      " 0   uniqueID     161297 non-null  int64 \n",
      " 1   drugName     161297 non-null  object\n",
      " 2   condition    160398 non-null  object\n",
      " 3   review       161297 non-null  object\n",
      " 4   rating       161297 non-null  int64 \n",
      " 5   date         161297 non-null  object\n",
      " 6   usefulCount  161297 non-null  int64 \n",
      "dtypes: int64(3), object(4)\n",
      "memory usage: 8.6+ MB\n"
     ]
    }
   ],
   "source": [
    "df.info()"
   ]
  },
  {
   "cell_type": "code",
   "execution_count": 7,
   "metadata": {},
   "outputs": [
    {
     "name": "stdout",
     "output_type": "stream",
     "text": [
      "uniqueID 161297\n",
      "drugName 3436\n",
      "condition 884\n",
      "review 112329\n",
      "rating 10\n",
      "date 3579\n",
      "usefulCount 389\n"
     ]
    }
   ],
   "source": [
    "#Unique values in the train data set\n",
    "column_list = df.columns.values.tolist()\n",
    "for column_name in column_list:\n",
    "    print(column_name, df[column_name].nunique())"
   ]
  },
  {
   "cell_type": "code",
   "execution_count": 8,
   "metadata": {},
   "outputs": [
    {
     "name": "stdout",
     "output_type": "stream",
     "text": [
      "uniqueID 53766\n",
      "drugName 2637\n",
      "condition 708\n",
      "review 48280\n",
      "rating 10\n",
      "date 3566\n",
      "usefulCount 325\n"
     ]
    }
   ],
   "source": [
    "#Unique values in the test data set\n",
    "column_list = df_test.columns.values.tolist()\n",
    "for column_name in column_list:\n",
    "    print(column_name, df_test[column_name].nunique())"
   ]
  },
  {
   "cell_type": "code",
   "execution_count": 9,
   "metadata": {},
   "outputs": [
    {
     "data": {
      "text/plain": [
       "32"
      ]
     },
     "execution_count": 9,
     "metadata": {},
     "output_type": "execute_result"
    }
   ],
   "source": [
    "#There are 32 unique conditions in the test set that are not in the train set\n",
    "A=set(df.condition.values)\n",
    "B=set(df_test.condition.values)\n",
    "len(B.difference(A))"
   ]
  },
  {
   "cell_type": "code",
   "execution_count": 10,
   "metadata": {},
   "outputs": [
    {
     "data": {
      "text/plain": [
       "208"
      ]
     },
     "execution_count": 10,
     "metadata": {},
     "output_type": "execute_result"
    }
   ],
   "source": [
    "#There are 208 unique conditions in the train set that are not in the test set\n",
    "len(A.difference(B))"
   ]
  },
  {
   "cell_type": "code",
   "execution_count": 11,
   "metadata": {},
   "outputs": [
    {
     "data": {
      "text/plain": [
       "1034"
      ]
     },
     "execution_count": 11,
     "metadata": {},
     "output_type": "execute_result"
    }
   ],
   "source": [
    "#There are 1034 drug names that are in the train data set and not in the test data set\n",
    "C=set(df.drugName.values)\n",
    "D=set(df_test.drugName.values)\n",
    "len(C.difference(D))"
   ]
  },
  {
   "cell_type": "code",
   "execution_count": 12,
   "metadata": {},
   "outputs": [
    {
     "data": {
      "text/plain": [
       "235"
      ]
     },
     "execution_count": 12,
     "metadata": {},
     "output_type": "execute_result"
    }
   ],
   "source": [
    "#There are 235 drug names that are in the test data set and not in the train data set\n",
    "len(D.difference(C))"
   ]
  },
  {
   "cell_type": "markdown",
   "metadata": {},
   "source": [
    "## Dropping the null values in the train and test sets"
   ]
  },
  {
   "cell_type": "code",
   "execution_count": 13,
   "metadata": {},
   "outputs": [
    {
     "data": {
      "text/plain": [
       "True"
      ]
     },
     "execution_count": 13,
     "metadata": {},
     "output_type": "execute_result"
    }
   ],
   "source": [
    "df.isna().any().any()"
   ]
  },
  {
   "cell_type": "code",
   "execution_count": 14,
   "metadata": {},
   "outputs": [
    {
     "data": {
      "text/plain": [
       "899"
      ]
     },
     "execution_count": 14,
     "metadata": {},
     "output_type": "execute_result"
    }
   ],
   "source": [
    "df.isna().sum().sum()"
   ]
  },
  {
   "cell_type": "code",
   "execution_count": 15,
   "metadata": {},
   "outputs": [
    {
     "name": "stdout",
     "output_type": "stream",
     "text": [
      "Column with lowest amount of missings contains 0.0 % missings.\n",
      "Column with highest amount of missings contains 0.5573569254232875 % missings.\n"
     ]
    }
   ],
   "source": [
    "temp = df.isna().sum()/(len(df))*100\n",
    "print(\"Column with lowest amount of missings contains {} % missings.\".format(temp.min()))\n",
    "print(\"Column with highest amount of missings contains {} % missings.\".format(temp.max()))\n"
   ]
  },
  {
   "cell_type": "code",
   "execution_count": 16,
   "metadata": {},
   "outputs": [
    {
     "data": {
      "text/plain": [
       "Index(['condition'], dtype='object')"
      ]
     },
     "execution_count": 16,
     "metadata": {},
     "output_type": "execute_result"
    }
   ],
   "source": [
    "df.loc[:, df.isnull().any()].columns"
   ]
  },
  {
   "cell_type": "code",
   "execution_count": 17,
   "metadata": {},
   "outputs": [],
   "source": [
    "df.dropna(inplace=True)"
   ]
  },
  {
   "cell_type": "code",
   "execution_count": 18,
   "metadata": {},
   "outputs": [
    {
     "data": {
      "text/plain": [
       "True"
      ]
     },
     "execution_count": 18,
     "metadata": {},
     "output_type": "execute_result"
    }
   ],
   "source": [
    "df_test.isna().any().any()"
   ]
  },
  {
   "cell_type": "code",
   "execution_count": 19,
   "metadata": {},
   "outputs": [
    {
     "data": {
      "text/plain": [
       "295"
      ]
     },
     "execution_count": 19,
     "metadata": {},
     "output_type": "execute_result"
    }
   ],
   "source": [
    "df_test.isna().sum().sum()"
   ]
  },
  {
   "cell_type": "code",
   "execution_count": 20,
   "metadata": {},
   "outputs": [],
   "source": [
    "df_test.dropna(inplace=True)"
   ]
  },
  {
   "cell_type": "markdown",
   "metadata": {},
   "source": [
    "## Polarity and subjectivity"
   ]
  },
  {
   "cell_type": "code",
   "execution_count": 21,
   "metadata": {},
   "outputs": [],
   "source": [
    "df[['polarity', 'subjectivity']] = df['review'].apply(lambda text: pd.Series(TextBlob(text).sentiment))"
   ]
  },
  {
   "cell_type": "code",
   "execution_count": 22,
   "metadata": {},
   "outputs": [
    {
     "data": {
      "text/html": [
       "<div>\n",
       "<style scoped>\n",
       "    .dataframe tbody tr th:only-of-type {\n",
       "        vertical-align: middle;\n",
       "    }\n",
       "\n",
       "    .dataframe tbody tr th {\n",
       "        vertical-align: top;\n",
       "    }\n",
       "\n",
       "    .dataframe thead th {\n",
       "        text-align: right;\n",
       "    }\n",
       "</style>\n",
       "<table border=\"1\" class=\"dataframe\">\n",
       "  <thead>\n",
       "    <tr style=\"text-align: right;\">\n",
       "      <th></th>\n",
       "      <th>uniqueID</th>\n",
       "      <th>drugName</th>\n",
       "      <th>condition</th>\n",
       "      <th>review</th>\n",
       "      <th>rating</th>\n",
       "      <th>date</th>\n",
       "      <th>usefulCount</th>\n",
       "      <th>polarity</th>\n",
       "      <th>subjectivity</th>\n",
       "      <th>sentiment</th>\n",
       "    </tr>\n",
       "  </thead>\n",
       "  <tbody>\n",
       "    <tr>\n",
       "      <th>0</th>\n",
       "      <td>206461</td>\n",
       "      <td>Valsartan</td>\n",
       "      <td>Left Ventricular Dysfunction</td>\n",
       "      <td>\"It has no side effect, I take it in combinati...</td>\n",
       "      <td>9</td>\n",
       "      <td>20-May-12</td>\n",
       "      <td>27</td>\n",
       "      <td>0.000000</td>\n",
       "      <td>0.000000</td>\n",
       "      <td>neutral</td>\n",
       "    </tr>\n",
       "    <tr>\n",
       "      <th>1</th>\n",
       "      <td>95260</td>\n",
       "      <td>Guanfacine</td>\n",
       "      <td>ADHD</td>\n",
       "      <td>\"My son is halfway through his fourth week of ...</td>\n",
       "      <td>8</td>\n",
       "      <td>27-Apr-10</td>\n",
       "      <td>192</td>\n",
       "      <td>0.168333</td>\n",
       "      <td>0.431349</td>\n",
       "      <td>neutral</td>\n",
       "    </tr>\n",
       "    <tr>\n",
       "      <th>2</th>\n",
       "      <td>92703</td>\n",
       "      <td>Lybrel</td>\n",
       "      <td>Birth Control</td>\n",
       "      <td>\"I used to take another oral contraceptive, wh...</td>\n",
       "      <td>5</td>\n",
       "      <td>14-Dec-09</td>\n",
       "      <td>17</td>\n",
       "      <td>0.067210</td>\n",
       "      <td>0.402155</td>\n",
       "      <td>neutral</td>\n",
       "    </tr>\n",
       "    <tr>\n",
       "      <th>3</th>\n",
       "      <td>138000</td>\n",
       "      <td>Ortho Evra</td>\n",
       "      <td>Birth Control</td>\n",
       "      <td>\"This is my first time using any form of birth...</td>\n",
       "      <td>8</td>\n",
       "      <td>3-Nov-15</td>\n",
       "      <td>10</td>\n",
       "      <td>0.179545</td>\n",
       "      <td>0.665909</td>\n",
       "      <td>neutral</td>\n",
       "    </tr>\n",
       "    <tr>\n",
       "      <th>4</th>\n",
       "      <td>35696</td>\n",
       "      <td>Buprenorphine / naloxone</td>\n",
       "      <td>Opiate Dependence</td>\n",
       "      <td>\"Suboxone has completely turned my life around...</td>\n",
       "      <td>9</td>\n",
       "      <td>27-Nov-16</td>\n",
       "      <td>37</td>\n",
       "      <td>0.194444</td>\n",
       "      <td>0.401389</td>\n",
       "      <td>neutral</td>\n",
       "    </tr>\n",
       "  </tbody>\n",
       "</table>\n",
       "</div>"
      ],
      "text/plain": [
       "   uniqueID                  drugName                     condition  \\\n",
       "0    206461                 Valsartan  Left Ventricular Dysfunction   \n",
       "1     95260                Guanfacine                          ADHD   \n",
       "2     92703                    Lybrel                 Birth Control   \n",
       "3    138000                Ortho Evra                 Birth Control   \n",
       "4     35696  Buprenorphine / naloxone             Opiate Dependence   \n",
       "\n",
       "                                              review  rating       date  \\\n",
       "0  \"It has no side effect, I take it in combinati...       9  20-May-12   \n",
       "1  \"My son is halfway through his fourth week of ...       8  27-Apr-10   \n",
       "2  \"I used to take another oral contraceptive, wh...       5  14-Dec-09   \n",
       "3  \"This is my first time using any form of birth...       8   3-Nov-15   \n",
       "4  \"Suboxone has completely turned my life around...       9  27-Nov-16   \n",
       "\n",
       "   usefulCount  polarity  subjectivity sentiment  \n",
       "0           27  0.000000      0.000000   neutral  \n",
       "1          192  0.168333      0.431349   neutral  \n",
       "2           17  0.067210      0.402155   neutral  \n",
       "3           10  0.179545      0.665909   neutral  \n",
       "4           37  0.194444      0.401389   neutral  "
      ]
     },
     "execution_count": 22,
     "metadata": {},
     "output_type": "execute_result"
    }
   ],
   "source": [
    "bins = [-1 ,-0.6, -0.2, 0.2, 0.6, 1]\n",
    "labels = ['very negative', 'negative' , 'neutral', 'positive', 'very positive']\n",
    "df['sentiment'] = pd.cut(df.polarity, bins, labels = labels,include_lowest = True)\n",
    "\n",
    "df.head()"
   ]
  },
  {
   "cell_type": "markdown",
   "metadata": {},
   "source": [
    "### Negative-polarity binary column"
   ]
  },
  {
   "cell_type": "code",
   "execution_count": 23,
   "metadata": {},
   "outputs": [
    {
     "data": {
      "text/html": [
       "<div>\n",
       "<style scoped>\n",
       "    .dataframe tbody tr th:only-of-type {\n",
       "        vertical-align: middle;\n",
       "    }\n",
       "\n",
       "    .dataframe tbody tr th {\n",
       "        vertical-align: top;\n",
       "    }\n",
       "\n",
       "    .dataframe thead th {\n",
       "        text-align: right;\n",
       "    }\n",
       "</style>\n",
       "<table border=\"1\" class=\"dataframe\">\n",
       "  <thead>\n",
       "    <tr style=\"text-align: right;\">\n",
       "      <th></th>\n",
       "      <th>uniqueID</th>\n",
       "      <th>drugName</th>\n",
       "      <th>condition</th>\n",
       "      <th>review</th>\n",
       "      <th>rating</th>\n",
       "      <th>date</th>\n",
       "      <th>usefulCount</th>\n",
       "      <th>polarity</th>\n",
       "      <th>subjectivity</th>\n",
       "      <th>sentiment</th>\n",
       "      <th>negative_polarity_binary</th>\n",
       "    </tr>\n",
       "  </thead>\n",
       "  <tbody>\n",
       "    <tr>\n",
       "      <th>0</th>\n",
       "      <td>206461</td>\n",
       "      <td>Valsartan</td>\n",
       "      <td>Left Ventricular Dysfunction</td>\n",
       "      <td>\"It has no side effect, I take it in combinati...</td>\n",
       "      <td>9</td>\n",
       "      <td>20-May-12</td>\n",
       "      <td>27</td>\n",
       "      <td>0.000000</td>\n",
       "      <td>0.000000</td>\n",
       "      <td>neutral</td>\n",
       "      <td>positive</td>\n",
       "    </tr>\n",
       "    <tr>\n",
       "      <th>1</th>\n",
       "      <td>95260</td>\n",
       "      <td>Guanfacine</td>\n",
       "      <td>ADHD</td>\n",
       "      <td>\"My son is halfway through his fourth week of ...</td>\n",
       "      <td>8</td>\n",
       "      <td>27-Apr-10</td>\n",
       "      <td>192</td>\n",
       "      <td>0.168333</td>\n",
       "      <td>0.431349</td>\n",
       "      <td>neutral</td>\n",
       "      <td>positive</td>\n",
       "    </tr>\n",
       "    <tr>\n",
       "      <th>2</th>\n",
       "      <td>92703</td>\n",
       "      <td>Lybrel</td>\n",
       "      <td>Birth Control</td>\n",
       "      <td>\"I used to take another oral contraceptive, wh...</td>\n",
       "      <td>5</td>\n",
       "      <td>14-Dec-09</td>\n",
       "      <td>17</td>\n",
       "      <td>0.067210</td>\n",
       "      <td>0.402155</td>\n",
       "      <td>neutral</td>\n",
       "      <td>positive</td>\n",
       "    </tr>\n",
       "    <tr>\n",
       "      <th>3</th>\n",
       "      <td>138000</td>\n",
       "      <td>Ortho Evra</td>\n",
       "      <td>Birth Control</td>\n",
       "      <td>\"This is my first time using any form of birth...</td>\n",
       "      <td>8</td>\n",
       "      <td>3-Nov-15</td>\n",
       "      <td>10</td>\n",
       "      <td>0.179545</td>\n",
       "      <td>0.665909</td>\n",
       "      <td>neutral</td>\n",
       "      <td>positive</td>\n",
       "    </tr>\n",
       "    <tr>\n",
       "      <th>4</th>\n",
       "      <td>35696</td>\n",
       "      <td>Buprenorphine / naloxone</td>\n",
       "      <td>Opiate Dependence</td>\n",
       "      <td>\"Suboxone has completely turned my life around...</td>\n",
       "      <td>9</td>\n",
       "      <td>27-Nov-16</td>\n",
       "      <td>37</td>\n",
       "      <td>0.194444</td>\n",
       "      <td>0.401389</td>\n",
       "      <td>neutral</td>\n",
       "      <td>positive</td>\n",
       "    </tr>\n",
       "  </tbody>\n",
       "</table>\n",
       "</div>"
      ],
      "text/plain": [
       "   uniqueID                  drugName                     condition  \\\n",
       "0    206461                 Valsartan  Left Ventricular Dysfunction   \n",
       "1     95260                Guanfacine                          ADHD   \n",
       "2     92703                    Lybrel                 Birth Control   \n",
       "3    138000                Ortho Evra                 Birth Control   \n",
       "4     35696  Buprenorphine / naloxone             Opiate Dependence   \n",
       "\n",
       "                                              review  rating       date  \\\n",
       "0  \"It has no side effect, I take it in combinati...       9  20-May-12   \n",
       "1  \"My son is halfway through his fourth week of ...       8  27-Apr-10   \n",
       "2  \"I used to take another oral contraceptive, wh...       5  14-Dec-09   \n",
       "3  \"This is my first time using any form of birth...       8   3-Nov-15   \n",
       "4  \"Suboxone has completely turned my life around...       9  27-Nov-16   \n",
       "\n",
       "   usefulCount  polarity  subjectivity sentiment negative_polarity_binary  \n",
       "0           27  0.000000      0.000000   neutral                 positive  \n",
       "1          192  0.168333      0.431349   neutral                 positive  \n",
       "2           17  0.067210      0.402155   neutral                 positive  \n",
       "3           10  0.179545      0.665909   neutral                 positive  \n",
       "4           37  0.194444      0.401389   neutral                 positive  "
      ]
     },
     "execution_count": 23,
     "metadata": {},
     "output_type": "execute_result"
    }
   ],
   "source": [
    "bins = [-1,0, 1]\n",
    "labels = ['negative', 'positive']\n",
    "df['negative_polarity_binary'] = pd.cut(df.polarity, bins, labels = labels, right=False, include_lowest = True)\n",
    "\n",
    "df.head()"
   ]
  },
  {
   "cell_type": "code",
   "execution_count": 24,
   "metadata": {},
   "outputs": [
    {
     "data": {
      "text/html": [
       "<div>\n",
       "<style scoped>\n",
       "    .dataframe tbody tr th:only-of-type {\n",
       "        vertical-align: middle;\n",
       "    }\n",
       "\n",
       "    .dataframe tbody tr th {\n",
       "        vertical-align: top;\n",
       "    }\n",
       "\n",
       "    .dataframe thead th {\n",
       "        text-align: right;\n",
       "    }\n",
       "</style>\n",
       "<table border=\"1\" class=\"dataframe\">\n",
       "  <thead>\n",
       "    <tr style=\"text-align: right;\">\n",
       "      <th></th>\n",
       "      <th>uniqueID</th>\n",
       "      <th>drugName</th>\n",
       "      <th>condition</th>\n",
       "      <th>review</th>\n",
       "      <th>rating</th>\n",
       "      <th>date</th>\n",
       "      <th>usefulCount</th>\n",
       "      <th>polarity</th>\n",
       "      <th>subjectivity</th>\n",
       "      <th>sentiment</th>\n",
       "      <th>negative_polarity_binary</th>\n",
       "    </tr>\n",
       "  </thead>\n",
       "  <tbody>\n",
       "    <tr>\n",
       "      <th>0</th>\n",
       "      <td>206461</td>\n",
       "      <td>Valsartan</td>\n",
       "      <td>Left Ventricular Dysfunction</td>\n",
       "      <td>\"It has no side effect, I take it in combinati...</td>\n",
       "      <td>9</td>\n",
       "      <td>20-May-12</td>\n",
       "      <td>27</td>\n",
       "      <td>0.000000</td>\n",
       "      <td>0.000000</td>\n",
       "      <td>neutral</td>\n",
       "      <td>0.0</td>\n",
       "    </tr>\n",
       "    <tr>\n",
       "      <th>1</th>\n",
       "      <td>95260</td>\n",
       "      <td>Guanfacine</td>\n",
       "      <td>ADHD</td>\n",
       "      <td>\"My son is halfway through his fourth week of ...</td>\n",
       "      <td>8</td>\n",
       "      <td>27-Apr-10</td>\n",
       "      <td>192</td>\n",
       "      <td>0.168333</td>\n",
       "      <td>0.431349</td>\n",
       "      <td>neutral</td>\n",
       "      <td>0.0</td>\n",
       "    </tr>\n",
       "    <tr>\n",
       "      <th>2</th>\n",
       "      <td>92703</td>\n",
       "      <td>Lybrel</td>\n",
       "      <td>Birth Control</td>\n",
       "      <td>\"I used to take another oral contraceptive, wh...</td>\n",
       "      <td>5</td>\n",
       "      <td>14-Dec-09</td>\n",
       "      <td>17</td>\n",
       "      <td>0.067210</td>\n",
       "      <td>0.402155</td>\n",
       "      <td>neutral</td>\n",
       "      <td>0.0</td>\n",
       "    </tr>\n",
       "    <tr>\n",
       "      <th>3</th>\n",
       "      <td>138000</td>\n",
       "      <td>Ortho Evra</td>\n",
       "      <td>Birth Control</td>\n",
       "      <td>\"This is my first time using any form of birth...</td>\n",
       "      <td>8</td>\n",
       "      <td>3-Nov-15</td>\n",
       "      <td>10</td>\n",
       "      <td>0.179545</td>\n",
       "      <td>0.665909</td>\n",
       "      <td>neutral</td>\n",
       "      <td>0.0</td>\n",
       "    </tr>\n",
       "    <tr>\n",
       "      <th>4</th>\n",
       "      <td>35696</td>\n",
       "      <td>Buprenorphine / naloxone</td>\n",
       "      <td>Opiate Dependence</td>\n",
       "      <td>\"Suboxone has completely turned my life around...</td>\n",
       "      <td>9</td>\n",
       "      <td>27-Nov-16</td>\n",
       "      <td>37</td>\n",
       "      <td>0.194444</td>\n",
       "      <td>0.401389</td>\n",
       "      <td>neutral</td>\n",
       "      <td>0.0</td>\n",
       "    </tr>\n",
       "  </tbody>\n",
       "</table>\n",
       "</div>"
      ],
      "text/plain": [
       "   uniqueID                  drugName                     condition  \\\n",
       "0    206461                 Valsartan  Left Ventricular Dysfunction   \n",
       "1     95260                Guanfacine                          ADHD   \n",
       "2     92703                    Lybrel                 Birth Control   \n",
       "3    138000                Ortho Evra                 Birth Control   \n",
       "4     35696  Buprenorphine / naloxone             Opiate Dependence   \n",
       "\n",
       "                                              review  rating       date  \\\n",
       "0  \"It has no side effect, I take it in combinati...       9  20-May-12   \n",
       "1  \"My son is halfway through his fourth week of ...       8  27-Apr-10   \n",
       "2  \"I used to take another oral contraceptive, wh...       5  14-Dec-09   \n",
       "3  \"This is my first time using any form of birth...       8   3-Nov-15   \n",
       "4  \"Suboxone has completely turned my life around...       9  27-Nov-16   \n",
       "\n",
       "   usefulCount  polarity  subjectivity sentiment  negative_polarity_binary  \n",
       "0           27  0.000000      0.000000   neutral                       0.0  \n",
       "1          192  0.168333      0.431349   neutral                       0.0  \n",
       "2           17  0.067210      0.402155   neutral                       0.0  \n",
       "3           10  0.179545      0.665909   neutral                       0.0  \n",
       "4           37  0.194444      0.401389   neutral                       0.0  "
      ]
     },
     "execution_count": 24,
     "metadata": {},
     "output_type": "execute_result"
    }
   ],
   "source": [
    "df.negative_polarity_binary.replace(['negative','positive'],[1,0] ,inplace=True)\n",
    "df.head()"
   ]
  },
  {
   "cell_type": "code",
   "execution_count": 25,
   "metadata": {},
   "outputs": [
    {
     "data": {
      "text/plain": [
       "0.0    106642\n",
       "1.0     53030\n",
       "Name: negative_polarity_binary, dtype: int64"
      ]
     },
     "execution_count": 25,
     "metadata": {},
     "output_type": "execute_result"
    }
   ],
   "source": [
    "df.negative_polarity_binary.value_counts()"
   ]
  },
  {
   "cell_type": "markdown",
   "metadata": {},
   "source": [
    "## Rating column"
   ]
  },
  {
   "cell_type": "markdown",
   "metadata": {},
   "source": [
    "### Countplot"
   ]
  },
  {
   "cell_type": "code",
   "execution_count": 26,
   "metadata": {},
   "outputs": [
    {
     "data": {
      "image/png": "[encoded data removed]",
      "text/plain": [
       "<Figure size 432x288 with 1 Axes>"
      ]
     },
     "metadata": {
      "needs_background": "light"
     },
     "output_type": "display_data"
    }
   ],
   "source": [
    "sns_plot=sns.countplot(x=\"rating\", data=df)\n",
    "plt.tight_layout()\n",
    "plt.show()\n",
    "fig = sns_plot.get_figure()\n",
    "fig.savefig('/Users/atousachaharsoughshirazi/drug_review/figures/rating_countplot.png') "
   ]
  },
  {
   "cell_type": "markdown",
   "metadata": {},
   "source": [
    "### Ratings grouping"
   ]
  },
  {
   "cell_type": "code",
   "execution_count": 27,
   "metadata": {},
   "outputs": [
    {
     "data": {
      "text/html": [
       "<div>\n",
       "<style scoped>\n",
       "    .dataframe tbody tr th:only-of-type {\n",
       "        vertical-align: middle;\n",
       "    }\n",
       "\n",
       "    .dataframe tbody tr th {\n",
       "        vertical-align: top;\n",
       "    }\n",
       "\n",
       "    .dataframe thead th {\n",
       "        text-align: right;\n",
       "    }\n",
       "</style>\n",
       "<table border=\"1\" class=\"dataframe\">\n",
       "  <thead>\n",
       "    <tr style=\"text-align: right;\">\n",
       "      <th></th>\n",
       "      <th>uniqueID</th>\n",
       "      <th>drugName</th>\n",
       "      <th>condition</th>\n",
       "      <th>review</th>\n",
       "      <th>rating</th>\n",
       "      <th>date</th>\n",
       "      <th>usefulCount</th>\n",
       "      <th>polarity</th>\n",
       "      <th>subjectivity</th>\n",
       "      <th>sentiment</th>\n",
       "      <th>negative_polarity_binary</th>\n",
       "      <th>rating_groups</th>\n",
       "    </tr>\n",
       "  </thead>\n",
       "  <tbody>\n",
       "    <tr>\n",
       "      <th>0</th>\n",
       "      <td>206461</td>\n",
       "      <td>Valsartan</td>\n",
       "      <td>Left Ventricular Dysfunction</td>\n",
       "      <td>\"It has no side effect, I take it in combinati...</td>\n",
       "      <td>9</td>\n",
       "      <td>20-May-12</td>\n",
       "      <td>27</td>\n",
       "      <td>0.000000</td>\n",
       "      <td>0.000000</td>\n",
       "      <td>neutral</td>\n",
       "      <td>0.0</td>\n",
       "      <td>&gt;7</td>\n",
       "    </tr>\n",
       "    <tr>\n",
       "      <th>1</th>\n",
       "      <td>95260</td>\n",
       "      <td>Guanfacine</td>\n",
       "      <td>ADHD</td>\n",
       "      <td>\"My son is halfway through his fourth week of ...</td>\n",
       "      <td>8</td>\n",
       "      <td>27-Apr-10</td>\n",
       "      <td>192</td>\n",
       "      <td>0.168333</td>\n",
       "      <td>0.431349</td>\n",
       "      <td>neutral</td>\n",
       "      <td>0.0</td>\n",
       "      <td>&gt;7</td>\n",
       "    </tr>\n",
       "    <tr>\n",
       "      <th>2</th>\n",
       "      <td>92703</td>\n",
       "      <td>Lybrel</td>\n",
       "      <td>Birth Control</td>\n",
       "      <td>\"I used to take another oral contraceptive, wh...</td>\n",
       "      <td>5</td>\n",
       "      <td>14-Dec-09</td>\n",
       "      <td>17</td>\n",
       "      <td>0.067210</td>\n",
       "      <td>0.402155</td>\n",
       "      <td>neutral</td>\n",
       "      <td>0.0</td>\n",
       "      <td>4-7</td>\n",
       "    </tr>\n",
       "    <tr>\n",
       "      <th>3</th>\n",
       "      <td>138000</td>\n",
       "      <td>Ortho Evra</td>\n",
       "      <td>Birth Control</td>\n",
       "      <td>\"This is my first time using any form of birth...</td>\n",
       "      <td>8</td>\n",
       "      <td>3-Nov-15</td>\n",
       "      <td>10</td>\n",
       "      <td>0.179545</td>\n",
       "      <td>0.665909</td>\n",
       "      <td>neutral</td>\n",
       "      <td>0.0</td>\n",
       "      <td>&gt;7</td>\n",
       "    </tr>\n",
       "    <tr>\n",
       "      <th>4</th>\n",
       "      <td>35696</td>\n",
       "      <td>Buprenorphine / naloxone</td>\n",
       "      <td>Opiate Dependence</td>\n",
       "      <td>\"Suboxone has completely turned my life around...</td>\n",
       "      <td>9</td>\n",
       "      <td>27-Nov-16</td>\n",
       "      <td>37</td>\n",
       "      <td>0.194444</td>\n",
       "      <td>0.401389</td>\n",
       "      <td>neutral</td>\n",
       "      <td>0.0</td>\n",
       "      <td>&gt;7</td>\n",
       "    </tr>\n",
       "  </tbody>\n",
       "</table>\n",
       "</div>"
      ],
      "text/plain": [
       "   uniqueID                  drugName                     condition  \\\n",
       "0    206461                 Valsartan  Left Ventricular Dysfunction   \n",
       "1     95260                Guanfacine                          ADHD   \n",
       "2     92703                    Lybrel                 Birth Control   \n",
       "3    138000                Ortho Evra                 Birth Control   \n",
       "4     35696  Buprenorphine / naloxone             Opiate Dependence   \n",
       "\n",
       "                                              review  rating       date  \\\n",
       "0  \"It has no side effect, I take it in combinati...       9  20-May-12   \n",
       "1  \"My son is halfway through his fourth week of ...       8  27-Apr-10   \n",
       "2  \"I used to take another oral contraceptive, wh...       5  14-Dec-09   \n",
       "3  \"This is my first time using any form of birth...       8   3-Nov-15   \n",
       "4  \"Suboxone has completely turned my life around...       9  27-Nov-16   \n",
       "\n",
       "   usefulCount  polarity  subjectivity sentiment  negative_polarity_binary  \\\n",
       "0           27  0.000000      0.000000   neutral                       0.0   \n",
       "1          192  0.168333      0.431349   neutral                       0.0   \n",
       "2           17  0.067210      0.402155   neutral                       0.0   \n",
       "3           10  0.179545      0.665909   neutral                       0.0   \n",
       "4           37  0.194444      0.401389   neutral                       0.0   \n",
       "\n",
       "  rating_groups  \n",
       "0            >7  \n",
       "1            >7  \n",
       "2           4-7  \n",
       "3            >7  \n",
       "4            >7  "
      ]
     },
     "execution_count": 27,
     "metadata": {},
     "output_type": "execute_result"
    }
   ],
   "source": [
    "bins = [0 ,4, 7, np.inf]\n",
    "labels = ['<4', '4-7', '>7']\n",
    "df['rating_groups'] = pd.cut(df.rating, bins, labels = labels,include_lowest = True)\n",
    "\n",
    "df.head()"
   ]
  },
  {
   "cell_type": "code",
   "execution_count": 28,
   "metadata": {},
   "outputs": [
    {
     "data": {
      "text/plain": [
       "<AxesSubplot:xlabel='polarity', ylabel='Count'>"
      ]
     },
     "execution_count": 28,
     "metadata": {},
     "output_type": "execute_result"
    },
    {
     "data": {
      "image/png": "[encoded data removed]",
      "text/plain": [
       "<Figure size 432x288 with 1 Axes>"
      ]
     },
     "metadata": {
      "needs_background": "light"
     },
     "output_type": "display_data"
    }
   ],
   "source": [
    "sns.histplot(x=\"polarity\", data=df)"
   ]
  },
  {
   "cell_type": "markdown",
   "metadata": {},
   "source": [
    "### Binary low-rating column"
   ]
  },
  {
   "cell_type": "markdown",
   "metadata": {},
   "source": [
    "Later we are interested to investigate which patients tend to give low ratings (rating<4) and what elements in the reviews make a low rating. Therefore, it is useful to add a column and categorize the reviews as a separate binary group. Since we are interested in low rating reviews we will assign 1 to low ratings and 0 to others."
   ]
  },
  {
   "cell_type": "code",
   "execution_count": 29,
   "metadata": {},
   "outputs": [
    {
     "data": {
      "text/html": [
       "<div>\n",
       "<style scoped>\n",
       "    .dataframe tbody tr th:only-of-type {\n",
       "        vertical-align: middle;\n",
       "    }\n",
       "\n",
       "    .dataframe tbody tr th {\n",
       "        vertical-align: top;\n",
       "    }\n",
       "\n",
       "    .dataframe thead th {\n",
       "        text-align: right;\n",
       "    }\n",
       "</style>\n",
       "<table border=\"1\" class=\"dataframe\">\n",
       "  <thead>\n",
       "    <tr style=\"text-align: right;\">\n",
       "      <th></th>\n",
       "      <th>uniqueID</th>\n",
       "      <th>drugName</th>\n",
       "      <th>condition</th>\n",
       "      <th>review</th>\n",
       "      <th>rating</th>\n",
       "      <th>date</th>\n",
       "      <th>usefulCount</th>\n",
       "      <th>polarity</th>\n",
       "      <th>subjectivity</th>\n",
       "      <th>sentiment</th>\n",
       "      <th>negative_polarity_binary</th>\n",
       "      <th>rating_groups</th>\n",
       "      <th>low_rating_binary</th>\n",
       "    </tr>\n",
       "  </thead>\n",
       "  <tbody>\n",
       "    <tr>\n",
       "      <th>0</th>\n",
       "      <td>206461</td>\n",
       "      <td>Valsartan</td>\n",
       "      <td>Left Ventricular Dysfunction</td>\n",
       "      <td>\"It has no side effect, I take it in combinati...</td>\n",
       "      <td>9</td>\n",
       "      <td>20-May-12</td>\n",
       "      <td>27</td>\n",
       "      <td>0.000000</td>\n",
       "      <td>0.000000</td>\n",
       "      <td>neutral</td>\n",
       "      <td>0.0</td>\n",
       "      <td>&gt;7</td>\n",
       "      <td>0</td>\n",
       "    </tr>\n",
       "    <tr>\n",
       "      <th>1</th>\n",
       "      <td>95260</td>\n",
       "      <td>Guanfacine</td>\n",
       "      <td>ADHD</td>\n",
       "      <td>\"My son is halfway through his fourth week of ...</td>\n",
       "      <td>8</td>\n",
       "      <td>27-Apr-10</td>\n",
       "      <td>192</td>\n",
       "      <td>0.168333</td>\n",
       "      <td>0.431349</td>\n",
       "      <td>neutral</td>\n",
       "      <td>0.0</td>\n",
       "      <td>&gt;7</td>\n",
       "      <td>0</td>\n",
       "    </tr>\n",
       "    <tr>\n",
       "      <th>2</th>\n",
       "      <td>92703</td>\n",
       "      <td>Lybrel</td>\n",
       "      <td>Birth Control</td>\n",
       "      <td>\"I used to take another oral contraceptive, wh...</td>\n",
       "      <td>5</td>\n",
       "      <td>14-Dec-09</td>\n",
       "      <td>17</td>\n",
       "      <td>0.067210</td>\n",
       "      <td>0.402155</td>\n",
       "      <td>neutral</td>\n",
       "      <td>0.0</td>\n",
       "      <td>4-7</td>\n",
       "      <td>0</td>\n",
       "    </tr>\n",
       "    <tr>\n",
       "      <th>3</th>\n",
       "      <td>138000</td>\n",
       "      <td>Ortho Evra</td>\n",
       "      <td>Birth Control</td>\n",
       "      <td>\"This is my first time using any form of birth...</td>\n",
       "      <td>8</td>\n",
       "      <td>3-Nov-15</td>\n",
       "      <td>10</td>\n",
       "      <td>0.179545</td>\n",
       "      <td>0.665909</td>\n",
       "      <td>neutral</td>\n",
       "      <td>0.0</td>\n",
       "      <td>&gt;7</td>\n",
       "      <td>0</td>\n",
       "    </tr>\n",
       "    <tr>\n",
       "      <th>4</th>\n",
       "      <td>35696</td>\n",
       "      <td>Buprenorphine / naloxone</td>\n",
       "      <td>Opiate Dependence</td>\n",
       "      <td>\"Suboxone has completely turned my life around...</td>\n",
       "      <td>9</td>\n",
       "      <td>27-Nov-16</td>\n",
       "      <td>37</td>\n",
       "      <td>0.194444</td>\n",
       "      <td>0.401389</td>\n",
       "      <td>neutral</td>\n",
       "      <td>0.0</td>\n",
       "      <td>&gt;7</td>\n",
       "      <td>0</td>\n",
       "    </tr>\n",
       "  </tbody>\n",
       "</table>\n",
       "</div>"
      ],
      "text/plain": [
       "   uniqueID                  drugName                     condition  \\\n",
       "0    206461                 Valsartan  Left Ventricular Dysfunction   \n",
       "1     95260                Guanfacine                          ADHD   \n",
       "2     92703                    Lybrel                 Birth Control   \n",
       "3    138000                Ortho Evra                 Birth Control   \n",
       "4     35696  Buprenorphine / naloxone             Opiate Dependence   \n",
       "\n",
       "                                              review  rating       date  \\\n",
       "0  \"It has no side effect, I take it in combinati...       9  20-May-12   \n",
       "1  \"My son is halfway through his fourth week of ...       8  27-Apr-10   \n",
       "2  \"I used to take another oral contraceptive, wh...       5  14-Dec-09   \n",
       "3  \"This is my first time using any form of birth...       8   3-Nov-15   \n",
       "4  \"Suboxone has completely turned my life around...       9  27-Nov-16   \n",
       "\n",
       "   usefulCount  polarity  subjectivity sentiment  negative_polarity_binary  \\\n",
       "0           27  0.000000      0.000000   neutral                       0.0   \n",
       "1          192  0.168333      0.431349   neutral                       0.0   \n",
       "2           17  0.067210      0.402155   neutral                       0.0   \n",
       "3           10  0.179545      0.665909   neutral                       0.0   \n",
       "4           37  0.194444      0.401389   neutral                       0.0   \n",
       "\n",
       "  rating_groups  low_rating_binary  \n",
       "0            >7                  0  \n",
       "1            >7                  0  \n",
       "2           4-7                  0  \n",
       "3            >7                  0  \n",
       "4            >7                  0  "
      ]
     },
     "execution_count": 29,
     "metadata": {},
     "output_type": "execute_result"
    }
   ],
   "source": [
    "df['low_rating_binary']=df.rating.replace([1,2,3, 4, 5,6,7,8,9,10],[1,1,1,0,0,0,0,0,0,0])\n",
    "df.head()"
   ]
  },
  {
   "cell_type": "code",
   "execution_count": 30,
   "metadata": {},
   "outputs": [],
   "source": [
    "df.low_rating_binary=df.low_rating_binary.astype(int)"
   ]
  },
  {
   "cell_type": "code",
   "execution_count": 31,
   "metadata": {},
   "outputs": [],
   "source": [
    "#Test set\n",
    "df_test['low_rating_binary']=df_test.rating.replace([1,2,3, 4, 5,6,7,8,9,10],[1,1,1,0,0,0,0,0,0,0])\n",
    "df_test.low_rating_binary=df_test.low_rating_binary.astype(int)"
   ]
  },
  {
   "cell_type": "markdown",
   "metadata": {},
   "source": [
    "## Unknown conditions"
   ]
  },
  {
   "cell_type": "markdown",
   "metadata": {},
   "source": [
    "There are some rows that that the condition is missing and it is replaced by the statement that how many users found the review useful. We replace them all by \"unknown\". "
   ]
  },
  {
   "cell_type": "code",
   "execution_count": 32,
   "metadata": {},
   "outputs": [],
   "source": [
    "#set(df.condition.sort_values())"
   ]
  },
  {
   "cell_type": "code",
   "execution_count": 33,
   "metadata": {},
   "outputs": [],
   "source": [
    "#set(df_test.condition.sort_values())"
   ]
  },
  {
   "cell_type": "code",
   "execution_count": 34,
   "metadata": {},
   "outputs": [],
   "source": [
    "df.replace(regex='\\d*</span> users found this comment helpful.', value='unknown', inplace=True)"
   ]
  },
  {
   "cell_type": "code",
   "execution_count": 35,
   "metadata": {},
   "outputs": [],
   "source": [
    "df_test.replace(regex='\\d*</span> users found this comment helpful.', value='unknown', inplace=True)"
   ]
  },
  {
   "cell_type": "markdown",
   "metadata": {},
   "source": [
    "## Drugs with more than 100 reviews"
   ]
  },
  {
   "cell_type": "code",
   "execution_count": 36,
   "metadata": {},
   "outputs": [],
   "source": [
    "drug_100plus_review=set()\n",
    "for x in df.drugName.values:\n",
    "    if x not in drug_100plus_review:\n",
    "        if len(df[df.drugName==x])>=100:\n",
    "            drug_100plus_review.add(x)"
   ]
  },
  {
   "cell_type": "code",
   "execution_count": 37,
   "metadata": {},
   "outputs": [
    {
     "data": {
      "text/plain": [
       "340"
      ]
     },
     "execution_count": 37,
     "metadata": {},
     "output_type": "execute_result"
    }
   ],
   "source": [
    "len(drug_100plus_review)"
   ]
  },
  {
   "cell_type": "code",
   "execution_count": 38,
   "metadata": {},
   "outputs": [],
   "source": [
    "df_drug=df[df.drugName.isin(drug_100plus_review)]"
   ]
  },
  {
   "cell_type": "code",
   "execution_count": 39,
   "metadata": {},
   "outputs": [
    {
     "data": {
      "text/plain": [
       "Levonorgestrel                       3631\n",
       "Etonogestrel                         3321\n",
       "Ethinyl estradiol / norethindrone    2750\n",
       "Nexplanon                            2156\n",
       "Ethinyl estradiol / norgestimate     2033\n",
       "                                     ... \n",
       "Avelox                                102\n",
       "Movantik                              102\n",
       "Levomilnacipran                       101\n",
       "Dexmethylphenidate                    101\n",
       "Naloxegol                             100\n",
       "Name: drugName, Length: 340, dtype: int64"
      ]
     },
     "execution_count": 39,
     "metadata": {},
     "output_type": "execute_result"
    }
   ],
   "source": [
    "df[df.drugName.isin(drug_100plus_review)].drugName.value_counts()"
   ]
  },
  {
   "cell_type": "code",
   "execution_count": 40,
   "metadata": {},
   "outputs": [],
   "source": [
    "# sns_plot=sns.countplot(x=\"drugName\", data=df_drug)\n",
    "# plt.tight_layout()\n",
    "# plt.show()\n",
    "# fig = sns_plot.get_figure()\n",
    "# #fig.savefig('/Users/atousachaharsoughshirazi/drug_review/figures/rating_countplot.png') "
   ]
  },
  {
   "cell_type": "markdown",
   "metadata": {},
   "source": [
    "## Conditions with more than 100 reviews"
   ]
  },
  {
   "cell_type": "code",
   "execution_count": 41,
   "metadata": {},
   "outputs": [],
   "source": [
    "condition_100plus_review=set()\n",
    "for x in df.condition.values:\n",
    "    if x not in condition_100plus_review:\n",
    "        if len(df[df.condition==x])>=100:\n",
    "            condition_100plus_review.add(x)"
   ]
  },
  {
   "cell_type": "code",
   "execution_count": 42,
   "metadata": {},
   "outputs": [
    {
     "data": {
      "text/plain": [
       "150"
      ]
     },
     "execution_count": 42,
     "metadata": {},
     "output_type": "execute_result"
    }
   ],
   "source": [
    "len(condition_100plus_review)"
   ]
  },
  {
   "cell_type": "code",
   "execution_count": 43,
   "metadata": {},
   "outputs": [],
   "source": [
    "df_condition=df[df.condition.isin(condition_100plus_review)]"
   ]
  },
  {
   "cell_type": "code",
   "execution_count": 44,
   "metadata": {},
   "outputs": [
    {
     "data": {
      "text/plain": [
       "Birth Control                28788\n",
       "Depression                    9069\n",
       "Pain                          6145\n",
       "Anxiety                       5904\n",
       "Acne                          5588\n",
       "                             ...  \n",
       "Dietary Supplementation        102\n",
       "Breast Cancer, Metastatic      102\n",
       "Human Papilloma Virus          102\n",
       "Vertig                         101\n",
       "Urinary Tract Stones           101\n",
       "Name: condition, Length: 150, dtype: int64"
      ]
     },
     "execution_count": 44,
     "metadata": {},
     "output_type": "execute_result"
    }
   ],
   "source": [
    "df[df.condition.isin(condition_100plus_review)].condition.value_counts()"
   ]
  },
  {
   "cell_type": "code",
   "execution_count": 45,
   "metadata": {},
   "outputs": [
    {
     "data": {
      "text/plain": [
       "116317"
      ]
     },
     "execution_count": 45,
     "metadata": {},
     "output_type": "execute_result"
    }
   ],
   "source": [
    "df_final=df_condition[df_condition.drugName.isin(drug_100plus_review)]\n",
    "len(df_final)"
   ]
  },
  {
   "cell_type": "markdown",
   "metadata": {},
   "source": [
    "# EDA"
   ]
  },
  {
   "cell_type": "markdown",
   "metadata": {},
   "source": [
    "## Which patients tend to have more negative reviews?"
   ]
  },
  {
   "cell_type": "markdown",
   "metadata": {},
   "source": [
    "### Conditions with more negative reviews"
   ]
  },
  {
   "cell_type": "markdown",
   "metadata": {},
   "source": [
    "#### Top patient conditions"
   ]
  },
  {
   "cell_type": "markdown",
   "metadata": {},
   "source": [
    "These are the top patient conditions that had negative reviews. "
   ]
  },
  {
   "cell_type": "code",
   "execution_count": 46,
   "metadata": {},
   "outputs": [
    {
     "data": {
      "text/plain": [
       "array(['Cold Sores', 'Kidney Infections', 'Herpes Simplex',\n",
       "       'Vaginal Yeast Infection', 'Bacterial Infection',\n",
       "       'Bacterial Skin Infection', 'Bacterial Vaginitis',\n",
       "       'Upper Respiratory Tract Infection',\n",
       "       'Nausea/Vomiting of Pregnancy', 'Diverticulitis'], dtype='<U33')"
      ]
     },
     "execution_count": 46,
     "metadata": {},
     "output_type": "execute_result"
    }
   ],
   "source": [
    "list1=df_condition[['condition', 'negative_polarity_binary']].groupby('condition').mean().sort_values(by='negative_polarity_binary', ascending=False)[:10].index.values\n",
    "list1.astype(str)"
   ]
  },
  {
   "cell_type": "code",
   "execution_count": 47,
   "metadata": {},
   "outputs": [],
   "source": [
    "df_new=df[df['condition'].isin(list1)]"
   ]
  },
  {
   "cell_type": "code",
   "execution_count": 48,
   "metadata": {},
   "outputs": [
    {
     "data": {
      "image/png": "[encoded data removed]",
      "text/plain": [
       "<Figure size 576x360 with 1 Axes>"
      ]
     },
     "metadata": {},
     "output_type": "display_data"
    }
   ],
   "source": [
    "sns.set(rc={'axes.grid':False, \n",
    "            'axes.labelsize':13,\n",
    "            'figure.figsize':(8, 5),\n",
    "            'xtick.labelsize':13,\n",
    "            'ytick.labelsize':13})\n",
    "sns_plot=sns.barplot(x='condition', y='negative_polarity_binary',palette='tab10', data=df_new, dodge=False, order=list1, estimator=lambda x: sum(x==1)*100.0/len(x))\n",
    "sns_plot.set_xticklabels(sns_plot.get_xticklabels(), rotation=40, ha=\"right\")\n",
    "sns_plot.set(ylabel='percentage of negative reviews')\n",
    "plt.tight_layout()\n",
    "plt.show()\n",
    "fig = sns_plot.get_figure()\n",
    "fig.savefig('/Users/atousachaharsoughshirazi/drug_review/figures/percentageofnegativereviewsbycondition.png') "
   ]
  },
  {
   "cell_type": "markdown",
   "metadata": {},
   "source": [
    "#### Lowest patient conditions"
   ]
  },
  {
   "cell_type": "markdown",
   "metadata": {},
   "source": [
    "These are the low patient conditions that had negative reviews. "
   ]
  },
  {
   "cell_type": "code",
   "execution_count": 49,
   "metadata": {},
   "outputs": [
    {
     "data": {
      "image/png": "[encoded data removed]",
      "text/plain": [
       "<Figure size 576x360 with 1 Axes>"
      ]
     },
     "metadata": {},
     "output_type": "display_data"
    }
   ],
   "source": [
    "list1_bot=df_condition[['condition', 'negative_polarity_binary']].groupby('condition').mean().sort_values(by='negative_polarity_binary', ascending=True)[:10].index.values\n",
    "\n",
    "list1_bot.astype(str)\n",
    "df_new_bot=df[df['condition'].isin(list1_bot)]\n",
    "sns.set(rc={'axes.grid':False, \n",
    "            'axes.labelsize':13,\n",
    "            'figure.figsize':(8, 5),\n",
    "            'xtick.labelsize':13,\n",
    "            'ytick.labelsize':13})\n",
    "sns_plot=sns.barplot(x='condition', y='negative_polarity_binary',palette='tab10', data=df_new_bot, dodge=False, order=list1_bot, estimator=lambda x: sum(x==1)*100.0/len(x))\n",
    "sns_plot.set_xticklabels(sns_plot.get_xticklabels(), rotation=40, ha=\"right\")\n",
    "sns_plot.set(ylabel='percentage of negative reviews')\n",
    "plt.tight_layout()\n",
    "plt.show()\n",
    "fig = sns_plot.get_figure()\n",
    "fig.savefig('/Users/atousachaharsoughshirazi/drug_review/figures/bottom_percentageofnegativereviewsbycondition.png') "
   ]
  },
  {
   "cell_type": "markdown",
   "metadata": {},
   "source": [
    "### Drugs with more negative reviews"
   ]
  },
  {
   "cell_type": "markdown",
   "metadata": {},
   "source": [
    "#### Top drugs "
   ]
  },
  {
   "cell_type": "code",
   "execution_count": 50,
   "metadata": {},
   "outputs": [
    {
     "data": {
      "text/plain": [
       "array(['Docosanol', 'Abreva', 'Dextromethorphan', 'Valacyclovir',\n",
       "       'Clarithromycin', 'Movantik', 'Miconazole', 'Dulcolax',\n",
       "       'Metronidazole', 'Bisacodyl'], dtype='<U16')"
      ]
     },
     "execution_count": 50,
     "metadata": {},
     "output_type": "execute_result"
    }
   ],
   "source": [
    "list2=df_drug[['drugName', 'negative_polarity_binary']].groupby('drugName').mean().sort_values(by='negative_polarity_binary', ascending=False)[:10].index.values\n",
    "list2.astype(str)"
   ]
  },
  {
   "cell_type": "code",
   "execution_count": 51,
   "metadata": {},
   "outputs": [],
   "source": [
    "df_new_drug=df[df['drugName'].isin(list2)]"
   ]
  },
  {
   "cell_type": "code",
   "execution_count": 52,
   "metadata": {},
   "outputs": [
    {
     "data": {
      "image/png": "[encoded data removed]",
      "text/plain": [
       "<Figure size 576x360 with 1 Axes>"
      ]
     },
     "metadata": {},
     "output_type": "display_data"
    }
   ],
   "source": [
    "sns.set(rc={'axes.grid':False, \n",
    "            'axes.labelsize':13,\n",
    "            'figure.figsize':(8, 5),\n",
    "            'xtick.labelsize':13,\n",
    "            'ytick.labelsize':13})\n",
    "sns_plot=sns.barplot(x='drugName', y='negative_polarity_binary',palette='tab10', data=df_new_drug, dodge=False, order=list2, estimator=lambda x: sum(x==1)*100.0/len(x))\n",
    "sns_plot.set_xticklabels(sns_plot.get_xticklabels(), rotation=40, ha=\"right\")\n",
    "sns_plot.set(ylabel='percentage of negative reviews')\n",
    "plt.tight_layout()\n",
    "plt.show()\n",
    "fig = sns_plot.get_figure()\n",
    "fig.savefig('/Users/atousachaharsoughshirazi/drug_review/figures/percentageofnegativereviewsbydrugname.png') "
   ]
  },
  {
   "cell_type": "markdown",
   "metadata": {},
   "source": [
    "#### Lowest drugs"
   ]
  },
  {
   "cell_type": "code",
   "execution_count": 53,
   "metadata": {},
   "outputs": [
    {
     "data": {
      "text/plain": [
       "array(['Cialis', 'Viagra', 'Sildenafil', 'Tadalafil', 'Testosterone',\n",
       "       'Adipex-P', 'Phentermine', 'Lisdexamfetamine', 'Provigil',\n",
       "       'Vyvanse'], dtype='<U16')"
      ]
     },
     "execution_count": 53,
     "metadata": {},
     "output_type": "execute_result"
    }
   ],
   "source": [
    "list2_bot=df_drug[['drugName', 'negative_polarity_binary']].groupby('drugName').mean().sort_values(by='negative_polarity_binary', ascending=True)[:10].index.values\n",
    "list2_bot.astype(str)"
   ]
  },
  {
   "cell_type": "code",
   "execution_count": 54,
   "metadata": {},
   "outputs": [],
   "source": [
    "df_new_drug_bot=df[df['drugName'].isin(list2_bot)]"
   ]
  },
  {
   "cell_type": "code",
   "execution_count": 55,
   "metadata": {},
   "outputs": [
    {
     "data": {
      "image/png": "[encoded data removed]",
      "text/plain": [
       "<Figure size 576x360 with 1 Axes>"
      ]
     },
     "metadata": {},
     "output_type": "display_data"
    }
   ],
   "source": [
    "sns.set(rc={'axes.grid':False, \n",
    "            'axes.labelsize':13,\n",
    "            'figure.figsize':(8, 5),\n",
    "            'xtick.labelsize':13,\n",
    "            'ytick.labelsize':13})\n",
    "sns_plot=sns.barplot(x='drugName', y='negative_polarity_binary',palette='tab10', data=df_new_drug_bot, dodge=False, order=list2_bot, estimator=lambda x: sum(x==1)*100.0/len(x))\n",
    "sns_plot.set_xticklabels(sns_plot.get_xticklabels(), rotation=40, ha=\"right\")\n",
    "sns_plot.set(ylabel='percentage of negative reviews')\n",
    "plt.tight_layout()\n",
    "plt.show()\n",
    "fig = sns_plot.get_figure()\n",
    "fig.savefig('/Users/atousachaharsoughshirazi/drug_review/figures/bottom_percentageofnegativereviewsbydrugname.png') "
   ]
  },
  {
   "cell_type": "markdown",
   "metadata": {},
   "source": [
    "## Low-rated drugs"
   ]
  },
  {
   "cell_type": "markdown",
   "metadata": {},
   "source": [
    "### Top patient conditions with low ratings"
   ]
  },
  {
   "cell_type": "code",
   "execution_count": 56,
   "metadata": {},
   "outputs": [
    {
     "data": {
      "text/plain": [
       "array(['Vaginal Yeast Infection', 'Abnormal Uterine Bleeding',\n",
       "       'Osteoporosis', 'Constipation, Drug Induced', 'Asthma, acute',\n",
       "       'Bladder Infection', 'Dry Eye Disease', 'Urinary Tract Infection',\n",
       "       'Atrophic Vaginitis', 'Allergies'], dtype='<U26')"
      ]
     },
     "execution_count": 56,
     "metadata": {},
     "output_type": "execute_result"
    }
   ],
   "source": [
    "list3=df_condition[['condition', 'low_rating_binary']].groupby('condition').mean().sort_values( by='low_rating_binary', ascending=False)[:10].index.values\n",
    "list3.astype(str)"
   ]
  },
  {
   "cell_type": "code",
   "execution_count": 57,
   "metadata": {},
   "outputs": [],
   "source": [
    "df_new_con=df[df['condition'].isin(list3)]"
   ]
  },
  {
   "cell_type": "code",
   "execution_count": 58,
   "metadata": {},
   "outputs": [
    {
     "data": {
      "image/png": "[encoded data removed]",
      "text/plain": [
       "<Figure size 576x360 with 1 Axes>"
      ]
     },
     "metadata": {},
     "output_type": "display_data"
    }
   ],
   "source": [
    "sns.set(rc={'axes.grid':False, \n",
    "            'axes.labelsize':13,\n",
    "            'figure.figsize':(8, 5),\n",
    "            'xtick.labelsize':13,\n",
    "            'ytick.labelsize':13})\n",
    "sns_plot=sns.barplot(x='condition', y='low_rating_binary',palette='tab10', data=df_new_con, dodge=False, order=list3, estimator=lambda x: sum(x==1)*100.0/len(x))\n",
    "sns_plot.set_xticklabels(sns_plot.get_xticklabels(), rotation=40, ha=\"right\")\n",
    "sns_plot.set(ylabel='percentage of low ratings')\n",
    "plt.tight_layout()\n",
    "plt.show()\n",
    "fig = sns_plot.get_figure()\n",
    "fig.savefig('/Users/atousachaharsoughshirazi/drug_review/figures/percentageoflowratingsbycondition.png') "
   ]
  },
  {
   "cell_type": "markdown",
   "metadata": {},
   "source": [
    "### Least patient conditions with low ratings"
   ]
  },
  {
   "cell_type": "code",
   "execution_count": 59,
   "metadata": {},
   "outputs": [
    {
     "data": {
      "text/plain": [
       "array(['mance Anxiety', 'Alcohol Withdrawal', 'Opiate Withdrawal',\n",
       "       'Alcohol Dependence', 'Cold Sores', 'Hyperhidrosis',\n",
       "       'Cluster Headaches', 'Eczema', 'Smoking Cessation',\n",
       "       'HIV Infection'], dtype='<U18')"
      ]
     },
     "execution_count": 59,
     "metadata": {},
     "output_type": "execute_result"
    }
   ],
   "source": [
    "list3_bot=df_condition[['condition', 'low_rating_binary']].groupby('condition').mean().sort_values( by='low_rating_binary', ascending=True)[:10].index.values\n",
    "list3_bot.astype(str)"
   ]
  },
  {
   "cell_type": "code",
   "execution_count": 60,
   "metadata": {},
   "outputs": [],
   "source": [
    "df_new_con_bot=df[df['condition'].isin(list3_bot)]"
   ]
  },
  {
   "cell_type": "code",
   "execution_count": 61,
   "metadata": {},
   "outputs": [
    {
     "data": {
      "image/png": "[encoded data removed]",
      "text/plain": [
       "<Figure size 576x360 with 1 Axes>"
      ]
     },
     "metadata": {},
     "output_type": "display_data"
    }
   ],
   "source": [
    "sns.set(rc={'axes.grid':False, \n",
    "            'axes.labelsize':13,\n",
    "            'figure.figsize':(8, 5),\n",
    "            'xtick.labelsize':13,\n",
    "            'ytick.labelsize':13})\n",
    "sns_plot=sns.barplot(x='condition', y='low_rating_binary',palette='tab10', data=df_new_con_bot, dodge=False, order=list3_bot, estimator=lambda x: sum(x==1)*100.0/len(x))\n",
    "sns_plot.set_xticklabels(sns_plot.get_xticklabels(), rotation=40, ha=\"right\")\n",
    "sns_plot.set(ylabel='percentage of low ratings')\n",
    "plt.tight_layout()\n",
    "plt.show()\n",
    "fig = sns_plot.get_figure()\n",
    "fig.savefig('/Users/atousachaharsoughshirazi/drug_review/figures/bottom_percentageoflowratingsbycondition.png') "
   ]
  },
  {
   "cell_type": "code",
   "execution_count": 62,
   "metadata": {},
   "outputs": [
    {
     "data": {
      "text/plain": [
       "array(['Miconazole', 'Tioconazole', 'Fluconazole'], dtype='<U11')"
      ]
     },
     "execution_count": 62,
     "metadata": {},
     "output_type": "execute_result"
    }
   ],
   "source": [
    "list_new=df_final[df_final.condition=='Vaginal Yeast Infection'][['drugName','low_rating_binary']].groupby('drugName').mean().sort_values(by='low_rating_binary', ascending=False)[:10].index.values\n",
    "list_new.astype(str)"
   ]
  },
  {
   "cell_type": "markdown",
   "metadata": {},
   "source": [
    "### Top low-rated drugs"
   ]
  },
  {
   "cell_type": "code",
   "execution_count": 63,
   "metadata": {},
   "outputs": [
    {
     "data": {
      "text/plain": [
       "array(['Miconazole', 'Belsomra', 'Suvorexant', 'Dextromethorphan',\n",
       "       'Cefdinir', 'Movantik', 'Naloxegol', 'Metoclopramide',\n",
       "       'Tioconazole', 'Depo-Provera'], dtype='<U16')"
      ]
     },
     "execution_count": 63,
     "metadata": {},
     "output_type": "execute_result"
    }
   ],
   "source": [
    "list4=df_drug[['drugName', 'low_rating_binary']].groupby('drugName').mean().sort_values( by='low_rating_binary', ascending=False)[:10].index.values\n",
    "list4.astype(str)"
   ]
  },
  {
   "cell_type": "code",
   "execution_count": 64,
   "metadata": {},
   "outputs": [],
   "source": [
    "df_new_dru=df[df['drugName'].isin(list4)]"
   ]
  },
  {
   "cell_type": "code",
   "execution_count": 65,
   "metadata": {},
   "outputs": [
    {
     "data": {
      "image/png": "[encoded data removed]",
      "text/plain": [
       "<Figure size 576x360 with 1 Axes>"
      ]
     },
     "metadata": {},
     "output_type": "display_data"
    }
   ],
   "source": [
    "sns.set(rc={'axes.grid':False, \n",
    "            'axes.labelsize':13,\n",
    "            'figure.figsize':(8, 5),\n",
    "            'xtick.labelsize':13,\n",
    "            'ytick.labelsize':13})\n",
    "sns_plot=sns.barplot(x='drugName', y='low_rating_binary',palette='tab10', data=df_new_dru, dodge=False, order=list4, estimator=lambda x: sum(x==1)*100.0/len(x))\n",
    "sns_plot.set_xticklabels(sns_plot.get_xticklabels(), rotation=40, ha=\"right\")\n",
    "sns_plot.set(ylabel='percentage of low ratings')\n",
    "sns_plot.set(xlabel='drug name')\n",
    "plt.tight_layout()\n",
    "plt.show()\n",
    "fig = sns_plot.get_figure()\n",
    "fig.savefig('/Users/atousachaharsoughshirazi/drug_review/figures/percentageoflowratingsbydrugname.png') "
   ]
  },
  {
   "cell_type": "markdown",
   "metadata": {},
   "source": [
    "### Least low-rated drugs"
   ]
  },
  {
   "cell_type": "code",
   "execution_count": 66,
   "metadata": {},
   "outputs": [
    {
     "data": {
      "text/plain": [
       "array(['Percocet', 'Carisoprodol', 'Adipex-P', 'Magnesium citrate',\n",
       "       'Valium', 'Methadone', 'Phentermine', 'Suboxone', 'Diazepam',\n",
       "       'Fentanyl'], dtype='<U17')"
      ]
     },
     "execution_count": 66,
     "metadata": {},
     "output_type": "execute_result"
    }
   ],
   "source": [
    "list4_bot=df_drug[['drugName', 'low_rating_binary']].groupby('drugName').mean().sort_values( by='low_rating_binary', ascending=True)[:10].index.values\n",
    "list4_bot.astype(str)"
   ]
  },
  {
   "cell_type": "code",
   "execution_count": 67,
   "metadata": {},
   "outputs": [],
   "source": [
    "df_new_dru_bot=df[df['drugName'].isin(list4_bot)]"
   ]
  },
  {
   "cell_type": "code",
   "execution_count": 68,
   "metadata": {},
   "outputs": [
    {
     "data": {
      "image/png": "[encoded data removed]",
      "text/plain": [
       "<Figure size 576x360 with 1 Axes>"
      ]
     },
     "metadata": {},
     "output_type": "display_data"
    }
   ],
   "source": [
    "sns.set(rc={'axes.grid':False, \n",
    "            'axes.labelsize':13,\n",
    "            'figure.figsize':(8, 5),\n",
    "            'xtick.labelsize':13,\n",
    "            'ytick.labelsize':13})\n",
    "sns_plot=sns.barplot(x='drugName', y='low_rating_binary',palette='tab10', data=df_new_dru_bot, dodge=False, order=list4_bot, estimator=lambda x: sum(x==1)*100.0/len(x))\n",
    "sns_plot.set_xticklabels(sns_plot.get_xticklabels(), rotation=40, ha=\"right\")\n",
    "sns_plot.set(ylabel='percentage of low ratings')\n",
    "sns_plot.set(xlabel='drug name')\n",
    "plt.tight_layout()\n",
    "plt.show()\n",
    "fig = sns_plot.get_figure()\n",
    "fig.savefig('/Users/atousachaharsoughshirazi/drug_review/figures/bottom_percentageoflowratingsbydrugname.png') "
   ]
  },
  {
   "cell_type": "markdown",
   "metadata": {},
   "source": [
    "# Classification-Predict the low-rating (rating <4) drugs based on the review."
   ]
  },
  {
   "cell_type": "markdown",
   "metadata": {},
   "source": [
    "## Preprocessing"
   ]
  },
  {
   "cell_type": "code",
   "execution_count": 69,
   "metadata": {},
   "outputs": [],
   "source": [
    "drugnames=df['drugName'].str.lower().unique().tolist()"
   ]
  },
  {
   "cell_type": "code",
   "execution_count": 70,
   "metadata": {},
   "outputs": [],
   "source": [
    "def preProcess(s):\n",
    "    lower=s.lower()\n",
    "    nodigit = re.sub(r'\\d+', '', lower)\n",
    "    nopunc = nodigit.translate(str.maketrans('','', string.punctuation))\n",
    "    input_str = nopunc.strip()\n",
    "    final=input_str.replace('|'.join(drugnames), '')\n",
    "    return final"
   ]
  },
  {
   "cell_type": "code",
   "execution_count": 71,
   "metadata": {},
   "outputs": [],
   "source": [
    "y_train=df_final['low_rating_binary']\n",
    "X_train=df_final['review']\n",
    "y_test=df_test['low_rating_binary']\n",
    "X_test=df_test['review']"
   ]
  },
  {
   "cell_type": "code",
   "execution_count": 72,
   "metadata": {},
   "outputs": [],
   "source": [
    "y_train = (df_final.low_rating_binary == 1).values\n",
    "#len(y_train)"
   ]
  },
  {
   "cell_type": "code",
   "execution_count": 73,
   "metadata": {},
   "outputs": [],
   "source": [
    "y_test = (df_test.low_rating_binary == 1).values"
   ]
  },
  {
   "cell_type": "code",
   "execution_count": 74,
   "metadata": {},
   "outputs": [],
   "source": [
    "count_vectorizer=CountVectorizer(stop_words='english', preprocessor=preProcess)"
   ]
  },
  {
   "cell_type": "code",
   "execution_count": 75,
   "metadata": {},
   "outputs": [],
   "source": [
    "tfidf_vectorizer= TfidfVectorizer(stop_words=\"english\", ngram_range=(1,3), preprocessor=preProcess)"
   ]
  },
  {
   "cell_type": "markdown",
   "metadata": {},
   "source": [
    "## MultinomialNB "
   ]
  },
  {
   "cell_type": "code",
   "execution_count": 76,
   "metadata": {},
   "outputs": [],
   "source": [
    "nb_classifier=MultinomialNB(alpha=0.1)"
   ]
  },
  {
   "cell_type": "markdown",
   "metadata": {},
   "source": [
    "## Hyperparameter tuning"
   ]
  },
  {
   "cell_type": "markdown",
   "metadata": {},
   "source": [
    "### min_df tuning"
   ]
  },
  {
   "cell_type": "code",
   "execution_count": 77,
   "metadata": {},
   "outputs": [],
   "source": [
    "tf_idf = TfidfTransformer()\n",
    "steps = [(\"count_vec\", TfidfVectorizer()),('clf_MNB', nb_classifier)]\n",
    "\n",
    "p_grid = [{'count_vec__min_df': [1, 3, 5, 10, 30, 50, 75, 100]}]\n",
    "\n",
    "pipeline = Pipeline(steps)\n",
    "skf = StratifiedKFold(n_splits=5, shuffle=True, random_state=42)\n",
    "nb = GridSearchCV(pipeline, param_grid=p_grid, cv=skf, scoring='roc_auc')"
   ]
  },
  {
   "cell_type": "code",
   "execution_count": 78,
   "metadata": {},
   "outputs": [],
   "source": [
    "nb.fit(X_train, y_train)\n",
    "#y_pred_test_count = nb.best_estimator_.predict(X_test)"
   ]
  },
  {
   "cell_type": "code",
   "execution_count": 79,
   "metadata": {},
   "outputs": [
    {
     "name": "stdout",
     "output_type": "stream",
     "text": [
      "0.8803199161421336\n",
      "{'count_vec__min_df': 1}\n"
     ]
    }
   ],
   "source": [
    "print(nb.best_score_)\n",
    "print(nb.best_params_)"
   ]
  },
  {
   "cell_type": "code",
   "execution_count": 80,
   "metadata": {},
   "outputs": [],
   "source": [
    "_, itest = train_test_split(range(df_final.shape[0]), train_size=0.7)\n",
    "mask = np.zeros(df_final.shape[0], dtype=np.bool)\n",
    "mask[itest] = True"
   ]
  },
  {
   "cell_type": "code",
   "execution_count": 81,
   "metadata": {},
   "outputs": [],
   "source": [
    "def make_xy(df, vectorizer=None):\n",
    "    #Your code here    \n",
    "    if vectorizer is None:\n",
    "        vectorizer = TfidfVectorizer(stop_words=\"english\", ngram_range=(1,3), preprocessor=preProcess)\n",
    "    X = vectorizer.fit_transform(df.review)\n",
    "    X = X.tocsc()  # some versions of sklearn return COO format\n",
    "    y= (df.low_rating_binary == 1).values\n",
    "    return X, y\n"
   ]
  },
  {
   "cell_type": "code",
   "execution_count": 82,
   "metadata": {},
   "outputs": [
    {
     "name": "stdout",
     "output_type": "stream",
     "text": [
      "Accuracy on training data: 0.859210\n",
      "Accuracy on test data:     0.812223\n"
     ]
    }
   ],
   "source": [
    "vectorizer = TfidfVectorizer(min_df=1, stop_words='english', preprocessor=preProcess)\n",
    "X, y = make_xy(df_final, vectorizer)\n",
    "xtrain=X[mask]\n",
    "ytrain=y[mask]\n",
    "xtest=X[~mask]\n",
    "ytest=y[~mask]\n",
    "\n",
    "clf = MultinomialNB(alpha=0.1).fit(xtrain, ytrain)\n",
    "\n",
    "#your turn. Print the accuracy on the test and training dataset\n",
    "training_accuracy = clf.score(xtrain, ytrain)\n",
    "test_accuracy = clf.score(xtest, ytest)\n",
    "\n",
    "print(\"Accuracy on training data: {:2f}\".format(training_accuracy))\n",
    "print(\"Accuracy on test data:     {:2f}\".format(test_accuracy))"
   ]
  },
  {
   "cell_type": "code",
   "execution_count": 83,
   "metadata": {},
   "outputs": [],
   "source": [
    "#print(confusion_matrix(ytest, clf.predict(xtest)))"
   ]
  },
  {
   "cell_type": "code",
   "execution_count": 84,
   "metadata": {},
   "outputs": [
    {
     "name": "stdout",
     "output_type": "stream",
     "text": [
      "Good words\t     P(low rating | word)\n",
      "            poisoned 0.97\n",
      "    quotmedicinequot 0.95\n",
      "           blindness 0.94\n",
      "            twitched 0.93\n",
      "             stright 0.93\n",
      "         deteriorate 0.93\n",
      "            glaucoma 0.93\n",
      "            fissures 0.93\n",
      "             midpack 0.93\n",
      "            dystonic 0.93\n",
      "Bad words\t     P(low rating | word)\n",
      "           cigarette 0.01\n",
      "               shirt 0.01\n",
      "           lifesaver 0.01\n",
      "                gout 0.01\n",
      "             reduces 0.01\n",
      "              amazed 0.01\n",
      "             subutex 0.01\n",
      "            miracles 0.01\n",
      "             changer 0.01\n",
      "            drawback 0.01\n"
     ]
    }
   ],
   "source": [
    "words = np.array(vectorizer.get_feature_names())\n",
    "\n",
    "x = np.eye(xtest.shape[1])\n",
    "probs = clf.predict_log_proba(x)[:, 0]\n",
    "ind = np.argsort(probs)\n",
    "\n",
    "good_words = words[ind[:10]]\n",
    "bad_words = words[ind[-10:]]\n",
    "\n",
    "good_prob = probs[ind[:10]]\n",
    "bad_prob = probs[ind[-10:]]\n",
    "\n",
    "print(\"Good words\\t     P(low rating | word)\")\n",
    "for w, p in zip(good_words, good_prob):\n",
    "    print(\"{:>20}\".format(w), \"{:.2f}\".format(1 - np.exp(p)))\n",
    "    \n",
    "print(\"Bad words\\t     P(low rating | word)\")\n",
    "for w, p in zip(bad_words, bad_prob):\n",
    "    print(\"{:>20}\".format(w), \"{:.2f}\".format(1 - np.exp(p)))"
   ]
  },
  {
   "cell_type": "code",
   "execution_count": 85,
   "metadata": {},
   "outputs": [],
   "source": [
    "# x, y = make_xy(df, vectorizer)\n",
    "\n",
    "# prob = clf.predict_proba(x)[:, 0]\n",
    "# predict = clf.predict(x)\n",
    "\n",
    "# bad_highrating = np.argsort(prob[y == 0])[:5]\n",
    "# bad_lowrating = np.argsort(prob[y == 1])[-5:]\n",
    "\n",
    "# print(\"Mis-predicted high rating\")\n",
    "# print('---------------------------')\n",
    "# for row in bad_highrating:\n",
    "#     print(df[y == 0].review.iloc[row])\n",
    "#     print(\"\")\n",
    "\n",
    "# print(\"Mis-predicted low rating\")\n",
    "# print('--------------------------')\n",
    "# for row in bad_lowrating:\n",
    "#     print(df[y == 1].review.iloc[row])\n",
    "#     print(\"\")"
   ]
  },
  {
   "cell_type": "markdown",
   "metadata": {},
   "source": [
    "## SVM"
   ]
  },
  {
   "cell_type": "code",
   "execution_count": null,
   "metadata": {},
   "outputs": [],
   "source": [
    "clf_SVC = SVC()"
   ]
  },
  {
   "cell_type": "code",
   "execution_count": 91,
   "metadata": {},
   "outputs": [],
   "source": [
    "steps = [('count_vec', TfidfVectorizer()),\n",
    "         ('clf_SVC', clf_SVC)]\n",
    "\n",
    "p_grid = [{'count_vec__min_df': [1, 3, 5, 10, 30, 50, 75, 100],\n",
    "           'clf_SVC__random_state': [42],\n",
    "           'clf_SVC__kernel': ['linear', 'poly', 'rbf', 'sigmoid'],\n",
    "           'clf_SVC__C': [0.1,1,10,100,1000],\n",
    "           'clf_SVC__gamma': [0.1,1,10,100,1000]}]\n",
    "\n",
    "pipeline = Pipeline(steps)\n",
    "skf = StratifiedKFold(n_splits=5, shuffle=True, random_state=42)\n",
    "svm = GridSearchCV(pipeline, param_grid=p_grid, cv=skf)"
   ]
  },
  {
   "cell_type": "code",
   "execution_count": null,
   "metadata": {},
   "outputs": [],
   "source": [
    "svm.fit(X_train, y_train)\n",
    "#y_pred_test_count = svm.best_estimator_.predict(X_test)\n",
    "print(svm.best_score_)\n",
    "print(svm.best_params_)"
   ]
  },
  {
   "cell_type": "markdown",
   "metadata": {},
   "source": [
    "## Random Forest"
   ]
  },
  {
   "cell_type": "code",
   "execution_count": null,
   "metadata": {},
   "outputs": [],
   "source": [
    "#params_rf = {'n_estimators':[100,350, 500], 'max_features':['log2','auto', 'sqrt'], 'min_samples_leaf':[2,10,30]}"
   ]
  },
  {
   "cell_type": "code",
   "execution_count": null,
   "metadata": {},
   "outputs": [],
   "source": [
    "clf_RFC = RandomForestClassifier()\n",
    "\n",
    "steps = [('counts', TfidfVectorizer()),\n",
    "         ('clf_RFC', RandomForestClassifier())]\n",
    "\n",
    "pipeline = Pipeline(steps)\n",
    "skf = StratifiedKFold(n_splits=5, shuffle=True, random_state=42)\n",
    "p_grid = [{'counts__min_df':[1, 3, 5, 10, 30, 50, 75, 100],\n",
    "           'clf_RFC__random_state': [42],\n",
    "           'clf_RFC__n_estimators': [15,20,25,30],\n",
    "           'clf_RFC__min_samples_leaf': range(1,30),\n",
    "           'clf_RFC__min_samples_split': range(2,30)}]\n",
    "\n",
    "rf = GridSearchCV(pipeline, param_grid=p_grid, cv=skf)"
   ]
  },
  {
   "cell_type": "code",
   "execution_count": null,
   "metadata": {},
   "outputs": [],
   "source": [
    "rf.fit(X_train, y_train)\n",
    "#y_pred_test_count = svm.best_estimator_.predict(X_test)\n",
    "print(rf.best_score_)\n",
    "print(rf.best_params_)"
   ]
  },
  {
   "cell_type": "markdown",
   "metadata": {},
   "source": [
    "## Wordcloud"
   ]
  },
  {
   "cell_type": "code",
   "execution_count": 86,
   "metadata": {},
   "outputs": [],
   "source": [
    "#wordcloud2 = WordCloud().generate(' '.join(df['review']))"
   ]
  },
  {
   "cell_type": "code",
   "execution_count": 87,
   "metadata": {},
   "outputs": [],
   "source": [
    "#dfword=wordcloud2.generate_from_frequencies(' '.join(df['review']))"
   ]
  },
  {
   "cell_type": "code",
   "execution_count": 88,
   "metadata": {},
   "outputs": [],
   "source": [
    "# plt.imshow(dfword , interpolation='bilinear')\n",
    "# plt.axis('off')\n",
    "# plt.show()"
   ]
  },
  {
   "cell_type": "code",
   "execution_count": null,
   "metadata": {},
   "outputs": [],
   "source": []
  }
 ],
 "metadata": {
  "kernelspec": {
   "display_name": "Python 3",
   "language": "python",
   "name": "python3"
  },
  "language_info": {
   "codemirror_mode": {
    "name": "ipython",
    "version": 3
   },
   "file_extension": ".py",
   "mimetype": "text/x-python",
   "name": "python",
   "nbconvert_exporter": "python",
   "pygments_lexer": "ipython3",
   "version": "3.8.5"
  },
  "toc": {
   "base_numbering": 1,
   "nav_menu": {},
   "number_sections": true,
   "sideBar": true,
   "skip_h1_title": false,
   "title_cell": "Table of Contents",
   "title_sidebar": "Contents",
   "toc_cell": true,
   "toc_position": {
    "height": "calc(100% - 180px)",
    "left": "10px",
    "top": "150px",
    "width": "287.796875px"
   },
   "toc_section_display": true,
   "toc_window_display": true
  }
 },
 "nbformat": 4,
 "nbformat_minor": 4
}
